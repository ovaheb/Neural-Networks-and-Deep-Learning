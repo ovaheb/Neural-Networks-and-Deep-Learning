{
  "nbformat": 4,
  "nbformat_minor": 0,
  "metadata": {
    "colab": {
      "name": "HW2-Q2.ipynb",
      "provenance": [],
      "collapsed_sections": []
    },
    "kernelspec": {
      "name": "python3",
      "display_name": "Python 3"
    },
    "language_info": {
      "name": "python"
    },
    "accelerator": "GPU"
  },
  "cells": [
    {
      "cell_type": "markdown",
      "metadata": {
        "id": "i4lvIEVumElu"
      },
      "source": [
        "# Neural Networks and Deep Learning Spring 1400 <img src = 'https://ece.ut.ac.ir/cict-theme/images/footer-logo.png' alt=\"Tehran-University-Logo\" width=\"150\" height=\"150\" align=\"right\">\n",
        "## Homework 2 - Question 2\n",
        "### By Omid Vaheb"
      ]
    },
    {
      "cell_type": "markdown",
      "metadata": {
        "id": "5BWdRB-Nq3Ny"
      },
      "source": [
        "## Importing"
      ]
    },
    {
      "cell_type": "code",
      "metadata": {
        "colab": {
          "base_uri": "https://localhost:8080/"
        },
        "id": "PCxR0XB-vZM2",
        "outputId": "ef96c64a-b7b0-451c-9765-5968051be1b8"
      },
      "source": [
        "from google.colab import drive\n",
        "import numpy as np\n",
        "import pandas as pd\n",
        "from sklearn import preprocessing\n",
        "from sklearn.model_selection import train_test_split\n",
        "from keras.utils import np_utils\n",
        "import itertools\n",
        "from sklearn.metrics import confusion_matrix , classification_report\n",
        "from keras.models import Sequential\n",
        "from keras.utils import np_utils\n",
        "from keras.layers.core import Dense\n",
        "import matplotlib.pyplot as plt\n",
        "\n",
        "drive.mount('/content/drive/')"
      ],
      "execution_count": null,
      "outputs": [
        {
          "output_type": "stream",
          "text": [
            "Mounted at /content/drive/\n"
          ],
          "name": "stdout"
        }
      ]
    },
    {
      "cell_type": "markdown",
      "metadata": {
        "id": "D_8R6yBBq6bO"
      },
      "source": [
        "## Reading CSV file"
      ]
    },
    {
      "cell_type": "code",
      "metadata": {
        "id": "WRqTl4kDx02F"
      },
      "source": [
        "dataframe = pd.read_csv('/content/drive/My Drive/sonar.all-data.csv')"
      ],
      "execution_count": null,
      "outputs": []
    },
    {
      "cell_type": "markdown",
      "metadata": {
        "id": "VH54J4wPq_uy"
      },
      "source": [
        "## Observing Dataset"
      ]
    },
    {
      "cell_type": "code",
      "metadata": {
        "colab": {
          "base_uri": "https://localhost:8080/",
          "height": 379
        },
        "id": "ow3539b-z8xi",
        "outputId": "6d5918b9-bfcc-489a-f338-773a5540f62a"
      },
      "source": [
        "dataframe.head(10)"
      ],
      "execution_count": null,
      "outputs": [
        {
          "output_type": "execute_result",
          "data": {
            "text/html": [
              "<div>\n",
              "<style scoped>\n",
              "    .dataframe tbody tr th:only-of-type {\n",
              "        vertical-align: middle;\n",
              "    }\n",
              "\n",
              "    .dataframe tbody tr th {\n",
              "        vertical-align: top;\n",
              "    }\n",
              "\n",
              "    .dataframe thead th {\n",
              "        text-align: right;\n",
              "    }\n",
              "</style>\n",
              "<table border=\"1\" class=\"dataframe\">\n",
              "  <thead>\n",
              "    <tr style=\"text-align: right;\">\n",
              "      <th></th>\n",
              "      <th>1</th>\n",
              "      <th>2</th>\n",
              "      <th>3</th>\n",
              "      <th>4</th>\n",
              "      <th>5</th>\n",
              "      <th>6</th>\n",
              "      <th>7</th>\n",
              "      <th>8</th>\n",
              "      <th>9</th>\n",
              "      <th>10</th>\n",
              "      <th>11</th>\n",
              "      <th>12</th>\n",
              "      <th>13</th>\n",
              "      <th>14</th>\n",
              "      <th>15</th>\n",
              "      <th>16</th>\n",
              "      <th>17</th>\n",
              "      <th>18</th>\n",
              "      <th>19</th>\n",
              "      <th>20</th>\n",
              "      <th>21</th>\n",
              "      <th>22</th>\n",
              "      <th>23</th>\n",
              "      <th>24</th>\n",
              "      <th>25</th>\n",
              "      <th>26</th>\n",
              "      <th>27</th>\n",
              "      <th>28</th>\n",
              "      <th>29</th>\n",
              "      <th>30</th>\n",
              "      <th>31</th>\n",
              "      <th>32</th>\n",
              "      <th>33</th>\n",
              "      <th>34</th>\n",
              "      <th>35</th>\n",
              "      <th>36</th>\n",
              "      <th>37</th>\n",
              "      <th>38</th>\n",
              "      <th>39</th>\n",
              "      <th>40</th>\n",
              "      <th>41</th>\n",
              "      <th>42</th>\n",
              "      <th>43</th>\n",
              "      <th>44</th>\n",
              "      <th>45</th>\n",
              "      <th>46</th>\n",
              "      <th>47</th>\n",
              "      <th>48</th>\n",
              "      <th>49</th>\n",
              "      <th>50</th>\n",
              "      <th>51</th>\n",
              "      <th>52</th>\n",
              "      <th>53</th>\n",
              "      <th>54</th>\n",
              "      <th>55</th>\n",
              "      <th>56</th>\n",
              "      <th>57</th>\n",
              "      <th>58</th>\n",
              "      <th>59</th>\n",
              "      <th>60</th>\n",
              "      <th>Class</th>\n",
              "    </tr>\n",
              "  </thead>\n",
              "  <tbody>\n",
              "    <tr>\n",
              "      <th>0</th>\n",
              "      <td>0.0200</td>\n",
              "      <td>0.0371</td>\n",
              "      <td>0.0428</td>\n",
              "      <td>0.0207</td>\n",
              "      <td>0.0954</td>\n",
              "      <td>0.0986</td>\n",
              "      <td>0.1539</td>\n",
              "      <td>0.1601</td>\n",
              "      <td>0.3109</td>\n",
              "      <td>0.2111</td>\n",
              "      <td>0.1609</td>\n",
              "      <td>0.1582</td>\n",
              "      <td>0.2238</td>\n",
              "      <td>0.0645</td>\n",
              "      <td>0.0660</td>\n",
              "      <td>0.2273</td>\n",
              "      <td>0.3100</td>\n",
              "      <td>0.2999</td>\n",
              "      <td>0.5078</td>\n",
              "      <td>0.4797</td>\n",
              "      <td>0.5783</td>\n",
              "      <td>0.5071</td>\n",
              "      <td>0.4328</td>\n",
              "      <td>0.5550</td>\n",
              "      <td>0.6711</td>\n",
              "      <td>0.6415</td>\n",
              "      <td>0.7104</td>\n",
              "      <td>0.8080</td>\n",
              "      <td>0.6791</td>\n",
              "      <td>0.3857</td>\n",
              "      <td>0.1307</td>\n",
              "      <td>0.2604</td>\n",
              "      <td>0.5121</td>\n",
              "      <td>0.7547</td>\n",
              "      <td>0.8537</td>\n",
              "      <td>0.8507</td>\n",
              "      <td>0.6692</td>\n",
              "      <td>0.6097</td>\n",
              "      <td>0.4943</td>\n",
              "      <td>0.2744</td>\n",
              "      <td>0.0510</td>\n",
              "      <td>0.2834</td>\n",
              "      <td>0.2825</td>\n",
              "      <td>0.4256</td>\n",
              "      <td>0.2641</td>\n",
              "      <td>0.1386</td>\n",
              "      <td>0.1051</td>\n",
              "      <td>0.1343</td>\n",
              "      <td>0.0383</td>\n",
              "      <td>0.0324</td>\n",
              "      <td>0.0232</td>\n",
              "      <td>0.0027</td>\n",
              "      <td>0.0065</td>\n",
              "      <td>0.0159</td>\n",
              "      <td>0.0072</td>\n",
              "      <td>0.0167</td>\n",
              "      <td>0.0180</td>\n",
              "      <td>0.0084</td>\n",
              "      <td>0.0090</td>\n",
              "      <td>0.0032</td>\n",
              "      <td>R</td>\n",
              "    </tr>\n",
              "    <tr>\n",
              "      <th>1</th>\n",
              "      <td>0.0453</td>\n",
              "      <td>0.0523</td>\n",
              "      <td>0.0843</td>\n",
              "      <td>0.0689</td>\n",
              "      <td>0.1183</td>\n",
              "      <td>0.2583</td>\n",
              "      <td>0.2156</td>\n",
              "      <td>0.3481</td>\n",
              "      <td>0.3337</td>\n",
              "      <td>0.2872</td>\n",
              "      <td>0.4918</td>\n",
              "      <td>0.6552</td>\n",
              "      <td>0.6919</td>\n",
              "      <td>0.7797</td>\n",
              "      <td>0.7464</td>\n",
              "      <td>0.9444</td>\n",
              "      <td>1.0000</td>\n",
              "      <td>0.8874</td>\n",
              "      <td>0.8024</td>\n",
              "      <td>0.7818</td>\n",
              "      <td>0.5212</td>\n",
              "      <td>0.4052</td>\n",
              "      <td>0.3957</td>\n",
              "      <td>0.3914</td>\n",
              "      <td>0.3250</td>\n",
              "      <td>0.3200</td>\n",
              "      <td>0.3271</td>\n",
              "      <td>0.2767</td>\n",
              "      <td>0.4423</td>\n",
              "      <td>0.2028</td>\n",
              "      <td>0.3788</td>\n",
              "      <td>0.2947</td>\n",
              "      <td>0.1984</td>\n",
              "      <td>0.2341</td>\n",
              "      <td>0.1306</td>\n",
              "      <td>0.4182</td>\n",
              "      <td>0.3835</td>\n",
              "      <td>0.1057</td>\n",
              "      <td>0.1840</td>\n",
              "      <td>0.1970</td>\n",
              "      <td>0.1674</td>\n",
              "      <td>0.0583</td>\n",
              "      <td>0.1401</td>\n",
              "      <td>0.1628</td>\n",
              "      <td>0.0621</td>\n",
              "      <td>0.0203</td>\n",
              "      <td>0.0530</td>\n",
              "      <td>0.0742</td>\n",
              "      <td>0.0409</td>\n",
              "      <td>0.0061</td>\n",
              "      <td>0.0125</td>\n",
              "      <td>0.0084</td>\n",
              "      <td>0.0089</td>\n",
              "      <td>0.0048</td>\n",
              "      <td>0.0094</td>\n",
              "      <td>0.0191</td>\n",
              "      <td>0.0140</td>\n",
              "      <td>0.0049</td>\n",
              "      <td>0.0052</td>\n",
              "      <td>0.0044</td>\n",
              "      <td>R</td>\n",
              "    </tr>\n",
              "    <tr>\n",
              "      <th>2</th>\n",
              "      <td>0.0262</td>\n",
              "      <td>0.0582</td>\n",
              "      <td>0.1099</td>\n",
              "      <td>0.1083</td>\n",
              "      <td>0.0974</td>\n",
              "      <td>0.2280</td>\n",
              "      <td>0.2431</td>\n",
              "      <td>0.3771</td>\n",
              "      <td>0.5598</td>\n",
              "      <td>0.6194</td>\n",
              "      <td>0.6333</td>\n",
              "      <td>0.7060</td>\n",
              "      <td>0.5544</td>\n",
              "      <td>0.5320</td>\n",
              "      <td>0.6479</td>\n",
              "      <td>0.6931</td>\n",
              "      <td>0.6759</td>\n",
              "      <td>0.7551</td>\n",
              "      <td>0.8929</td>\n",
              "      <td>0.8619</td>\n",
              "      <td>0.7974</td>\n",
              "      <td>0.6737</td>\n",
              "      <td>0.4293</td>\n",
              "      <td>0.3648</td>\n",
              "      <td>0.5331</td>\n",
              "      <td>0.2413</td>\n",
              "      <td>0.5070</td>\n",
              "      <td>0.8533</td>\n",
              "      <td>0.6036</td>\n",
              "      <td>0.8514</td>\n",
              "      <td>0.8512</td>\n",
              "      <td>0.5045</td>\n",
              "      <td>0.1862</td>\n",
              "      <td>0.2709</td>\n",
              "      <td>0.4232</td>\n",
              "      <td>0.3043</td>\n",
              "      <td>0.6116</td>\n",
              "      <td>0.6756</td>\n",
              "      <td>0.5375</td>\n",
              "      <td>0.4719</td>\n",
              "      <td>0.4647</td>\n",
              "      <td>0.2587</td>\n",
              "      <td>0.2129</td>\n",
              "      <td>0.2222</td>\n",
              "      <td>0.2111</td>\n",
              "      <td>0.0176</td>\n",
              "      <td>0.1348</td>\n",
              "      <td>0.0744</td>\n",
              "      <td>0.0130</td>\n",
              "      <td>0.0106</td>\n",
              "      <td>0.0033</td>\n",
              "      <td>0.0232</td>\n",
              "      <td>0.0166</td>\n",
              "      <td>0.0095</td>\n",
              "      <td>0.0180</td>\n",
              "      <td>0.0244</td>\n",
              "      <td>0.0316</td>\n",
              "      <td>0.0164</td>\n",
              "      <td>0.0095</td>\n",
              "      <td>0.0078</td>\n",
              "      <td>R</td>\n",
              "    </tr>\n",
              "    <tr>\n",
              "      <th>3</th>\n",
              "      <td>0.0100</td>\n",
              "      <td>0.0171</td>\n",
              "      <td>0.0623</td>\n",
              "      <td>0.0205</td>\n",
              "      <td>0.0205</td>\n",
              "      <td>0.0368</td>\n",
              "      <td>0.1098</td>\n",
              "      <td>0.1276</td>\n",
              "      <td>0.0598</td>\n",
              "      <td>0.1264</td>\n",
              "      <td>0.0881</td>\n",
              "      <td>0.1992</td>\n",
              "      <td>0.0184</td>\n",
              "      <td>0.2261</td>\n",
              "      <td>0.1729</td>\n",
              "      <td>0.2131</td>\n",
              "      <td>0.0693</td>\n",
              "      <td>0.2281</td>\n",
              "      <td>0.4060</td>\n",
              "      <td>0.3973</td>\n",
              "      <td>0.2741</td>\n",
              "      <td>0.3690</td>\n",
              "      <td>0.5556</td>\n",
              "      <td>0.4846</td>\n",
              "      <td>0.3140</td>\n",
              "      <td>0.5334</td>\n",
              "      <td>0.5256</td>\n",
              "      <td>0.2520</td>\n",
              "      <td>0.2090</td>\n",
              "      <td>0.3559</td>\n",
              "      <td>0.6260</td>\n",
              "      <td>0.7340</td>\n",
              "      <td>0.6120</td>\n",
              "      <td>0.3497</td>\n",
              "      <td>0.3953</td>\n",
              "      <td>0.3012</td>\n",
              "      <td>0.5408</td>\n",
              "      <td>0.8814</td>\n",
              "      <td>0.9857</td>\n",
              "      <td>0.9167</td>\n",
              "      <td>0.6121</td>\n",
              "      <td>0.5006</td>\n",
              "      <td>0.3210</td>\n",
              "      <td>0.3202</td>\n",
              "      <td>0.4295</td>\n",
              "      <td>0.3654</td>\n",
              "      <td>0.2655</td>\n",
              "      <td>0.1576</td>\n",
              "      <td>0.0681</td>\n",
              "      <td>0.0294</td>\n",
              "      <td>0.0241</td>\n",
              "      <td>0.0121</td>\n",
              "      <td>0.0036</td>\n",
              "      <td>0.0150</td>\n",
              "      <td>0.0085</td>\n",
              "      <td>0.0073</td>\n",
              "      <td>0.0050</td>\n",
              "      <td>0.0044</td>\n",
              "      <td>0.0040</td>\n",
              "      <td>0.0117</td>\n",
              "      <td>R</td>\n",
              "    </tr>\n",
              "    <tr>\n",
              "      <th>4</th>\n",
              "      <td>0.0762</td>\n",
              "      <td>0.0666</td>\n",
              "      <td>0.0481</td>\n",
              "      <td>0.0394</td>\n",
              "      <td>0.0590</td>\n",
              "      <td>0.0649</td>\n",
              "      <td>0.1209</td>\n",
              "      <td>0.2467</td>\n",
              "      <td>0.3564</td>\n",
              "      <td>0.4459</td>\n",
              "      <td>0.4152</td>\n",
              "      <td>0.3952</td>\n",
              "      <td>0.4256</td>\n",
              "      <td>0.4135</td>\n",
              "      <td>0.4528</td>\n",
              "      <td>0.5326</td>\n",
              "      <td>0.7306</td>\n",
              "      <td>0.6193</td>\n",
              "      <td>0.2032</td>\n",
              "      <td>0.4636</td>\n",
              "      <td>0.4148</td>\n",
              "      <td>0.4292</td>\n",
              "      <td>0.5730</td>\n",
              "      <td>0.5399</td>\n",
              "      <td>0.3161</td>\n",
              "      <td>0.2285</td>\n",
              "      <td>0.6995</td>\n",
              "      <td>1.0000</td>\n",
              "      <td>0.7262</td>\n",
              "      <td>0.4724</td>\n",
              "      <td>0.5103</td>\n",
              "      <td>0.5459</td>\n",
              "      <td>0.2881</td>\n",
              "      <td>0.0981</td>\n",
              "      <td>0.1951</td>\n",
              "      <td>0.4181</td>\n",
              "      <td>0.4604</td>\n",
              "      <td>0.3217</td>\n",
              "      <td>0.2828</td>\n",
              "      <td>0.2430</td>\n",
              "      <td>0.1979</td>\n",
              "      <td>0.2444</td>\n",
              "      <td>0.1847</td>\n",
              "      <td>0.0841</td>\n",
              "      <td>0.0692</td>\n",
              "      <td>0.0528</td>\n",
              "      <td>0.0357</td>\n",
              "      <td>0.0085</td>\n",
              "      <td>0.0230</td>\n",
              "      <td>0.0046</td>\n",
              "      <td>0.0156</td>\n",
              "      <td>0.0031</td>\n",
              "      <td>0.0054</td>\n",
              "      <td>0.0105</td>\n",
              "      <td>0.0110</td>\n",
              "      <td>0.0015</td>\n",
              "      <td>0.0072</td>\n",
              "      <td>0.0048</td>\n",
              "      <td>0.0107</td>\n",
              "      <td>0.0094</td>\n",
              "      <td>R</td>\n",
              "    </tr>\n",
              "    <tr>\n",
              "      <th>5</th>\n",
              "      <td>0.0286</td>\n",
              "      <td>0.0453</td>\n",
              "      <td>0.0277</td>\n",
              "      <td>0.0174</td>\n",
              "      <td>0.0384</td>\n",
              "      <td>0.0990</td>\n",
              "      <td>0.1201</td>\n",
              "      <td>0.1833</td>\n",
              "      <td>0.2105</td>\n",
              "      <td>0.3039</td>\n",
              "      <td>0.2988</td>\n",
              "      <td>0.4250</td>\n",
              "      <td>0.6343</td>\n",
              "      <td>0.8198</td>\n",
              "      <td>1.0000</td>\n",
              "      <td>0.9988</td>\n",
              "      <td>0.9508</td>\n",
              "      <td>0.9025</td>\n",
              "      <td>0.7234</td>\n",
              "      <td>0.5122</td>\n",
              "      <td>0.2074</td>\n",
              "      <td>0.3985</td>\n",
              "      <td>0.5890</td>\n",
              "      <td>0.2872</td>\n",
              "      <td>0.2043</td>\n",
              "      <td>0.5782</td>\n",
              "      <td>0.5389</td>\n",
              "      <td>0.3750</td>\n",
              "      <td>0.3411</td>\n",
              "      <td>0.5067</td>\n",
              "      <td>0.5580</td>\n",
              "      <td>0.4778</td>\n",
              "      <td>0.3299</td>\n",
              "      <td>0.2198</td>\n",
              "      <td>0.1407</td>\n",
              "      <td>0.2856</td>\n",
              "      <td>0.3807</td>\n",
              "      <td>0.4158</td>\n",
              "      <td>0.4054</td>\n",
              "      <td>0.3296</td>\n",
              "      <td>0.2707</td>\n",
              "      <td>0.2650</td>\n",
              "      <td>0.0723</td>\n",
              "      <td>0.1238</td>\n",
              "      <td>0.1192</td>\n",
              "      <td>0.1089</td>\n",
              "      <td>0.0623</td>\n",
              "      <td>0.0494</td>\n",
              "      <td>0.0264</td>\n",
              "      <td>0.0081</td>\n",
              "      <td>0.0104</td>\n",
              "      <td>0.0045</td>\n",
              "      <td>0.0014</td>\n",
              "      <td>0.0038</td>\n",
              "      <td>0.0013</td>\n",
              "      <td>0.0089</td>\n",
              "      <td>0.0057</td>\n",
              "      <td>0.0027</td>\n",
              "      <td>0.0051</td>\n",
              "      <td>0.0062</td>\n",
              "      <td>R</td>\n",
              "    </tr>\n",
              "    <tr>\n",
              "      <th>6</th>\n",
              "      <td>0.0317</td>\n",
              "      <td>0.0956</td>\n",
              "      <td>0.1321</td>\n",
              "      <td>0.1408</td>\n",
              "      <td>0.1674</td>\n",
              "      <td>0.1710</td>\n",
              "      <td>0.0731</td>\n",
              "      <td>0.1401</td>\n",
              "      <td>0.2083</td>\n",
              "      <td>0.3513</td>\n",
              "      <td>0.1786</td>\n",
              "      <td>0.0658</td>\n",
              "      <td>0.0513</td>\n",
              "      <td>0.3752</td>\n",
              "      <td>0.5419</td>\n",
              "      <td>0.5440</td>\n",
              "      <td>0.5150</td>\n",
              "      <td>0.4262</td>\n",
              "      <td>0.2024</td>\n",
              "      <td>0.4233</td>\n",
              "      <td>0.7723</td>\n",
              "      <td>0.9735</td>\n",
              "      <td>0.9390</td>\n",
              "      <td>0.5559</td>\n",
              "      <td>0.5268</td>\n",
              "      <td>0.6826</td>\n",
              "      <td>0.5713</td>\n",
              "      <td>0.5429</td>\n",
              "      <td>0.2177</td>\n",
              "      <td>0.2149</td>\n",
              "      <td>0.5811</td>\n",
              "      <td>0.6323</td>\n",
              "      <td>0.2965</td>\n",
              "      <td>0.1873</td>\n",
              "      <td>0.2969</td>\n",
              "      <td>0.5163</td>\n",
              "      <td>0.6153</td>\n",
              "      <td>0.4283</td>\n",
              "      <td>0.5479</td>\n",
              "      <td>0.6133</td>\n",
              "      <td>0.5017</td>\n",
              "      <td>0.2377</td>\n",
              "      <td>0.1957</td>\n",
              "      <td>0.1749</td>\n",
              "      <td>0.1304</td>\n",
              "      <td>0.0597</td>\n",
              "      <td>0.1124</td>\n",
              "      <td>0.1047</td>\n",
              "      <td>0.0507</td>\n",
              "      <td>0.0159</td>\n",
              "      <td>0.0195</td>\n",
              "      <td>0.0201</td>\n",
              "      <td>0.0248</td>\n",
              "      <td>0.0131</td>\n",
              "      <td>0.0070</td>\n",
              "      <td>0.0138</td>\n",
              "      <td>0.0092</td>\n",
              "      <td>0.0143</td>\n",
              "      <td>0.0036</td>\n",
              "      <td>0.0103</td>\n",
              "      <td>R</td>\n",
              "    </tr>\n",
              "    <tr>\n",
              "      <th>7</th>\n",
              "      <td>0.0519</td>\n",
              "      <td>0.0548</td>\n",
              "      <td>0.0842</td>\n",
              "      <td>0.0319</td>\n",
              "      <td>0.1158</td>\n",
              "      <td>0.0922</td>\n",
              "      <td>0.1027</td>\n",
              "      <td>0.0613</td>\n",
              "      <td>0.1465</td>\n",
              "      <td>0.2838</td>\n",
              "      <td>0.2802</td>\n",
              "      <td>0.3086</td>\n",
              "      <td>0.2657</td>\n",
              "      <td>0.3801</td>\n",
              "      <td>0.5626</td>\n",
              "      <td>0.4376</td>\n",
              "      <td>0.2617</td>\n",
              "      <td>0.1199</td>\n",
              "      <td>0.6676</td>\n",
              "      <td>0.9402</td>\n",
              "      <td>0.7832</td>\n",
              "      <td>0.5352</td>\n",
              "      <td>0.6809</td>\n",
              "      <td>0.9174</td>\n",
              "      <td>0.7613</td>\n",
              "      <td>0.8220</td>\n",
              "      <td>0.8872</td>\n",
              "      <td>0.6091</td>\n",
              "      <td>0.2967</td>\n",
              "      <td>0.1103</td>\n",
              "      <td>0.1318</td>\n",
              "      <td>0.0624</td>\n",
              "      <td>0.0990</td>\n",
              "      <td>0.4006</td>\n",
              "      <td>0.3666</td>\n",
              "      <td>0.1050</td>\n",
              "      <td>0.1915</td>\n",
              "      <td>0.3930</td>\n",
              "      <td>0.4288</td>\n",
              "      <td>0.2546</td>\n",
              "      <td>0.1151</td>\n",
              "      <td>0.2196</td>\n",
              "      <td>0.1879</td>\n",
              "      <td>0.1437</td>\n",
              "      <td>0.2146</td>\n",
              "      <td>0.2360</td>\n",
              "      <td>0.1125</td>\n",
              "      <td>0.0254</td>\n",
              "      <td>0.0285</td>\n",
              "      <td>0.0178</td>\n",
              "      <td>0.0052</td>\n",
              "      <td>0.0081</td>\n",
              "      <td>0.0120</td>\n",
              "      <td>0.0045</td>\n",
              "      <td>0.0121</td>\n",
              "      <td>0.0097</td>\n",
              "      <td>0.0085</td>\n",
              "      <td>0.0047</td>\n",
              "      <td>0.0048</td>\n",
              "      <td>0.0053</td>\n",
              "      <td>R</td>\n",
              "    </tr>\n",
              "    <tr>\n",
              "      <th>8</th>\n",
              "      <td>0.0223</td>\n",
              "      <td>0.0375</td>\n",
              "      <td>0.0484</td>\n",
              "      <td>0.0475</td>\n",
              "      <td>0.0647</td>\n",
              "      <td>0.0591</td>\n",
              "      <td>0.0753</td>\n",
              "      <td>0.0098</td>\n",
              "      <td>0.0684</td>\n",
              "      <td>0.1487</td>\n",
              "      <td>0.1156</td>\n",
              "      <td>0.1654</td>\n",
              "      <td>0.3833</td>\n",
              "      <td>0.3598</td>\n",
              "      <td>0.1713</td>\n",
              "      <td>0.1136</td>\n",
              "      <td>0.0349</td>\n",
              "      <td>0.3796</td>\n",
              "      <td>0.7401</td>\n",
              "      <td>0.9925</td>\n",
              "      <td>0.9802</td>\n",
              "      <td>0.8890</td>\n",
              "      <td>0.6712</td>\n",
              "      <td>0.4286</td>\n",
              "      <td>0.3374</td>\n",
              "      <td>0.7366</td>\n",
              "      <td>0.9611</td>\n",
              "      <td>0.7353</td>\n",
              "      <td>0.4856</td>\n",
              "      <td>0.1594</td>\n",
              "      <td>0.3007</td>\n",
              "      <td>0.4096</td>\n",
              "      <td>0.3170</td>\n",
              "      <td>0.3305</td>\n",
              "      <td>0.3408</td>\n",
              "      <td>0.2186</td>\n",
              "      <td>0.2463</td>\n",
              "      <td>0.2726</td>\n",
              "      <td>0.1680</td>\n",
              "      <td>0.2792</td>\n",
              "      <td>0.2558</td>\n",
              "      <td>0.1740</td>\n",
              "      <td>0.2121</td>\n",
              "      <td>0.1099</td>\n",
              "      <td>0.0985</td>\n",
              "      <td>0.1271</td>\n",
              "      <td>0.1459</td>\n",
              "      <td>0.1164</td>\n",
              "      <td>0.0777</td>\n",
              "      <td>0.0439</td>\n",
              "      <td>0.0061</td>\n",
              "      <td>0.0145</td>\n",
              "      <td>0.0128</td>\n",
              "      <td>0.0145</td>\n",
              "      <td>0.0058</td>\n",
              "      <td>0.0049</td>\n",
              "      <td>0.0065</td>\n",
              "      <td>0.0093</td>\n",
              "      <td>0.0059</td>\n",
              "      <td>0.0022</td>\n",
              "      <td>R</td>\n",
              "    </tr>\n",
              "    <tr>\n",
              "      <th>9</th>\n",
              "      <td>0.0164</td>\n",
              "      <td>0.0173</td>\n",
              "      <td>0.0347</td>\n",
              "      <td>0.0070</td>\n",
              "      <td>0.0187</td>\n",
              "      <td>0.0671</td>\n",
              "      <td>0.1056</td>\n",
              "      <td>0.0697</td>\n",
              "      <td>0.0962</td>\n",
              "      <td>0.0251</td>\n",
              "      <td>0.0801</td>\n",
              "      <td>0.1056</td>\n",
              "      <td>0.1266</td>\n",
              "      <td>0.0890</td>\n",
              "      <td>0.0198</td>\n",
              "      <td>0.1133</td>\n",
              "      <td>0.2826</td>\n",
              "      <td>0.3234</td>\n",
              "      <td>0.3238</td>\n",
              "      <td>0.4333</td>\n",
              "      <td>0.6068</td>\n",
              "      <td>0.7652</td>\n",
              "      <td>0.9203</td>\n",
              "      <td>0.9719</td>\n",
              "      <td>0.9207</td>\n",
              "      <td>0.7545</td>\n",
              "      <td>0.8289</td>\n",
              "      <td>0.8907</td>\n",
              "      <td>0.7309</td>\n",
              "      <td>0.6896</td>\n",
              "      <td>0.5829</td>\n",
              "      <td>0.4935</td>\n",
              "      <td>0.3101</td>\n",
              "      <td>0.0306</td>\n",
              "      <td>0.0244</td>\n",
              "      <td>0.1108</td>\n",
              "      <td>0.1594</td>\n",
              "      <td>0.1371</td>\n",
              "      <td>0.0696</td>\n",
              "      <td>0.0452</td>\n",
              "      <td>0.0620</td>\n",
              "      <td>0.1421</td>\n",
              "      <td>0.1597</td>\n",
              "      <td>0.1384</td>\n",
              "      <td>0.0372</td>\n",
              "      <td>0.0688</td>\n",
              "      <td>0.0867</td>\n",
              "      <td>0.0513</td>\n",
              "      <td>0.0092</td>\n",
              "      <td>0.0198</td>\n",
              "      <td>0.0118</td>\n",
              "      <td>0.0090</td>\n",
              "      <td>0.0223</td>\n",
              "      <td>0.0179</td>\n",
              "      <td>0.0084</td>\n",
              "      <td>0.0068</td>\n",
              "      <td>0.0032</td>\n",
              "      <td>0.0035</td>\n",
              "      <td>0.0056</td>\n",
              "      <td>0.0040</td>\n",
              "      <td>R</td>\n",
              "    </tr>\n",
              "  </tbody>\n",
              "</table>\n",
              "</div>"
            ],
            "text/plain": [
              "        1       2       3       4       5  ...      57      58      59      60  Class\n",
              "0  0.0200  0.0371  0.0428  0.0207  0.0954  ...  0.0180  0.0084  0.0090  0.0032      R\n",
              "1  0.0453  0.0523  0.0843  0.0689  0.1183  ...  0.0140  0.0049  0.0052  0.0044      R\n",
              "2  0.0262  0.0582  0.1099  0.1083  0.0974  ...  0.0316  0.0164  0.0095  0.0078      R\n",
              "3  0.0100  0.0171  0.0623  0.0205  0.0205  ...  0.0050  0.0044  0.0040  0.0117      R\n",
              "4  0.0762  0.0666  0.0481  0.0394  0.0590  ...  0.0072  0.0048  0.0107  0.0094      R\n",
              "5  0.0286  0.0453  0.0277  0.0174  0.0384  ...  0.0057  0.0027  0.0051  0.0062      R\n",
              "6  0.0317  0.0956  0.1321  0.1408  0.1674  ...  0.0092  0.0143  0.0036  0.0103      R\n",
              "7  0.0519  0.0548  0.0842  0.0319  0.1158  ...  0.0085  0.0047  0.0048  0.0053      R\n",
              "8  0.0223  0.0375  0.0484  0.0475  0.0647  ...  0.0065  0.0093  0.0059  0.0022      R\n",
              "9  0.0164  0.0173  0.0347  0.0070  0.0187  ...  0.0032  0.0035  0.0056  0.0040      R\n",
              "\n",
              "[10 rows x 61 columns]"
            ]
          },
          "metadata": {
            "tags": []
          },
          "execution_count": 3
        }
      ]
    },
    {
      "cell_type": "code",
      "metadata": {
        "colab": {
          "base_uri": "https://localhost:8080/",
          "height": 317
        },
        "id": "eyiC3zbzBJs5",
        "outputId": "b79835f3-2c85-4e6e-d971-a07bb6d6b075"
      },
      "source": [
        "dataframe.describe()"
      ],
      "execution_count": null,
      "outputs": [
        {
          "output_type": "execute_result",
          "data": {
            "text/html": [
              "<div>\n",
              "<style scoped>\n",
              "    .dataframe tbody tr th:only-of-type {\n",
              "        vertical-align: middle;\n",
              "    }\n",
              "\n",
              "    .dataframe tbody tr th {\n",
              "        vertical-align: top;\n",
              "    }\n",
              "\n",
              "    .dataframe thead th {\n",
              "        text-align: right;\n",
              "    }\n",
              "</style>\n",
              "<table border=\"1\" class=\"dataframe\">\n",
              "  <thead>\n",
              "    <tr style=\"text-align: right;\">\n",
              "      <th></th>\n",
              "      <th>1</th>\n",
              "      <th>2</th>\n",
              "      <th>3</th>\n",
              "      <th>4</th>\n",
              "      <th>5</th>\n",
              "      <th>6</th>\n",
              "      <th>7</th>\n",
              "      <th>8</th>\n",
              "      <th>9</th>\n",
              "      <th>10</th>\n",
              "      <th>11</th>\n",
              "      <th>12</th>\n",
              "      <th>13</th>\n",
              "      <th>14</th>\n",
              "      <th>15</th>\n",
              "      <th>16</th>\n",
              "      <th>17</th>\n",
              "      <th>18</th>\n",
              "      <th>19</th>\n",
              "      <th>20</th>\n",
              "      <th>21</th>\n",
              "      <th>22</th>\n",
              "      <th>23</th>\n",
              "      <th>24</th>\n",
              "      <th>25</th>\n",
              "      <th>26</th>\n",
              "      <th>27</th>\n",
              "      <th>28</th>\n",
              "      <th>29</th>\n",
              "      <th>30</th>\n",
              "      <th>31</th>\n",
              "      <th>32</th>\n",
              "      <th>33</th>\n",
              "      <th>34</th>\n",
              "      <th>35</th>\n",
              "      <th>36</th>\n",
              "      <th>37</th>\n",
              "      <th>38</th>\n",
              "      <th>39</th>\n",
              "      <th>40</th>\n",
              "      <th>41</th>\n",
              "      <th>42</th>\n",
              "      <th>43</th>\n",
              "      <th>44</th>\n",
              "      <th>45</th>\n",
              "      <th>46</th>\n",
              "      <th>47</th>\n",
              "      <th>48</th>\n",
              "      <th>49</th>\n",
              "      <th>50</th>\n",
              "      <th>51</th>\n",
              "      <th>52</th>\n",
              "      <th>53</th>\n",
              "      <th>54</th>\n",
              "      <th>55</th>\n",
              "      <th>56</th>\n",
              "      <th>57</th>\n",
              "      <th>58</th>\n",
              "      <th>59</th>\n",
              "      <th>60</th>\n",
              "    </tr>\n",
              "  </thead>\n",
              "  <tbody>\n",
              "    <tr>\n",
              "      <th>count</th>\n",
              "      <td>208.000000</td>\n",
              "      <td>208.000000</td>\n",
              "      <td>208.000000</td>\n",
              "      <td>208.000000</td>\n",
              "      <td>208.000000</td>\n",
              "      <td>208.000000</td>\n",
              "      <td>208.000000</td>\n",
              "      <td>208.000000</td>\n",
              "      <td>208.000000</td>\n",
              "      <td>208.000000</td>\n",
              "      <td>208.000000</td>\n",
              "      <td>208.000000</td>\n",
              "      <td>208.000000</td>\n",
              "      <td>208.000000</td>\n",
              "      <td>208.000000</td>\n",
              "      <td>208.000000</td>\n",
              "      <td>208.000000</td>\n",
              "      <td>208.000000</td>\n",
              "      <td>208.000000</td>\n",
              "      <td>208.000000</td>\n",
              "      <td>208.000000</td>\n",
              "      <td>208.000000</td>\n",
              "      <td>208.000000</td>\n",
              "      <td>208.000000</td>\n",
              "      <td>208.000000</td>\n",
              "      <td>208.000000</td>\n",
              "      <td>208.000000</td>\n",
              "      <td>208.000000</td>\n",
              "      <td>208.000000</td>\n",
              "      <td>208.000000</td>\n",
              "      <td>208.000000</td>\n",
              "      <td>208.000000</td>\n",
              "      <td>208.000000</td>\n",
              "      <td>208.000000</td>\n",
              "      <td>208.000000</td>\n",
              "      <td>208.000000</td>\n",
              "      <td>208.000000</td>\n",
              "      <td>208.000000</td>\n",
              "      <td>208.000000</td>\n",
              "      <td>208.000000</td>\n",
              "      <td>208.000000</td>\n",
              "      <td>208.000000</td>\n",
              "      <td>208.000000</td>\n",
              "      <td>208.000000</td>\n",
              "      <td>208.000000</td>\n",
              "      <td>208.000000</td>\n",
              "      <td>208.000000</td>\n",
              "      <td>208.000000</td>\n",
              "      <td>208.000000</td>\n",
              "      <td>208.000000</td>\n",
              "      <td>208.000000</td>\n",
              "      <td>208.000000</td>\n",
              "      <td>208.000000</td>\n",
              "      <td>208.000000</td>\n",
              "      <td>208.000000</td>\n",
              "      <td>208.000000</td>\n",
              "      <td>208.000000</td>\n",
              "      <td>208.000000</td>\n",
              "      <td>208.000000</td>\n",
              "      <td>208.000000</td>\n",
              "    </tr>\n",
              "    <tr>\n",
              "      <th>mean</th>\n",
              "      <td>0.029164</td>\n",
              "      <td>0.038437</td>\n",
              "      <td>0.043832</td>\n",
              "      <td>0.053892</td>\n",
              "      <td>0.075202</td>\n",
              "      <td>0.104570</td>\n",
              "      <td>0.121747</td>\n",
              "      <td>0.134799</td>\n",
              "      <td>0.178003</td>\n",
              "      <td>0.208259</td>\n",
              "      <td>0.236013</td>\n",
              "      <td>0.250221</td>\n",
              "      <td>0.273305</td>\n",
              "      <td>0.296568</td>\n",
              "      <td>0.320201</td>\n",
              "      <td>0.378487</td>\n",
              "      <td>0.415983</td>\n",
              "      <td>0.452318</td>\n",
              "      <td>0.504812</td>\n",
              "      <td>0.563047</td>\n",
              "      <td>0.609060</td>\n",
              "      <td>0.624275</td>\n",
              "      <td>0.646975</td>\n",
              "      <td>0.672654</td>\n",
              "      <td>0.675424</td>\n",
              "      <td>0.699866</td>\n",
              "      <td>0.702155</td>\n",
              "      <td>0.694024</td>\n",
              "      <td>0.642074</td>\n",
              "      <td>0.580928</td>\n",
              "      <td>0.504475</td>\n",
              "      <td>0.439040</td>\n",
              "      <td>0.417220</td>\n",
              "      <td>0.403233</td>\n",
              "      <td>0.392571</td>\n",
              "      <td>0.384848</td>\n",
              "      <td>0.363807</td>\n",
              "      <td>0.339657</td>\n",
              "      <td>0.325800</td>\n",
              "      <td>0.311207</td>\n",
              "      <td>0.289252</td>\n",
              "      <td>0.278293</td>\n",
              "      <td>0.246542</td>\n",
              "      <td>0.214075</td>\n",
              "      <td>0.197232</td>\n",
              "      <td>0.160631</td>\n",
              "      <td>0.122453</td>\n",
              "      <td>0.091424</td>\n",
              "      <td>0.051929</td>\n",
              "      <td>0.020424</td>\n",
              "      <td>0.016069</td>\n",
              "      <td>0.013420</td>\n",
              "      <td>0.010709</td>\n",
              "      <td>0.010941</td>\n",
              "      <td>0.009290</td>\n",
              "      <td>0.008222</td>\n",
              "      <td>0.007820</td>\n",
              "      <td>0.007949</td>\n",
              "      <td>0.007941</td>\n",
              "      <td>0.006507</td>\n",
              "    </tr>\n",
              "    <tr>\n",
              "      <th>std</th>\n",
              "      <td>0.022991</td>\n",
              "      <td>0.032960</td>\n",
              "      <td>0.038428</td>\n",
              "      <td>0.046528</td>\n",
              "      <td>0.055552</td>\n",
              "      <td>0.059105</td>\n",
              "      <td>0.061788</td>\n",
              "      <td>0.085152</td>\n",
              "      <td>0.118387</td>\n",
              "      <td>0.134416</td>\n",
              "      <td>0.132705</td>\n",
              "      <td>0.140072</td>\n",
              "      <td>0.140962</td>\n",
              "      <td>0.164474</td>\n",
              "      <td>0.205427</td>\n",
              "      <td>0.232650</td>\n",
              "      <td>0.263677</td>\n",
              "      <td>0.261529</td>\n",
              "      <td>0.257988</td>\n",
              "      <td>0.262653</td>\n",
              "      <td>0.257818</td>\n",
              "      <td>0.255883</td>\n",
              "      <td>0.250175</td>\n",
              "      <td>0.239116</td>\n",
              "      <td>0.244926</td>\n",
              "      <td>0.237228</td>\n",
              "      <td>0.245657</td>\n",
              "      <td>0.237189</td>\n",
              "      <td>0.240250</td>\n",
              "      <td>0.220749</td>\n",
              "      <td>0.213992</td>\n",
              "      <td>0.213237</td>\n",
              "      <td>0.206513</td>\n",
              "      <td>0.231242</td>\n",
              "      <td>0.259132</td>\n",
              "      <td>0.264121</td>\n",
              "      <td>0.239912</td>\n",
              "      <td>0.212973</td>\n",
              "      <td>0.199075</td>\n",
              "      <td>0.178662</td>\n",
              "      <td>0.171111</td>\n",
              "      <td>0.168728</td>\n",
              "      <td>0.138993</td>\n",
              "      <td>0.133291</td>\n",
              "      <td>0.151628</td>\n",
              "      <td>0.133938</td>\n",
              "      <td>0.086953</td>\n",
              "      <td>0.062417</td>\n",
              "      <td>0.035954</td>\n",
              "      <td>0.013665</td>\n",
              "      <td>0.012008</td>\n",
              "      <td>0.009634</td>\n",
              "      <td>0.007060</td>\n",
              "      <td>0.007301</td>\n",
              "      <td>0.007088</td>\n",
              "      <td>0.005736</td>\n",
              "      <td>0.005785</td>\n",
              "      <td>0.006470</td>\n",
              "      <td>0.006181</td>\n",
              "      <td>0.005031</td>\n",
              "    </tr>\n",
              "    <tr>\n",
              "      <th>min</th>\n",
              "      <td>0.001500</td>\n",
              "      <td>0.000600</td>\n",
              "      <td>0.001500</td>\n",
              "      <td>0.005800</td>\n",
              "      <td>0.006700</td>\n",
              "      <td>0.010200</td>\n",
              "      <td>0.003300</td>\n",
              "      <td>0.005500</td>\n",
              "      <td>0.007500</td>\n",
              "      <td>0.011300</td>\n",
              "      <td>0.028900</td>\n",
              "      <td>0.023600</td>\n",
              "      <td>0.018400</td>\n",
              "      <td>0.027300</td>\n",
              "      <td>0.003100</td>\n",
              "      <td>0.016200</td>\n",
              "      <td>0.034900</td>\n",
              "      <td>0.037500</td>\n",
              "      <td>0.049400</td>\n",
              "      <td>0.065600</td>\n",
              "      <td>0.051200</td>\n",
              "      <td>0.021900</td>\n",
              "      <td>0.056300</td>\n",
              "      <td>0.023900</td>\n",
              "      <td>0.024000</td>\n",
              "      <td>0.092100</td>\n",
              "      <td>0.048100</td>\n",
              "      <td>0.028400</td>\n",
              "      <td>0.014400</td>\n",
              "      <td>0.061300</td>\n",
              "      <td>0.048200</td>\n",
              "      <td>0.040400</td>\n",
              "      <td>0.047700</td>\n",
              "      <td>0.021200</td>\n",
              "      <td>0.022300</td>\n",
              "      <td>0.008000</td>\n",
              "      <td>0.035100</td>\n",
              "      <td>0.038300</td>\n",
              "      <td>0.037100</td>\n",
              "      <td>0.011700</td>\n",
              "      <td>0.036000</td>\n",
              "      <td>0.005600</td>\n",
              "      <td>0.000000</td>\n",
              "      <td>0.000000</td>\n",
              "      <td>0.000000</td>\n",
              "      <td>0.000000</td>\n",
              "      <td>0.000000</td>\n",
              "      <td>0.000000</td>\n",
              "      <td>0.000000</td>\n",
              "      <td>0.000000</td>\n",
              "      <td>0.000000</td>\n",
              "      <td>0.000800</td>\n",
              "      <td>0.000500</td>\n",
              "      <td>0.001000</td>\n",
              "      <td>0.000600</td>\n",
              "      <td>0.000400</td>\n",
              "      <td>0.000300</td>\n",
              "      <td>0.000300</td>\n",
              "      <td>0.000100</td>\n",
              "      <td>0.000600</td>\n",
              "    </tr>\n",
              "    <tr>\n",
              "      <th>25%</th>\n",
              "      <td>0.013350</td>\n",
              "      <td>0.016450</td>\n",
              "      <td>0.018950</td>\n",
              "      <td>0.024375</td>\n",
              "      <td>0.038050</td>\n",
              "      <td>0.067025</td>\n",
              "      <td>0.080900</td>\n",
              "      <td>0.080425</td>\n",
              "      <td>0.097025</td>\n",
              "      <td>0.111275</td>\n",
              "      <td>0.129250</td>\n",
              "      <td>0.133475</td>\n",
              "      <td>0.166125</td>\n",
              "      <td>0.175175</td>\n",
              "      <td>0.164625</td>\n",
              "      <td>0.196300</td>\n",
              "      <td>0.205850</td>\n",
              "      <td>0.242075</td>\n",
              "      <td>0.299075</td>\n",
              "      <td>0.350625</td>\n",
              "      <td>0.399725</td>\n",
              "      <td>0.406925</td>\n",
              "      <td>0.450225</td>\n",
              "      <td>0.540725</td>\n",
              "      <td>0.525800</td>\n",
              "      <td>0.544175</td>\n",
              "      <td>0.531900</td>\n",
              "      <td>0.534775</td>\n",
              "      <td>0.463700</td>\n",
              "      <td>0.411400</td>\n",
              "      <td>0.345550</td>\n",
              "      <td>0.281400</td>\n",
              "      <td>0.257875</td>\n",
              "      <td>0.217575</td>\n",
              "      <td>0.179375</td>\n",
              "      <td>0.154350</td>\n",
              "      <td>0.160100</td>\n",
              "      <td>0.174275</td>\n",
              "      <td>0.173975</td>\n",
              "      <td>0.186450</td>\n",
              "      <td>0.163100</td>\n",
              "      <td>0.158900</td>\n",
              "      <td>0.155200</td>\n",
              "      <td>0.126875</td>\n",
              "      <td>0.094475</td>\n",
              "      <td>0.068550</td>\n",
              "      <td>0.064250</td>\n",
              "      <td>0.045125</td>\n",
              "      <td>0.026350</td>\n",
              "      <td>0.011550</td>\n",
              "      <td>0.008425</td>\n",
              "      <td>0.007275</td>\n",
              "      <td>0.005075</td>\n",
              "      <td>0.005375</td>\n",
              "      <td>0.004150</td>\n",
              "      <td>0.004400</td>\n",
              "      <td>0.003700</td>\n",
              "      <td>0.003600</td>\n",
              "      <td>0.003675</td>\n",
              "      <td>0.003100</td>\n",
              "    </tr>\n",
              "    <tr>\n",
              "      <th>50%</th>\n",
              "      <td>0.022800</td>\n",
              "      <td>0.030800</td>\n",
              "      <td>0.034300</td>\n",
              "      <td>0.044050</td>\n",
              "      <td>0.062500</td>\n",
              "      <td>0.092150</td>\n",
              "      <td>0.106950</td>\n",
              "      <td>0.112100</td>\n",
              "      <td>0.152250</td>\n",
              "      <td>0.182400</td>\n",
              "      <td>0.224800</td>\n",
              "      <td>0.249050</td>\n",
              "      <td>0.263950</td>\n",
              "      <td>0.281100</td>\n",
              "      <td>0.281700</td>\n",
              "      <td>0.304700</td>\n",
              "      <td>0.308400</td>\n",
              "      <td>0.368300</td>\n",
              "      <td>0.434950</td>\n",
              "      <td>0.542500</td>\n",
              "      <td>0.617700</td>\n",
              "      <td>0.664900</td>\n",
              "      <td>0.699700</td>\n",
              "      <td>0.698500</td>\n",
              "      <td>0.721100</td>\n",
              "      <td>0.754500</td>\n",
              "      <td>0.745600</td>\n",
              "      <td>0.731900</td>\n",
              "      <td>0.680800</td>\n",
              "      <td>0.607150</td>\n",
              "      <td>0.490350</td>\n",
              "      <td>0.429600</td>\n",
              "      <td>0.391200</td>\n",
              "      <td>0.351050</td>\n",
              "      <td>0.312750</td>\n",
              "      <td>0.321150</td>\n",
              "      <td>0.306300</td>\n",
              "      <td>0.312700</td>\n",
              "      <td>0.283500</td>\n",
              "      <td>0.278050</td>\n",
              "      <td>0.259500</td>\n",
              "      <td>0.245100</td>\n",
              "      <td>0.222550</td>\n",
              "      <td>0.177700</td>\n",
              "      <td>0.148000</td>\n",
              "      <td>0.121350</td>\n",
              "      <td>0.101650</td>\n",
              "      <td>0.078100</td>\n",
              "      <td>0.044700</td>\n",
              "      <td>0.017900</td>\n",
              "      <td>0.013900</td>\n",
              "      <td>0.011400</td>\n",
              "      <td>0.009550</td>\n",
              "      <td>0.009300</td>\n",
              "      <td>0.007500</td>\n",
              "      <td>0.006850</td>\n",
              "      <td>0.005950</td>\n",
              "      <td>0.005800</td>\n",
              "      <td>0.006400</td>\n",
              "      <td>0.005300</td>\n",
              "    </tr>\n",
              "    <tr>\n",
              "      <th>75%</th>\n",
              "      <td>0.035550</td>\n",
              "      <td>0.047950</td>\n",
              "      <td>0.057950</td>\n",
              "      <td>0.064500</td>\n",
              "      <td>0.100275</td>\n",
              "      <td>0.134125</td>\n",
              "      <td>0.154000</td>\n",
              "      <td>0.169600</td>\n",
              "      <td>0.233425</td>\n",
              "      <td>0.268700</td>\n",
              "      <td>0.301650</td>\n",
              "      <td>0.331250</td>\n",
              "      <td>0.351250</td>\n",
              "      <td>0.386175</td>\n",
              "      <td>0.452925</td>\n",
              "      <td>0.535725</td>\n",
              "      <td>0.659425</td>\n",
              "      <td>0.679050</td>\n",
              "      <td>0.731400</td>\n",
              "      <td>0.809325</td>\n",
              "      <td>0.816975</td>\n",
              "      <td>0.831975</td>\n",
              "      <td>0.848575</td>\n",
              "      <td>0.872175</td>\n",
              "      <td>0.873725</td>\n",
              "      <td>0.893800</td>\n",
              "      <td>0.917100</td>\n",
              "      <td>0.900275</td>\n",
              "      <td>0.852125</td>\n",
              "      <td>0.735175</td>\n",
              "      <td>0.641950</td>\n",
              "      <td>0.580300</td>\n",
              "      <td>0.556125</td>\n",
              "      <td>0.596125</td>\n",
              "      <td>0.593350</td>\n",
              "      <td>0.556525</td>\n",
              "      <td>0.518900</td>\n",
              "      <td>0.440550</td>\n",
              "      <td>0.434900</td>\n",
              "      <td>0.424350</td>\n",
              "      <td>0.387525</td>\n",
              "      <td>0.384250</td>\n",
              "      <td>0.324525</td>\n",
              "      <td>0.271750</td>\n",
              "      <td>0.231550</td>\n",
              "      <td>0.200375</td>\n",
              "      <td>0.154425</td>\n",
              "      <td>0.120100</td>\n",
              "      <td>0.068525</td>\n",
              "      <td>0.025275</td>\n",
              "      <td>0.020825</td>\n",
              "      <td>0.016725</td>\n",
              "      <td>0.014900</td>\n",
              "      <td>0.014500</td>\n",
              "      <td>0.012100</td>\n",
              "      <td>0.010575</td>\n",
              "      <td>0.010425</td>\n",
              "      <td>0.010350</td>\n",
              "      <td>0.010325</td>\n",
              "      <td>0.008525</td>\n",
              "    </tr>\n",
              "    <tr>\n",
              "      <th>max</th>\n",
              "      <td>0.137100</td>\n",
              "      <td>0.233900</td>\n",
              "      <td>0.305900</td>\n",
              "      <td>0.426400</td>\n",
              "      <td>0.401000</td>\n",
              "      <td>0.382300</td>\n",
              "      <td>0.372900</td>\n",
              "      <td>0.459000</td>\n",
              "      <td>0.682800</td>\n",
              "      <td>0.710600</td>\n",
              "      <td>0.734200</td>\n",
              "      <td>0.706000</td>\n",
              "      <td>0.713100</td>\n",
              "      <td>0.997000</td>\n",
              "      <td>1.000000</td>\n",
              "      <td>0.998800</td>\n",
              "      <td>1.000000</td>\n",
              "      <td>1.000000</td>\n",
              "      <td>1.000000</td>\n",
              "      <td>1.000000</td>\n",
              "      <td>1.000000</td>\n",
              "      <td>1.000000</td>\n",
              "      <td>1.000000</td>\n",
              "      <td>1.000000</td>\n",
              "      <td>1.000000</td>\n",
              "      <td>1.000000</td>\n",
              "      <td>1.000000</td>\n",
              "      <td>1.000000</td>\n",
              "      <td>1.000000</td>\n",
              "      <td>1.000000</td>\n",
              "      <td>0.965700</td>\n",
              "      <td>0.930600</td>\n",
              "      <td>1.000000</td>\n",
              "      <td>0.964700</td>\n",
              "      <td>1.000000</td>\n",
              "      <td>1.000000</td>\n",
              "      <td>0.949700</td>\n",
              "      <td>1.000000</td>\n",
              "      <td>0.985700</td>\n",
              "      <td>0.929700</td>\n",
              "      <td>0.899500</td>\n",
              "      <td>0.824600</td>\n",
              "      <td>0.773300</td>\n",
              "      <td>0.776200</td>\n",
              "      <td>0.703400</td>\n",
              "      <td>0.729200</td>\n",
              "      <td>0.552200</td>\n",
              "      <td>0.333900</td>\n",
              "      <td>0.198100</td>\n",
              "      <td>0.082500</td>\n",
              "      <td>0.100400</td>\n",
              "      <td>0.070900</td>\n",
              "      <td>0.039000</td>\n",
              "      <td>0.035200</td>\n",
              "      <td>0.044700</td>\n",
              "      <td>0.039400</td>\n",
              "      <td>0.035500</td>\n",
              "      <td>0.044000</td>\n",
              "      <td>0.036400</td>\n",
              "      <td>0.043900</td>\n",
              "    </tr>\n",
              "  </tbody>\n",
              "</table>\n",
              "</div>"
            ],
            "text/plain": [
              "                1           2           3  ...          58          59          60\n",
              "count  208.000000  208.000000  208.000000  ...  208.000000  208.000000  208.000000\n",
              "mean     0.029164    0.038437    0.043832  ...    0.007949    0.007941    0.006507\n",
              "std      0.022991    0.032960    0.038428  ...    0.006470    0.006181    0.005031\n",
              "min      0.001500    0.000600    0.001500  ...    0.000300    0.000100    0.000600\n",
              "25%      0.013350    0.016450    0.018950  ...    0.003600    0.003675    0.003100\n",
              "50%      0.022800    0.030800    0.034300  ...    0.005800    0.006400    0.005300\n",
              "75%      0.035550    0.047950    0.057950  ...    0.010350    0.010325    0.008525\n",
              "max      0.137100    0.233900    0.305900  ...    0.044000    0.036400    0.043900\n",
              "\n",
              "[8 rows x 60 columns]"
            ]
          },
          "metadata": {
            "tags": []
          },
          "execution_count": 4
        }
      ]
    },
    {
      "cell_type": "code",
      "metadata": {
        "colab": {
          "base_uri": "https://localhost:8080/"
        },
        "id": "u7iROyJ5IITO",
        "outputId": "70535669-beaf-4ddd-f91a-9bc7eb9d796c"
      },
      "source": [
        "dataframe.info()"
      ],
      "execution_count": null,
      "outputs": [
        {
          "output_type": "stream",
          "text": [
            "<class 'pandas.core.frame.DataFrame'>\n",
            "RangeIndex: 208 entries, 0 to 207\n",
            "Data columns (total 61 columns):\n",
            " #   Column  Non-Null Count  Dtype  \n",
            "---  ------  --------------  -----  \n",
            " 0   1       208 non-null    float64\n",
            " 1   2       208 non-null    float64\n",
            " 2   3       208 non-null    float64\n",
            " 3   4       208 non-null    float64\n",
            " 4   5       208 non-null    float64\n",
            " 5   6       208 non-null    float64\n",
            " 6   7       208 non-null    float64\n",
            " 7   8       208 non-null    float64\n",
            " 8   9       208 non-null    float64\n",
            " 9   10      208 non-null    float64\n",
            " 10  11      208 non-null    float64\n",
            " 11  12      208 non-null    float64\n",
            " 12  13      208 non-null    float64\n",
            " 13  14      208 non-null    float64\n",
            " 14  15      208 non-null    float64\n",
            " 15  16      208 non-null    float64\n",
            " 16  17      208 non-null    float64\n",
            " 17  18      208 non-null    float64\n",
            " 18  19      208 non-null    float64\n",
            " 19  20      208 non-null    float64\n",
            " 20  21      208 non-null    float64\n",
            " 21  22      208 non-null    float64\n",
            " 22  23      208 non-null    float64\n",
            " 23  24      208 non-null    float64\n",
            " 24  25      208 non-null    float64\n",
            " 25  26      208 non-null    float64\n",
            " 26  27      208 non-null    float64\n",
            " 27  28      208 non-null    float64\n",
            " 28  29      208 non-null    float64\n",
            " 29  30      208 non-null    float64\n",
            " 30  31      208 non-null    float64\n",
            " 31  32      208 non-null    float64\n",
            " 32  33      208 non-null    float64\n",
            " 33  34      208 non-null    float64\n",
            " 34  35      208 non-null    float64\n",
            " 35  36      208 non-null    float64\n",
            " 36  37      208 non-null    float64\n",
            " 37  38      208 non-null    float64\n",
            " 38  39      208 non-null    float64\n",
            " 39  40      208 non-null    float64\n",
            " 40  41      208 non-null    float64\n",
            " 41  42      208 non-null    float64\n",
            " 42  43      208 non-null    float64\n",
            " 43  44      208 non-null    float64\n",
            " 44  45      208 non-null    float64\n",
            " 45  46      208 non-null    float64\n",
            " 46  47      208 non-null    float64\n",
            " 47  48      208 non-null    float64\n",
            " 48  49      208 non-null    float64\n",
            " 49  50      208 non-null    float64\n",
            " 50  51      208 non-null    float64\n",
            " 51  52      208 non-null    float64\n",
            " 52  53      208 non-null    float64\n",
            " 53  54      208 non-null    float64\n",
            " 54  55      208 non-null    float64\n",
            " 55  56      208 non-null    float64\n",
            " 56  57      208 non-null    float64\n",
            " 57  58      208 non-null    float64\n",
            " 58  59      208 non-null    float64\n",
            " 59  60      208 non-null    float64\n",
            " 60  Class   208 non-null    object \n",
            "dtypes: float64(60), object(1)\n",
            "memory usage: 99.2+ KB\n"
          ],
          "name": "stdout"
        }
      ]
    },
    {
      "cell_type": "code",
      "metadata": {
        "id": "VA4ulhIlCQ-g"
      },
      "source": [
        "x = dataframe.drop('Class', inplace=False, axis=1).values\n",
        "min_max_scaler = preprocessing.MinMaxScaler()\n",
        "x_scaled = min_max_scaler.fit_transform(x)\n",
        "dataframe2 = pd.DataFrame(x_scaled)\n",
        "dataframe2['Class'] = dataframe['Class']"
      ],
      "execution_count": null,
      "outputs": []
    },
    {
      "cell_type": "code",
      "metadata": {
        "colab": {
          "base_uri": "https://localhost:8080/",
          "height": 317
        },
        "id": "jWVBF1n7DTib",
        "outputId": "86ed607d-3a13-4d7d-db93-82d08e26542c"
      },
      "source": [
        "dataframe2.describe()"
      ],
      "execution_count": null,
      "outputs": [
        {
          "output_type": "execute_result",
          "data": {
            "text/html": [
              "<div>\n",
              "<style scoped>\n",
              "    .dataframe tbody tr th:only-of-type {\n",
              "        vertical-align: middle;\n",
              "    }\n",
              "\n",
              "    .dataframe tbody tr th {\n",
              "        vertical-align: top;\n",
              "    }\n",
              "\n",
              "    .dataframe thead th {\n",
              "        text-align: right;\n",
              "    }\n",
              "</style>\n",
              "<table border=\"1\" class=\"dataframe\">\n",
              "  <thead>\n",
              "    <tr style=\"text-align: right;\">\n",
              "      <th></th>\n",
              "      <th>0</th>\n",
              "      <th>1</th>\n",
              "      <th>2</th>\n",
              "      <th>3</th>\n",
              "      <th>4</th>\n",
              "      <th>5</th>\n",
              "      <th>6</th>\n",
              "      <th>7</th>\n",
              "      <th>8</th>\n",
              "      <th>9</th>\n",
              "      <th>10</th>\n",
              "      <th>11</th>\n",
              "      <th>12</th>\n",
              "      <th>13</th>\n",
              "      <th>14</th>\n",
              "      <th>15</th>\n",
              "      <th>16</th>\n",
              "      <th>17</th>\n",
              "      <th>18</th>\n",
              "      <th>19</th>\n",
              "      <th>20</th>\n",
              "      <th>21</th>\n",
              "      <th>22</th>\n",
              "      <th>23</th>\n",
              "      <th>24</th>\n",
              "      <th>25</th>\n",
              "      <th>26</th>\n",
              "      <th>27</th>\n",
              "      <th>28</th>\n",
              "      <th>29</th>\n",
              "      <th>30</th>\n",
              "      <th>31</th>\n",
              "      <th>32</th>\n",
              "      <th>33</th>\n",
              "      <th>34</th>\n",
              "      <th>35</th>\n",
              "      <th>36</th>\n",
              "      <th>37</th>\n",
              "      <th>38</th>\n",
              "      <th>39</th>\n",
              "      <th>40</th>\n",
              "      <th>41</th>\n",
              "      <th>42</th>\n",
              "      <th>43</th>\n",
              "      <th>44</th>\n",
              "      <th>45</th>\n",
              "      <th>46</th>\n",
              "      <th>47</th>\n",
              "      <th>48</th>\n",
              "      <th>49</th>\n",
              "      <th>50</th>\n",
              "      <th>51</th>\n",
              "      <th>52</th>\n",
              "      <th>53</th>\n",
              "      <th>54</th>\n",
              "      <th>55</th>\n",
              "      <th>56</th>\n",
              "      <th>57</th>\n",
              "      <th>58</th>\n",
              "      <th>59</th>\n",
              "    </tr>\n",
              "  </thead>\n",
              "  <tbody>\n",
              "    <tr>\n",
              "      <th>count</th>\n",
              "      <td>208.000000</td>\n",
              "      <td>208.000000</td>\n",
              "      <td>208.000000</td>\n",
              "      <td>208.000000</td>\n",
              "      <td>208.000000</td>\n",
              "      <td>208.000000</td>\n",
              "      <td>208.000000</td>\n",
              "      <td>208.000000</td>\n",
              "      <td>208.000000</td>\n",
              "      <td>208.000000</td>\n",
              "      <td>208.000000</td>\n",
              "      <td>208.000000</td>\n",
              "      <td>208.000000</td>\n",
              "      <td>208.000000</td>\n",
              "      <td>208.000000</td>\n",
              "      <td>208.000000</td>\n",
              "      <td>208.000000</td>\n",
              "      <td>208.000000</td>\n",
              "      <td>208.000000</td>\n",
              "      <td>208.000000</td>\n",
              "      <td>208.000000</td>\n",
              "      <td>208.000000</td>\n",
              "      <td>208.000000</td>\n",
              "      <td>208.000000</td>\n",
              "      <td>208.000000</td>\n",
              "      <td>208.000000</td>\n",
              "      <td>208.000000</td>\n",
              "      <td>208.000000</td>\n",
              "      <td>208.000000</td>\n",
              "      <td>208.000000</td>\n",
              "      <td>208.000000</td>\n",
              "      <td>208.000000</td>\n",
              "      <td>208.000000</td>\n",
              "      <td>208.000000</td>\n",
              "      <td>208.000000</td>\n",
              "      <td>208.000000</td>\n",
              "      <td>208.000000</td>\n",
              "      <td>208.000000</td>\n",
              "      <td>208.000000</td>\n",
              "      <td>208.000000</td>\n",
              "      <td>208.000000</td>\n",
              "      <td>208.000000</td>\n",
              "      <td>208.000000</td>\n",
              "      <td>208.000000</td>\n",
              "      <td>208.000000</td>\n",
              "      <td>208.000000</td>\n",
              "      <td>208.000000</td>\n",
              "      <td>208.000000</td>\n",
              "      <td>208.000000</td>\n",
              "      <td>208.000000</td>\n",
              "      <td>208.000000</td>\n",
              "      <td>208.000000</td>\n",
              "      <td>208.000000</td>\n",
              "      <td>208.000000</td>\n",
              "      <td>208.000000</td>\n",
              "      <td>208.000000</td>\n",
              "      <td>208.000000</td>\n",
              "      <td>208.000000</td>\n",
              "      <td>208.000000</td>\n",
              "      <td>208.000000</td>\n",
              "    </tr>\n",
              "    <tr>\n",
              "      <th>mean</th>\n",
              "      <td>0.204011</td>\n",
              "      <td>0.162180</td>\n",
              "      <td>0.139068</td>\n",
              "      <td>0.114342</td>\n",
              "      <td>0.173732</td>\n",
              "      <td>0.253615</td>\n",
              "      <td>0.320472</td>\n",
              "      <td>0.285114</td>\n",
              "      <td>0.252485</td>\n",
              "      <td>0.281652</td>\n",
              "      <td>0.293652</td>\n",
              "      <td>0.332094</td>\n",
              "      <td>0.366929</td>\n",
              "      <td>0.277682</td>\n",
              "      <td>0.318088</td>\n",
              "      <td>0.368702</td>\n",
              "      <td>0.394864</td>\n",
              "      <td>0.430980</td>\n",
              "      <td>0.479078</td>\n",
              "      <td>0.532370</td>\n",
              "      <td>0.587964</td>\n",
              "      <td>0.615862</td>\n",
              "      <td>0.625914</td>\n",
              "      <td>0.664639</td>\n",
              "      <td>0.667442</td>\n",
              "      <td>0.669420</td>\n",
              "      <td>0.687105</td>\n",
              "      <td>0.685080</td>\n",
              "      <td>0.636845</td>\n",
              "      <td>0.553561</td>\n",
              "      <td>0.497303</td>\n",
              "      <td>0.447810</td>\n",
              "      <td>0.388029</td>\n",
              "      <td>0.404911</td>\n",
              "      <td>0.378717</td>\n",
              "      <td>0.379887</td>\n",
              "      <td>0.359399</td>\n",
              "      <td>0.313359</td>\n",
              "      <td>0.304343</td>\n",
              "      <td>0.326260</td>\n",
              "      <td>0.293285</td>\n",
              "      <td>0.332959</td>\n",
              "      <td>0.318818</td>\n",
              "      <td>0.275799</td>\n",
              "      <td>0.280398</td>\n",
              "      <td>0.220284</td>\n",
              "      <td>0.221755</td>\n",
              "      <td>0.273807</td>\n",
              "      <td>0.262135</td>\n",
              "      <td>0.247564</td>\n",
              "      <td>0.160047</td>\n",
              "      <td>0.180031</td>\n",
              "      <td>0.265172</td>\n",
              "      <td>0.290669</td>\n",
              "      <td>0.197061</td>\n",
              "      <td>0.200555</td>\n",
              "      <td>0.213642</td>\n",
              "      <td>0.175035</td>\n",
              "      <td>0.216015</td>\n",
              "      <td>0.136425</td>\n",
              "    </tr>\n",
              "    <tr>\n",
              "      <th>std</th>\n",
              "      <td>0.169550</td>\n",
              "      <td>0.141277</td>\n",
              "      <td>0.126242</td>\n",
              "      <td>0.110623</td>\n",
              "      <td>0.140888</td>\n",
              "      <td>0.158843</td>\n",
              "      <td>0.167175</td>\n",
              "      <td>0.187767</td>\n",
              "      <td>0.175311</td>\n",
              "      <td>0.192215</td>\n",
              "      <td>0.188153</td>\n",
              "      <td>0.205264</td>\n",
              "      <td>0.202911</td>\n",
              "      <td>0.169614</td>\n",
              "      <td>0.206066</td>\n",
              "      <td>0.236770</td>\n",
              "      <td>0.273212</td>\n",
              "      <td>0.271719</td>\n",
              "      <td>0.271395</td>\n",
              "      <td>0.281092</td>\n",
              "      <td>0.271731</td>\n",
              "      <td>0.261612</td>\n",
              "      <td>0.265101</td>\n",
              "      <td>0.244971</td>\n",
              "      <td>0.250949</td>\n",
              "      <td>0.261293</td>\n",
              "      <td>0.258070</td>\n",
              "      <td>0.244122</td>\n",
              "      <td>0.243760</td>\n",
              "      <td>0.235165</td>\n",
              "      <td>0.233234</td>\n",
              "      <td>0.239538</td>\n",
              "      <td>0.216857</td>\n",
              "      <td>0.245089</td>\n",
              "      <td>0.265043</td>\n",
              "      <td>0.266251</td>\n",
              "      <td>0.262314</td>\n",
              "      <td>0.221455</td>\n",
              "      <td>0.209861</td>\n",
              "      <td>0.194620</td>\n",
              "      <td>0.198160</td>\n",
              "      <td>0.206017</td>\n",
              "      <td>0.179741</td>\n",
              "      <td>0.171722</td>\n",
              "      <td>0.215565</td>\n",
              "      <td>0.183678</td>\n",
              "      <td>0.157466</td>\n",
              "      <td>0.186932</td>\n",
              "      <td>0.181494</td>\n",
              "      <td>0.165637</td>\n",
              "      <td>0.119607</td>\n",
              "      <td>0.137432</td>\n",
              "      <td>0.183385</td>\n",
              "      <td>0.213474</td>\n",
              "      <td>0.160717</td>\n",
              "      <td>0.147080</td>\n",
              "      <td>0.164361</td>\n",
              "      <td>0.148051</td>\n",
              "      <td>0.170286</td>\n",
              "      <td>0.116190</td>\n",
              "    </tr>\n",
              "    <tr>\n",
              "      <th>min</th>\n",
              "      <td>0.000000</td>\n",
              "      <td>0.000000</td>\n",
              "      <td>0.000000</td>\n",
              "      <td>0.000000</td>\n",
              "      <td>0.000000</td>\n",
              "      <td>0.000000</td>\n",
              "      <td>0.000000</td>\n",
              "      <td>0.000000</td>\n",
              "      <td>0.000000</td>\n",
              "      <td>0.000000</td>\n",
              "      <td>0.000000</td>\n",
              "      <td>0.000000</td>\n",
              "      <td>0.000000</td>\n",
              "      <td>0.000000</td>\n",
              "      <td>0.000000</td>\n",
              "      <td>0.000000</td>\n",
              "      <td>0.000000</td>\n",
              "      <td>0.000000</td>\n",
              "      <td>0.000000</td>\n",
              "      <td>0.000000</td>\n",
              "      <td>0.000000</td>\n",
              "      <td>0.000000</td>\n",
              "      <td>0.000000</td>\n",
              "      <td>0.000000</td>\n",
              "      <td>0.000000</td>\n",
              "      <td>0.000000</td>\n",
              "      <td>0.000000</td>\n",
              "      <td>0.000000</td>\n",
              "      <td>0.000000</td>\n",
              "      <td>0.000000</td>\n",
              "      <td>0.000000</td>\n",
              "      <td>0.000000</td>\n",
              "      <td>0.000000</td>\n",
              "      <td>0.000000</td>\n",
              "      <td>0.000000</td>\n",
              "      <td>0.000000</td>\n",
              "      <td>0.000000</td>\n",
              "      <td>0.000000</td>\n",
              "      <td>0.000000</td>\n",
              "      <td>0.000000</td>\n",
              "      <td>0.000000</td>\n",
              "      <td>0.000000</td>\n",
              "      <td>0.000000</td>\n",
              "      <td>0.000000</td>\n",
              "      <td>0.000000</td>\n",
              "      <td>0.000000</td>\n",
              "      <td>0.000000</td>\n",
              "      <td>0.000000</td>\n",
              "      <td>0.000000</td>\n",
              "      <td>0.000000</td>\n",
              "      <td>0.000000</td>\n",
              "      <td>0.000000</td>\n",
              "      <td>0.000000</td>\n",
              "      <td>0.000000</td>\n",
              "      <td>0.000000</td>\n",
              "      <td>0.000000</td>\n",
              "      <td>0.000000</td>\n",
              "      <td>0.000000</td>\n",
              "      <td>0.000000</td>\n",
              "      <td>0.000000</td>\n",
              "    </tr>\n",
              "    <tr>\n",
              "      <th>25%</th>\n",
              "      <td>0.087389</td>\n",
              "      <td>0.067938</td>\n",
              "      <td>0.057326</td>\n",
              "      <td>0.044163</td>\n",
              "      <td>0.079508</td>\n",
              "      <td>0.152714</td>\n",
              "      <td>0.209957</td>\n",
              "      <td>0.165215</td>\n",
              "      <td>0.132571</td>\n",
              "      <td>0.142964</td>\n",
              "      <td>0.142280</td>\n",
              "      <td>0.161013</td>\n",
              "      <td>0.212646</td>\n",
              "      <td>0.152496</td>\n",
              "      <td>0.162027</td>\n",
              "      <td>0.183289</td>\n",
              "      <td>0.177132</td>\n",
              "      <td>0.212545</td>\n",
              "      <td>0.262650</td>\n",
              "      <td>0.305035</td>\n",
              "      <td>0.367332</td>\n",
              "      <td>0.393646</td>\n",
              "      <td>0.417426</td>\n",
              "      <td>0.529480</td>\n",
              "      <td>0.514139</td>\n",
              "      <td>0.497935</td>\n",
              "      <td>0.508247</td>\n",
              "      <td>0.521176</td>\n",
              "      <td>0.455864</td>\n",
              "      <td>0.372963</td>\n",
              "      <td>0.324087</td>\n",
              "      <td>0.270726</td>\n",
              "      <td>0.220703</td>\n",
              "      <td>0.208135</td>\n",
              "      <td>0.160658</td>\n",
              "      <td>0.147530</td>\n",
              "      <td>0.136672</td>\n",
              "      <td>0.141390</td>\n",
              "      <td>0.144292</td>\n",
              "      <td>0.190359</td>\n",
              "      <td>0.147192</td>\n",
              "      <td>0.187179</td>\n",
              "      <td>0.200698</td>\n",
              "      <td>0.163457</td>\n",
              "      <td>0.134312</td>\n",
              "      <td>0.094007</td>\n",
              "      <td>0.116353</td>\n",
              "      <td>0.135145</td>\n",
              "      <td>0.133014</td>\n",
              "      <td>0.140000</td>\n",
              "      <td>0.083914</td>\n",
              "      <td>0.092368</td>\n",
              "      <td>0.118831</td>\n",
              "      <td>0.127924</td>\n",
              "      <td>0.080499</td>\n",
              "      <td>0.102564</td>\n",
              "      <td>0.096591</td>\n",
              "      <td>0.075515</td>\n",
              "      <td>0.098485</td>\n",
              "      <td>0.057737</td>\n",
              "    </tr>\n",
              "    <tr>\n",
              "      <th>50%</th>\n",
              "      <td>0.157080</td>\n",
              "      <td>0.129447</td>\n",
              "      <td>0.107753</td>\n",
              "      <td>0.090942</td>\n",
              "      <td>0.141517</td>\n",
              "      <td>0.220236</td>\n",
              "      <td>0.280438</td>\n",
              "      <td>0.235061</td>\n",
              "      <td>0.214349</td>\n",
              "      <td>0.244673</td>\n",
              "      <td>0.277754</td>\n",
              "      <td>0.330378</td>\n",
              "      <td>0.353462</td>\n",
              "      <td>0.261730</td>\n",
              "      <td>0.279466</td>\n",
              "      <td>0.293609</td>\n",
              "      <td>0.283390</td>\n",
              "      <td>0.343688</td>\n",
              "      <td>0.405586</td>\n",
              "      <td>0.510381</td>\n",
              "      <td>0.597070</td>\n",
              "      <td>0.657397</td>\n",
              "      <td>0.681784</td>\n",
              "      <td>0.691118</td>\n",
              "      <td>0.714242</td>\n",
              "      <td>0.729596</td>\n",
              "      <td>0.732745</td>\n",
              "      <td>0.724063</td>\n",
              "      <td>0.676136</td>\n",
              "      <td>0.581496</td>\n",
              "      <td>0.481907</td>\n",
              "      <td>0.437205</td>\n",
              "      <td>0.360706</td>\n",
              "      <td>0.349603</td>\n",
              "      <td>0.297075</td>\n",
              "      <td>0.315675</td>\n",
              "      <td>0.296523</td>\n",
              "      <td>0.285328</td>\n",
              "      <td>0.259751</td>\n",
              "      <td>0.290142</td>\n",
              "      <td>0.258830</td>\n",
              "      <td>0.292430</td>\n",
              "      <td>0.287793</td>\n",
              "      <td>0.228936</td>\n",
              "      <td>0.210407</td>\n",
              "      <td>0.166415</td>\n",
              "      <td>0.184082</td>\n",
              "      <td>0.233902</td>\n",
              "      <td>0.225644</td>\n",
              "      <td>0.216970</td>\n",
              "      <td>0.138446</td>\n",
              "      <td>0.151213</td>\n",
              "      <td>0.235065</td>\n",
              "      <td>0.242690</td>\n",
              "      <td>0.156463</td>\n",
              "      <td>0.165385</td>\n",
              "      <td>0.160511</td>\n",
              "      <td>0.125858</td>\n",
              "      <td>0.173554</td>\n",
              "      <td>0.108545</td>\n",
              "    </tr>\n",
              "    <tr>\n",
              "      <th>75%</th>\n",
              "      <td>0.251106</td>\n",
              "      <td>0.202958</td>\n",
              "      <td>0.185447</td>\n",
              "      <td>0.139563</td>\n",
              "      <td>0.237319</td>\n",
              "      <td>0.333042</td>\n",
              "      <td>0.407738</td>\n",
              "      <td>0.361852</td>\n",
              "      <td>0.334555</td>\n",
              "      <td>0.368082</td>\n",
              "      <td>0.386715</td>\n",
              "      <td>0.450835</td>\n",
              "      <td>0.479128</td>\n",
              "      <td>0.370089</td>\n",
              "      <td>0.451224</td>\n",
              "      <td>0.528725</td>\n",
              "      <td>0.647109</td>\n",
              "      <td>0.666545</td>\n",
              "      <td>0.717442</td>\n",
              "      <td>0.795939</td>\n",
              "      <td>0.807098</td>\n",
              "      <td>0.828213</td>\n",
              "      <td>0.839541</td>\n",
              "      <td>0.869045</td>\n",
              "      <td>0.870620</td>\n",
              "      <td>0.883027</td>\n",
              "      <td>0.912911</td>\n",
              "      <td>0.897360</td>\n",
              "      <td>0.849964</td>\n",
              "      <td>0.717881</td>\n",
              "      <td>0.647139</td>\n",
              "      <td>0.606493</td>\n",
              "      <td>0.533892</td>\n",
              "      <td>0.609353</td>\n",
              "      <td>0.584075</td>\n",
              "      <td>0.552949</td>\n",
              "      <td>0.528974</td>\n",
              "      <td>0.418270</td>\n",
              "      <td>0.419355</td>\n",
              "      <td>0.449510</td>\n",
              "      <td>0.407093</td>\n",
              "      <td>0.462332</td>\n",
              "      <td>0.419662</td>\n",
              "      <td>0.350103</td>\n",
              "      <td>0.329187</td>\n",
              "      <td>0.274787</td>\n",
              "      <td>0.279654</td>\n",
              "      <td>0.359689</td>\n",
              "      <td>0.345911</td>\n",
              "      <td>0.306364</td>\n",
              "      <td>0.207420</td>\n",
              "      <td>0.227175</td>\n",
              "      <td>0.374026</td>\n",
              "      <td>0.394737</td>\n",
              "      <td>0.260771</td>\n",
              "      <td>0.260897</td>\n",
              "      <td>0.287642</td>\n",
              "      <td>0.229977</td>\n",
              "      <td>0.281680</td>\n",
              "      <td>0.183025</td>\n",
              "    </tr>\n",
              "    <tr>\n",
              "      <th>max</th>\n",
              "      <td>1.000000</td>\n",
              "      <td>1.000000</td>\n",
              "      <td>1.000000</td>\n",
              "      <td>1.000000</td>\n",
              "      <td>1.000000</td>\n",
              "      <td>1.000000</td>\n",
              "      <td>1.000000</td>\n",
              "      <td>1.000000</td>\n",
              "      <td>1.000000</td>\n",
              "      <td>1.000000</td>\n",
              "      <td>1.000000</td>\n",
              "      <td>1.000000</td>\n",
              "      <td>1.000000</td>\n",
              "      <td>1.000000</td>\n",
              "      <td>1.000000</td>\n",
              "      <td>1.000000</td>\n",
              "      <td>1.000000</td>\n",
              "      <td>1.000000</td>\n",
              "      <td>1.000000</td>\n",
              "      <td>1.000000</td>\n",
              "      <td>1.000000</td>\n",
              "      <td>1.000000</td>\n",
              "      <td>1.000000</td>\n",
              "      <td>1.000000</td>\n",
              "      <td>1.000000</td>\n",
              "      <td>1.000000</td>\n",
              "      <td>1.000000</td>\n",
              "      <td>1.000000</td>\n",
              "      <td>1.000000</td>\n",
              "      <td>1.000000</td>\n",
              "      <td>1.000000</td>\n",
              "      <td>1.000000</td>\n",
              "      <td>1.000000</td>\n",
              "      <td>1.000000</td>\n",
              "      <td>1.000000</td>\n",
              "      <td>1.000000</td>\n",
              "      <td>1.000000</td>\n",
              "      <td>1.000000</td>\n",
              "      <td>1.000000</td>\n",
              "      <td>1.000000</td>\n",
              "      <td>1.000000</td>\n",
              "      <td>1.000000</td>\n",
              "      <td>1.000000</td>\n",
              "      <td>1.000000</td>\n",
              "      <td>1.000000</td>\n",
              "      <td>1.000000</td>\n",
              "      <td>1.000000</td>\n",
              "      <td>1.000000</td>\n",
              "      <td>1.000000</td>\n",
              "      <td>1.000000</td>\n",
              "      <td>1.000000</td>\n",
              "      <td>1.000000</td>\n",
              "      <td>1.000000</td>\n",
              "      <td>1.000000</td>\n",
              "      <td>1.000000</td>\n",
              "      <td>1.000000</td>\n",
              "      <td>1.000000</td>\n",
              "      <td>1.000000</td>\n",
              "      <td>1.000000</td>\n",
              "      <td>1.000000</td>\n",
              "    </tr>\n",
              "  </tbody>\n",
              "</table>\n",
              "</div>"
            ],
            "text/plain": [
              "               0           1           2   ...          57          58          59\n",
              "count  208.000000  208.000000  208.000000  ...  208.000000  208.000000  208.000000\n",
              "mean     0.204011    0.162180    0.139068  ...    0.175035    0.216015    0.136425\n",
              "std      0.169550    0.141277    0.126242  ...    0.148051    0.170286    0.116190\n",
              "min      0.000000    0.000000    0.000000  ...    0.000000    0.000000    0.000000\n",
              "25%      0.087389    0.067938    0.057326  ...    0.075515    0.098485    0.057737\n",
              "50%      0.157080    0.129447    0.107753  ...    0.125858    0.173554    0.108545\n",
              "75%      0.251106    0.202958    0.185447  ...    0.229977    0.281680    0.183025\n",
              "max      1.000000    1.000000    1.000000  ...    1.000000    1.000000    1.000000\n",
              "\n",
              "[8 rows x 60 columns]"
            ]
          },
          "metadata": {
            "tags": []
          },
          "execution_count": 7
        }
      ]
    },
    {
      "cell_type": "code",
      "metadata": {
        "id": "XjHL_73lDdLU"
      },
      "source": [
        "dataframe = dataframe2"
      ],
      "execution_count": null,
      "outputs": []
    },
    {
      "cell_type": "code",
      "metadata": {
        "id": "S7JfrGkr0v5C"
      },
      "source": [
        "X = dataframe.drop('Class', inplace = False, axis = 1)"
      ],
      "execution_count": null,
      "outputs": []
    },
    {
      "cell_type": "code",
      "metadata": {
        "id": "Jss_-rEcGya9"
      },
      "source": [
        "y = dataframe['Class']\n",
        "temp = []\n",
        "for i in range(len(y)):\n",
        "    if y[i] == 'R':\n",
        "        temp.append(1)\n",
        "    else:\n",
        "        temp.append(0)\n",
        "y = temp\n",
        "y = pd.Series(y)"
      ],
      "execution_count": null,
      "outputs": []
    },
    {
      "cell_type": "markdown",
      "metadata": {
        "id": "5qUvQ5DCrFTD"
      },
      "source": [
        "## Train and Test Spliting"
      ]
    },
    {
      "cell_type": "code",
      "metadata": {
        "id": "i8wuo-TzzWo3"
      },
      "source": [
        "X_train, X_test, y_train, y_test = train_test_split(X, y, test_size = 0.20, random_state = 7)"
      ],
      "execution_count": null,
      "outputs": []
    },
    {
      "cell_type": "markdown",
      "metadata": {
        "id": "qPFQ62lGzDEx"
      },
      "source": [
        "## Preprocess:"
      ]
    },
    {
      "cell_type": "code",
      "metadata": {
        "colab": {
          "base_uri": "https://localhost:8080/"
        },
        "id": "zReBdxrNx07c",
        "outputId": "f8d6dc54-466f-40f6-9a91-15e6abc528dd"
      },
      "source": [
        "print('Training data shape : ', X_train.shape, y_train.shape)\n",
        "print('Testing data shape : ', X_test.shape, y_test.shape)"
      ],
      "execution_count": null,
      "outputs": [
        {
          "output_type": "stream",
          "text": [
            "Training data shape :  (166, 60) (166,)\n",
            "Testing data shape :  (42, 60) (42,)\n"
          ],
          "name": "stdout"
        }
      ]
    },
    {
      "cell_type": "code",
      "metadata": {
        "id": "xP8hXeunKBUN"
      },
      "source": [
        "Y_train = np_utils.to_categorical(y_train)\n",
        "Y_test = np_utils.to_categorical(y_test)"
      ],
      "execution_count": null,
      "outputs": []
    },
    {
      "cell_type": "markdown",
      "metadata": {
        "id": "_xx5PBBPrLz2"
      },
      "source": [
        "## Model Definition"
      ]
    },
    {
      "cell_type": "code",
      "metadata": {
        "colab": {
          "base_uri": "https://localhost:8080/"
        },
        "id": "c33C-eboBC2e",
        "outputId": "22f85695-163c-404f-8045-25652f9c781c"
      },
      "source": [
        "model = Sequential()\n",
        "model.add(Dense(512, activation = 'relu', input_shape = (60,)))\t#Hidden Layer 1\n",
        "model.add(Dense(512, activation = 'relu'))\t#Hidden Layer 2\n",
        "model.add(Dense(2, activation = 'softmax')) #Last layer with one output per class\n",
        "model.summary()\n",
        "\n",
        "model.compile(loss = 'categorical_crossentropy', optimizer = 'adam', metrics = ['accuracy'])"
      ],
      "execution_count": null,
      "outputs": [
        {
          "output_type": "stream",
          "text": [
            "Model: \"sequential_11\"\n",
            "_________________________________________________________________\n",
            "Layer (type)                 Output Shape              Param #   \n",
            "=================================================================\n",
            "dense_33 (Dense)             (None, 512)               31232     \n",
            "_________________________________________________________________\n",
            "dense_34 (Dense)             (None, 512)               262656    \n",
            "_________________________________________________________________\n",
            "dense_35 (Dense)             (None, 2)                 1026      \n",
            "=================================================================\n",
            "Total params: 294,914\n",
            "Trainable params: 294,914\n",
            "Non-trainable params: 0\n",
            "_________________________________________________________________\n"
          ],
          "name": "stdout"
        }
      ]
    },
    {
      "cell_type": "markdown",
      "metadata": {
        "id": "3wWe_bJUrPma"
      },
      "source": [
        "## Fitting Model to Train Set"
      ]
    },
    {
      "cell_type": "code",
      "metadata": {
        "colab": {
          "base_uri": "https://localhost:8080/"
        },
        "id": "2yf9ojDYBC47",
        "outputId": "68b4af0e-97f3-43b0-91b4-9ec78b43895e"
      },
      "source": [
        "history = model.fit(X_train, Y_train, epochs = 18, batch_size = 32, validation_split = 0.2) \t"
      ],
      "execution_count": null,
      "outputs": [
        {
          "output_type": "stream",
          "text": [
            "Epoch 1/18\n",
            "5/5 [==============================] - 1s 85ms/step - loss: 0.6930 - accuracy: 0.5497 - val_loss: 0.6775 - val_accuracy: 0.5294\n",
            "Epoch 2/18\n",
            "5/5 [==============================] - 0s 14ms/step - loss: 0.6381 - accuracy: 0.5677 - val_loss: 0.5476 - val_accuracy: 0.7941\n",
            "Epoch 3/18\n",
            "5/5 [==============================] - 0s 13ms/step - loss: 0.6132 - accuracy: 0.6599 - val_loss: 0.5526 - val_accuracy: 0.6765\n",
            "Epoch 4/18\n",
            "5/5 [==============================] - 0s 12ms/step - loss: 0.5467 - accuracy: 0.7595 - val_loss: 0.5570 - val_accuracy: 0.7059\n",
            "Epoch 5/18\n",
            "5/5 [==============================] - 0s 12ms/step - loss: 0.4656 - accuracy: 0.7224 - val_loss: 0.5066 - val_accuracy: 0.7353\n",
            "Epoch 6/18\n",
            "5/5 [==============================] - 0s 13ms/step - loss: 0.4425 - accuracy: 0.8508 - val_loss: 0.4753 - val_accuracy: 0.7647\n",
            "Epoch 7/18\n",
            "5/5 [==============================] - 0s 13ms/step - loss: 0.4223 - accuracy: 0.7714 - val_loss: 0.4514 - val_accuracy: 0.8235\n",
            "Epoch 8/18\n",
            "5/5 [==============================] - 0s 12ms/step - loss: 0.3983 - accuracy: 0.8239 - val_loss: 0.4624 - val_accuracy: 0.8235\n",
            "Epoch 9/18\n",
            "5/5 [==============================] - 0s 12ms/step - loss: 0.3450 - accuracy: 0.8540 - val_loss: 0.5432 - val_accuracy: 0.7353\n",
            "Epoch 10/18\n",
            "5/5 [==============================] - 0s 14ms/step - loss: 0.3467 - accuracy: 0.7944 - val_loss: 0.4322 - val_accuracy: 0.7941\n",
            "Epoch 11/18\n",
            "5/5 [==============================] - 0s 14ms/step - loss: 0.3237 - accuracy: 0.8519 - val_loss: 0.4252 - val_accuracy: 0.8529\n",
            "Epoch 12/18\n",
            "5/5 [==============================] - 0s 14ms/step - loss: 0.2481 - accuracy: 0.8990 - val_loss: 0.4420 - val_accuracy: 0.8529\n",
            "Epoch 13/18\n",
            "5/5 [==============================] - 0s 12ms/step - loss: 0.2650 - accuracy: 0.8859 - val_loss: 0.4325 - val_accuracy: 0.8529\n",
            "Epoch 14/18\n",
            "5/5 [==============================] - 0s 12ms/step - loss: 0.2152 - accuracy: 0.9378 - val_loss: 0.4741 - val_accuracy: 0.8235\n",
            "Epoch 15/18\n",
            "5/5 [==============================] - 0s 13ms/step - loss: 0.1940 - accuracy: 0.9477 - val_loss: 0.4065 - val_accuracy: 0.8529\n",
            "Epoch 16/18\n",
            "5/5 [==============================] - 0s 13ms/step - loss: 0.1614 - accuracy: 0.9464 - val_loss: 0.5456 - val_accuracy: 0.7353\n",
            "Epoch 17/18\n",
            "5/5 [==============================] - 0s 14ms/step - loss: 0.2006 - accuracy: 0.9275 - val_loss: 0.5060 - val_accuracy: 0.7353\n",
            "Epoch 18/18\n",
            "5/5 [==============================] - 0s 14ms/step - loss: 0.2269 - accuracy: 0.8666 - val_loss: 0.5593 - val_accuracy: 0.7647\n"
          ],
          "name": "stdout"
        }
      ]
    },
    {
      "cell_type": "markdown",
      "metadata": {
        "id": "R68J1WKOrVX-"
      },
      "source": [
        "## Ploting Results"
      ]
    },
    {
      "cell_type": "code",
      "metadata": {
        "colab": {
          "base_uri": "https://localhost:8080/",
          "height": 295
        },
        "id": "aHSwBwFbBC67",
        "outputId": "f3ec0e97-6930-43dc-c455-fbb77451e68d"
      },
      "source": [
        "fig = plt.figure()\n",
        "plt.plot(history.history['accuracy'],'r')\n",
        "plt.plot(history.history['val_accuracy'],'b')\n",
        "plt.title('model accuracy')\n",
        "plt.ylabel('accuracy')\n",
        "plt.xlabel('epoch')\n",
        "plt.legend(['train', 'validation'], loc='lower right')\n",
        "plt.grid()"
      ],
      "execution_count": null,
      "outputs": [
        {
          "output_type": "display_data",
          "data": {
            "image/png": "[encoded data removed]",
            "text/plain": [
              "<Figure size 432x288 with 1 Axes>"
            ]
          },
          "metadata": {
            "tags": [],
            "needs_background": "light"
          }
        }
      ]
    },
    {
      "cell_type": "code",
      "metadata": {
        "colab": {
          "base_uri": "https://localhost:8080/",
          "height": 295
        },
        "id": "lTMHKN6LBC9E",
        "outputId": "2c9622bc-9439-47bd-d55b-0a3c144479f7"
      },
      "source": [
        "fig = plt.figure()\n",
        "plt.plot(history.history['loss'], 'r')\n",
        "plt.plot(history.history['val_loss'], 'b')\n",
        "plt.title('model loss')\n",
        "plt.ylabel('loss')\n",
        "plt.xlabel('epoch')\n",
        "plt.legend(['train', 'validation'], loc = 'upper right')\n",
        "plt.grid()"
      ],
      "execution_count": null,
      "outputs": [
        {
          "output_type": "display_data",
          "data": {
            "image/png": "[encoded data removed]",
            "text/plain": [
              "<Figure size 432x288 with 1 Axes>"
            ]
          },
          "metadata": {
            "tags": [],
            "needs_background": "light"
          }
        }
      ]
    },
    {
      "cell_type": "markdown",
      "metadata": {
        "id": "vzwefbYjrYdl"
      },
      "source": [
        "## Prediction on Test Set"
      ]
    },
    {
      "cell_type": "code",
      "metadata": {
        "id": "FirBo2QhBC_G",
        "colab": {
          "base_uri": "https://localhost:8080/"
        },
        "outputId": "580d9840-1462-4550-b84d-0f77261cb77f"
      },
      "source": [
        "Y_pred = model.predict(X_test)\n",
        "y_pred = np.argmax(Y_pred, axis = 1)"
      ],
      "execution_count": null,
      "outputs": [
        {
          "output_type": "stream",
          "text": [
            "WARNING:tensorflow:5 out of the last 11 calls to <function Model.make_predict_function.<locals>.predict_function at 0x7f860d05d4d0> triggered tf.function retracing. Tracing is expensive and the excessive number of tracings could be due to (1) creating @tf.function repeatedly in a loop, (2) passing tensors with different shapes, (3) passing Python objects instead of tensors. For (1), please define your @tf.function outside of the loop. For (2), @tf.function has experimental_relax_shapes=True option that relaxes argument shapes that can avoid unnecessary retracing. For (3), please refer to https://www.tensorflow.org/guide/function#controlling_retracing and https://www.tensorflow.org/api_docs/python/tf/function for  more details.\n"
          ],
          "name": "stdout"
        }
      ]
    },
    {
      "cell_type": "code",
      "metadata": {
        "colab": {
          "base_uri": "https://localhost:8080/"
        },
        "id": "gg0kqS1oHf3R",
        "outputId": "5be38e39-7d73-4002-d4bc-3520926714cb"
      },
      "source": [
        "[test_loss, test_acc] = model.evaluate(X_test, Y_test)\n",
        "print(\"Test Loss\", test_loss)\n",
        "print(\"Test Accuracy\", test_acc)"
      ],
      "execution_count": null,
      "outputs": [
        {
          "output_type": "stream",
          "text": [
            "2/2 [==============================] - 0s 8ms/step - loss: 0.3263 - accuracy: 0.8571\n",
            "Test Loss 0.32633528113365173\n",
            "Test Accuracy 0.8571428656578064\n"
          ],
          "name": "stdout"
        }
      ]
    },
    {
      "cell_type": "code",
      "metadata": {
        "colab": {
          "base_uri": "https://localhost:8080/"
        },
        "id": "kTtSpn8QHoQe",
        "outputId": "1e379482-412e-455b-9714-244dd00b20e9"
      },
      "source": [
        "class_names = [0, 1]\n",
        "confusion_mtx = confusion_matrix(y_test, y_pred)\n",
        "print(\"confusion matrix=\\n\", confusion_mtx)"
      ],
      "execution_count": null,
      "outputs": [
        {
          "output_type": "stream",
          "text": [
            "confusion matrix=\n",
            " [[26  1]\n",
            " [ 5 10]]\n"
          ],
          "name": "stdout"
        }
      ]
    },
    {
      "cell_type": "code",
      "metadata": {
        "colab": {
          "base_uri": "https://localhost:8080/",
          "height": 369
        },
        "id": "0UPQpItrHqTn",
        "outputId": "df75d3ef-217b-45cd-8d95-b1a070936ff2"
      },
      "source": [
        "def plot_confusion_matrix(cm, classes,\n",
        "                          normalize=False,\n",
        "                          title='Confusion matrix',\n",
        "                          cmap=plt.cm.Blues):\n",
        "    \"\"\"\n",
        "    This function prints and plots the confusion matrix.\n",
        "    Normalization can be applied by setting `normalize=True`.\n",
        "    \"\"\"\n",
        "    plt.figure(figsize = (5,5))\n",
        "    plt.imshow(cm, interpolation='nearest', cmap=cmap)\n",
        "    plt.title(title)\n",
        "    plt.colorbar()\n",
        "    tick_marks = np.arange(len(classes))\n",
        "    plt.xticks(tick_marks, classes)\n",
        "    plt.yticks(tick_marks, classes)\n",
        "    if normalize:\n",
        "        cm = cm.astype('float') / cm.sum(axis=1)[:, np.newaxis]\n",
        "\n",
        "    thresh = cm.max() / 2.\n",
        "    for i, j in itertools.product(range(cm.shape[0]), range(cm.shape[1])):\n",
        "        plt.text(j, i, cm[i, j],\n",
        "                 horizontalalignment=\"center\",\n",
        "                 color=\"white\" if cm[i, j] > thresh else \"black\")\n",
        "    plt.tight_layout()\n",
        "    plt.ylabel('True label')\n",
        "    plt.xlabel('Predicted label')\n",
        "    \n",
        "plot_confusion_matrix(confusion_mtx, class_names)    "
      ],
      "execution_count": null,
      "outputs": [
        {
          "output_type": "display_data",
          "data": {
            "image/png": "[encoded data removed]",
            "text/plain": [
              "<Figure size 360x360 with 2 Axes>"
            ]
          },
          "metadata": {
            "tags": [],
            "needs_background": "light"
          }
        }
      ]
    },
    {
      "cell_type": "code",
      "metadata": {
        "colab": {
          "base_uri": "https://localhost:8080/"
        },
        "id": "BRI2hS_rHqVx",
        "outputId": "2b47e3c3-f357-409c-cef9-d0513ef67863"
      },
      "source": [
        "print(classification_report(y_test, y_pred))"
      ],
      "execution_count": null,
      "outputs": [
        {
          "output_type": "stream",
          "text": [
            "              precision    recall  f1-score   support\n",
            "\n",
            "           0       0.84      0.96      0.90        27\n",
            "           1       0.91      0.67      0.77        15\n",
            "\n",
            "    accuracy                           0.86        42\n",
            "   macro avg       0.87      0.81      0.83        42\n",
            "weighted avg       0.86      0.86      0.85        42\n",
            "\n"
          ],
          "name": "stdout"
        }
      ]
    },
    {
      "cell_type": "markdown",
      "metadata": {
        "id": "hT4A6aeZrh12"
      },
      "source": [
        "## Mean Squared Error as Loss Function"
      ]
    },
    {
      "cell_type": "code",
      "metadata": {
        "colab": {
          "base_uri": "https://localhost:8080/"
        },
        "id": "JPW_edyFlwsQ",
        "outputId": "4a4d0c44-b08a-4010-ca14-179c224b9a7b"
      },
      "source": [
        "model = Sequential()\n",
        "model.add(Dense(512, activation = 'relu', input_shape = (60,)))\n",
        "model.add(Dense(512, activation = 'relu'))\n",
        "model.add(Dense(2, activation = 'softmax'))\n",
        "model.summary()\n",
        "model.compile(loss = 'mean_squared_error', optimizer = 'adam', metrics = ['accuracy'])"
      ],
      "execution_count": null,
      "outputs": [
        {
          "output_type": "stream",
          "text": [
            "Model: \"sequential_5\"\n",
            "_________________________________________________________________\n",
            "Layer (type)                 Output Shape              Param #   \n",
            "=================================================================\n",
            "dense_15 (Dense)             (None, 512)               31232     \n",
            "_________________________________________________________________\n",
            "dense_16 (Dense)             (None, 512)               262656    \n",
            "_________________________________________________________________\n",
            "dense_17 (Dense)             (None, 2)                 1026      \n",
            "=================================================================\n",
            "Total params: 294,914\n",
            "Trainable params: 294,914\n",
            "Non-trainable params: 0\n",
            "_________________________________________________________________\n"
          ],
          "name": "stdout"
        }
      ]
    },
    {
      "cell_type": "code",
      "metadata": {
        "colab": {
          "base_uri": "https://localhost:8080/"
        },
        "id": "yzAcHyMzlw1f",
        "outputId": "fc80df61-bc26-4332-9227-214d310db44f"
      },
      "source": [
        "history = model.fit(X_train, Y_train, epochs = 25, batch_size = 32, validation_split = 0.2) \t"
      ],
      "execution_count": null,
      "outputs": [
        {
          "output_type": "stream",
          "text": [
            "Epoch 1/25\n",
            "5/5 [==============================] - 1s 52ms/step - loss: 0.2617 - accuracy: 0.5495 - val_loss: 0.2321 - val_accuracy: 0.5000\n",
            "Epoch 2/25\n",
            "5/5 [==============================] - 0s 11ms/step - loss: 0.2275 - accuracy: 0.5845 - val_loss: 0.2180 - val_accuracy: 0.6176\n",
            "Epoch 3/25\n",
            "5/5 [==============================] - 0s 11ms/step - loss: 0.1958 - accuracy: 0.6496 - val_loss: 0.1775 - val_accuracy: 0.7941\n",
            "Epoch 4/25\n",
            "5/5 [==============================] - 0s 10ms/step - loss: 0.1576 - accuracy: 0.8092 - val_loss: 0.1667 - val_accuracy: 0.7353\n",
            "Epoch 5/25\n",
            "5/5 [==============================] - 0s 9ms/step - loss: 0.1549 - accuracy: 0.6955 - val_loss: 0.1647 - val_accuracy: 0.7353\n",
            "Epoch 6/25\n",
            "5/5 [==============================] - 0s 9ms/step - loss: 0.1336 - accuracy: 0.8541 - val_loss: 0.1935 - val_accuracy: 0.7059\n",
            "Epoch 7/25\n",
            "5/5 [==============================] - 0s 9ms/step - loss: 0.1379 - accuracy: 0.8283 - val_loss: 0.1559 - val_accuracy: 0.7941\n",
            "Epoch 8/25\n",
            "5/5 [==============================] - 0s 9ms/step - loss: 0.1280 - accuracy: 0.7973 - val_loss: 0.1468 - val_accuracy: 0.8529\n",
            "Epoch 9/25\n",
            "5/5 [==============================] - 0s 11ms/step - loss: 0.1113 - accuracy: 0.8435 - val_loss: 0.1480 - val_accuracy: 0.7353\n",
            "Epoch 10/25\n",
            "5/5 [==============================] - 0s 9ms/step - loss: 0.1211 - accuracy: 0.8091 - val_loss: 0.1364 - val_accuracy: 0.8235\n",
            "Epoch 11/25\n",
            "5/5 [==============================] - 0s 9ms/step - loss: 0.0871 - accuracy: 0.8990 - val_loss: 0.1600 - val_accuracy: 0.7059\n",
            "Epoch 12/25\n",
            "5/5 [==============================] - 0s 10ms/step - loss: 0.1072 - accuracy: 0.8394 - val_loss: 0.1404 - val_accuracy: 0.8235\n",
            "Epoch 13/25\n",
            "5/5 [==============================] - 0s 9ms/step - loss: 0.0835 - accuracy: 0.9037 - val_loss: 0.1296 - val_accuracy: 0.8235\n",
            "Epoch 14/25\n",
            "5/5 [==============================] - 0s 9ms/step - loss: 0.0673 - accuracy: 0.9236 - val_loss: 0.1177 - val_accuracy: 0.8529\n",
            "Epoch 15/25\n",
            "5/5 [==============================] - 0s 9ms/step - loss: 0.0639 - accuracy: 0.9049 - val_loss: 0.1171 - val_accuracy: 0.8824\n",
            "Epoch 16/25\n",
            "5/5 [==============================] - 0s 11ms/step - loss: 0.0644 - accuracy: 0.9355 - val_loss: 0.1168 - val_accuracy: 0.8824\n",
            "Epoch 17/25\n",
            "5/5 [==============================] - 0s 9ms/step - loss: 0.0542 - accuracy: 0.9639 - val_loss: 0.1241 - val_accuracy: 0.8235\n",
            "Epoch 18/25\n",
            "5/5 [==============================] - 0s 9ms/step - loss: 0.0480 - accuracy: 0.9499 - val_loss: 0.1615 - val_accuracy: 0.7353\n",
            "Epoch 19/25\n",
            "5/5 [==============================] - 0s 9ms/step - loss: 0.1034 - accuracy: 0.8131 - val_loss: 0.1198 - val_accuracy: 0.8235\n",
            "Epoch 20/25\n",
            "5/5 [==============================] - 0s 12ms/step - loss: 0.0550 - accuracy: 0.9269 - val_loss: 0.1205 - val_accuracy: 0.8235\n",
            "Epoch 21/25\n",
            "5/5 [==============================] - 0s 10ms/step - loss: 0.0599 - accuracy: 0.8889 - val_loss: 0.1282 - val_accuracy: 0.8529\n",
            "Epoch 22/25\n",
            "5/5 [==============================] - 0s 10ms/step - loss: 0.0514 - accuracy: 0.9484 - val_loss: 0.1021 - val_accuracy: 0.8824\n",
            "Epoch 23/25\n",
            "5/5 [==============================] - 0s 10ms/step - loss: 0.0355 - accuracy: 0.9830 - val_loss: 0.1054 - val_accuracy: 0.7941\n",
            "Epoch 24/25\n",
            "5/5 [==============================] - 0s 9ms/step - loss: 0.0348 - accuracy: 0.9841 - val_loss: 0.1119 - val_accuracy: 0.8529\n",
            "Epoch 25/25\n",
            "5/5 [==============================] - 0s 9ms/step - loss: 0.0324 - accuracy: 0.9717 - val_loss: 0.1280 - val_accuracy: 0.7647\n"
          ],
          "name": "stdout"
        }
      ]
    },
    {
      "cell_type": "code",
      "metadata": {
        "colab": {
          "base_uri": "https://localhost:8080/",
          "height": 295
        },
        "id": "3GWMINyCoXWU",
        "outputId": "dc79d93b-9fb7-474f-d057-511ae3093cd9"
      },
      "source": [
        "import matplotlib.pyplot as plt\n",
        "fig = plt.figure()\n",
        "plt.plot(history.history['accuracy'],'r')\n",
        "plt.plot(history.history['val_accuracy'],'b')\n",
        "plt.title('model accuracy')\n",
        "plt.ylabel('accuracy')\n",
        "plt.xlabel('epoch')\n",
        "plt.legend(['train', 'validation'], loc='lower right')\n",
        "plt.grid()"
      ],
      "execution_count": null,
      "outputs": [
        {
          "output_type": "display_data",
          "data": {
            "image/png": "[encoded data removed]",
            "text/plain": [
              "<Figure size 432x288 with 1 Axes>"
            ]
          },
          "metadata": {
            "tags": [],
            "needs_background": "light"
          }
        }
      ]
    },
    {
      "cell_type": "code",
      "metadata": {
        "colab": {
          "base_uri": "https://localhost:8080/",
          "height": 295
        },
        "id": "Ke5y-2Aulw3t",
        "outputId": "cb2ff7a4-596f-4cc6-c106-0f3d5190b408"
      },
      "source": [
        "fig = plt.figure()\n",
        "plt.plot(history.history['loss'], 'r')\n",
        "plt.plot(history.history['val_loss'], 'b')\n",
        "plt.title('model loss')\n",
        "plt.ylabel('loss')\n",
        "plt.xlabel('epoch')\n",
        "plt.legend(['train', 'validation'], loc = 'upper right')\n",
        "plt.grid()"
      ],
      "execution_count": null,
      "outputs": [
        {
          "output_type": "display_data",
          "data": {
            "image/png": "[encoded data removed]",
            "text/plain": [
              "<Figure size 432x288 with 1 Axes>"
            ]
          },
          "metadata": {
            "tags": [],
            "needs_background": "light"
          }
        }
      ]
    },
    {
      "cell_type": "code",
      "metadata": {
        "id": "njXhGXI7mTVU"
      },
      "source": [
        "Y_pred = model.predict(X_test)\n",
        "y_pred = np.argmax(Y_pred, axis = 1)"
      ],
      "execution_count": null,
      "outputs": []
    },
    {
      "cell_type": "code",
      "metadata": {
        "colab": {
          "base_uri": "https://localhost:8080/"
        },
        "id": "4LUvTFQPmZGT",
        "outputId": "3764498e-555f-49ac-a74e-3ee35d49ef70"
      },
      "source": [
        "[test_loss, test_acc] = model.evaluate(X_test, Y_test)\n",
        "print(\"Test Loss\", test_loss)\n",
        "print(\"Test Accuracy\", test_acc)"
      ],
      "execution_count": null,
      "outputs": [
        {
          "output_type": "stream",
          "text": [
            "2/2 [==============================] - 0s 6ms/step - loss: 0.1225 - accuracy: 0.8333\n",
            "Test Loss 0.1225123405456543\n",
            "Test Accuracy 0.8333333134651184\n"
          ],
          "name": "stdout"
        }
      ]
    },
    {
      "cell_type": "code",
      "metadata": {
        "colab": {
          "base_uri": "https://localhost:8080/"
        },
        "id": "IbFDQbgymZIa",
        "outputId": "c39767f8-191d-4ab9-ca82-3eebcc3c23ce"
      },
      "source": [
        "class_names = [0, 1]\n",
        "confusion_mtx = confusion_matrix(y_test, y_pred)\n",
        "print(\"confusion matrix=\\n\", confusion_mtx)"
      ],
      "execution_count": null,
      "outputs": [
        {
          "output_type": "stream",
          "text": [
            "confusion matrix=\n",
            " [[22  5]\n",
            " [ 2 13]]\n"
          ],
          "name": "stdout"
        }
      ]
    },
    {
      "cell_type": "markdown",
      "metadata": {
        "id": "raVgpUrIoWqP"
      },
      "source": [
        "## Stochastic"
      ]
    },
    {
      "cell_type": "code",
      "metadata": {
        "colab": {
          "base_uri": "https://localhost:8080/"
        },
        "id": "eF8rGhvyoazh",
        "outputId": "21de7201-ee39-4d78-adca-0ff474c90c19"
      },
      "source": [
        "model = Sequential()\n",
        "model.add(Dense(512, activation = 'relu', input_shape = (60,)))\n",
        "model.add(Dense(512, activation = 'relu'))\n",
        "model.add(Dense(2, activation = 'softmax'))\n",
        "model.summary()\n",
        "model.compile(loss = 'categorical_crossentropy', optimizer = 'adam', metrics = ['accuracy'])"
      ],
      "execution_count": null,
      "outputs": [
        {
          "output_type": "stream",
          "text": [
            "Model: \"sequential_18\"\n",
            "_________________________________________________________________\n",
            "Layer (type)                 Output Shape              Param #   \n",
            "=================================================================\n",
            "dense_54 (Dense)             (None, 512)               31232     \n",
            "_________________________________________________________________\n",
            "dense_55 (Dense)             (None, 512)               262656    \n",
            "_________________________________________________________________\n",
            "dense_56 (Dense)             (None, 2)                 1026      \n",
            "=================================================================\n",
            "Total params: 294,914\n",
            "Trainable params: 294,914\n",
            "Non-trainable params: 0\n",
            "_________________________________________________________________\n"
          ],
          "name": "stdout"
        }
      ]
    },
    {
      "cell_type": "code",
      "metadata": {
        "colab": {
          "base_uri": "https://localhost:8080/"
        },
        "id": "5DFu9DnQobWH",
        "outputId": "4631e989-14ab-42ed-b98c-f2af39357f23"
      },
      "source": [
        "history = model.fit(X_train, Y_train, epochs = 12, batch_size = 1, validation_split = 0.2)"
      ],
      "execution_count": null,
      "outputs": [
        {
          "output_type": "stream",
          "text": [
            "Epoch 1/12\n",
            "132/132 [==============================] - 1s 5ms/step - loss: 0.7482 - accuracy: 0.5277 - val_loss: 0.7095 - val_accuracy: 0.5588\n",
            "Epoch 2/12\n",
            "132/132 [==============================] - 0s 3ms/step - loss: 0.5983 - accuracy: 0.6979 - val_loss: 0.5537 - val_accuracy: 0.7353\n",
            "Epoch 3/12\n",
            "132/132 [==============================] - 0s 3ms/step - loss: 0.4796 - accuracy: 0.7951 - val_loss: 0.4683 - val_accuracy: 0.7647\n",
            "Epoch 4/12\n",
            "132/132 [==============================] - 0s 3ms/step - loss: 0.4325 - accuracy: 0.8148 - val_loss: 0.6614 - val_accuracy: 0.6765\n",
            "Epoch 5/12\n",
            "132/132 [==============================] - 0s 3ms/step - loss: 0.3534 - accuracy: 0.8117 - val_loss: 0.4080 - val_accuracy: 0.8529\n",
            "Epoch 6/12\n",
            "132/132 [==============================] - 0s 3ms/step - loss: 0.3739 - accuracy: 0.8253 - val_loss: 0.4578 - val_accuracy: 0.8529\n",
            "Epoch 7/12\n",
            "132/132 [==============================] - 0s 3ms/step - loss: 0.2781 - accuracy: 0.8680 - val_loss: 0.5560 - val_accuracy: 0.8235\n",
            "Epoch 8/12\n",
            "132/132 [==============================] - 0s 3ms/step - loss: 0.2317 - accuracy: 0.8956 - val_loss: 0.4718 - val_accuracy: 0.7941\n",
            "Epoch 9/12\n",
            "132/132 [==============================] - 0s 3ms/step - loss: 0.2074 - accuracy: 0.9050 - val_loss: 0.3680 - val_accuracy: 0.8824\n",
            "Epoch 10/12\n",
            "132/132 [==============================] - 0s 3ms/step - loss: 0.1399 - accuracy: 0.9565 - val_loss: 0.3616 - val_accuracy: 0.9118\n",
            "Epoch 11/12\n",
            "132/132 [==============================] - 0s 3ms/step - loss: 0.1997 - accuracy: 0.9133 - val_loss: 0.3986 - val_accuracy: 0.7647\n",
            "Epoch 12/12\n",
            "132/132 [==============================] - 0s 3ms/step - loss: 0.1750 - accuracy: 0.9467 - val_loss: 0.4372 - val_accuracy: 0.8529\n"
          ],
          "name": "stdout"
        }
      ]
    },
    {
      "cell_type": "code",
      "metadata": {
        "colab": {
          "base_uri": "https://localhost:8080/",
          "height": 295
        },
        "id": "VFypcNg5obYK",
        "outputId": "724de63e-9761-42a0-f993-b3e4f09e5572"
      },
      "source": [
        "import matplotlib.pyplot as plt\n",
        "fig = plt.figure()\n",
        "plt.plot(history.history['accuracy'],'r')\n",
        "plt.plot(history.history['val_accuracy'],'b')\n",
        "plt.title('model accuracy')\n",
        "plt.ylabel('accuracy')\n",
        "plt.xlabel('epoch')\n",
        "plt.legend(['train', 'validation'], loc='lower right')\n",
        "plt.grid()"
      ],
      "execution_count": null,
      "outputs": [
        {
          "output_type": "display_data",
          "data": {
            "image/png": "[encoded data removed]",
            "text/plain": [
              "<Figure size 432x288 with 1 Axes>"
            ]
          },
          "metadata": {
            "tags": [],
            "needs_background": "light"
          }
        }
      ]
    },
    {
      "cell_type": "code",
      "metadata": {
        "colab": {
          "base_uri": "https://localhost:8080/",
          "height": 295
        },
        "id": "3YnxNL8pobaP",
        "outputId": "6bfb39cf-9165-410d-b77a-8170dc13b56c"
      },
      "source": [
        "fig = plt.figure()\n",
        "plt.plot(history.history['loss'], 'r')\n",
        "plt.plot(history.history['val_loss'], 'b')\n",
        "plt.title('model loss')\n",
        "plt.ylabel('loss')\n",
        "plt.xlabel('epoch')\n",
        "plt.legend(['train', 'validation'], loc = 'upper right')\n",
        "plt.grid()"
      ],
      "execution_count": null,
      "outputs": [
        {
          "output_type": "display_data",
          "data": {
            "image/png": "[encoded data removed]",
            "text/plain": [
              "<Figure size 432x288 with 1 Axes>"
            ]
          },
          "metadata": {
            "tags": [],
            "needs_background": "light"
          }
        }
      ]
    },
    {
      "cell_type": "code",
      "metadata": {
        "colab": {
          "base_uri": "https://localhost:8080/"
        },
        "id": "A0Y-srExohk8",
        "outputId": "d467b466-3bb0-4b4b-ad1e-54f5ac083a07"
      },
      "source": [
        "Y_pred = model.predict(X_test)\n",
        "y_pred = np.argmax(Y_pred, axis = 1)\n",
        "[test_loss, test_acc] = model.evaluate(X_test, Y_test)\n",
        "print(\"Test Loss\", test_loss)\n",
        "print(\"Test Accuracy\", test_acc)"
      ],
      "execution_count": null,
      "outputs": [
        {
          "output_type": "stream",
          "text": [
            "WARNING:tensorflow:6 out of the last 11 calls to <function Model.make_predict_function.<locals>.predict_function at 0x7f860fbce170> triggered tf.function retracing. Tracing is expensive and the excessive number of tracings could be due to (1) creating @tf.function repeatedly in a loop, (2) passing tensors with different shapes, (3) passing Python objects instead of tensors. For (1), please define your @tf.function outside of the loop. For (2), @tf.function has experimental_relax_shapes=True option that relaxes argument shapes that can avoid unnecessary retracing. For (3), please refer to https://www.tensorflow.org/guide/function#controlling_retracing and https://www.tensorflow.org/api_docs/python/tf/function for  more details.\n",
            "2/2 [==============================] - 0s 8ms/step - loss: 0.5335 - accuracy: 0.8333\n",
            "Test Loss 0.5335174798965454\n",
            "Test Accuracy 0.8333333134651184\n"
          ],
          "name": "stdout"
        }
      ]
    },
    {
      "cell_type": "code",
      "metadata": {
        "colab": {
          "base_uri": "https://localhost:8080/"
        },
        "id": "XPVncgQioiBV",
        "outputId": "2371d2a4-c52c-4eff-940c-85ccc1c52170"
      },
      "source": [
        "class_names = [0, 1]\n",
        "confusion_mtx = confusion_matrix(y_test, y_pred)\n",
        "print(\"confusion matrix=\\n\", confusion_mtx)"
      ],
      "execution_count": null,
      "outputs": [
        {
          "output_type": "stream",
          "text": [
            "confusion matrix=\n",
            " [[21  6]\n",
            " [ 1 14]]\n"
          ],
          "name": "stdout"
        }
      ]
    },
    {
      "cell_type": "markdown",
      "metadata": {
        "id": "KhUAq700sGnk"
      },
      "source": [
        "## Batch Size = 64"
      ]
    },
    {
      "cell_type": "code",
      "metadata": {
        "colab": {
          "base_uri": "https://localhost:8080/"
        },
        "id": "vuLmSeASroCw",
        "outputId": "ca283ddc-6da2-4e4e-a495-8ef46f20d738"
      },
      "source": [
        "model = Sequential()\n",
        "model.add(Dense(512, activation = 'relu', input_shape = (60,)))\n",
        "model.add(Dense(512, activation = 'relu'))\n",
        "model.add(Dense(2, activation = 'softmax'))\n",
        "model.summary()\n",
        "model.compile(loss = 'categorical_crossentropy', optimizer = 'adam', metrics = ['accuracy'])"
      ],
      "execution_count": null,
      "outputs": [
        {
          "output_type": "stream",
          "text": [
            "Model: \"sequential_22\"\n",
            "_________________________________________________________________\n",
            "Layer (type)                 Output Shape              Param #   \n",
            "=================================================================\n",
            "dense_66 (Dense)             (None, 512)               31232     \n",
            "_________________________________________________________________\n",
            "dense_67 (Dense)             (None, 512)               262656    \n",
            "_________________________________________________________________\n",
            "dense_68 (Dense)             (None, 2)                 1026      \n",
            "=================================================================\n",
            "Total params: 294,914\n",
            "Trainable params: 294,914\n",
            "Non-trainable params: 0\n",
            "_________________________________________________________________\n"
          ],
          "name": "stdout"
        }
      ]
    },
    {
      "cell_type": "code",
      "metadata": {
        "colab": {
          "base_uri": "https://localhost:8080/"
        },
        "id": "AGONax-nroNm",
        "outputId": "32bc6cbe-6862-49e7-9f6c-82fd6e4f456f"
      },
      "source": [
        "history = model.fit(X_train, Y_train, epochs = 40, batch_size = 64, validation_split = 0.2)"
      ],
      "execution_count": null,
      "outputs": [
        {
          "output_type": "stream",
          "text": [
            "Epoch 1/40\n",
            "3/3 [==============================] - 1s 154ms/step - loss: 0.7325 - accuracy: 0.4480 - val_loss: 0.6743 - val_accuracy: 0.4706\n",
            "Epoch 2/40\n",
            "3/3 [==============================] - 0s 23ms/step - loss: 0.6318 - accuracy: 0.5501 - val_loss: 0.5976 - val_accuracy: 0.7353\n",
            "Epoch 3/40\n",
            "3/3 [==============================] - 0s 24ms/step - loss: 0.5668 - accuracy: 0.8211 - val_loss: 0.5774 - val_accuracy: 0.6765\n",
            "Epoch 4/40\n",
            "3/3 [==============================] - 0s 23ms/step - loss: 0.5326 - accuracy: 0.7618 - val_loss: 0.6199 - val_accuracy: 0.6471\n",
            "Epoch 5/40\n",
            "3/3 [==============================] - 0s 21ms/step - loss: 0.5331 - accuracy: 0.6845 - val_loss: 0.5407 - val_accuracy: 0.7059\n",
            "Epoch 6/40\n",
            "3/3 [==============================] - 0s 21ms/step - loss: 0.4685 - accuracy: 0.8079 - val_loss: 0.5863 - val_accuracy: 0.6765\n",
            "Epoch 7/40\n",
            "3/3 [==============================] - 0s 22ms/step - loss: 0.4968 - accuracy: 0.7518 - val_loss: 0.5092 - val_accuracy: 0.7059\n",
            "Epoch 8/40\n",
            "3/3 [==============================] - 0s 26ms/step - loss: 0.4049 - accuracy: 0.8674 - val_loss: 0.5075 - val_accuracy: 0.8529\n",
            "Epoch 9/40\n",
            "3/3 [==============================] - 0s 23ms/step - loss: 0.3896 - accuracy: 0.8423 - val_loss: 0.4885 - val_accuracy: 0.7353\n",
            "Epoch 10/40\n",
            "3/3 [==============================] - 0s 21ms/step - loss: 0.3717 - accuracy: 0.8481 - val_loss: 0.5456 - val_accuracy: 0.7059\n",
            "Epoch 11/40\n",
            "3/3 [==============================] - 0s 20ms/step - loss: 0.4092 - accuracy: 0.8367 - val_loss: 0.5026 - val_accuracy: 0.7059\n",
            "Epoch 12/40\n",
            "3/3 [==============================] - 0s 21ms/step - loss: 0.3824 - accuracy: 0.8423 - val_loss: 0.5679 - val_accuracy: 0.7647\n",
            "Epoch 13/40\n",
            "3/3 [==============================] - 0s 22ms/step - loss: 0.3692 - accuracy: 0.7807 - val_loss: 0.5051 - val_accuracy: 0.6765\n",
            "Epoch 14/40\n",
            "3/3 [==============================] - 0s 21ms/step - loss: 0.3264 - accuracy: 0.8808 - val_loss: 0.5572 - val_accuracy: 0.7353\n",
            "Epoch 15/40\n",
            "3/3 [==============================] - 0s 20ms/step - loss: 0.3572 - accuracy: 0.8752 - val_loss: 0.5016 - val_accuracy: 0.7353\n",
            "Epoch 16/40\n",
            "3/3 [==============================] - 0s 20ms/step - loss: 0.2874 - accuracy: 0.8944 - val_loss: 0.5299 - val_accuracy: 0.8235\n",
            "Epoch 17/40\n",
            "3/3 [==============================] - 0s 19ms/step - loss: 0.3111 - accuracy: 0.8635 - val_loss: 0.4900 - val_accuracy: 0.8235\n",
            "Epoch 18/40\n",
            "3/3 [==============================] - 0s 21ms/step - loss: 0.2831 - accuracy: 0.8674 - val_loss: 0.4634 - val_accuracy: 0.8235\n",
            "Epoch 19/40\n",
            "3/3 [==============================] - 0s 22ms/step - loss: 0.2623 - accuracy: 0.8923 - val_loss: 0.4121 - val_accuracy: 0.8235\n",
            "Epoch 20/40\n",
            "3/3 [==============================] - 0s 22ms/step - loss: 0.2618 - accuracy: 0.8962 - val_loss: 0.4104 - val_accuracy: 0.7941\n",
            "Epoch 21/40\n",
            "3/3 [==============================] - 0s 24ms/step - loss: 0.2784 - accuracy: 0.8671 - val_loss: 0.4031 - val_accuracy: 0.7647\n",
            "Epoch 22/40\n",
            "3/3 [==============================] - 0s 22ms/step - loss: 0.2375 - accuracy: 0.9038 - val_loss: 0.4134 - val_accuracy: 0.7941\n",
            "Epoch 23/40\n",
            "3/3 [==============================] - 0s 22ms/step - loss: 0.2206 - accuracy: 0.9327 - val_loss: 0.4355 - val_accuracy: 0.8235\n",
            "Epoch 24/40\n",
            "3/3 [==============================] - 0s 25ms/step - loss: 0.1980 - accuracy: 0.9384 - val_loss: 0.4834 - val_accuracy: 0.8235\n",
            "Epoch 25/40\n",
            "3/3 [==============================] - 0s 22ms/step - loss: 0.2032 - accuracy: 0.9309 - val_loss: 0.4686 - val_accuracy: 0.8235\n",
            "Epoch 26/40\n",
            "3/3 [==============================] - 0s 22ms/step - loss: 0.1776 - accuracy: 0.9345 - val_loss: 0.4672 - val_accuracy: 0.7941\n",
            "Epoch 27/40\n",
            "3/3 [==============================] - 0s 22ms/step - loss: 0.1636 - accuracy: 0.9384 - val_loss: 0.5200 - val_accuracy: 0.8235\n",
            "Epoch 28/40\n",
            "3/3 [==============================] - 0s 20ms/step - loss: 0.1791 - accuracy: 0.9366 - val_loss: 0.4334 - val_accuracy: 0.7941\n",
            "Epoch 29/40\n",
            "3/3 [==============================] - 0s 20ms/step - loss: 0.1516 - accuracy: 0.9481 - val_loss: 0.3961 - val_accuracy: 0.7941\n",
            "Epoch 30/40\n",
            "3/3 [==============================] - 0s 20ms/step - loss: 0.1680 - accuracy: 0.9460 - val_loss: 0.3897 - val_accuracy: 0.8824\n",
            "Epoch 31/40\n",
            "3/3 [==============================] - 0s 21ms/step - loss: 0.1837 - accuracy: 0.9288 - val_loss: 0.3198 - val_accuracy: 0.9118\n",
            "Epoch 32/40\n",
            "3/3 [==============================] - 0s 20ms/step - loss: 0.1572 - accuracy: 0.9538 - val_loss: 0.3935 - val_accuracy: 0.7353\n",
            "Epoch 33/40\n",
            "3/3 [==============================] - 0s 21ms/step - loss: 0.2092 - accuracy: 0.8868 - val_loss: 0.3687 - val_accuracy: 0.8824\n",
            "Epoch 34/40\n",
            "3/3 [==============================] - 0s 20ms/step - loss: 0.1400 - accuracy: 0.9460 - val_loss: 0.6164 - val_accuracy: 0.7941\n",
            "Epoch 35/40\n",
            "3/3 [==============================] - 0s 21ms/step - loss: 0.2056 - accuracy: 0.8903 - val_loss: 0.3918 - val_accuracy: 0.7941\n",
            "Epoch 36/40\n",
            "3/3 [==============================] - 0s 22ms/step - loss: 0.1429 - accuracy: 0.9292 - val_loss: 0.4182 - val_accuracy: 0.7941\n",
            "Epoch 37/40\n",
            "3/3 [==============================] - 0s 21ms/step - loss: 0.1262 - accuracy: 0.9807 - val_loss: 0.5651 - val_accuracy: 0.8235\n",
            "Epoch 38/40\n",
            "3/3 [==============================] - 0s 21ms/step - loss: 0.1290 - accuracy: 0.9559 - val_loss: 0.4570 - val_accuracy: 0.8824\n",
            "Epoch 39/40\n",
            "3/3 [==============================] - 0s 21ms/step - loss: 0.0892 - accuracy: 0.9943 - val_loss: 0.3558 - val_accuracy: 0.7941\n",
            "Epoch 40/40\n",
            "3/3 [==============================] - 0s 24ms/step - loss: 0.0929 - accuracy: 0.9789 - val_loss: 0.3266 - val_accuracy: 0.8824\n"
          ],
          "name": "stdout"
        }
      ]
    },
    {
      "cell_type": "code",
      "metadata": {
        "colab": {
          "base_uri": "https://localhost:8080/",
          "height": 295
        },
        "id": "01U-iWKYroP1",
        "outputId": "2129bf92-6178-4419-f8b5-0e50c19d1493"
      },
      "source": [
        "import matplotlib.pyplot as plt\n",
        "fig = plt.figure()\n",
        "plt.plot(history.history['accuracy'],'r')\n",
        "plt.plot(history.history['val_accuracy'],'b')\n",
        "plt.title('model accuracy')\n",
        "plt.ylabel('accuracy')\n",
        "plt.xlabel('epoch')\n",
        "plt.legend(['train', 'validation'], loc='lower right')\n",
        "plt.grid()"
      ],
      "execution_count": null,
      "outputs": [
        {
          "output_type": "display_data",
          "data": {
            "image/png": "[encoded data removed]",
            "text/plain": [
              "<Figure size 432x288 with 1 Axes>"
            ]
          },
          "metadata": {
            "tags": [],
            "needs_background": "light"
          }
        }
      ]
    },
    {
      "cell_type": "code",
      "metadata": {
        "colab": {
          "base_uri": "https://localhost:8080/",
          "height": 295
        },
        "id": "LIvMIY_xsTp9",
        "outputId": "88cda61e-f1d5-4f92-9000-48434ad31038"
      },
      "source": [
        "fig = plt.figure()\n",
        "plt.plot(history.history['loss'], 'r')\n",
        "plt.plot(history.history['val_loss'], 'b')\n",
        "plt.title('model loss')\n",
        "plt.ylabel('loss')\n",
        "plt.xlabel('epoch')\n",
        "plt.legend(['train', 'validation'], loc = 'upper right')\n",
        "plt.grid()"
      ],
      "execution_count": null,
      "outputs": [
        {
          "output_type": "display_data",
          "data": {
            "image/png": "[encoded data removed]",
            "text/plain": [
              "<Figure size 432x288 with 1 Axes>"
            ]
          },
          "metadata": {
            "tags": [],
            "needs_background": "light"
          }
        }
      ]
    },
    {
      "cell_type": "code",
      "metadata": {
        "colab": {
          "base_uri": "https://localhost:8080/"
        },
        "id": "lVF5o8sUsTr7",
        "outputId": "8bf0eea8-0236-4fef-9e75-a9f8672b2405"
      },
      "source": [
        "Y_pred = model.predict(X_test)\n",
        "y_pred = np.argmax(Y_pred, axis = 1)\n",
        "[test_loss, test_acc] = model.evaluate(X_test, Y_test)\n",
        "print(\"Test Loss\", test_loss)\n",
        "print(\"Test Accuracy\", test_acc)"
      ],
      "execution_count": null,
      "outputs": [
        {
          "output_type": "stream",
          "text": [
            "WARNING:tensorflow:6 out of the last 11 calls to <function Model.make_predict_function.<locals>.predict_function at 0x7f86501249e0> triggered tf.function retracing. Tracing is expensive and the excessive number of tracings could be due to (1) creating @tf.function repeatedly in a loop, (2) passing tensors with different shapes, (3) passing Python objects instead of tensors. For (1), please define your @tf.function outside of the loop. For (2), @tf.function has experimental_relax_shapes=True option that relaxes argument shapes that can avoid unnecessary retracing. For (3), please refer to https://www.tensorflow.org/guide/function#controlling_retracing and https://www.tensorflow.org/api_docs/python/tf/function for  more details.\n",
            "2/2 [==============================] - 0s 8ms/step - loss: 0.3546 - accuracy: 0.9048\n",
            "Test Loss 0.3545846939086914\n",
            "Test Accuracy 0.9047619104385376\n"
          ],
          "name": "stdout"
        }
      ]
    },
    {
      "cell_type": "code",
      "metadata": {
        "colab": {
          "base_uri": "https://localhost:8080/"
        },
        "id": "2ehhOrRCsTuH",
        "outputId": "9aecd803-e0e0-4850-d39e-d63f0be1fc80"
      },
      "source": [
        "class_names = [0, 1]\n",
        "confusion_mtx = confusion_matrix(y_test, y_pred)\n",
        "print(\"confusion matrix=\\n\", confusion_mtx)"
      ],
      "execution_count": null,
      "outputs": [
        {
          "output_type": "stream",
          "text": [
            "confusion matrix=\n",
            " [[24  3]\n",
            " [ 1 14]]\n"
          ],
          "name": "stdout"
        }
      ]
    },
    {
      "cell_type": "markdown",
      "metadata": {
        "id": "sX7qDLtcrwVr"
      },
      "source": [
        "## Batch Size = 128"
      ]
    },
    {
      "cell_type": "code",
      "metadata": {
        "colab": {
          "base_uri": "https://localhost:8080/"
        },
        "id": "4zc5Egt7skGl",
        "outputId": "82dac0ae-a7f5-42dd-b77d-04bbc95e3d3a"
      },
      "source": [
        "model = Sequential()\n",
        "model.add(Dense(512, activation = 'relu', input_shape = (60,)))\n",
        "model.add(Dense(512, activation = 'relu'))\n",
        "model.add(Dense(2, activation = 'softmax'))\n",
        "model.summary()\n",
        "model.compile(loss = 'categorical_crossentropy', optimizer = 'adam', metrics = ['accuracy'])"
      ],
      "execution_count": null,
      "outputs": [
        {
          "output_type": "stream",
          "text": [
            "Model: \"sequential_27\"\n",
            "_________________________________________________________________\n",
            "Layer (type)                 Output Shape              Param #   \n",
            "=================================================================\n",
            "dense_81 (Dense)             (None, 512)               31232     \n",
            "_________________________________________________________________\n",
            "dense_82 (Dense)             (None, 512)               262656    \n",
            "_________________________________________________________________\n",
            "dense_83 (Dense)             (None, 2)                 1026      \n",
            "=================================================================\n",
            "Total params: 294,914\n",
            "Trainable params: 294,914\n",
            "Non-trainable params: 0\n",
            "_________________________________________________________________\n"
          ],
          "name": "stdout"
        }
      ]
    },
    {
      "cell_type": "code",
      "metadata": {
        "colab": {
          "base_uri": "https://localhost:8080/"
        },
        "id": "yD5snl9CskIq",
        "outputId": "4fd5eab9-81cf-4ada-9bda-4237e8dda53c"
      },
      "source": [
        "history = model.fit(X_train, Y_train, epochs = 50, batch_size = 128, validation_split = 0.2)"
      ],
      "execution_count": null,
      "outputs": [
        {
          "output_type": "stream",
          "text": [
            "Epoch 1/50\n",
            "2/2 [==============================] - 1s 316ms/step - loss: 0.7057 - accuracy: 0.4261 - val_loss: 0.6405 - val_accuracy: 0.6471\n",
            "Epoch 2/50\n",
            "2/2 [==============================] - 0s 43ms/step - loss: 0.6322 - accuracy: 0.7270 - val_loss: 0.6353 - val_accuracy: 0.5294\n",
            "Epoch 3/50\n",
            "2/2 [==============================] - 0s 36ms/step - loss: 0.6438 - accuracy: 0.5433 - val_loss: 0.5922 - val_accuracy: 0.7059\n",
            "Epoch 4/50\n",
            "2/2 [==============================] - 0s 36ms/step - loss: 0.5892 - accuracy: 0.7577 - val_loss: 0.5845 - val_accuracy: 0.6471\n",
            "Epoch 5/50\n",
            "2/2 [==============================] - 0s 37ms/step - loss: 0.5599 - accuracy: 0.7041 - val_loss: 0.6149 - val_accuracy: 0.6471\n",
            "Epoch 6/50\n",
            "2/2 [==============================] - 0s 36ms/step - loss: 0.5650 - accuracy: 0.6684 - val_loss: 0.5651 - val_accuracy: 0.6471\n",
            "Epoch 7/50\n",
            "2/2 [==============================] - 0s 40ms/step - loss: 0.5057 - accuracy: 0.7321 - val_loss: 0.5791 - val_accuracy: 0.7353\n",
            "Epoch 8/50\n",
            "2/2 [==============================] - 0s 46ms/step - loss: 0.5489 - accuracy: 0.6811 - val_loss: 0.7340 - val_accuracy: 0.5588\n",
            "Epoch 9/50\n",
            "2/2 [==============================] - 0s 38ms/step - loss: 0.7285 - accuracy: 0.5586 - val_loss: 0.7213 - val_accuracy: 0.6471\n",
            "Epoch 10/50\n",
            "2/2 [==============================] - 0s 51ms/step - loss: 0.6950 - accuracy: 0.5689 - val_loss: 0.5696 - val_accuracy: 0.7059\n",
            "Epoch 11/50\n",
            "2/2 [==============================] - 0s 41ms/step - loss: 0.5048 - accuracy: 0.7806 - val_loss: 0.5850 - val_accuracy: 0.6176\n",
            "Epoch 12/50\n",
            "2/2 [==============================] - 0s 41ms/step - loss: 0.4637 - accuracy: 0.7909 - val_loss: 0.6444 - val_accuracy: 0.6765\n",
            "Epoch 13/50\n",
            "2/2 [==============================] - 0s 38ms/step - loss: 0.5067 - accuracy: 0.6581 - val_loss: 0.6549 - val_accuracy: 0.6471\n",
            "Epoch 14/50\n",
            "2/2 [==============================] - 0s 40ms/step - loss: 0.5209 - accuracy: 0.6555 - val_loss: 0.5952 - val_accuracy: 0.7059\n",
            "Epoch 15/50\n",
            "2/2 [==============================] - 0s 42ms/step - loss: 0.4670 - accuracy: 0.6990 - val_loss: 0.5060 - val_accuracy: 0.7353\n",
            "Epoch 16/50\n",
            "2/2 [==============================] - 0s 40ms/step - loss: 0.4115 - accuracy: 0.8265 - val_loss: 0.5156 - val_accuracy: 0.7059\n",
            "Epoch 17/50\n",
            "2/2 [==============================] - 0s 41ms/step - loss: 0.4414 - accuracy: 0.8163 - val_loss: 0.5204 - val_accuracy: 0.7353\n",
            "Epoch 18/50\n",
            "2/2 [==============================] - 0s 41ms/step - loss: 0.4341 - accuracy: 0.8419 - val_loss: 0.4896 - val_accuracy: 0.7059\n",
            "Epoch 19/50\n",
            "2/2 [==============================] - 0s 42ms/step - loss: 0.3923 - accuracy: 0.8699 - val_loss: 0.5129 - val_accuracy: 0.7059\n",
            "Epoch 20/50\n",
            "2/2 [==============================] - 0s 44ms/step - loss: 0.3951 - accuracy: 0.7603 - val_loss: 0.5090 - val_accuracy: 0.6471\n",
            "Epoch 21/50\n",
            "2/2 [==============================] - 0s 39ms/step - loss: 0.3804 - accuracy: 0.7780 - val_loss: 0.5101 - val_accuracy: 0.7353\n",
            "Epoch 22/50\n",
            "2/2 [==============================] - 0s 38ms/step - loss: 0.3835 - accuracy: 0.8725 - val_loss: 0.5806 - val_accuracy: 0.7353\n",
            "Epoch 23/50\n",
            "2/2 [==============================] - 0s 40ms/step - loss: 0.4526 - accuracy: 0.8316 - val_loss: 0.5515 - val_accuracy: 0.7353\n",
            "Epoch 24/50\n",
            "2/2 [==============================] - 0s 39ms/step - loss: 0.4190 - accuracy: 0.8546 - val_loss: 0.4991 - val_accuracy: 0.7353\n",
            "Epoch 25/50\n",
            "2/2 [==============================] - 0s 39ms/step - loss: 0.3538 - accuracy: 0.8648 - val_loss: 0.5188 - val_accuracy: 0.7059\n",
            "Epoch 26/50\n",
            "2/2 [==============================] - 0s 40ms/step - loss: 0.3582 - accuracy: 0.8163 - val_loss: 0.5474 - val_accuracy: 0.6765\n",
            "Epoch 27/50\n",
            "2/2 [==============================] - 0s 40ms/step - loss: 0.3698 - accuracy: 0.7959 - val_loss: 0.5319 - val_accuracy: 0.7059\n",
            "Epoch 28/50\n",
            "2/2 [==============================] - 0s 43ms/step - loss: 0.3486 - accuracy: 0.8112 - val_loss: 0.5000 - val_accuracy: 0.7647\n",
            "Epoch 29/50\n",
            "2/2 [==============================] - 0s 50ms/step - loss: 0.3263 - accuracy: 0.8751 - val_loss: 0.4806 - val_accuracy: 0.7353\n",
            "Epoch 30/50\n",
            "2/2 [==============================] - 0s 40ms/step - loss: 0.3191 - accuracy: 0.8699 - val_loss: 0.4884 - val_accuracy: 0.7941\n",
            "Epoch 31/50\n",
            "2/2 [==============================] - 0s 36ms/step - loss: 0.3292 - accuracy: 0.8419 - val_loss: 0.4939 - val_accuracy: 0.8235\n",
            "Epoch 32/50\n",
            "2/2 [==============================] - 0s 36ms/step - loss: 0.3365 - accuracy: 0.8419 - val_loss: 0.4538 - val_accuracy: 0.7353\n",
            "Epoch 33/50\n",
            "2/2 [==============================] - 0s 42ms/step - loss: 0.3021 - accuracy: 0.8775 - val_loss: 0.4879 - val_accuracy: 0.7059\n",
            "Epoch 34/50\n",
            "2/2 [==============================] - 0s 37ms/step - loss: 0.3323 - accuracy: 0.8801 - val_loss: 0.5252 - val_accuracy: 0.6765\n",
            "Epoch 35/50\n",
            "2/2 [==============================] - 0s 44ms/step - loss: 0.3562 - accuracy: 0.8622 - val_loss: 0.4715 - val_accuracy: 0.7353\n",
            "Epoch 36/50\n",
            "2/2 [==============================] - 0s 37ms/step - loss: 0.2997 - accuracy: 0.8928 - val_loss: 0.4711 - val_accuracy: 0.7647\n",
            "Epoch 37/50\n",
            "2/2 [==============================] - 0s 37ms/step - loss: 0.2879 - accuracy: 0.8725 - val_loss: 0.5499 - val_accuracy: 0.7941\n",
            "Epoch 38/50\n",
            "2/2 [==============================] - 0s 36ms/step - loss: 0.3564 - accuracy: 0.7730 - val_loss: 0.5956 - val_accuracy: 0.7941\n",
            "Epoch 39/50\n",
            "2/2 [==============================] - 0s 37ms/step - loss: 0.3771 - accuracy: 0.7551 - val_loss: 0.5385 - val_accuracy: 0.7941\n",
            "Epoch 40/50\n",
            "2/2 [==============================] - 0s 37ms/step - loss: 0.3081 - accuracy: 0.8393 - val_loss: 0.4934 - val_accuracy: 0.7059\n",
            "Epoch 41/50\n",
            "2/2 [==============================] - 0s 41ms/step - loss: 0.2628 - accuracy: 0.9081 - val_loss: 0.4984 - val_accuracy: 0.7647\n",
            "Epoch 42/50\n",
            "2/2 [==============================] - 0s 41ms/step - loss: 0.2682 - accuracy: 0.8699 - val_loss: 0.5236 - val_accuracy: 0.7647\n",
            "Epoch 43/50\n",
            "2/2 [==============================] - 0s 40ms/step - loss: 0.2961 - accuracy: 0.8648 - val_loss: 0.4978 - val_accuracy: 0.7647\n",
            "Epoch 44/50\n",
            "2/2 [==============================] - 0s 40ms/step - loss: 0.2698 - accuracy: 0.8725 - val_loss: 0.4628 - val_accuracy: 0.7647\n",
            "Epoch 45/50\n",
            "2/2 [==============================] - 0s 41ms/step - loss: 0.2314 - accuracy: 0.9184 - val_loss: 0.4992 - val_accuracy: 0.8235\n",
            "Epoch 46/50\n",
            "2/2 [==============================] - 0s 38ms/step - loss: 0.2557 - accuracy: 0.8954 - val_loss: 0.4996 - val_accuracy: 0.8529\n",
            "Epoch 47/50\n",
            "2/2 [==============================] - 0s 43ms/step - loss: 0.2552 - accuracy: 0.8852 - val_loss: 0.4381 - val_accuracy: 0.7941\n",
            "Epoch 48/50\n",
            "2/2 [==============================] - 0s 38ms/step - loss: 0.2192 - accuracy: 0.9107 - val_loss: 0.4226 - val_accuracy: 0.7941\n",
            "Epoch 49/50\n",
            "2/2 [==============================] - 0s 41ms/step - loss: 0.2141 - accuracy: 0.9235 - val_loss: 0.4312 - val_accuracy: 0.8824\n",
            "Epoch 50/50\n",
            "2/2 [==============================] - 0s 39ms/step - loss: 0.2219 - accuracy: 0.8878 - val_loss: 0.4228 - val_accuracy: 0.8529\n"
          ],
          "name": "stdout"
        }
      ]
    },
    {
      "cell_type": "code",
      "metadata": {
        "colab": {
          "base_uri": "https://localhost:8080/",
          "height": 295
        },
        "id": "rQuUXfUbskK2",
        "outputId": "5318384d-65fe-4103-e636-76251c6e7797"
      },
      "source": [
        "import matplotlib.pyplot as plt\n",
        "fig = plt.figure()\n",
        "plt.plot(history.history['accuracy'],'r')\n",
        "plt.plot(history.history['val_accuracy'],'b')\n",
        "plt.title('model accuracy')\n",
        "plt.ylabel('accuracy')\n",
        "plt.xlabel('epoch')\n",
        "plt.legend(['train', 'validation'], loc='lower right')\n",
        "plt.grid()"
      ],
      "execution_count": null,
      "outputs": [
        {
          "output_type": "display_data",
          "data": {
            "image/png": "[encoded data removed]",
            "text/plain": [
              "<Figure size 432x288 with 1 Axes>"
            ]
          },
          "metadata": {
            "tags": [],
            "needs_background": "light"
          }
        }
      ]
    },
    {
      "cell_type": "code",
      "metadata": {
        "colab": {
          "base_uri": "https://localhost:8080/",
          "height": 295
        },
        "id": "Mp3P_U8QskM7",
        "outputId": "bd0ce883-1b30-4077-c68b-c6f36eb08510"
      },
      "source": [
        "fig = plt.figure()\n",
        "plt.plot(history.history['loss'], 'r')\n",
        "plt.plot(history.history['val_loss'], 'b')\n",
        "plt.title('model loss')\n",
        "plt.ylabel('loss')\n",
        "plt.xlabel('epoch')\n",
        "plt.legend(['train', 'validation'], loc = 'upper right')\n",
        "plt.grid()"
      ],
      "execution_count": null,
      "outputs": [
        {
          "output_type": "display_data",
          "data": {
            "image/png": "[encoded data removed]",
            "text/plain": [
              "<Figure size 432x288 with 1 Axes>"
            ]
          },
          "metadata": {
            "tags": [],
            "needs_background": "light"
          }
        }
      ]
    },
    {
      "cell_type": "code",
      "metadata": {
        "colab": {
          "base_uri": "https://localhost:8080/"
        },
        "id": "VIgmnC6_skO_",
        "outputId": "16519a46-b11d-4d36-8554-ca6b59638520"
      },
      "source": [
        "Y_pred = model.predict(X_test)\n",
        "y_pred = np.argmax(Y_pred, axis = 1)\n",
        "[test_loss, test_acc] = model.evaluate(X_test, Y_test)\n",
        "print(\"Test Loss\", test_loss)\n",
        "print(\"Test Accuracy\", test_acc)"
      ],
      "execution_count": null,
      "outputs": [
        {
          "output_type": "stream",
          "text": [
            "WARNING:tensorflow:5 out of the last 11 calls to <function Model.make_predict_function.<locals>.predict_function at 0x7f860ea04b90> triggered tf.function retracing. Tracing is expensive and the excessive number of tracings could be due to (1) creating @tf.function repeatedly in a loop, (2) passing tensors with different shapes, (3) passing Python objects instead of tensors. For (1), please define your @tf.function outside of the loop. For (2), @tf.function has experimental_relax_shapes=True option that relaxes argument shapes that can avoid unnecessary retracing. For (3), please refer to https://www.tensorflow.org/guide/function#controlling_retracing and https://www.tensorflow.org/api_docs/python/tf/function for  more details.\n",
            "2/2 [==============================] - 0s 8ms/step - loss: 0.4068 - accuracy: 0.8333\n",
            "Test Loss 0.4068201184272766\n",
            "Test Accuracy 0.8333333134651184\n"
          ],
          "name": "stdout"
        }
      ]
    },
    {
      "cell_type": "code",
      "metadata": {
        "colab": {
          "base_uri": "https://localhost:8080/"
        },
        "id": "Yn3sl1H-sraD",
        "outputId": "8534ade7-b68c-4f3b-b0c6-5653f77f159f"
      },
      "source": [
        "class_names = [0, 1]\n",
        "confusion_mtx = confusion_matrix(y_test, y_pred)\n",
        "print(\"confusion matrix=\\n\", confusion_mtx)"
      ],
      "execution_count": null,
      "outputs": [
        {
          "output_type": "stream",
          "text": [
            "confusion matrix=\n",
            " [[23  4]\n",
            " [ 3 12]]\n"
          ],
          "name": "stdout"
        }
      ]
    },
    {
      "cell_type": "markdown",
      "metadata": {
        "id": "3Uf53qFFrB4Y"
      },
      "source": [
        "## Batch Size = 208"
      ]
    },
    {
      "cell_type": "code",
      "metadata": {
        "colab": {
          "base_uri": "https://localhost:8080/"
        },
        "id": "WhIJWSfksTv5",
        "outputId": "0ecc1688-f925-4fbf-def4-f24140bdb978"
      },
      "source": [
        "model = Sequential()\n",
        "model.add(Dense(512, activation = 'relu', input_shape = (60,)))\n",
        "model.add(Dense(512, activation = 'relu'))\n",
        "model.add(Dense(2, activation = 'softmax'))\n",
        "model.summary()\n",
        "model.compile(loss = 'categorical_crossentropy', optimizer = 'adam', metrics = ['accuracy'])"
      ],
      "execution_count": null,
      "outputs": [
        {
          "output_type": "stream",
          "text": [
            "Model: \"sequential_30\"\n",
            "_________________________________________________________________\n",
            "Layer (type)                 Output Shape              Param #   \n",
            "=================================================================\n",
            "dense_90 (Dense)             (None, 512)               31232     \n",
            "_________________________________________________________________\n",
            "dense_91 (Dense)             (None, 512)               262656    \n",
            "_________________________________________________________________\n",
            "dense_92 (Dense)             (None, 2)                 1026      \n",
            "=================================================================\n",
            "Total params: 294,914\n",
            "Trainable params: 294,914\n",
            "Non-trainable params: 0\n",
            "_________________________________________________________________\n"
          ],
          "name": "stdout"
        }
      ]
    },
    {
      "cell_type": "code",
      "metadata": {
        "colab": {
          "base_uri": "https://localhost:8080/"
        },
        "id": "jlqXsHzIsTxx",
        "outputId": "16e76df8-7f61-4f8a-f172-8ef76d70720b"
      },
      "source": [
        "history = model.fit(X_train, Y_train, epochs = 30, batch_size = 208, validation_split = 0.2)"
      ],
      "execution_count": null,
      "outputs": [
        {
          "output_type": "stream",
          "text": [
            "Epoch 1/30\n",
            "1/1 [==============================] - 1s 724ms/step - loss: 0.6976 - accuracy: 0.4545 - val_loss: 0.6719 - val_accuracy: 0.4706\n",
            "Epoch 2/30\n",
            "1/1 [==============================] - 0s 44ms/step - loss: 0.6557 - accuracy: 0.5227 - val_loss: 0.6278 - val_accuracy: 0.6471\n",
            "Epoch 3/30\n",
            "1/1 [==============================] - 0s 39ms/step - loss: 0.6088 - accuracy: 0.6894 - val_loss: 0.5967 - val_accuracy: 0.7647\n",
            "Epoch 4/30\n",
            "1/1 [==============================] - 0s 40ms/step - loss: 0.5766 - accuracy: 0.8106 - val_loss: 0.5732 - val_accuracy: 0.7647\n",
            "Epoch 5/30\n",
            "1/1 [==============================] - 0s 40ms/step - loss: 0.5436 - accuracy: 0.8409 - val_loss: 0.5533 - val_accuracy: 0.7941\n",
            "Epoch 6/30\n",
            "1/1 [==============================] - 0s 43ms/step - loss: 0.5095 - accuracy: 0.7803 - val_loss: 0.5394 - val_accuracy: 0.7353\n",
            "Epoch 7/30\n",
            "1/1 [==============================] - 0s 42ms/step - loss: 0.4832 - accuracy: 0.7424 - val_loss: 0.5191 - val_accuracy: 0.7647\n",
            "Epoch 8/30\n",
            "1/1 [==============================] - 0s 43ms/step - loss: 0.4532 - accuracy: 0.8106 - val_loss: 0.5051 - val_accuracy: 0.7353\n",
            "Epoch 9/30\n",
            "1/1 [==============================] - 0s 41ms/step - loss: 0.4294 - accuracy: 0.8712 - val_loss: 0.4947 - val_accuracy: 0.7647\n",
            "Epoch 10/30\n",
            "1/1 [==============================] - 0s 43ms/step - loss: 0.4051 - accuracy: 0.8788 - val_loss: 0.4888 - val_accuracy: 0.8235\n",
            "Epoch 11/30\n",
            "1/1 [==============================] - 0s 50ms/step - loss: 0.3827 - accuracy: 0.8409 - val_loss: 0.4840 - val_accuracy: 0.7941\n",
            "Epoch 12/30\n",
            "1/1 [==============================] - 0s 42ms/step - loss: 0.3632 - accuracy: 0.8636 - val_loss: 0.4765 - val_accuracy: 0.7941\n",
            "Epoch 13/30\n",
            "1/1 [==============================] - 0s 43ms/step - loss: 0.3443 - accuracy: 0.8788 - val_loss: 0.4711 - val_accuracy: 0.7941\n",
            "Epoch 14/30\n",
            "1/1 [==============================] - 0s 42ms/step - loss: 0.3273 - accuracy: 0.8864 - val_loss: 0.4668 - val_accuracy: 0.7941\n",
            "Epoch 15/30\n",
            "1/1 [==============================] - 0s 42ms/step - loss: 0.3106 - accuracy: 0.8788 - val_loss: 0.4579 - val_accuracy: 0.7941\n",
            "Epoch 16/30\n",
            "1/1 [==============================] - 0s 38ms/step - loss: 0.2938 - accuracy: 0.8864 - val_loss: 0.4471 - val_accuracy: 0.8235\n",
            "Epoch 17/30\n",
            "1/1 [==============================] - 0s 42ms/step - loss: 0.2787 - accuracy: 0.9015 - val_loss: 0.4368 - val_accuracy: 0.7941\n",
            "Epoch 18/30\n",
            "1/1 [==============================] - 0s 40ms/step - loss: 0.2617 - accuracy: 0.8864 - val_loss: 0.4289 - val_accuracy: 0.7941\n",
            "Epoch 19/30\n",
            "1/1 [==============================] - 0s 36ms/step - loss: 0.2469 - accuracy: 0.8939 - val_loss: 0.4184 - val_accuracy: 0.8235\n",
            "Epoch 20/30\n",
            "1/1 [==============================] - 0s 39ms/step - loss: 0.2308 - accuracy: 0.9242 - val_loss: 0.4112 - val_accuracy: 0.7941\n",
            "Epoch 21/30\n",
            "1/1 [==============================] - 0s 41ms/step - loss: 0.2151 - accuracy: 0.9242 - val_loss: 0.4078 - val_accuracy: 0.8235\n",
            "Epoch 22/30\n",
            "1/1 [==============================] - 0s 38ms/step - loss: 0.2006 - accuracy: 0.9091 - val_loss: 0.4040 - val_accuracy: 0.7941\n",
            "Epoch 23/30\n",
            "1/1 [==============================] - 0s 39ms/step - loss: 0.1858 - accuracy: 0.9470 - val_loss: 0.4039 - val_accuracy: 0.8235\n",
            "Epoch 24/30\n",
            "1/1 [==============================] - 0s 42ms/step - loss: 0.1716 - accuracy: 0.9470 - val_loss: 0.4064 - val_accuracy: 0.8529\n",
            "Epoch 25/30\n",
            "1/1 [==============================] - 0s 43ms/step - loss: 0.1586 - accuracy: 0.9697 - val_loss: 0.4063 - val_accuracy: 0.7941\n",
            "Epoch 26/30\n",
            "1/1 [==============================] - 0s 44ms/step - loss: 0.1454 - accuracy: 0.9697 - val_loss: 0.4077 - val_accuracy: 0.7941\n",
            "Epoch 27/30\n",
            "1/1 [==============================] - 0s 42ms/step - loss: 0.1327 - accuracy: 0.9697 - val_loss: 0.4099 - val_accuracy: 0.8235\n",
            "Epoch 28/30\n",
            "1/1 [==============================] - 0s 44ms/step - loss: 0.1214 - accuracy: 0.9848 - val_loss: 0.4110 - val_accuracy: 0.7941\n",
            "Epoch 29/30\n",
            "1/1 [==============================] - 0s 42ms/step - loss: 0.1106 - accuracy: 0.9924 - val_loss: 0.4157 - val_accuracy: 0.8235\n",
            "Epoch 30/30\n",
            "1/1 [==============================] - 0s 42ms/step - loss: 0.1001 - accuracy: 0.9848 - val_loss: 0.4165 - val_accuracy: 0.7941\n"
          ],
          "name": "stdout"
        }
      ]
    },
    {
      "cell_type": "code",
      "metadata": {
        "colab": {
          "base_uri": "https://localhost:8080/",
          "height": 295
        },
        "id": "VpRu2JvRrREN",
        "outputId": "5548a479-0689-45f1-8583-f6b5799bf0c9"
      },
      "source": [
        "import matplotlib.pyplot as plt\n",
        "fig = plt.figure()\n",
        "plt.plot(history.history['accuracy'],'r')\n",
        "plt.plot(history.history['val_accuracy'],'b')\n",
        "plt.title('model accuracy')\n",
        "plt.ylabel('accuracy')\n",
        "plt.xlabel('epoch')\n",
        "plt.legend(['train', 'validation'], loc='lower right')\n",
        "plt.grid()"
      ],
      "execution_count": null,
      "outputs": [
        {
          "output_type": "display_data",
          "data": {
            "image/png": "[encoded data removed]",
            "text/plain": [
              "<Figure size 432x288 with 1 Axes>"
            ]
          },
          "metadata": {
            "tags": [],
            "needs_background": "light"
          }
        }
      ]
    },
    {
      "cell_type": "code",
      "metadata": {
        "colab": {
          "base_uri": "https://localhost:8080/",
          "height": 295
        },
        "id": "3jWcBeQPrRGX",
        "outputId": "1992998b-6ef7-4040-ceac-f33db0000ac8"
      },
      "source": [
        "fig = plt.figure()\n",
        "plt.plot(history.history['loss'], 'r')\n",
        "plt.plot(history.history['val_loss'], 'b')\n",
        "plt.title('model loss')\n",
        "plt.ylabel('loss')\n",
        "plt.xlabel('epoch')\n",
        "plt.legend(['train', 'validation'], loc = 'upper right')\n",
        "plt.grid()"
      ],
      "execution_count": null,
      "outputs": [
        {
          "output_type": "display_data",
          "data": {
            "image/png": "[encoded data removed]",
            "text/plain": [
              "<Figure size 432x288 with 1 Axes>"
            ]
          },
          "metadata": {
            "tags": [],
            "needs_background": "light"
          }
        }
      ]
    },
    {
      "cell_type": "code",
      "metadata": {
        "colab": {
          "base_uri": "https://localhost:8080/"
        },
        "id": "X0jqGd-6rRIU",
        "outputId": "9dee9f46-6908-4445-8b0e-1b53aa734a4a"
      },
      "source": [
        "Y_pred = model.predict(X_test)\n",
        "y_pred = np.argmax(Y_pred, axis = 1)\n",
        "[test_loss, test_acc] = model.evaluate(X_test, Y_test)\n",
        "print(\"Test Loss\", test_loss)\n",
        "print(\"Test Accuracy\", test_acc)"
      ],
      "execution_count": null,
      "outputs": [
        {
          "output_type": "stream",
          "text": [
            "WARNING:tensorflow:6 out of the last 13 calls to <function Model.make_predict_function.<locals>.predict_function at 0x7f860a287b90> triggered tf.function retracing. Tracing is expensive and the excessive number of tracings could be due to (1) creating @tf.function repeatedly in a loop, (2) passing tensors with different shapes, (3) passing Python objects instead of tensors. For (1), please define your @tf.function outside of the loop. For (2), @tf.function has experimental_relax_shapes=True option that relaxes argument shapes that can avoid unnecessary retracing. For (3), please refer to https://www.tensorflow.org/guide/function#controlling_retracing and https://www.tensorflow.org/api_docs/python/tf/function for  more details.\n",
            "2/2 [==============================] - 0s 7ms/step - loss: 0.4009 - accuracy: 0.8810\n",
            "Test Loss 0.4008658826351166\n",
            "Test Accuracy 0.8809523582458496\n"
          ],
          "name": "stdout"
        }
      ]
    },
    {
      "cell_type": "code",
      "metadata": {
        "colab": {
          "base_uri": "https://localhost:8080/"
        },
        "id": "YPRrZEIArRKI",
        "outputId": "513c118c-6f28-46b3-8475-17a686e47db8"
      },
      "source": [
        "class_names = [0, 1]\n",
        "confusion_mtx = confusion_matrix(y_test, y_pred)\n",
        "print(\"confusion matrix=\\n\", confusion_mtx)"
      ],
      "execution_count": null,
      "outputs": [
        {
          "output_type": "stream",
          "text": [
            "confusion matrix=\n",
            " [[23  4]\n",
            " [ 1 14]]\n"
          ],
          "name": "stdout"
        }
      ]
    },
    {
      "cell_type": "markdown",
      "metadata": {
        "id": "jPqql1WlVQ1i"
      },
      "source": [
        "## Tanh as Activation Function"
      ]
    },
    {
      "cell_type": "code",
      "metadata": {
        "colab": {
          "base_uri": "https://localhost:8080/"
        },
        "id": "9pSeJ1HIVPA7",
        "outputId": "a25ceb3e-8e59-4e58-fb9c-879f9f023f96"
      },
      "source": [
        "model = Sequential()\n",
        "model.add(Dense(512, activation = 'tanh', input_shape = (60,)))\n",
        "model.add(Dense(512, activation = 'tanh'))\n",
        "model.add(Dense(2, activation = 'softmax'))\n",
        "model.summary()\n",
        "model.compile(loss = 'categorical_crossentropy', optimizer = 'adam', metrics = ['accuracy'])"
      ],
      "execution_count": null,
      "outputs": [
        {
          "output_type": "stream",
          "text": [
            "Model: \"sequential_4\"\n",
            "_________________________________________________________________\n",
            "Layer (type)                 Output Shape              Param #   \n",
            "=================================================================\n",
            "dense_12 (Dense)             (None, 512)               31232     \n",
            "_________________________________________________________________\n",
            "dense_13 (Dense)             (None, 512)               262656    \n",
            "_________________________________________________________________\n",
            "dense_14 (Dense)             (None, 2)                 1026      \n",
            "=================================================================\n",
            "Total params: 294,914\n",
            "Trainable params: 294,914\n",
            "Non-trainable params: 0\n",
            "_________________________________________________________________\n"
          ],
          "name": "stdout"
        }
      ]
    },
    {
      "cell_type": "code",
      "metadata": {
        "colab": {
          "base_uri": "https://localhost:8080/"
        },
        "id": "SjXV2HAtVPDZ",
        "outputId": "38a36701-fc57-4948-b486-8c3be9eff725"
      },
      "source": [
        "history = model.fit(X_train, Y_train, epochs = 25, batch_size = 208, validation_split = 0.2)"
      ],
      "execution_count": null,
      "outputs": [
        {
          "output_type": "stream",
          "text": [
            "Epoch 1/25\n",
            "1/1 [==============================] - 1s 526ms/step - loss: 0.6977 - accuracy: 0.4773 - val_loss: 1.1756 - val_accuracy: 0.4706\n",
            "Epoch 2/25\n",
            "1/1 [==============================] - 0s 33ms/step - loss: 1.1025 - accuracy: 0.5152 - val_loss: 0.5883 - val_accuracy: 0.7353\n",
            "Epoch 3/25\n",
            "1/1 [==============================] - 0s 37ms/step - loss: 0.5761 - accuracy: 0.6515 - val_loss: 0.8273 - val_accuracy: 0.5294\n",
            "Epoch 4/25\n",
            "1/1 [==============================] - 0s 33ms/step - loss: 0.8535 - accuracy: 0.4848 - val_loss: 0.7265 - val_accuracy: 0.5000\n",
            "Epoch 5/25\n",
            "1/1 [==============================] - 0s 31ms/step - loss: 0.7381 - accuracy: 0.5379 - val_loss: 0.5382 - val_accuracy: 0.7647\n",
            "Epoch 6/25\n",
            "1/1 [==============================] - 0s 30ms/step - loss: 0.5248 - accuracy: 0.7879 - val_loss: 0.5900 - val_accuracy: 0.6471\n",
            "Epoch 7/25\n",
            "1/1 [==============================] - 0s 30ms/step - loss: 0.5517 - accuracy: 0.6364 - val_loss: 0.6887 - val_accuracy: 0.5882\n",
            "Epoch 8/25\n",
            "1/1 [==============================] - 0s 30ms/step - loss: 0.6318 - accuracy: 0.6288 - val_loss: 0.6562 - val_accuracy: 0.6176\n",
            "Epoch 9/25\n",
            "1/1 [==============================] - 0s 30ms/step - loss: 0.5918 - accuracy: 0.6439 - val_loss: 0.5547 - val_accuracy: 0.6765\n",
            "Epoch 10/25\n",
            "1/1 [==============================] - 0s 33ms/step - loss: 0.4925 - accuracy: 0.6894 - val_loss: 0.5056 - val_accuracy: 0.7647\n",
            "Epoch 11/25\n",
            "1/1 [==============================] - 0s 32ms/step - loss: 0.4513 - accuracy: 0.8485 - val_loss: 0.5397 - val_accuracy: 0.7353\n",
            "Epoch 12/25\n",
            "1/1 [==============================] - 0s 30ms/step - loss: 0.4919 - accuracy: 0.7803 - val_loss: 0.5692 - val_accuracy: 0.7353\n",
            "Epoch 13/25\n",
            "1/1 [==============================] - 0s 32ms/step - loss: 0.5209 - accuracy: 0.7424 - val_loss: 0.5435 - val_accuracy: 0.7353\n",
            "Epoch 14/25\n",
            "1/1 [==============================] - 0s 32ms/step - loss: 0.4873 - accuracy: 0.7803 - val_loss: 0.5037 - val_accuracy: 0.7647\n",
            "Epoch 15/25\n",
            "1/1 [==============================] - 0s 28ms/step - loss: 0.4327 - accuracy: 0.8409 - val_loss: 0.5044 - val_accuracy: 0.7647\n",
            "Epoch 16/25\n",
            "1/1 [==============================] - 0s 33ms/step - loss: 0.4149 - accuracy: 0.7955 - val_loss: 0.5426 - val_accuracy: 0.7353\n",
            "Epoch 17/25\n",
            "1/1 [==============================] - 0s 32ms/step - loss: 0.4367 - accuracy: 0.7045 - val_loss: 0.5672 - val_accuracy: 0.7059\n",
            "Epoch 18/25\n",
            "1/1 [==============================] - 0s 30ms/step - loss: 0.4520 - accuracy: 0.6970 - val_loss: 0.5495 - val_accuracy: 0.7353\n",
            "Epoch 19/25\n",
            "1/1 [==============================] - 0s 36ms/step - loss: 0.4334 - accuracy: 0.7045 - val_loss: 0.5103 - val_accuracy: 0.7647\n",
            "Epoch 20/25\n",
            "1/1 [==============================] - 0s 29ms/step - loss: 0.4000 - accuracy: 0.7727 - val_loss: 0.4875 - val_accuracy: 0.7941\n",
            "Epoch 21/25\n",
            "1/1 [==============================] - 0s 28ms/step - loss: 0.3858 - accuracy: 0.8561 - val_loss: 0.4926 - val_accuracy: 0.7647\n",
            "Epoch 22/25\n",
            "1/1 [==============================] - 0s 28ms/step - loss: 0.3975 - accuracy: 0.8409 - val_loss: 0.5009 - val_accuracy: 0.7353\n",
            "Epoch 23/25\n",
            "1/1 [==============================] - 0s 29ms/step - loss: 0.4071 - accuracy: 0.8258 - val_loss: 0.4925 - val_accuracy: 0.7647\n",
            "Epoch 24/25\n",
            "1/1 [==============================] - 0s 30ms/step - loss: 0.3939 - accuracy: 0.8333 - val_loss: 0.4796 - val_accuracy: 0.8235\n",
            "Epoch 25/25\n",
            "1/1 [==============================] - 0s 29ms/step - loss: 0.3711 - accuracy: 0.8561 - val_loss: 0.4840 - val_accuracy: 0.8235\n"
          ],
          "name": "stdout"
        }
      ]
    },
    {
      "cell_type": "code",
      "metadata": {
        "colab": {
          "base_uri": "https://localhost:8080/",
          "height": 295
        },
        "id": "wJTl1lQtVPFI",
        "outputId": "68151d48-60f8-4a37-d5ce-645514114270"
      },
      "source": [
        "fig = plt.figure()\n",
        "plt.plot(history.history['accuracy'],'r')\n",
        "plt.plot(history.history['val_accuracy'],'b')\n",
        "plt.title('model accuracy')\n",
        "plt.ylabel('accuracy')\n",
        "plt.xlabel('epoch')\n",
        "plt.legend(['train', 'validation'], loc='lower right')\n",
        "plt.grid()"
      ],
      "execution_count": null,
      "outputs": [
        {
          "output_type": "display_data",
          "data": {
            "image/png": "[encoded data removed]",
            "text/plain": [
              "<Figure size 432x288 with 1 Axes>"
            ]
          },
          "metadata": {
            "tags": [],
            "needs_background": "light"
          }
        }
      ]
    },
    {
      "cell_type": "code",
      "metadata": {
        "colab": {
          "base_uri": "https://localhost:8080/",
          "height": 295
        },
        "id": "GtFxMrvTVPHT",
        "outputId": "3bd4727a-fffd-4150-c9dd-1d5561080c4e"
      },
      "source": [
        "fig = plt.figure()\n",
        "plt.plot(history.history['loss'], 'r')\n",
        "plt.plot(history.history['val_loss'], 'b')\n",
        "plt.title('model loss')\n",
        "plt.ylabel('loss')\n",
        "plt.xlabel('epoch')\n",
        "plt.legend(['train', 'validation'], loc = 'upper right')\n",
        "plt.grid()"
      ],
      "execution_count": null,
      "outputs": [
        {
          "output_type": "display_data",
          "data": {
            "image/png": "[encoded data removed]",
            "text/plain": [
              "<Figure size 432x288 with 1 Axes>"
            ]
          },
          "metadata": {
            "tags": [],
            "needs_background": "light"
          }
        }
      ]
    },
    {
      "cell_type": "code",
      "metadata": {
        "colab": {
          "base_uri": "https://localhost:8080/"
        },
        "id": "EFqJFGPzVPJO",
        "outputId": "1d0461dc-b4cf-4c40-e505-208608cd9401"
      },
      "source": [
        "Y_pred = model.predict(X_test)\n",
        "y_pred = np.argmax(Y_pred, axis = 1)\n",
        "[test_loss, test_acc] = model.evaluate(X_test, Y_test)\n",
        "print(\"Test Loss\", test_loss)\n",
        "print(\"Test Accuracy\", test_acc)"
      ],
      "execution_count": null,
      "outputs": [
        {
          "output_type": "stream",
          "text": [
            "WARNING:tensorflow:5 out of the last 9 calls to <function Model.make_predict_function.<locals>.predict_function at 0x7f54dabad560> triggered tf.function retracing. Tracing is expensive and the excessive number of tracings could be due to (1) creating @tf.function repeatedly in a loop, (2) passing tensors with different shapes, (3) passing Python objects instead of tensors. For (1), please define your @tf.function outside of the loop. For (2), @tf.function has experimental_relax_shapes=True option that relaxes argument shapes that can avoid unnecessary retracing. For (3), please refer to https://www.tensorflow.org/guide/function#controlling_retracing and https://www.tensorflow.org/api_docs/python/tf/function for  more details.\n",
            "2/2 [==============================] - 0s 4ms/step - loss: 0.4492 - accuracy: 0.7857\n",
            "Test Loss 0.4491579532623291\n",
            "Test Accuracy 0.7857142686843872\n"
          ],
          "name": "stdout"
        }
      ]
    },
    {
      "cell_type": "code",
      "metadata": {
        "colab": {
          "base_uri": "https://localhost:8080/"
        },
        "id": "_2LuD8DkVPLK",
        "outputId": "623ae438-f407-40b7-f989-5e8ac1c21336"
      },
      "source": [
        "class_names = [0, 1]\n",
        "confusion_mtx = confusion_matrix(y_test, y_pred)\n",
        "print(\"confusion matrix=\\n\", confusion_mtx)"
      ],
      "execution_count": null,
      "outputs": [
        {
          "output_type": "stream",
          "text": [
            "confusion matrix=\n",
            " [[22  5]\n",
            " [ 4 11]]\n"
          ],
          "name": "stdout"
        }
      ]
    },
    {
      "cell_type": "markdown",
      "metadata": {
        "id": "e3fpbA-6WmSh"
      },
      "source": [
        "## Sigmoid as Activation Function"
      ]
    },
    {
      "cell_type": "code",
      "metadata": {
        "colab": {
          "base_uri": "https://localhost:8080/"
        },
        "id": "EpBKNandVPiX",
        "outputId": "cac3b91a-c77c-4c90-df2b-29738dcd9137"
      },
      "source": [
        "model = Sequential()\n",
        "model.add(Dense(512, activation = 'sigmoid', input_shape = (60,)))\n",
        "model.add(Dense(512, activation = 'sigmoid'))\n",
        "model.add(Dense(2, activation = 'softmax'))\n",
        "model.summary()\n",
        "model.compile(loss = 'categorical_crossentropy', optimizer = 'adam', metrics = ['accuracy'])"
      ],
      "execution_count": null,
      "outputs": [
        {
          "output_type": "stream",
          "text": [
            "Model: \"sequential_9\"\n",
            "_________________________________________________________________\n",
            "Layer (type)                 Output Shape              Param #   \n",
            "=================================================================\n",
            "dense_25 (Dense)             (None, 512)               31232     \n",
            "_________________________________________________________________\n",
            "dense_26 (Dense)             (None, 512)               262656    \n",
            "_________________________________________________________________\n",
            "dense_27 (Dense)             (None, 2)                 1026      \n",
            "=================================================================\n",
            "Total params: 294,914\n",
            "Trainable params: 294,914\n",
            "Non-trainable params: 0\n",
            "_________________________________________________________________\n"
          ],
          "name": "stdout"
        }
      ]
    },
    {
      "cell_type": "code",
      "metadata": {
        "colab": {
          "base_uri": "https://localhost:8080/"
        },
        "id": "0etK2pLZVPkP",
        "outputId": "9e4745f2-8aae-43fa-8318-cef731df2bf1"
      },
      "source": [
        "history = model.fit(X_train, Y_train, epochs = 120, batch_size = 208, validation_split = 0.2)"
      ],
      "execution_count": null,
      "outputs": [
        {
          "output_type": "stream",
          "text": [
            "Epoch 1/120\n",
            "1/1 [==============================] - 1s 533ms/step - loss: 0.9438 - accuracy: 0.4848 - val_loss: 0.9392 - val_accuracy: 0.4706\n",
            "Epoch 2/120\n",
            "1/1 [==============================] - 0s 34ms/step - loss: 0.8797 - accuracy: 0.5152 - val_loss: 0.9591 - val_accuracy: 0.4706\n",
            "Epoch 3/120\n",
            "1/1 [==============================] - 0s 34ms/step - loss: 0.8968 - accuracy: 0.5152 - val_loss: 0.7329 - val_accuracy: 0.4706\n",
            "Epoch 4/120\n",
            "1/1 [==============================] - 0s 32ms/step - loss: 0.7114 - accuracy: 0.5152 - val_loss: 0.7112 - val_accuracy: 0.5294\n",
            "Epoch 5/120\n",
            "1/1 [==============================] - 0s 31ms/step - loss: 0.7363 - accuracy: 0.4848 - val_loss: 0.7777 - val_accuracy: 0.5294\n",
            "Epoch 6/120\n",
            "1/1 [==============================] - 0s 32ms/step - loss: 0.8220 - accuracy: 0.4848 - val_loss: 0.7357 - val_accuracy: 0.5294\n",
            "Epoch 7/120\n",
            "1/1 [==============================] - 0s 36ms/step - loss: 0.7695 - accuracy: 0.4848 - val_loss: 0.6855 - val_accuracy: 0.5294\n",
            "Epoch 8/120\n",
            "1/1 [==============================] - 0s 37ms/step - loss: 0.6920 - accuracy: 0.4848 - val_loss: 0.7305 - val_accuracy: 0.4706\n",
            "Epoch 9/120\n",
            "1/1 [==============================] - 0s 37ms/step - loss: 0.7086 - accuracy: 0.5152 - val_loss: 0.7949 - val_accuracy: 0.4706\n",
            "Epoch 10/120\n",
            "1/1 [==============================] - 0s 32ms/step - loss: 0.7578 - accuracy: 0.5152 - val_loss: 0.7840 - val_accuracy: 0.4706\n",
            "Epoch 11/120\n",
            "1/1 [==============================] - 0s 32ms/step - loss: 0.7489 - accuracy: 0.5152 - val_loss: 0.7211 - val_accuracy: 0.4706\n",
            "Epoch 12/120\n",
            "1/1 [==============================] - 0s 31ms/step - loss: 0.7014 - accuracy: 0.5152 - val_loss: 0.6823 - val_accuracy: 0.7059\n",
            "Epoch 13/120\n",
            "1/1 [==============================] - 0s 36ms/step - loss: 0.6836 - accuracy: 0.6288 - val_loss: 0.6918 - val_accuracy: 0.5294\n",
            "Epoch 14/120\n",
            "1/1 [==============================] - 0s 33ms/step - loss: 0.7101 - accuracy: 0.4848 - val_loss: 0.7031 - val_accuracy: 0.5294\n",
            "Epoch 15/120\n",
            "1/1 [==============================] - 0s 33ms/step - loss: 0.7272 - accuracy: 0.4848 - val_loss: 0.6898 - val_accuracy: 0.5294\n",
            "Epoch 16/120\n",
            "1/1 [==============================] - 0s 34ms/step - loss: 0.7077 - accuracy: 0.4848 - val_loss: 0.6779 - val_accuracy: 0.5588\n",
            "Epoch 17/120\n",
            "1/1 [==============================] - 0s 31ms/step - loss: 0.6816 - accuracy: 0.5303 - val_loss: 0.6947 - val_accuracy: 0.4706\n",
            "Epoch 18/120\n",
            "1/1 [==============================] - 0s 29ms/step - loss: 0.6828 - accuracy: 0.5152 - val_loss: 0.7224 - val_accuracy: 0.4706\n",
            "Epoch 19/120\n",
            "1/1 [==============================] - 0s 29ms/step - loss: 0.7003 - accuracy: 0.5152 - val_loss: 0.7260 - val_accuracy: 0.4706\n",
            "Epoch 20/120\n",
            "1/1 [==============================] - 0s 28ms/step - loss: 0.7026 - accuracy: 0.5152 - val_loss: 0.7022 - val_accuracy: 0.4706\n",
            "Epoch 21/120\n",
            "1/1 [==============================] - 0s 37ms/step - loss: 0.6859 - accuracy: 0.5152 - val_loss: 0.6778 - val_accuracy: 0.5588\n",
            "Epoch 22/120\n",
            "1/1 [==============================] - 0s 33ms/step - loss: 0.6734 - accuracy: 0.5833 - val_loss: 0.6720 - val_accuracy: 0.5294\n",
            "Epoch 23/120\n",
            "1/1 [==============================] - 0s 31ms/step - loss: 0.6789 - accuracy: 0.5076 - val_loss: 0.6752 - val_accuracy: 0.5294\n",
            "Epoch 24/120\n",
            "1/1 [==============================] - 0s 29ms/step - loss: 0.6880 - accuracy: 0.4848 - val_loss: 0.6724 - val_accuracy: 0.5294\n",
            "Epoch 25/120\n",
            "1/1 [==============================] - 0s 29ms/step - loss: 0.6836 - accuracy: 0.4848 - val_loss: 0.6679 - val_accuracy: 0.6471\n",
            "Epoch 26/120\n",
            "1/1 [==============================] - 0s 36ms/step - loss: 0.6715 - accuracy: 0.5985 - val_loss: 0.6739 - val_accuracy: 0.5294\n",
            "Epoch 27/120\n",
            "1/1 [==============================] - 0s 39ms/step - loss: 0.6676 - accuracy: 0.5606 - val_loss: 0.6872 - val_accuracy: 0.4706\n",
            "Epoch 28/120\n",
            "1/1 [==============================] - 0s 37ms/step - loss: 0.6733 - accuracy: 0.5152 - val_loss: 0.6915 - val_accuracy: 0.4706\n",
            "Epoch 29/120\n",
            "1/1 [==============================] - 0s 32ms/step - loss: 0.6754 - accuracy: 0.5152 - val_loss: 0.6810 - val_accuracy: 0.4706\n",
            "Epoch 30/120\n",
            "1/1 [==============================] - 0s 35ms/step - loss: 0.6685 - accuracy: 0.5152 - val_loss: 0.6665 - val_accuracy: 0.6765\n",
            "Epoch 31/120\n",
            "1/1 [==============================] - 0s 33ms/step - loss: 0.6614 - accuracy: 0.6591 - val_loss: 0.6596 - val_accuracy: 0.7353\n",
            "Epoch 32/120\n",
            "1/1 [==============================] - 0s 33ms/step - loss: 0.6618 - accuracy: 0.7045 - val_loss: 0.6584 - val_accuracy: 0.6176\n",
            "Epoch 33/120\n",
            "1/1 [==============================] - 0s 40ms/step - loss: 0.6647 - accuracy: 0.5682 - val_loss: 0.6565 - val_accuracy: 0.6176\n",
            "Epoch 34/120\n",
            "1/1 [==============================] - 0s 35ms/step - loss: 0.6618 - accuracy: 0.5985 - val_loss: 0.6551 - val_accuracy: 0.7353\n",
            "Epoch 35/120\n",
            "1/1 [==============================] - 0s 35ms/step - loss: 0.6554 - accuracy: 0.7576 - val_loss: 0.6591 - val_accuracy: 0.7059\n",
            "Epoch 36/120\n",
            "1/1 [==============================] - 0s 38ms/step - loss: 0.6529 - accuracy: 0.6591 - val_loss: 0.6650 - val_accuracy: 0.5294\n",
            "Epoch 37/120\n",
            "1/1 [==============================] - 0s 36ms/step - loss: 0.6542 - accuracy: 0.5530 - val_loss: 0.6646 - val_accuracy: 0.4706\n",
            "Epoch 38/120\n",
            "1/1 [==============================] - 0s 40ms/step - loss: 0.6530 - accuracy: 0.5530 - val_loss: 0.6566 - val_accuracy: 0.6765\n",
            "Epoch 39/120\n",
            "1/1 [==============================] - 0s 42ms/step - loss: 0.6481 - accuracy: 0.6515 - val_loss: 0.6478 - val_accuracy: 0.7647\n",
            "Epoch 40/120\n",
            "1/1 [==============================] - 0s 37ms/step - loss: 0.6443 - accuracy: 0.8182 - val_loss: 0.6430 - val_accuracy: 0.7059\n",
            "Epoch 41/120\n",
            "1/1 [==============================] - 0s 34ms/step - loss: 0.6437 - accuracy: 0.7576 - val_loss: 0.6406 - val_accuracy: 0.7059\n",
            "Epoch 42/120\n",
            "1/1 [==============================] - 0s 34ms/step - loss: 0.6427 - accuracy: 0.7348 - val_loss: 0.6386 - val_accuracy: 0.7353\n",
            "Epoch 43/120\n",
            "1/1 [==============================] - 0s 33ms/step - loss: 0.6386 - accuracy: 0.7576 - val_loss: 0.6387 - val_accuracy: 0.7647\n",
            "Epoch 44/120\n",
            "1/1 [==============================] - 0s 34ms/step - loss: 0.6346 - accuracy: 0.8182 - val_loss: 0.6409 - val_accuracy: 0.7353\n",
            "Epoch 45/120\n",
            "1/1 [==============================] - 0s 35ms/step - loss: 0.6330 - accuracy: 0.6591 - val_loss: 0.6411 - val_accuracy: 0.7059\n",
            "Epoch 46/120\n",
            "1/1 [==============================] - 0s 33ms/step - loss: 0.6313 - accuracy: 0.6667 - val_loss: 0.6362 - val_accuracy: 0.7353\n",
            "Epoch 47/120\n",
            "1/1 [==============================] - 0s 34ms/step - loss: 0.6276 - accuracy: 0.6667 - val_loss: 0.6291 - val_accuracy: 0.7647\n",
            "Epoch 48/120\n",
            "1/1 [==============================] - 0s 33ms/step - loss: 0.6235 - accuracy: 0.8030 - val_loss: 0.6236 - val_accuracy: 0.7353\n",
            "Epoch 49/120\n",
            "1/1 [==============================] - 0s 36ms/step - loss: 0.6210 - accuracy: 0.7955 - val_loss: 0.6201 - val_accuracy: 0.7353\n",
            "Epoch 50/120\n",
            "1/1 [==============================] - 0s 33ms/step - loss: 0.6186 - accuracy: 0.7576 - val_loss: 0.6174 - val_accuracy: 0.7353\n",
            "Epoch 51/120\n",
            "1/1 [==============================] - 0s 36ms/step - loss: 0.6148 - accuracy: 0.7803 - val_loss: 0.6161 - val_accuracy: 0.7647\n",
            "Epoch 52/120\n",
            "1/1 [==============================] - 0s 31ms/step - loss: 0.6106 - accuracy: 0.7955 - val_loss: 0.6158 - val_accuracy: 0.7647\n",
            "Epoch 53/120\n",
            "1/1 [==============================] - 0s 33ms/step - loss: 0.6076 - accuracy: 0.7576 - val_loss: 0.6141 - val_accuracy: 0.7941\n",
            "Epoch 54/120\n",
            "1/1 [==============================] - 0s 31ms/step - loss: 0.6045 - accuracy: 0.7348 - val_loss: 0.6092 - val_accuracy: 0.7647\n",
            "Epoch 55/120\n",
            "1/1 [==============================] - 0s 34ms/step - loss: 0.6004 - accuracy: 0.7727 - val_loss: 0.6031 - val_accuracy: 0.7647\n",
            "Epoch 56/120\n",
            "1/1 [==============================] - 0s 33ms/step - loss: 0.5961 - accuracy: 0.7955 - val_loss: 0.5980 - val_accuracy: 0.7941\n",
            "Epoch 57/120\n",
            "1/1 [==============================] - 0s 32ms/step - loss: 0.5925 - accuracy: 0.7879 - val_loss: 0.5941 - val_accuracy: 0.7353\n",
            "Epoch 58/120\n",
            "1/1 [==============================] - 0s 35ms/step - loss: 0.5888 - accuracy: 0.7879 - val_loss: 0.5910 - val_accuracy: 0.7941\n",
            "Epoch 59/120\n",
            "1/1 [==============================] - 0s 31ms/step - loss: 0.5843 - accuracy: 0.7955 - val_loss: 0.5889 - val_accuracy: 0.7647\n",
            "Epoch 60/120\n",
            "1/1 [==============================] - 0s 33ms/step - loss: 0.5799 - accuracy: 0.7955 - val_loss: 0.5868 - val_accuracy: 0.7647\n",
            "Epoch 61/120\n",
            "1/1 [==============================] - 0s 37ms/step - loss: 0.5759 - accuracy: 0.8258 - val_loss: 0.5831 - val_accuracy: 0.7647\n",
            "Epoch 62/120\n",
            "1/1 [==============================] - 0s 47ms/step - loss: 0.5716 - accuracy: 0.8258 - val_loss: 0.5778 - val_accuracy: 0.7647\n",
            "Epoch 63/120\n",
            "1/1 [==============================] - 0s 37ms/step - loss: 0.5668 - accuracy: 0.8030 - val_loss: 0.5724 - val_accuracy: 0.7941\n",
            "Epoch 64/120\n",
            "1/1 [==============================] - 0s 40ms/step - loss: 0.5622 - accuracy: 0.8106 - val_loss: 0.5679 - val_accuracy: 0.7941\n",
            "Epoch 65/120\n",
            "1/1 [==============================] - 0s 42ms/step - loss: 0.5578 - accuracy: 0.8106 - val_loss: 0.5641 - val_accuracy: 0.7941\n",
            "Epoch 66/120\n",
            "1/1 [==============================] - 0s 40ms/step - loss: 0.5530 - accuracy: 0.8182 - val_loss: 0.5610 - val_accuracy: 0.7941\n",
            "Epoch 67/120\n",
            "1/1 [==============================] - 0s 36ms/step - loss: 0.5480 - accuracy: 0.8106 - val_loss: 0.5582 - val_accuracy: 0.7647\n",
            "Epoch 68/120\n",
            "1/1 [==============================] - 0s 33ms/step - loss: 0.5433 - accuracy: 0.8106 - val_loss: 0.5547 - val_accuracy: 0.7647\n",
            "Epoch 69/120\n",
            "1/1 [==============================] - 0s 33ms/step - loss: 0.5385 - accuracy: 0.8106 - val_loss: 0.5500 - val_accuracy: 0.7941\n",
            "Epoch 70/120\n",
            "1/1 [==============================] - 0s 33ms/step - loss: 0.5334 - accuracy: 0.8106 - val_loss: 0.5452 - val_accuracy: 0.7941\n",
            "Epoch 71/120\n",
            "1/1 [==============================] - 0s 33ms/step - loss: 0.5284 - accuracy: 0.8106 - val_loss: 0.5408 - val_accuracy: 0.7941\n",
            "Epoch 72/120\n",
            "1/1 [==============================] - 0s 37ms/step - loss: 0.5235 - accuracy: 0.8182 - val_loss: 0.5371 - val_accuracy: 0.7941\n",
            "Epoch 73/120\n",
            "1/1 [==============================] - 0s 35ms/step - loss: 0.5184 - accuracy: 0.8182 - val_loss: 0.5339 - val_accuracy: 0.7941\n",
            "Epoch 74/120\n",
            "1/1 [==============================] - 0s 36ms/step - loss: 0.5133 - accuracy: 0.8106 - val_loss: 0.5310 - val_accuracy: 0.7941\n",
            "Epoch 75/120\n",
            "1/1 [==============================] - 0s 35ms/step - loss: 0.5083 - accuracy: 0.8182 - val_loss: 0.5277 - val_accuracy: 0.7941\n",
            "Epoch 76/120\n",
            "1/1 [==============================] - 0s 34ms/step - loss: 0.5033 - accuracy: 0.8106 - val_loss: 0.5238 - val_accuracy: 0.7941\n",
            "Epoch 77/120\n",
            "1/1 [==============================] - 0s 42ms/step - loss: 0.4981 - accuracy: 0.8182 - val_loss: 0.5198 - val_accuracy: 0.7941\n",
            "Epoch 78/120\n",
            "1/1 [==============================] - 0s 36ms/step - loss: 0.4930 - accuracy: 0.8258 - val_loss: 0.5163 - val_accuracy: 0.7941\n",
            "Epoch 79/120\n",
            "1/1 [==============================] - 0s 35ms/step - loss: 0.4880 - accuracy: 0.8258 - val_loss: 0.5133 - val_accuracy: 0.7941\n",
            "Epoch 80/120\n",
            "1/1 [==============================] - 0s 32ms/step - loss: 0.4830 - accuracy: 0.8333 - val_loss: 0.5106 - val_accuracy: 0.7941\n",
            "Epoch 81/120\n",
            "1/1 [==============================] - 0s 33ms/step - loss: 0.4780 - accuracy: 0.8258 - val_loss: 0.5082 - val_accuracy: 0.7941\n",
            "Epoch 82/120\n",
            "1/1 [==============================] - 0s 32ms/step - loss: 0.4730 - accuracy: 0.8182 - val_loss: 0.5055 - val_accuracy: 0.7941\n",
            "Epoch 83/120\n",
            "1/1 [==============================] - 0s 34ms/step - loss: 0.4681 - accuracy: 0.8182 - val_loss: 0.5026 - val_accuracy: 0.7941\n",
            "Epoch 84/120\n",
            "1/1 [==============================] - 0s 35ms/step - loss: 0.4632 - accuracy: 0.8333 - val_loss: 0.4998 - val_accuracy: 0.7941\n",
            "Epoch 85/120\n",
            "1/1 [==============================] - 0s 32ms/step - loss: 0.4584 - accuracy: 0.8333 - val_loss: 0.4974 - val_accuracy: 0.7941\n",
            "Epoch 86/120\n",
            "1/1 [==============================] - 0s 37ms/step - loss: 0.4536 - accuracy: 0.8333 - val_loss: 0.4954 - val_accuracy: 0.7941\n",
            "Epoch 87/120\n",
            "1/1 [==============================] - 0s 32ms/step - loss: 0.4489 - accuracy: 0.8333 - val_loss: 0.4937 - val_accuracy: 0.7941\n",
            "Epoch 88/120\n",
            "1/1 [==============================] - 0s 38ms/step - loss: 0.4443 - accuracy: 0.8409 - val_loss: 0.4921 - val_accuracy: 0.7941\n",
            "Epoch 89/120\n",
            "1/1 [==============================] - 0s 39ms/step - loss: 0.4397 - accuracy: 0.8409 - val_loss: 0.4903 - val_accuracy: 0.7941\n",
            "Epoch 90/120\n",
            "1/1 [==============================] - 0s 31ms/step - loss: 0.4352 - accuracy: 0.8409 - val_loss: 0.4886 - val_accuracy: 0.7941\n",
            "Epoch 91/120\n",
            "1/1 [==============================] - 0s 30ms/step - loss: 0.4307 - accuracy: 0.8409 - val_loss: 0.4870 - val_accuracy: 0.7941\n",
            "Epoch 92/120\n",
            "1/1 [==============================] - 0s 30ms/step - loss: 0.4264 - accuracy: 0.8485 - val_loss: 0.4858 - val_accuracy: 0.7941\n",
            "Epoch 93/120\n",
            "1/1 [==============================] - 0s 32ms/step - loss: 0.4221 - accuracy: 0.8485 - val_loss: 0.4849 - val_accuracy: 0.7941\n",
            "Epoch 94/120\n",
            "1/1 [==============================] - 0s 32ms/step - loss: 0.4179 - accuracy: 0.8485 - val_loss: 0.4841 - val_accuracy: 0.7941\n",
            "Epoch 95/120\n",
            "1/1 [==============================] - 0s 31ms/step - loss: 0.4138 - accuracy: 0.8409 - val_loss: 0.4833 - val_accuracy: 0.7941\n",
            "Epoch 96/120\n",
            "1/1 [==============================] - 0s 33ms/step - loss: 0.4098 - accuracy: 0.8409 - val_loss: 0.4825 - val_accuracy: 0.7941\n",
            "Epoch 97/120\n",
            "1/1 [==============================] - 0s 34ms/step - loss: 0.4058 - accuracy: 0.8561 - val_loss: 0.4818 - val_accuracy: 0.7647\n",
            "Epoch 98/120\n",
            "1/1 [==============================] - 0s 34ms/step - loss: 0.4020 - accuracy: 0.8561 - val_loss: 0.4813 - val_accuracy: 0.7647\n",
            "Epoch 99/120\n",
            "1/1 [==============================] - 0s 36ms/step - loss: 0.3982 - accuracy: 0.8561 - val_loss: 0.4811 - val_accuracy: 0.7647\n",
            "Epoch 100/120\n",
            "1/1 [==============================] - 0s 36ms/step - loss: 0.3946 - accuracy: 0.8561 - val_loss: 0.4810 - val_accuracy: 0.7647\n",
            "Epoch 101/120\n",
            "1/1 [==============================] - 0s 36ms/step - loss: 0.3910 - accuracy: 0.8485 - val_loss: 0.4809 - val_accuracy: 0.7647\n",
            "Epoch 102/120\n",
            "1/1 [==============================] - 0s 38ms/step - loss: 0.3875 - accuracy: 0.8485 - val_loss: 0.4808 - val_accuracy: 0.7647\n",
            "Epoch 103/120\n",
            "1/1 [==============================] - 0s 36ms/step - loss: 0.3841 - accuracy: 0.8485 - val_loss: 0.4807 - val_accuracy: 0.7647\n",
            "Epoch 104/120\n",
            "1/1 [==============================] - 0s 34ms/step - loss: 0.3807 - accuracy: 0.8561 - val_loss: 0.4807 - val_accuracy: 0.7647\n",
            "Epoch 105/120\n",
            "1/1 [==============================] - 0s 41ms/step - loss: 0.3775 - accuracy: 0.8561 - val_loss: 0.4809 - val_accuracy: 0.7647\n",
            "Epoch 106/120\n",
            "1/1 [==============================] - 0s 35ms/step - loss: 0.3743 - accuracy: 0.8485 - val_loss: 0.4812 - val_accuracy: 0.7647\n",
            "Epoch 107/120\n",
            "1/1 [==============================] - 0s 33ms/step - loss: 0.3712 - accuracy: 0.8561 - val_loss: 0.4814 - val_accuracy: 0.7647\n",
            "Epoch 108/120\n",
            "1/1 [==============================] - 0s 33ms/step - loss: 0.3682 - accuracy: 0.8561 - val_loss: 0.4816 - val_accuracy: 0.7647\n",
            "Epoch 109/120\n",
            "1/1 [==============================] - 0s 36ms/step - loss: 0.3653 - accuracy: 0.8712 - val_loss: 0.4818 - val_accuracy: 0.7941\n",
            "Epoch 110/120\n",
            "1/1 [==============================] - 0s 35ms/step - loss: 0.3624 - accuracy: 0.8712 - val_loss: 0.4820 - val_accuracy: 0.7941\n",
            "Epoch 111/120\n",
            "1/1 [==============================] - 0s 36ms/step - loss: 0.3596 - accuracy: 0.8712 - val_loss: 0.4823 - val_accuracy: 0.8235\n",
            "Epoch 112/120\n",
            "1/1 [==============================] - 0s 43ms/step - loss: 0.3568 - accuracy: 0.8712 - val_loss: 0.4827 - val_accuracy: 0.8235\n",
            "Epoch 113/120\n",
            "1/1 [==============================] - 0s 38ms/step - loss: 0.3541 - accuracy: 0.8712 - val_loss: 0.4830 - val_accuracy: 0.8235\n",
            "Epoch 114/120\n",
            "1/1 [==============================] - 0s 33ms/step - loss: 0.3515 - accuracy: 0.8712 - val_loss: 0.4832 - val_accuracy: 0.8235\n",
            "Epoch 115/120\n",
            "1/1 [==============================] - 0s 34ms/step - loss: 0.3489 - accuracy: 0.8712 - val_loss: 0.4834 - val_accuracy: 0.8235\n",
            "Epoch 116/120\n",
            "1/1 [==============================] - 0s 35ms/step - loss: 0.3464 - accuracy: 0.8712 - val_loss: 0.4836 - val_accuracy: 0.8235\n",
            "Epoch 117/120\n",
            "1/1 [==============================] - 0s 34ms/step - loss: 0.3439 - accuracy: 0.8712 - val_loss: 0.4838 - val_accuracy: 0.8235\n",
            "Epoch 118/120\n",
            "1/1 [==============================] - 0s 36ms/step - loss: 0.3415 - accuracy: 0.8712 - val_loss: 0.4841 - val_accuracy: 0.8529\n",
            "Epoch 119/120\n",
            "1/1 [==============================] - 0s 36ms/step - loss: 0.3391 - accuracy: 0.8712 - val_loss: 0.4843 - val_accuracy: 0.8529\n",
            "Epoch 120/120\n",
            "1/1 [==============================] - 0s 36ms/step - loss: 0.3367 - accuracy: 0.8712 - val_loss: 0.4844 - val_accuracy: 0.8529\n"
          ],
          "name": "stdout"
        }
      ]
    },
    {
      "cell_type": "code",
      "metadata": {
        "colab": {
          "base_uri": "https://localhost:8080/",
          "height": 295
        },
        "id": "Y74N8Q6VWv3y",
        "outputId": "8a308df6-e505-4012-b484-a7e08043a295"
      },
      "source": [
        "fig = plt.figure()\n",
        "plt.plot(history.history['accuracy'],'r')\n",
        "plt.plot(history.history['val_accuracy'],'b')\n",
        "plt.title('model accuracy')\n",
        "plt.ylabel('accuracy')\n",
        "plt.xlabel('epoch')\n",
        "plt.legend(['train', 'validation'], loc='lower right')\n",
        "plt.grid()"
      ],
      "execution_count": null,
      "outputs": [
        {
          "output_type": "display_data",
          "data": {
            "image/png": "[encoded data removed]",
            "text/plain": [
              "<Figure size 432x288 with 1 Axes>"
            ]
          },
          "metadata": {
            "tags": [],
            "needs_background": "light"
          }
        }
      ]
    },
    {
      "cell_type": "code",
      "metadata": {
        "colab": {
          "base_uri": "https://localhost:8080/",
          "height": 295
        },
        "id": "2b4H0sy7Wv51",
        "outputId": "59e13de7-0ae5-497a-cfc6-600e97e257de"
      },
      "source": [
        "fig = plt.figure()\n",
        "plt.plot(history.history['loss'], 'r')\n",
        "plt.plot(history.history['val_loss'], 'b')\n",
        "plt.title('model loss')\n",
        "plt.ylabel('loss')\n",
        "plt.xlabel('epoch')\n",
        "plt.legend(['train', 'validation'], loc = 'upper right')\n",
        "plt.grid()"
      ],
      "execution_count": null,
      "outputs": [
        {
          "output_type": "display_data",
          "data": {
            "image/png": "[encoded data removed]",
            "text/plain": [
              "<Figure size 432x288 with 1 Axes>"
            ]
          },
          "metadata": {
            "tags": [],
            "needs_background": "light"
          }
        }
      ]
    },
    {
      "cell_type": "code",
      "metadata": {
        "colab": {
          "base_uri": "https://localhost:8080/"
        },
        "id": "KzgaB14DVPmQ",
        "outputId": "cd6febe8-728d-4c3b-8bea-0f755a081430"
      },
      "source": [
        "Y_pred = model.predict(X_test)\n",
        "y_pred = np.argmax(Y_pred, axis = 1)\n",
        "[test_loss, test_acc] = model.evaluate(X_test, Y_test)\n",
        "print(\"Test Loss\", test_loss)\n",
        "print(\"Test Accuracy\", test_acc)"
      ],
      "execution_count": null,
      "outputs": [
        {
          "output_type": "stream",
          "text": [
            "WARNING:tensorflow:6 out of the last 11 calls to <function Model.make_predict_function.<locals>.predict_function at 0x7f54df4c78c0> triggered tf.function retracing. Tracing is expensive and the excessive number of tracings could be due to (1) creating @tf.function repeatedly in a loop, (2) passing tensors with different shapes, (3) passing Python objects instead of tensors. For (1), please define your @tf.function outside of the loop. For (2), @tf.function has experimental_relax_shapes=True option that relaxes argument shapes that can avoid unnecessary retracing. For (3), please refer to https://www.tensorflow.org/guide/function#controlling_retracing and https://www.tensorflow.org/api_docs/python/tf/function for  more details.\n",
            "2/2 [==============================] - 0s 6ms/step - loss: 0.4962 - accuracy: 0.7619\n",
            "Test Loss 0.49619337916374207\n",
            "Test Accuracy 0.761904776096344\n"
          ],
          "name": "stdout"
        }
      ]
    },
    {
      "cell_type": "code",
      "metadata": {
        "colab": {
          "base_uri": "https://localhost:8080/"
        },
        "id": "SfBk_1t0VPos",
        "outputId": "a410edf2-9ba5-42dc-fbfc-3df06bcccaa3"
      },
      "source": [
        "class_names = [0, 1]\n",
        "confusion_mtx = confusion_matrix(y_test, y_pred)\n",
        "print(\"confusion matrix=\\n\", confusion_mtx)"
      ],
      "execution_count": null,
      "outputs": [
        {
          "output_type": "stream",
          "text": [
            "confusion matrix=\n",
            " [[21  6]\n",
            " [ 4 11]]\n"
          ],
          "name": "stdout"
        }
      ]
    },
    {
      "cell_type": "markdown",
      "metadata": {
        "id": "pRL-ORMIW6B6"
      },
      "source": [
        "## Four Hidden Layer"
      ]
    },
    {
      "cell_type": "code",
      "metadata": {
        "colab": {
          "base_uri": "https://localhost:8080/"
        },
        "id": "0EDYZrFfW6MJ",
        "outputId": "7ad9852a-a360-4548-9ef4-5af8892187f8"
      },
      "source": [
        "model = Sequential()\n",
        "model.add(Dense(200, activation = 'relu', input_shape = (60,)))\n",
        "model.add(Dense(450, activation = 'relu'))\n",
        "model.add(Dense(400, activation = 'relu'))\n",
        "model.add(Dense(100, activation = 'relu'))\n",
        "model.add(Dense(2, activation = 'softmax'))\n",
        "model.summary()\n",
        "model.compile(loss = 'categorical_crossentropy', optimizer = 'adam', metrics = ['accuracy'])"
      ],
      "execution_count": null,
      "outputs": [
        {
          "output_type": "stream",
          "text": [
            "Model: \"sequential_15\"\n",
            "_________________________________________________________________\n",
            "Layer (type)                 Output Shape              Param #   \n",
            "=================================================================\n",
            "dense_66 (Dense)             (None, 200)               12200     \n",
            "_________________________________________________________________\n",
            "dense_67 (Dense)             (None, 450)               90450     \n",
            "_________________________________________________________________\n",
            "dense_68 (Dense)             (None, 400)               180400    \n",
            "_________________________________________________________________\n",
            "dense_69 (Dense)             (None, 100)               40100     \n",
            "_________________________________________________________________\n",
            "dense_70 (Dense)             (None, 2)                 202       \n",
            "=================================================================\n",
            "Total params: 323,352\n",
            "Trainable params: 323,352\n",
            "Non-trainable params: 0\n",
            "_________________________________________________________________\n"
          ],
          "name": "stdout"
        }
      ]
    },
    {
      "cell_type": "code",
      "metadata": {
        "colab": {
          "base_uri": "https://localhost:8080/"
        },
        "id": "KtIh1SxEtzcA",
        "outputId": "c5fcdc4c-a52e-488a-b2dd-b5fa0ce4b57c"
      },
      "source": [
        "history = model.fit(X_train, Y_train, epochs = 30, batch_size = 32, validation_split = 0.2)"
      ],
      "execution_count": null,
      "outputs": [
        {
          "output_type": "stream",
          "text": [
            "Epoch 1/30\n",
            "5/5 [==============================] - 1s 58ms/step - loss: 0.7097 - accuracy: 0.4831 - val_loss: 0.6449 - val_accuracy: 0.6471\n",
            "Epoch 2/30\n",
            "5/5 [==============================] - 0s 10ms/step - loss: 0.6422 - accuracy: 0.6768 - val_loss: 0.6004 - val_accuracy: 0.7353\n",
            "Epoch 3/30\n",
            "5/5 [==============================] - 0s 10ms/step - loss: 0.5761 - accuracy: 0.7985 - val_loss: 0.5590 - val_accuracy: 0.7647\n",
            "Epoch 4/30\n",
            "5/5 [==============================] - 0s 10ms/step - loss: 0.4925 - accuracy: 0.8299 - val_loss: 0.5455 - val_accuracy: 0.7353\n",
            "Epoch 5/30\n",
            "5/5 [==============================] - 0s 11ms/step - loss: 0.4408 - accuracy: 0.8331 - val_loss: 0.5062 - val_accuracy: 0.7059\n",
            "Epoch 6/30\n",
            "5/5 [==============================] - 0s 11ms/step - loss: 0.4169 - accuracy: 0.8342 - val_loss: 0.5478 - val_accuracy: 0.7647\n",
            "Epoch 7/30\n",
            "5/5 [==============================] - 0s 11ms/step - loss: 0.3515 - accuracy: 0.8072 - val_loss: 0.4697 - val_accuracy: 0.7353\n",
            "Epoch 8/30\n",
            "5/5 [==============================] - 0s 10ms/step - loss: 0.2924 - accuracy: 0.8763 - val_loss: 0.4572 - val_accuracy: 0.7647\n",
            "Epoch 9/30\n",
            "5/5 [==============================] - 0s 13ms/step - loss: 0.3109 - accuracy: 0.8732 - val_loss: 0.5775 - val_accuracy: 0.7941\n",
            "Epoch 10/30\n",
            "5/5 [==============================] - 0s 11ms/step - loss: 0.3103 - accuracy: 0.8071 - val_loss: 0.5223 - val_accuracy: 0.7353\n",
            "Epoch 11/30\n",
            "5/5 [==============================] - 0s 10ms/step - loss: 0.2655 - accuracy: 0.8829 - val_loss: 0.4635 - val_accuracy: 0.8235\n",
            "Epoch 12/30\n",
            "5/5 [==============================] - 0s 10ms/step - loss: 0.2006 - accuracy: 0.9289 - val_loss: 0.5217 - val_accuracy: 0.7353\n",
            "Epoch 13/30\n",
            "5/5 [==============================] - 0s 10ms/step - loss: 0.2503 - accuracy: 0.8883 - val_loss: 0.4529 - val_accuracy: 0.7941\n",
            "Epoch 14/30\n",
            "5/5 [==============================] - 0s 11ms/step - loss: 0.2458 - accuracy: 0.8929 - val_loss: 0.3921 - val_accuracy: 0.8529\n",
            "Epoch 15/30\n",
            "5/5 [==============================] - 0s 10ms/step - loss: 0.2932 - accuracy: 0.8434 - val_loss: 0.4459 - val_accuracy: 0.8529\n",
            "Epoch 16/30\n",
            "5/5 [==============================] - 0s 10ms/step - loss: 0.1837 - accuracy: 0.9274 - val_loss: 0.3676 - val_accuracy: 0.8235\n",
            "Epoch 17/30\n",
            "5/5 [==============================] - 0s 10ms/step - loss: 0.1522 - accuracy: 0.9519 - val_loss: 0.5357 - val_accuracy: 0.7647\n",
            "Epoch 18/30\n",
            "5/5 [==============================] - 0s 10ms/step - loss: 0.1390 - accuracy: 0.9631 - val_loss: 0.4938 - val_accuracy: 0.7941\n",
            "Epoch 19/30\n",
            "5/5 [==============================] - 0s 10ms/step - loss: 0.1445 - accuracy: 0.9308 - val_loss: 0.5126 - val_accuracy: 0.8529\n",
            "Epoch 20/30\n",
            "5/5 [==============================] - 0s 10ms/step - loss: 0.1128 - accuracy: 0.9562 - val_loss: 0.3525 - val_accuracy: 0.8529\n",
            "Epoch 21/30\n",
            "5/5 [==============================] - 0s 10ms/step - loss: 0.0886 - accuracy: 0.9850 - val_loss: 0.3652 - val_accuracy: 0.8529\n",
            "Epoch 22/30\n",
            "5/5 [==============================] - 0s 10ms/step - loss: 0.0513 - accuracy: 0.9828 - val_loss: 0.5152 - val_accuracy: 0.8235\n",
            "Epoch 23/30\n",
            "5/5 [==============================] - 0s 12ms/step - loss: 0.0429 - accuracy: 1.0000 - val_loss: 0.5824 - val_accuracy: 0.8235\n",
            "Epoch 24/30\n",
            "5/5 [==============================] - 0s 11ms/step - loss: 0.0357 - accuracy: 1.0000 - val_loss: 0.5580 - val_accuracy: 0.7941\n",
            "Epoch 25/30\n",
            "5/5 [==============================] - 0s 10ms/step - loss: 0.0217 - accuracy: 1.0000 - val_loss: 0.5061 - val_accuracy: 0.8235\n",
            "Epoch 26/30\n",
            "5/5 [==============================] - 0s 9ms/step - loss: 0.0134 - accuracy: 1.0000 - val_loss: 0.4960 - val_accuracy: 0.8824\n",
            "Epoch 27/30\n",
            "5/5 [==============================] - 0s 9ms/step - loss: 0.0114 - accuracy: 1.0000 - val_loss: 0.4960 - val_accuracy: 0.8824\n",
            "Epoch 28/30\n",
            "5/5 [==============================] - 0s 9ms/step - loss: 0.0078 - accuracy: 1.0000 - val_loss: 0.5255 - val_accuracy: 0.8824\n",
            "Epoch 29/30\n",
            "5/5 [==============================] - 0s 12ms/step - loss: 0.0051 - accuracy: 1.0000 - val_loss: 0.5553 - val_accuracy: 0.8529\n",
            "Epoch 30/30\n",
            "5/5 [==============================] - 0s 10ms/step - loss: 0.0043 - accuracy: 1.0000 - val_loss: 0.5883 - val_accuracy: 0.8824\n"
          ],
          "name": "stdout"
        }
      ]
    },
    {
      "cell_type": "code",
      "metadata": {
        "colab": {
          "base_uri": "https://localhost:8080/",
          "height": 295
        },
        "id": "DAW-_DkGtzeY",
        "outputId": "760d3dab-d966-43b1-b68c-5c8bd2818496"
      },
      "source": [
        "fig = plt.figure()\n",
        "plt.plot(history.history['accuracy'],'r')\n",
        "plt.plot(history.history['val_accuracy'],'b')\n",
        "plt.title('model accuracy')\n",
        "plt.ylabel('accuracy')\n",
        "plt.xlabel('epoch')\n",
        "plt.legend(['train', 'validation'], loc='lower right')\n",
        "plt.grid()"
      ],
      "execution_count": null,
      "outputs": [
        {
          "output_type": "display_data",
          "data": {
            "image/png": "[encoded data removed]",
            "text/plain": [
              "<Figure size 432x288 with 1 Axes>"
            ]
          },
          "metadata": {
            "tags": [],
            "needs_background": "light"
          }
        }
      ]
    },
    {
      "cell_type": "code",
      "metadata": {
        "colab": {
          "base_uri": "https://localhost:8080/",
          "height": 295
        },
        "id": "R_k-bZGXtzg_",
        "outputId": "5a5bce15-ba1f-4910-993b-03eceaa43f8e"
      },
      "source": [
        "fig = plt.figure()\n",
        "plt.plot(history.history['loss'], 'r')\n",
        "plt.plot(history.history['val_loss'], 'b')\n",
        "plt.title('model loss')\n",
        "plt.ylabel('loss')\n",
        "plt.xlabel('epoch')\n",
        "plt.legend(['train', 'validation'], loc = 'upper right')\n",
        "plt.grid()"
      ],
      "execution_count": null,
      "outputs": [
        {
          "output_type": "display_data",
          "data": {
            "image/png": "[encoded data removed]",
            "text/plain": [
              "<Figure size 432x288 with 1 Axes>"
            ]
          },
          "metadata": {
            "tags": [],
            "needs_background": "light"
          }
        }
      ]
    },
    {
      "cell_type": "code",
      "metadata": {
        "colab": {
          "base_uri": "https://localhost:8080/"
        },
        "id": "HYRKLfY1W6Ot",
        "outputId": "febb3b80-5dfb-43fc-c464-b964c37cf7af"
      },
      "source": [
        "Y_pred = model.predict(X_test)\n",
        "y_pred = np.argmax(Y_pred, axis = 1)\n",
        "[test_loss, test_acc] = model.evaluate(X_test, Y_test)\n",
        "print(\"Test Loss\", test_loss)\n",
        "print(\"Test Accuracy\", test_acc)"
      ],
      "execution_count": null,
      "outputs": [
        {
          "output_type": "stream",
          "text": [
            "WARNING:tensorflow:6 out of the last 11 calls to <function Model.make_predict_function.<locals>.predict_function at 0x7fe979152d40> triggered tf.function retracing. Tracing is expensive and the excessive number of tracings could be due to (1) creating @tf.function repeatedly in a loop, (2) passing tensors with different shapes, (3) passing Python objects instead of tensors. For (1), please define your @tf.function outside of the loop. For (2), @tf.function has experimental_relax_shapes=True option that relaxes argument shapes that can avoid unnecessary retracing. For (3), please refer to https://www.tensorflow.org/guide/function#controlling_retracing and https://www.tensorflow.org/api_docs/python/tf/function for  more details.\n",
            "2/2 [==============================] - 0s 6ms/step - loss: 0.3305 - accuracy: 0.8810\n",
            "Test Loss 0.33054348826408386\n",
            "Test Accuracy 0.8809523582458496\n"
          ],
          "name": "stdout"
        }
      ]
    },
    {
      "cell_type": "code",
      "metadata": {
        "colab": {
          "base_uri": "https://localhost:8080/"
        },
        "id": "7a11oDRKW6Xn",
        "outputId": "47ce6a48-a4c1-4fcb-9f4d-75e376532850"
      },
      "source": [
        "class_names = [0, 1]\n",
        "confusion_mtx = confusion_matrix(y_test, y_pred)\n",
        "print(\"confusion matrix=\\n\", confusion_mtx)"
      ],
      "execution_count": null,
      "outputs": [
        {
          "output_type": "stream",
          "text": [
            "confusion matrix=\n",
            " [[22  5]\n",
            " [ 1 14]]\n"
          ],
          "name": "stdout"
        }
      ]
    },
    {
      "cell_type": "markdown",
      "metadata": {
        "id": "SXF6OqaiuQFs"
      },
      "source": [
        "## Six Hidden Layer"
      ]
    },
    {
      "cell_type": "code",
      "metadata": {
        "colab": {
          "base_uri": "https://localhost:8080/"
        },
        "id": "dKt0N7siuQQg",
        "outputId": "48e6b046-7960-4374-de4c-ddc70737fbff"
      },
      "source": [
        "model = Sequential()\n",
        "model.add(Dense(200, activation = 'relu', input_shape = (60,)))\n",
        "model.add(Dense(500, activation = 'relu'))\n",
        "model.add(Dense(800, activation = 'relu'))\n",
        "model.add(Dense(900, activation = 'relu'))\n",
        "model.add(Dense(300, activation = 'relu'))\n",
        "model.add(Dense(100, activation = 'relu'))\n",
        "model.add(Dense(2, activation = 'softmax'))\n",
        "model.summary()\n",
        "model.compile(loss = 'categorical_crossentropy', optimizer = 'adam', metrics = ['accuracy'])"
      ],
      "execution_count": null,
      "outputs": [
        {
          "output_type": "stream",
          "text": [
            "Model: \"sequential_18\"\n",
            "_________________________________________________________________\n",
            "Layer (type)                 Output Shape              Param #   \n",
            "=================================================================\n",
            "dense_85 (Dense)             (None, 200)               12200     \n",
            "_________________________________________________________________\n",
            "dense_86 (Dense)             (None, 500)               100500    \n",
            "_________________________________________________________________\n",
            "dense_87 (Dense)             (None, 800)               400800    \n",
            "_________________________________________________________________\n",
            "dense_88 (Dense)             (None, 900)               720900    \n",
            "_________________________________________________________________\n",
            "dense_89 (Dense)             (None, 300)               270300    \n",
            "_________________________________________________________________\n",
            "dense_90 (Dense)             (None, 100)               30100     \n",
            "_________________________________________________________________\n",
            "dense_91 (Dense)             (None, 2)                 202       \n",
            "=================================================================\n",
            "Total params: 1,535,002\n",
            "Trainable params: 1,535,002\n",
            "Non-trainable params: 0\n",
            "_________________________________________________________________\n"
          ],
          "name": "stdout"
        }
      ]
    },
    {
      "cell_type": "code",
      "metadata": {
        "colab": {
          "base_uri": "https://localhost:8080/"
        },
        "id": "mtLAehE7uQSy",
        "outputId": "5043da9b-ff90-4471-91ab-2fa9823bac8d"
      },
      "source": [
        "history = model.fit(X_train, Y_train, epochs = 20, batch_size = 32, validation_split = 0.2)"
      ],
      "execution_count": null,
      "outputs": [
        {
          "output_type": "stream",
          "text": [
            "Epoch 1/20\n",
            "5/5 [==============================] - 1s 66ms/step - loss: 0.6954 - accuracy: 0.4856 - val_loss: 0.6724 - val_accuracy: 0.5000\n",
            "Epoch 2/20\n",
            "5/5 [==============================] - 0s 10ms/step - loss: 0.6452 - accuracy: 0.6222 - val_loss: 0.6752 - val_accuracy: 0.5588\n",
            "Epoch 3/20\n",
            "5/5 [==============================] - 0s 10ms/step - loss: 0.6994 - accuracy: 0.5528 - val_loss: 0.6356 - val_accuracy: 0.6471\n",
            "Epoch 4/20\n",
            "5/5 [==============================] - 0s 12ms/step - loss: 0.5662 - accuracy: 0.7785 - val_loss: 0.7158 - val_accuracy: 0.5588\n",
            "Epoch 5/20\n",
            "5/5 [==============================] - 0s 12ms/step - loss: 0.5514 - accuracy: 0.6867 - val_loss: 0.5273 - val_accuracy: 0.6765\n",
            "Epoch 6/20\n",
            "5/5 [==============================] - 0s 10ms/step - loss: 0.3917 - accuracy: 0.8602 - val_loss: 0.5136 - val_accuracy: 0.7647\n",
            "Epoch 7/20\n",
            "5/5 [==============================] - 0s 10ms/step - loss: 0.3482 - accuracy: 0.8398 - val_loss: 0.5696 - val_accuracy: 0.7353\n",
            "Epoch 8/20\n",
            "5/5 [==============================] - 0s 10ms/step - loss: 0.2628 - accuracy: 0.8751 - val_loss: 0.5616 - val_accuracy: 0.7353\n",
            "Epoch 9/20\n",
            "5/5 [==============================] - 0s 10ms/step - loss: 0.3269 - accuracy: 0.8330 - val_loss: 0.4910 - val_accuracy: 0.9118\n",
            "Epoch 10/20\n",
            "5/5 [==============================] - 0s 10ms/step - loss: 0.2986 - accuracy: 0.8564 - val_loss: 0.5264 - val_accuracy: 0.9118\n",
            "Epoch 11/20\n",
            "5/5 [==============================] - 0s 10ms/step - loss: 0.2078 - accuracy: 0.9297 - val_loss: 0.5316 - val_accuracy: 0.7059\n",
            "Epoch 12/20\n",
            "5/5 [==============================] - 0s 10ms/step - loss: 0.2149 - accuracy: 0.8972 - val_loss: 0.6307 - val_accuracy: 0.7353\n",
            "Epoch 13/20\n",
            "5/5 [==============================] - 0s 11ms/step - loss: 0.2341 - accuracy: 0.8581 - val_loss: 0.4737 - val_accuracy: 0.7059\n",
            "Epoch 14/20\n",
            "5/5 [==============================] - 0s 10ms/step - loss: 0.2204 - accuracy: 0.9161 - val_loss: 0.5131 - val_accuracy: 0.9118\n",
            "Epoch 15/20\n",
            "5/5 [==============================] - 0s 10ms/step - loss: 0.1528 - accuracy: 0.9743 - val_loss: 0.7857 - val_accuracy: 0.7353\n",
            "Epoch 16/20\n",
            "5/5 [==============================] - 0s 10ms/step - loss: 0.2209 - accuracy: 0.9004 - val_loss: 2.0253 - val_accuracy: 0.7647\n",
            "Epoch 17/20\n",
            "5/5 [==============================] - 0s 10ms/step - loss: 0.2973 - accuracy: 0.8758 - val_loss: 0.6228 - val_accuracy: 0.7353\n",
            "Epoch 18/20\n",
            "5/5 [==============================] - 0s 11ms/step - loss: 0.1491 - accuracy: 0.9354 - val_loss: 0.5993 - val_accuracy: 0.7941\n",
            "Epoch 19/20\n",
            "5/5 [==============================] - 0s 11ms/step - loss: 0.3305 - accuracy: 0.8648 - val_loss: 0.3875 - val_accuracy: 0.7059\n",
            "Epoch 20/20\n",
            "5/5 [==============================] - 0s 9ms/step - loss: 0.1525 - accuracy: 0.9652 - val_loss: 0.4486 - val_accuracy: 0.7647\n"
          ],
          "name": "stdout"
        }
      ]
    },
    {
      "cell_type": "code",
      "metadata": {
        "colab": {
          "base_uri": "https://localhost:8080/",
          "height": 295
        },
        "id": "4fxY94FmuQU2",
        "outputId": "4eca3a19-b1ed-4c9e-d11f-349c48e8ded1"
      },
      "source": [
        "fig = plt.figure()\n",
        "plt.plot(history.history['accuracy'],'r')\n",
        "plt.plot(history.history['val_accuracy'],'b')\n",
        "plt.title('model accuracy')\n",
        "plt.ylabel('accuracy')\n",
        "plt.xlabel('epoch')\n",
        "plt.legend(['train', 'validation'], loc='lower right')\n",
        "plt.grid()"
      ],
      "execution_count": null,
      "outputs": [
        {
          "output_type": "display_data",
          "data": {
            "image/png": "[encoded data removed]",
            "text/plain": [
              "<Figure size 432x288 with 1 Axes>"
            ]
          },
          "metadata": {
            "tags": [],
            "needs_background": "light"
          }
        }
      ]
    },
    {
      "cell_type": "code",
      "metadata": {
        "colab": {
          "base_uri": "https://localhost:8080/",
          "height": 295
        },
        "id": "LCr775zluQXK",
        "outputId": "2ccaed41-4972-4752-bbd3-308e87c82428"
      },
      "source": [
        "fig = plt.figure()\n",
        "plt.plot(history.history['loss'], 'r')\n",
        "plt.plot(history.history['val_loss'], 'b')\n",
        "plt.title('model loss')\n",
        "plt.ylabel('loss')\n",
        "plt.xlabel('epoch')\n",
        "plt.legend(['train', 'validation'], loc = 'upper right')\n",
        "plt.grid()"
      ],
      "execution_count": null,
      "outputs": [
        {
          "output_type": "display_data",
          "data": {
            "image/png": "[encoded data removed]",
            "text/plain": [
              "<Figure size 432x288 with 1 Axes>"
            ]
          },
          "metadata": {
            "tags": [],
            "needs_background": "light"
          }
        }
      ]
    },
    {
      "cell_type": "code",
      "metadata": {
        "colab": {
          "base_uri": "https://localhost:8080/"
        },
        "id": "NdDbJRrkuQaQ",
        "outputId": "eb32030c-9c8a-48ef-f94e-431c275405c0"
      },
      "source": [
        "Y_pred = model.predict(X_test)\n",
        "y_pred = np.argmax(Y_pred, axis = 1)\n",
        "[test_loss, test_acc] = model.evaluate(X_test, Y_test)\n",
        "print(\"Test Loss\", test_loss)\n",
        "print(\"Test Accuracy\", test_acc)"
      ],
      "execution_count": null,
      "outputs": [
        {
          "output_type": "stream",
          "text": [
            "WARNING:tensorflow:6 out of the last 11 calls to <function Model.make_predict_function.<locals>.predict_function at 0x7fe97942e3b0> triggered tf.function retracing. Tracing is expensive and the excessive number of tracings could be due to (1) creating @tf.function repeatedly in a loop, (2) passing tensors with different shapes, (3) passing Python objects instead of tensors. For (1), please define your @tf.function outside of the loop. For (2), @tf.function has experimental_relax_shapes=True option that relaxes argument shapes that can avoid unnecessary retracing. For (3), please refer to https://www.tensorflow.org/guide/function#controlling_retracing and https://www.tensorflow.org/api_docs/python/tf/function for  more details.\n",
            "2/2 [==============================] - 0s 6ms/step - loss: 0.4949 - accuracy: 0.8333\n",
            "Test Loss 0.49493181705474854\n",
            "Test Accuracy 0.8333333134651184\n"
          ],
          "name": "stdout"
        }
      ]
    },
    {
      "cell_type": "code",
      "metadata": {
        "colab": {
          "base_uri": "https://localhost:8080/"
        },
        "id": "SEuH-UqVuQoB",
        "outputId": "fb3c8da8-7b63-4ee7-e120-9f60a10cbec3"
      },
      "source": [
        "class_names = [0, 1]\n",
        "confusion_mtx = confusion_matrix(y_test, y_pred)\n",
        "print(\"confusion matrix=\\n\", confusion_mtx)"
      ],
      "execution_count": null,
      "outputs": [
        {
          "output_type": "stream",
          "text": [
            "confusion matrix=\n",
            " [[21  6]\n",
            " [ 1 14]]\n"
          ],
          "name": "stdout"
        }
      ]
    },
    {
      "cell_type": "markdown",
      "metadata": {
        "id": "lDCcXEHCvA4A"
      },
      "source": [
        "## Fewer Layers"
      ]
    },
    {
      "cell_type": "code",
      "metadata": {
        "colab": {
          "base_uri": "https://localhost:8080/"
        },
        "id": "jq1ku7U9vBBp",
        "outputId": "b9c6036e-cde3-46e1-9b5a-29e6ee30fffa"
      },
      "source": [
        "model = Sequential()\n",
        "model.add(Dense(512, activation = 'relu', input_shape = (60,)))\n",
        "model.add(Dense(2, activation = 'softmax'))\n",
        "model.summary()\n",
        "model.compile(loss = 'categorical_crossentropy', optimizer = 'adam', metrics = ['accuracy'])"
      ],
      "execution_count": null,
      "outputs": [
        {
          "output_type": "stream",
          "text": [
            "Model: \"sequential_20\"\n",
            "_________________________________________________________________\n",
            "Layer (type)                 Output Shape              Param #   \n",
            "=================================================================\n",
            "dense_94 (Dense)             (None, 512)               31232     \n",
            "_________________________________________________________________\n",
            "dense_95 (Dense)             (None, 2)                 1026      \n",
            "=================================================================\n",
            "Total params: 32,258\n",
            "Trainable params: 32,258\n",
            "Non-trainable params: 0\n",
            "_________________________________________________________________\n"
          ],
          "name": "stdout"
        }
      ]
    },
    {
      "cell_type": "code",
      "metadata": {
        "colab": {
          "base_uri": "https://localhost:8080/"
        },
        "id": "GJHJ_7ZbvBD2",
        "outputId": "775a4cb8-db70-4c37-9ea7-6f842b4cf7dd"
      },
      "source": [
        "history = model.fit(X_train, Y_train, epochs = 30, batch_size = 32, validation_split = 0.2)"
      ],
      "execution_count": null,
      "outputs": [
        {
          "output_type": "stream",
          "text": [
            "Epoch 1/30\n",
            "5/5 [==============================] - 1s 58ms/step - loss: 0.6761 - accuracy: 0.5745 - val_loss: 0.6571 - val_accuracy: 0.5882\n",
            "Epoch 2/30\n",
            "5/5 [==============================] - 0s 10ms/step - loss: 0.6191 - accuracy: 0.6483 - val_loss: 0.6307 - val_accuracy: 0.6176\n",
            "Epoch 3/30\n",
            "5/5 [==============================] - 0s 9ms/step - loss: 0.5728 - accuracy: 0.7564 - val_loss: 0.5990 - val_accuracy: 0.7059\n",
            "Epoch 4/30\n",
            "5/5 [==============================] - 0s 11ms/step - loss: 0.5653 - accuracy: 0.7781 - val_loss: 0.5669 - val_accuracy: 0.7353\n",
            "Epoch 5/30\n",
            "5/5 [==============================] - 0s 9ms/step - loss: 0.5054 - accuracy: 0.8242 - val_loss: 0.5508 - val_accuracy: 0.7941\n",
            "Epoch 6/30\n",
            "5/5 [==============================] - 0s 10ms/step - loss: 0.4906 - accuracy: 0.7934 - val_loss: 0.5289 - val_accuracy: 0.8529\n",
            "Epoch 7/30\n",
            "5/5 [==============================] - 0s 10ms/step - loss: 0.4766 - accuracy: 0.7843 - val_loss: 0.5276 - val_accuracy: 0.7941\n",
            "Epoch 8/30\n",
            "5/5 [==============================] - 0s 9ms/step - loss: 0.4581 - accuracy: 0.8108 - val_loss: 0.5206 - val_accuracy: 0.7059\n",
            "Epoch 9/30\n",
            "5/5 [==============================] - 0s 10ms/step - loss: 0.4488 - accuracy: 0.8512 - val_loss: 0.5112 - val_accuracy: 0.7647\n",
            "Epoch 10/30\n",
            "5/5 [==============================] - 0s 9ms/step - loss: 0.4292 - accuracy: 0.8156 - val_loss: 0.5046 - val_accuracy: 0.7353\n",
            "Epoch 11/30\n",
            "5/5 [==============================] - 0s 11ms/step - loss: 0.4258 - accuracy: 0.8539 - val_loss: 0.5060 - val_accuracy: 0.7059\n",
            "Epoch 12/30\n",
            "5/5 [==============================] - 0s 9ms/step - loss: 0.3791 - accuracy: 0.8610 - val_loss: 0.4938 - val_accuracy: 0.7059\n",
            "Epoch 13/30\n",
            "5/5 [==============================] - 0s 9ms/step - loss: 0.3858 - accuracy: 0.8286 - val_loss: 0.4893 - val_accuracy: 0.7353\n",
            "Epoch 14/30\n",
            "5/5 [==============================] - 0s 10ms/step - loss: 0.4082 - accuracy: 0.8271 - val_loss: 0.4826 - val_accuracy: 0.7647\n",
            "Epoch 15/30\n",
            "5/5 [==============================] - 0s 10ms/step - loss: 0.3731 - accuracy: 0.8732 - val_loss: 0.4833 - val_accuracy: 0.7353\n",
            "Epoch 16/30\n",
            "5/5 [==============================] - 0s 10ms/step - loss: 0.3645 - accuracy: 0.8411 - val_loss: 0.4734 - val_accuracy: 0.7647\n",
            "Epoch 17/30\n",
            "5/5 [==============================] - 0s 10ms/step - loss: 0.3304 - accuracy: 0.8555 - val_loss: 0.4861 - val_accuracy: 0.8235\n",
            "Epoch 18/30\n",
            "5/5 [==============================] - 0s 10ms/step - loss: 0.3512 - accuracy: 0.8655 - val_loss: 0.4631 - val_accuracy: 0.7647\n",
            "Epoch 19/30\n",
            "5/5 [==============================] - 0s 11ms/step - loss: 0.3522 - accuracy: 0.8866 - val_loss: 0.4603 - val_accuracy: 0.7647\n",
            "Epoch 20/30\n",
            "5/5 [==============================] - 0s 11ms/step - loss: 0.3200 - accuracy: 0.8919 - val_loss: 0.4642 - val_accuracy: 0.7941\n",
            "Epoch 21/30\n",
            "5/5 [==============================] - 0s 9ms/step - loss: 0.3216 - accuracy: 0.8596 - val_loss: 0.4633 - val_accuracy: 0.7941\n",
            "Epoch 22/30\n",
            "5/5 [==============================] - 0s 10ms/step - loss: 0.3107 - accuracy: 0.8888 - val_loss: 0.4640 - val_accuracy: 0.7941\n",
            "Epoch 23/30\n",
            "5/5 [==============================] - 0s 9ms/step - loss: 0.2967 - accuracy: 0.9042 - val_loss: 0.4614 - val_accuracy: 0.8235\n",
            "Epoch 24/30\n",
            "5/5 [==============================] - 0s 9ms/step - loss: 0.3219 - accuracy: 0.8525 - val_loss: 0.4597 - val_accuracy: 0.8235\n",
            "Epoch 25/30\n",
            "5/5 [==============================] - 0s 10ms/step - loss: 0.2720 - accuracy: 0.9169 - val_loss: 0.4566 - val_accuracy: 0.7647\n",
            "Epoch 26/30\n",
            "5/5 [==============================] - 0s 9ms/step - loss: 0.2906 - accuracy: 0.9035 - val_loss: 0.4788 - val_accuracy: 0.8235\n",
            "Epoch 27/30\n",
            "5/5 [==============================] - 0s 9ms/step - loss: 0.2974 - accuracy: 0.8745 - val_loss: 0.4513 - val_accuracy: 0.7941\n",
            "Epoch 28/30\n",
            "5/5 [==============================] - 0s 9ms/step - loss: 0.2869 - accuracy: 0.8804 - val_loss: 0.4568 - val_accuracy: 0.8529\n",
            "Epoch 29/30\n",
            "5/5 [==============================] - 0s 10ms/step - loss: 0.2882 - accuracy: 0.8784 - val_loss: 0.4844 - val_accuracy: 0.8235\n",
            "Epoch 30/30\n",
            "5/5 [==============================] - 0s 9ms/step - loss: 0.2741 - accuracy: 0.8827 - val_loss: 0.4632 - val_accuracy: 0.7941\n"
          ],
          "name": "stdout"
        }
      ]
    },
    {
      "cell_type": "code",
      "metadata": {
        "colab": {
          "base_uri": "https://localhost:8080/",
          "height": 295
        },
        "id": "4EEejnZ-vBFx",
        "outputId": "2bb91379-27fc-436b-b31e-9c5e7d96903c"
      },
      "source": [
        "fig = plt.figure()\n",
        "plt.plot(history.history['accuracy'],'r')\n",
        "plt.plot(history.history['val_accuracy'],'b')\n",
        "plt.title('model accuracy')\n",
        "plt.ylabel('accuracy')\n",
        "plt.xlabel('epoch')\n",
        "plt.legend(['train', 'validation'], loc='lower right')\n",
        "plt.grid()"
      ],
      "execution_count": null,
      "outputs": [
        {
          "output_type": "display_data",
          "data": {
            "image/png": "[encoded data removed]",
            "text/plain": [
              "<Figure size 432x288 with 1 Axes>"
            ]
          },
          "metadata": {
            "tags": [],
            "needs_background": "light"
          }
        }
      ]
    },
    {
      "cell_type": "code",
      "metadata": {
        "colab": {
          "base_uri": "https://localhost:8080/",
          "height": 295
        },
        "id": "GSDqPRejvBIK",
        "outputId": "8a5315cc-4f91-4f62-db2d-e2ed85db4bff"
      },
      "source": [
        "fig = plt.figure()\n",
        "plt.plot(history.history['loss'], 'r')\n",
        "plt.plot(history.history['val_loss'], 'b')\n",
        "plt.title('model loss')\n",
        "plt.ylabel('loss')\n",
        "plt.xlabel('epoch')\n",
        "plt.legend(['train', 'validation'], loc = 'upper right')\n",
        "plt.grid()"
      ],
      "execution_count": null,
      "outputs": [
        {
          "output_type": "display_data",
          "data": {
            "image/png": "[encoded data removed]",
            "text/plain": [
              "<Figure size 432x288 with 1 Axes>"
            ]
          },
          "metadata": {
            "tags": [],
            "needs_background": "light"
          }
        }
      ]
    },
    {
      "cell_type": "code",
      "metadata": {
        "colab": {
          "base_uri": "https://localhost:8080/"
        },
        "id": "Uv2so8McvBYj",
        "outputId": "f08a9260-1e1d-494a-c160-720260f9f831"
      },
      "source": [
        "Y_pred = model.predict(X_test)\n",
        "y_pred = np.argmax(Y_pred, axis = 1)\n",
        "[test_loss, test_acc] = model.evaluate(X_test, Y_test)\n",
        "print(\"Test Loss\", test_loss)\n",
        "print(\"Test Accuracy\", test_acc)"
      ],
      "execution_count": null,
      "outputs": [
        {
          "output_type": "stream",
          "text": [
            "WARNING:tensorflow:6 out of the last 11 calls to <function Model.make_predict_function.<locals>.predict_function at 0x7fe9790ade60> triggered tf.function retracing. Tracing is expensive and the excessive number of tracings could be due to (1) creating @tf.function repeatedly in a loop, (2) passing tensors with different shapes, (3) passing Python objects instead of tensors. For (1), please define your @tf.function outside of the loop. For (2), @tf.function has experimental_relax_shapes=True option that relaxes argument shapes that can avoid unnecessary retracing. For (3), please refer to https://www.tensorflow.org/guide/function#controlling_retracing and https://www.tensorflow.org/api_docs/python/tf/function for  more details.\n",
            "2/2 [==============================] - 0s 6ms/step - loss: 0.4144 - accuracy: 0.7857\n",
            "Test Loss 0.4144379794597626\n",
            "Test Accuracy 0.7857142686843872\n"
          ],
          "name": "stdout"
        }
      ]
    },
    {
      "cell_type": "code",
      "metadata": {
        "colab": {
          "base_uri": "https://localhost:8080/"
        },
        "id": "XK0-xLxvvBap",
        "outputId": "0c69123a-a111-4efe-8464-95003a3d52c7"
      },
      "source": [
        "class_names = [0, 1]\n",
        "confusion_mtx = confusion_matrix(y_test, y_pred)\n",
        "print(\"confusion matrix=\\n\", confusion_mtx)"
      ],
      "execution_count": null,
      "outputs": [
        {
          "output_type": "stream",
          "text": [
            "confusion matrix=\n",
            " [[21  6]\n",
            " [ 3 12]]\n"
          ],
          "name": "stdout"
        }
      ]
    },
    {
      "cell_type": "markdown",
      "metadata": {
        "id": "9gbXD7XU4OE4"
      },
      "source": [
        "## Fewer Neurons"
      ]
    },
    {
      "cell_type": "code",
      "metadata": {
        "colab": {
          "base_uri": "https://localhost:8080/"
        },
        "id": "2-NdUEz_4OLZ",
        "outputId": "69748426-2b48-4c4a-c23a-110ff0f78d83"
      },
      "source": [
        "model = Sequential()\n",
        "model.add(Dense(200, activation = 'relu', input_shape = (60,)))\n",
        "model.add(Dense(300, activation = 'relu'))\n",
        "model.add(Dense(2, activation = 'softmax'))\n",
        "model.summary()\n",
        "model.compile(loss = 'categorical_crossentropy', optimizer = 'adam', metrics = ['accuracy'])"
      ],
      "execution_count": null,
      "outputs": [
        {
          "output_type": "stream",
          "text": [
            "Model: \"sequential_21\"\n",
            "_________________________________________________________________\n",
            "Layer (type)                 Output Shape              Param #   \n",
            "=================================================================\n",
            "dense_96 (Dense)             (None, 200)               12200     \n",
            "_________________________________________________________________\n",
            "dense_97 (Dense)             (None, 300)               60300     \n",
            "_________________________________________________________________\n",
            "dense_98 (Dense)             (None, 2)                 602       \n",
            "=================================================================\n",
            "Total params: 73,102\n",
            "Trainable params: 73,102\n",
            "Non-trainable params: 0\n",
            "_________________________________________________________________\n"
          ],
          "name": "stdout"
        }
      ]
    },
    {
      "cell_type": "code",
      "metadata": {
        "colab": {
          "base_uri": "https://localhost:8080/"
        },
        "id": "qdtmg11z4OOs",
        "outputId": "66a7fcac-2abf-4e65-a512-78d851277274"
      },
      "source": [
        "history = model.fit(X_train, Y_train, epochs = 30, batch_size = 32, validation_split = 0.2)"
      ],
      "execution_count": null,
      "outputs": [
        {
          "output_type": "stream",
          "text": [
            "Epoch 1/30\n",
            "5/5 [==============================] - 1s 60ms/step - loss: 0.6933 - accuracy: 0.5230 - val_loss: 0.6507 - val_accuracy: 0.5588\n",
            "Epoch 2/30\n",
            "5/5 [==============================] - 0s 9ms/step - loss: 0.5961 - accuracy: 0.6669 - val_loss: 0.6054 - val_accuracy: 0.7059\n",
            "Epoch 3/30\n",
            "5/5 [==============================] - 0s 9ms/step - loss: 0.5799 - accuracy: 0.7648 - val_loss: 0.5731 - val_accuracy: 0.7059\n",
            "Epoch 4/30\n",
            "5/5 [==============================] - 0s 10ms/step - loss: 0.5098 - accuracy: 0.8057 - val_loss: 0.5654 - val_accuracy: 0.7059\n",
            "Epoch 5/30\n",
            "5/5 [==============================] - 0s 10ms/step - loss: 0.4862 - accuracy: 0.7544 - val_loss: 0.5109 - val_accuracy: 0.7353\n",
            "Epoch 6/30\n",
            "5/5 [==============================] - 0s 12ms/step - loss: 0.4621 - accuracy: 0.8000 - val_loss: 0.4888 - val_accuracy: 0.7353\n",
            "Epoch 7/30\n",
            "5/5 [==============================] - 0s 10ms/step - loss: 0.4011 - accuracy: 0.8331 - val_loss: 0.4858 - val_accuracy: 0.7647\n",
            "Epoch 8/30\n",
            "5/5 [==============================] - 0s 10ms/step - loss: 0.3867 - accuracy: 0.8686 - val_loss: 0.4836 - val_accuracy: 0.7353\n",
            "Epoch 9/30\n",
            "5/5 [==============================] - 0s 9ms/step - loss: 0.3624 - accuracy: 0.8463 - val_loss: 0.5290 - val_accuracy: 0.7059\n",
            "Epoch 10/30\n",
            "5/5 [==============================] - 0s 9ms/step - loss: 0.3961 - accuracy: 0.7881 - val_loss: 0.4636 - val_accuracy: 0.7647\n",
            "Epoch 11/30\n",
            "5/5 [==============================] - 0s 9ms/step - loss: 0.3106 - accuracy: 0.9031 - val_loss: 0.4636 - val_accuracy: 0.7353\n",
            "Epoch 12/30\n",
            "5/5 [==============================] - 0s 10ms/step - loss: 0.2942 - accuracy: 0.9233 - val_loss: 0.4359 - val_accuracy: 0.8235\n",
            "Epoch 13/30\n",
            "5/5 [==============================] - 0s 10ms/step - loss: 0.2841 - accuracy: 0.8980 - val_loss: 0.4399 - val_accuracy: 0.8529\n",
            "Epoch 14/30\n",
            "5/5 [==============================] - 0s 9ms/step - loss: 0.2696 - accuracy: 0.9197 - val_loss: 0.4637 - val_accuracy: 0.7647\n",
            "Epoch 15/30\n",
            "5/5 [==============================] - 0s 10ms/step - loss: 0.2985 - accuracy: 0.8570 - val_loss: 0.4061 - val_accuracy: 0.8824\n",
            "Epoch 16/30\n",
            "5/5 [==============================] - 0s 9ms/step - loss: 0.2426 - accuracy: 0.9546 - val_loss: 0.4105 - val_accuracy: 0.7941\n",
            "Epoch 17/30\n",
            "5/5 [==============================] - 0s 11ms/step - loss: 0.2400 - accuracy: 0.9235 - val_loss: 0.4199 - val_accuracy: 0.8529\n",
            "Epoch 18/30\n",
            "5/5 [==============================] - 0s 9ms/step - loss: 0.2297 - accuracy: 0.9251 - val_loss: 0.4253 - val_accuracy: 0.8529\n",
            "Epoch 19/30\n",
            "5/5 [==============================] - 0s 12ms/step - loss: 0.2098 - accuracy: 0.9313 - val_loss: 0.4479 - val_accuracy: 0.8235\n",
            "Epoch 20/30\n",
            "5/5 [==============================] - 0s 10ms/step - loss: 0.1936 - accuracy: 0.9454 - val_loss: 0.4262 - val_accuracy: 0.8235\n",
            "Epoch 21/30\n",
            "5/5 [==============================] - 0s 9ms/step - loss: 0.2124 - accuracy: 0.8940 - val_loss: 0.4200 - val_accuracy: 0.8529\n",
            "Epoch 22/30\n",
            "5/5 [==============================] - 0s 9ms/step - loss: 0.1730 - accuracy: 0.9602 - val_loss: 0.4263 - val_accuracy: 0.8235\n",
            "Epoch 23/30\n",
            "5/5 [==============================] - 0s 10ms/step - loss: 0.1626 - accuracy: 0.9562 - val_loss: 0.3821 - val_accuracy: 0.7941\n",
            "Epoch 24/30\n",
            "5/5 [==============================] - 0s 9ms/step - loss: 0.1468 - accuracy: 0.9769 - val_loss: 0.4577 - val_accuracy: 0.8529\n",
            "Epoch 25/30\n",
            "5/5 [==============================] - 0s 10ms/step - loss: 0.1743 - accuracy: 0.9193 - val_loss: 0.3737 - val_accuracy: 0.8529\n",
            "Epoch 26/30\n",
            "5/5 [==============================] - 0s 10ms/step - loss: 0.1766 - accuracy: 0.9283 - val_loss: 0.3780 - val_accuracy: 0.8824\n",
            "Epoch 27/30\n",
            "5/5 [==============================] - 0s 11ms/step - loss: 0.1788 - accuracy: 0.9212 - val_loss: 0.4366 - val_accuracy: 0.8235\n",
            "Epoch 28/30\n",
            "5/5 [==============================] - 0s 10ms/step - loss: 0.1384 - accuracy: 0.9863 - val_loss: 0.5167 - val_accuracy: 0.7647\n",
            "Epoch 29/30\n",
            "5/5 [==============================] - 0s 9ms/step - loss: 0.2028 - accuracy: 0.8911 - val_loss: 0.4952 - val_accuracy: 0.7941\n",
            "Epoch 30/30\n",
            "5/5 [==============================] - 0s 9ms/step - loss: 0.1579 - accuracy: 0.9437 - val_loss: 0.4404 - val_accuracy: 0.8235\n"
          ],
          "name": "stdout"
        }
      ]
    },
    {
      "cell_type": "code",
      "metadata": {
        "colab": {
          "base_uri": "https://localhost:8080/",
          "height": 295
        },
        "id": "FWKQHVYN4ORD",
        "outputId": "690acef8-8b98-431e-dc27-132c7895d205"
      },
      "source": [
        "fig = plt.figure()\n",
        "plt.plot(history.history['accuracy'],'r')\n",
        "plt.plot(history.history['val_accuracy'],'b')\n",
        "plt.title('model accuracy')\n",
        "plt.ylabel('accuracy')\n",
        "plt.xlabel('epoch')\n",
        "plt.legend(['train', 'validation'], loc='lower right')\n",
        "plt.grid()"
      ],
      "execution_count": null,
      "outputs": [
        {
          "output_type": "display_data",
          "data": {
            "image/png": "[encoded data removed]",
            "text/plain": [
              "<Figure size 432x288 with 1 Axes>"
            ]
          },
          "metadata": {
            "tags": [],
            "needs_background": "light"
          }
        }
      ]
    },
    {
      "cell_type": "code",
      "metadata": {
        "colab": {
          "base_uri": "https://localhost:8080/",
          "height": 295
        },
        "id": "ecNqwwri4OTU",
        "outputId": "67f265ab-9343-4f7f-81bc-752db9e289cb"
      },
      "source": [
        "fig = plt.figure()\n",
        "plt.plot(history.history['loss'], 'r')\n",
        "plt.plot(history.history['val_loss'], 'b')\n",
        "plt.title('model loss')\n",
        "plt.ylabel('loss')\n",
        "plt.xlabel('epoch')\n",
        "plt.legend(['train', 'validation'], loc = 'upper right')\n",
        "plt.grid()"
      ],
      "execution_count": null,
      "outputs": [
        {
          "output_type": "display_data",
          "data": {
            "image/png": "[encoded data removed]",
            "text/plain": [
              "<Figure size 432x288 with 1 Axes>"
            ]
          },
          "metadata": {
            "tags": [],
            "needs_background": "light"
          }
        }
      ]
    },
    {
      "cell_type": "code",
      "metadata": {
        "colab": {
          "base_uri": "https://localhost:8080/"
        },
        "id": "L5P_6T-C4OVS",
        "outputId": "ca777dd7-b868-40a1-e620-7db90b281bfe"
      },
      "source": [
        "Y_pred = model.predict(X_test)\n",
        "y_pred = np.argmax(Y_pred, axis = 1)\n",
        "[test_loss, test_acc] = model.evaluate(X_test, Y_test)\n",
        "print(\"Test Loss\", test_loss)\n",
        "print(\"Test Accuracy\", test_acc)"
      ],
      "execution_count": null,
      "outputs": [
        {
          "output_type": "stream",
          "text": [
            "WARNING:tensorflow:6 out of the last 11 calls to <function Model.make_predict_function.<locals>.predict_function at 0x7fe979222320> triggered tf.function retracing. Tracing is expensive and the excessive number of tracings could be due to (1) creating @tf.function repeatedly in a loop, (2) passing tensors with different shapes, (3) passing Python objects instead of tensors. For (1), please define your @tf.function outside of the loop. For (2), @tf.function has experimental_relax_shapes=True option that relaxes argument shapes that can avoid unnecessary retracing. For (3), please refer to https://www.tensorflow.org/guide/function#controlling_retracing and https://www.tensorflow.org/api_docs/python/tf/function for  more details.\n",
            "2/2 [==============================] - 0s 6ms/step - loss: 0.3190 - accuracy: 0.8333\n",
            "Test Loss 0.31898561120033264\n",
            "Test Accuracy 0.8333333134651184\n"
          ],
          "name": "stdout"
        }
      ]
    },
    {
      "cell_type": "code",
      "metadata": {
        "colab": {
          "base_uri": "https://localhost:8080/"
        },
        "id": "1L-RZCeV4Oi3",
        "outputId": "6f5ded39-a04b-4714-d6eb-1365766fbc5a"
      },
      "source": [
        "class_names = [0, 1]\n",
        "confusion_mtx = confusion_matrix(y_test, y_pred)\n",
        "print(\"confusion matrix=\\n\", confusion_mtx)"
      ],
      "execution_count": null,
      "outputs": [
        {
          "output_type": "stream",
          "text": [
            "confusion matrix=\n",
            " [[24  3]\n",
            " [ 4 11]]\n"
          ],
          "name": "stdout"
        }
      ]
    }
  ]
}