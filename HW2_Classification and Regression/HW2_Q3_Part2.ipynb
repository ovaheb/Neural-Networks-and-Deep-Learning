{
  "nbformat": 4,
  "nbformat_minor": 0,
  "metadata": {
    "colab": {
      "name": "HW2-Q3-Part2.ipynb",
      "provenance": []
    },
    "kernelspec": {
      "name": "python3",
      "display_name": "Python 3"
    },
    "language_info": {
      "name": "python"
    }
  },
  "cells": [
    {
      "cell_type": "markdown",
      "metadata": {
        "id": "Ws96RxCP8UgZ"
      },
      "source": [
        "# Neural Networks and Deep Learning Spring 1400 <img src = 'https://ece.ut.ac.ir/cict-theme/images/footer-logo.png' alt=\"Tehran-University-Logo\" width=\"150\" height=\"150\" align=\"right\">\n",
        "## Homework 2 - Question 3 - Part 2\n",
        "### By Omid Vaheb"
      ]
    },
    {
      "cell_type": "markdown",
      "metadata": {
        "id": "Apc0AWBy8Ybo"
      },
      "source": [
        "## Importing"
      ]
    },
    {
      "cell_type": "code",
      "metadata": {
        "colab": {
          "base_uri": "https://localhost:8080/"
        },
        "id": "gq6ZODb28TIo",
        "outputId": "77558a61-835c-4b49-88dc-dd718da61870"
      },
      "source": [
        "from google.colab import drive\n",
        "import numpy as np\n",
        "import pandas as pd\n",
        "from sklearn import preprocessing\n",
        "from sklearn.model_selection import train_test_split\n",
        "from keras.utils import np_utils\n",
        "import itertools\n",
        "from sklearn.metrics import confusion_matrix , classification_report\n",
        "from keras.models import Sequential\n",
        "from keras.utils import np_utils\n",
        "from keras.layers.core import Dense\n",
        "import matplotlib.pyplot as plt\n",
        "from sklearn.decomposition import PCA\n",
        "import time\n",
        "drive.mount('/content/drive/')"
      ],
      "execution_count": 140,
      "outputs": [
        {
          "output_type": "stream",
          "text": [
            "Drive already mounted at /content/drive/; to attempt to forcibly remount, call drive.mount(\"/content/drive/\", force_remount=True).\n"
          ],
          "name": "stdout"
        }
      ]
    },
    {
      "cell_type": "markdown",
      "metadata": {
        "id": "Oe-LAfm_8axY"
      },
      "source": [
        "## Reading CSV file"
      ]
    },
    {
      "cell_type": "code",
      "metadata": {
        "id": "AKbT74FU8a41"
      },
      "source": [
        "dataframe = pd.read_csv('/content/drive/My Drive/sonar.all-data.csv')"
      ],
      "execution_count": 141,
      "outputs": []
    },
    {
      "cell_type": "markdown",
      "metadata": {
        "id": "YXZamcrI8djX"
      },
      "source": [
        "## Observing Dataset"
      ]
    },
    {
      "cell_type": "code",
      "metadata": {
        "id": "aDw3DlfI8dnd"
      },
      "source": [
        "x = dataframe.drop('Class', inplace=False, axis=1).values\n",
        "min_max_scaler = preprocessing.MinMaxScaler()\n",
        "x_scaled = min_max_scaler.fit_transform(x)\n",
        "dataframe2 = pd.DataFrame(x_scaled)\n",
        "dataframe2['Class'] = dataframe['Class']\n",
        "dataframe = dataframe2"
      ],
      "execution_count": 142,
      "outputs": []
    },
    {
      "cell_type": "code",
      "metadata": {
        "id": "UFSRo8_f8m5i"
      },
      "source": [
        "X = dataframe.drop('Class', inplace = False, axis = 1)\n",
        "y = dataframe['Class']\n",
        "temp = []\n",
        "for i in range(len(y)):\n",
        "    if y[i] == 'R':\n",
        "        temp.append(1)\n",
        "    else:\n",
        "        temp.append(0)\n",
        "y = temp\n",
        "y = pd.Series(y)"
      ],
      "execution_count": 143,
      "outputs": []
    },
    {
      "cell_type": "markdown",
      "metadata": {
        "id": "nn_4H6oN9IGh"
      },
      "source": [
        "## Train and Test Spliting"
      ]
    },
    {
      "cell_type": "code",
      "metadata": {
        "id": "ilM2uWzU8peE"
      },
      "source": [
        "X_train, X_test, y_train, y_test = train_test_split(X, y, test_size = 0.20, random_state = 7)"
      ],
      "execution_count": 144,
      "outputs": []
    },
    {
      "cell_type": "markdown",
      "metadata": {
        "id": "uZ-FaVELbCp4"
      },
      "source": [
        "# Best Model in the Previous Question"
      ]
    },
    {
      "cell_type": "markdown",
      "metadata": {
        "id": "zIyapdlmbLfM"
      },
      "source": [
        "## Preprocess"
      ]
    },
    {
      "cell_type": "code",
      "metadata": {
        "colab": {
          "base_uri": "https://localhost:8080/"
        },
        "id": "qR9Ev4eQbCPp",
        "outputId": "3ea7562d-11b6-42da-b758-1538c370d243"
      },
      "source": [
        "print('Training data shape : ', X_train.shape, y_train.shape)\n",
        "print('Testing data shape : ', X_test.shape, y_test.shape)"
      ],
      "execution_count": 145,
      "outputs": [
        {
          "output_type": "stream",
          "text": [
            "Training data shape :  (166, 60) (166,)\n",
            "Testing data shape :  (42, 60) (42,)\n"
          ],
          "name": "stdout"
        }
      ]
    },
    {
      "cell_type": "code",
      "metadata": {
        "id": "sritf1JNrkY4"
      },
      "source": [
        "t = time.time()"
      ],
      "execution_count": 146,
      "outputs": []
    },
    {
      "cell_type": "code",
      "metadata": {
        "id": "8j2AgNFYbJHf"
      },
      "source": [
        "Y_train = np_utils.to_categorical(y_train)\n",
        "Y_test = np_utils.to_categorical(y_test)"
      ],
      "execution_count": 147,
      "outputs": []
    },
    {
      "cell_type": "code",
      "metadata": {
        "colab": {
          "base_uri": "https://localhost:8080/"
        },
        "id": "-VqjiQlWbJNq",
        "outputId": "6e62d47e-655c-4c00-e0ae-17f6b2caf907"
      },
      "source": [
        "model = Sequential()\n",
        "model.add(Dense(200, activation = 'relu', input_shape = (60,)))\n",
        "model.add(Dense(450, activation = 'relu'))\n",
        "model.add(Dense(400, activation = 'relu'))\n",
        "model.add(Dense(100, activation = 'relu'))\n",
        "model.add(Dense(2, activation = 'softmax'))\n",
        "model.summary()\n",
        "model.compile(loss = 'categorical_crossentropy', optimizer = 'adam', metrics = ['accuracy'])"
      ],
      "execution_count": 148,
      "outputs": [
        {
          "output_type": "stream",
          "text": [
            "Model: \"sequential_12\"\n",
            "_________________________________________________________________\n",
            "Layer (type)                 Output Shape              Param #   \n",
            "=================================================================\n",
            "dense_90 (Dense)             (None, 200)               12200     \n",
            "_________________________________________________________________\n",
            "dense_91 (Dense)             (None, 450)               90450     \n",
            "_________________________________________________________________\n",
            "dense_92 (Dense)             (None, 400)               180400    \n",
            "_________________________________________________________________\n",
            "dense_93 (Dense)             (None, 100)               40100     \n",
            "_________________________________________________________________\n",
            "dense_94 (Dense)             (None, 2)                 202       \n",
            "=================================================================\n",
            "Total params: 323,352\n",
            "Trainable params: 323,352\n",
            "Non-trainable params: 0\n",
            "_________________________________________________________________\n"
          ],
          "name": "stdout"
        }
      ]
    },
    {
      "cell_type": "code",
      "metadata": {
        "colab": {
          "base_uri": "https://localhost:8080/"
        },
        "id": "FKS7c8tgbJPw",
        "outputId": "c2a2c31e-1738-459f-b079-e5636109dbad"
      },
      "source": [
        "history = model.fit(X_train, Y_train, epochs = 30, batch_size = 32, validation_split = 0.2)"
      ],
      "execution_count": 149,
      "outputs": [
        {
          "output_type": "stream",
          "text": [
            "Epoch 1/30\n",
            "5/5 [==============================] - 1s 74ms/step - loss: 0.6738 - accuracy: 0.5696 - val_loss: 0.6127 - val_accuracy: 0.7353\n",
            "Epoch 2/30\n",
            "5/5 [==============================] - 0s 11ms/step - loss: 0.6163 - accuracy: 0.6847 - val_loss: 0.5803 - val_accuracy: 0.6765\n",
            "Epoch 3/30\n",
            "5/5 [==============================] - 0s 13ms/step - loss: 0.5359 - accuracy: 0.7623 - val_loss: 0.5958 - val_accuracy: 0.7059\n",
            "Epoch 4/30\n",
            "5/5 [==============================] - 0s 10ms/step - loss: 0.5105 - accuracy: 0.7498 - val_loss: 0.6006 - val_accuracy: 0.7059\n",
            "Epoch 5/30\n",
            "5/5 [==============================] - 0s 11ms/step - loss: 0.4670 - accuracy: 0.7122 - val_loss: 0.5264 - val_accuracy: 0.7059\n",
            "Epoch 6/30\n",
            "5/5 [==============================] - 0s 11ms/step - loss: 0.3889 - accuracy: 0.8518 - val_loss: 0.4491 - val_accuracy: 0.7353\n",
            "Epoch 7/30\n",
            "5/5 [==============================] - 0s 11ms/step - loss: 0.3179 - accuracy: 0.8573 - val_loss: 0.4327 - val_accuracy: 0.8529\n",
            "Epoch 8/30\n",
            "5/5 [==============================] - 0s 11ms/step - loss: 0.3245 - accuracy: 0.8554 - val_loss: 0.3973 - val_accuracy: 0.9118\n",
            "Epoch 9/30\n",
            "5/5 [==============================] - 0s 12ms/step - loss: 0.2333 - accuracy: 0.9055 - val_loss: 0.4334 - val_accuracy: 0.7647\n",
            "Epoch 10/30\n",
            "5/5 [==============================] - 0s 12ms/step - loss: 0.2044 - accuracy: 0.9176 - val_loss: 0.5279 - val_accuracy: 0.7353\n",
            "Epoch 11/30\n",
            "5/5 [==============================] - 0s 13ms/step - loss: 0.1947 - accuracy: 0.9020 - val_loss: 0.7742 - val_accuracy: 0.7353\n",
            "Epoch 12/30\n",
            "5/5 [==============================] - 0s 11ms/step - loss: 0.2942 - accuracy: 0.8319 - val_loss: 0.3595 - val_accuracy: 0.8824\n",
            "Epoch 13/30\n",
            "5/5 [==============================] - 0s 12ms/step - loss: 0.1247 - accuracy: 0.9736 - val_loss: 0.3288 - val_accuracy: 0.7941\n",
            "Epoch 14/30\n",
            "5/5 [==============================] - 0s 11ms/step - loss: 0.1785 - accuracy: 0.9399 - val_loss: 0.4442 - val_accuracy: 0.7941\n",
            "Epoch 15/30\n",
            "5/5 [==============================] - 0s 11ms/step - loss: 0.1288 - accuracy: 0.9277 - val_loss: 0.4196 - val_accuracy: 0.7941\n",
            "Epoch 16/30\n",
            "5/5 [==============================] - 0s 12ms/step - loss: 0.0730 - accuracy: 0.9918 - val_loss: 0.5447 - val_accuracy: 0.7941\n",
            "Epoch 17/30\n",
            "5/5 [==============================] - 0s 14ms/step - loss: 0.1157 - accuracy: 0.9484 - val_loss: 0.6056 - val_accuracy: 0.7647\n",
            "Epoch 18/30\n",
            "5/5 [==============================] - 0s 12ms/step - loss: 0.0736 - accuracy: 0.9755 - val_loss: 0.5674 - val_accuracy: 0.7941\n",
            "Epoch 19/30\n",
            "5/5 [==============================] - 0s 11ms/step - loss: 0.0607 - accuracy: 0.9785 - val_loss: 0.3908 - val_accuracy: 0.8824\n",
            "Epoch 20/30\n",
            "5/5 [==============================] - 0s 13ms/step - loss: 0.0215 - accuracy: 1.0000 - val_loss: 0.4183 - val_accuracy: 0.8529\n",
            "Epoch 21/30\n",
            "5/5 [==============================] - 0s 13ms/step - loss: 0.0162 - accuracy: 1.0000 - val_loss: 0.4679 - val_accuracy: 0.8824\n",
            "Epoch 22/30\n",
            "5/5 [==============================] - 0s 11ms/step - loss: 0.0097 - accuracy: 1.0000 - val_loss: 0.4980 - val_accuracy: 0.8824\n",
            "Epoch 23/30\n",
            "5/5 [==============================] - 0s 12ms/step - loss: 0.0088 - accuracy: 1.0000 - val_loss: 0.4829 - val_accuracy: 0.8529\n",
            "Epoch 24/30\n",
            "5/5 [==============================] - 0s 11ms/step - loss: 0.0074 - accuracy: 1.0000 - val_loss: 0.4909 - val_accuracy: 0.8824\n",
            "Epoch 25/30\n",
            "5/5 [==============================] - 0s 12ms/step - loss: 0.0043 - accuracy: 1.0000 - val_loss: 0.5015 - val_accuracy: 0.8529\n",
            "Epoch 26/30\n",
            "5/5 [==============================] - 0s 11ms/step - loss: 0.0037 - accuracy: 1.0000 - val_loss: 0.4948 - val_accuracy: 0.8529\n",
            "Epoch 27/30\n",
            "5/5 [==============================] - 0s 13ms/step - loss: 0.0024 - accuracy: 1.0000 - val_loss: 0.5044 - val_accuracy: 0.8529\n",
            "Epoch 28/30\n",
            "5/5 [==============================] - 0s 12ms/step - loss: 0.0018 - accuracy: 1.0000 - val_loss: 0.5100 - val_accuracy: 0.8529\n",
            "Epoch 29/30\n",
            "5/5 [==============================] - 0s 11ms/step - loss: 0.0016 - accuracy: 1.0000 - val_loss: 0.5152 - val_accuracy: 0.8824\n",
            "Epoch 30/30\n",
            "5/5 [==============================] - 0s 11ms/step - loss: 0.0016 - accuracy: 1.0000 - val_loss: 0.5251 - val_accuracy: 0.8824\n"
          ],
          "name": "stdout"
        }
      ]
    },
    {
      "cell_type": "code",
      "metadata": {
        "id": "Zc7ki0W0rgsH"
      },
      "source": [
        "elapsed = time.time() - t"
      ],
      "execution_count": 150,
      "outputs": []
    },
    {
      "cell_type": "code",
      "metadata": {
        "colab": {
          "base_uri": "https://localhost:8080/"
        },
        "id": "u9HLYM4IrhgK",
        "outputId": "016ee5c1-2af3-4b3a-c768-b56068759861"
      },
      "source": [
        "print('Elapsed Time : ', elapsed)"
      ],
      "execution_count": 151,
      "outputs": [
        {
          "output_type": "stream",
          "text": [
            "Elapsed Time :  2.5207931995391846\n"
          ],
          "name": "stdout"
        }
      ]
    },
    {
      "cell_type": "code",
      "metadata": {
        "colab": {
          "base_uri": "https://localhost:8080/",
          "height": 295
        },
        "id": "1Q6gVaaLbJR5",
        "outputId": "aa2aa8c1-d047-4744-99ad-382fe0c8baeb"
      },
      "source": [
        "fig = plt.figure()\n",
        "plt.plot(history.history['accuracy'],'r')\n",
        "plt.plot(history.history['val_accuracy'],'b')\n",
        "plt.title('model accuracy')\n",
        "plt.ylabel('accuracy')\n",
        "plt.xlabel('epoch')\n",
        "plt.legend(['train', 'validation'], loc='lower right')\n",
        "plt.grid()"
      ],
      "execution_count": 152,
      "outputs": [
        {
          "output_type": "display_data",
          "data": {
            "image/png": "[encoded data removed]",
            "text/plain": [
              "<Figure size 432x288 with 1 Axes>"
            ]
          },
          "metadata": {
            "tags": [],
            "needs_background": "light"
          }
        }
      ]
    },
    {
      "cell_type": "code",
      "metadata": {
        "colab": {
          "base_uri": "https://localhost:8080/",
          "height": 295
        },
        "id": "dBzrP0REbXBu",
        "outputId": "fe8bf2e1-6f47-4978-ff2a-14ef8c714a32"
      },
      "source": [
        "fig = plt.figure()\n",
        "plt.plot(history.history['loss'], 'r')\n",
        "plt.plot(history.history['val_loss'], 'b')\n",
        "plt.title('model loss')\n",
        "plt.ylabel('loss')\n",
        "plt.xlabel('epoch')\n",
        "plt.legend(['train', 'validation'], loc = 'upper right')\n",
        "plt.grid()"
      ],
      "execution_count": 153,
      "outputs": [
        {
          "output_type": "display_data",
          "data": {
            "image/png": "[encoded data removed]",
            "text/plain": [
              "<Figure size 432x288 with 1 Axes>"
            ]
          },
          "metadata": {
            "tags": [],
            "needs_background": "light"
          }
        }
      ]
    },
    {
      "cell_type": "code",
      "metadata": {
        "colab": {
          "base_uri": "https://localhost:8080/"
        },
        "id": "tB861uqrbXEG",
        "outputId": "78ccf7b4-209d-4172-96ba-9f562f7cc216"
      },
      "source": [
        "Y_pred = model.predict(X_test)\n",
        "y_pred = np.argmax(Y_pred, axis = 1)\n",
        "[test_loss, test_acc] = model.evaluate(X_test, Y_test)\n",
        "print(\"Test Loss\", test_loss)\n",
        "print(\"Test Accuracy\", test_acc)"
      ],
      "execution_count": 154,
      "outputs": [
        {
          "output_type": "stream",
          "text": [
            "2/2 [==============================] - 0s 5ms/step - loss: 0.6159 - accuracy: 0.8571\n",
            "Test Loss 0.6158812642097473\n",
            "Test Accuracy 0.8571428656578064\n"
          ],
          "name": "stdout"
        }
      ]
    },
    {
      "cell_type": "code",
      "metadata": {
        "colab": {
          "base_uri": "https://localhost:8080/"
        },
        "id": "3SuUcmR4beES",
        "outputId": "22589b11-1cbb-4a77-979c-57d7ddc61ccb"
      },
      "source": [
        "class_names = [0, 1]\n",
        "confusion_mtx = confusion_matrix(y_test, y_pred)\n",
        "print(\"confusion matrix=\\n\", confusion_mtx)"
      ],
      "execution_count": 155,
      "outputs": [
        {
          "output_type": "stream",
          "text": [
            "confusion matrix=\n",
            " [[22  5]\n",
            " [ 1 14]]\n"
          ],
          "name": "stdout"
        }
      ]
    },
    {
      "cell_type": "markdown",
      "metadata": {
        "id": "nFb2qI4Abgz8"
      },
      "source": [
        "# Second Model Using PCA"
      ]
    },
    {
      "cell_type": "markdown",
      "metadata": {
        "id": "Mr0dZVCT9QR-"
      },
      "source": [
        "## Preprocess"
      ]
    },
    {
      "cell_type": "code",
      "metadata": {
        "id": "OrNEqMaBb5-Z"
      },
      "source": [
        "X_train, X_test, y_train, y_test = train_test_split(X, y, test_size = 0.20, random_state = 7)"
      ],
      "execution_count": 156,
      "outputs": []
    },
    {
      "cell_type": "code",
      "metadata": {
        "colab": {
          "base_uri": "https://localhost:8080/"
        },
        "id": "-pTfpeo-9Pjo",
        "outputId": "2a8cc0f6-4ccc-45f3-82ee-28fa1f53c93c"
      },
      "source": [
        "print('Training data shape : ', X_train.shape, y_train.shape)\n",
        "print('Testing data shape : ', X_test.shape, y_test.shape)"
      ],
      "execution_count": 157,
      "outputs": [
        {
          "output_type": "stream",
          "text": [
            "Training data shape :  (166, 60) (166,)\n",
            "Testing data shape :  (42, 60) (42,)\n"
          ],
          "name": "stdout"
        }
      ]
    },
    {
      "cell_type": "code",
      "metadata": {
        "id": "eczZcVQarsuz"
      },
      "source": [
        "t = time.time()"
      ],
      "execution_count": 158,
      "outputs": []
    },
    {
      "cell_type": "code",
      "metadata": {
        "id": "B6QQw_AU9URm"
      },
      "source": [
        "Y_train = np_utils.to_categorical(y_train)\n",
        "Y_test = np_utils.to_categorical(y_test)"
      ],
      "execution_count": 159,
      "outputs": []
    },
    {
      "cell_type": "code",
      "metadata": {
        "colab": {
          "base_uri": "https://localhost:8080/"
        },
        "id": "IKvtCmkAZSfA",
        "outputId": "97f339ff-c384-40d3-c8cf-17ecc24d4a46"
      },
      "source": [
        "pca = PCA(.95)\n",
        "pca.fit(X_train)\n",
        "pca.n_components_"
      ],
      "execution_count": 160,
      "outputs": [
        {
          "output_type": "execute_result",
          "data": {
            "text/plain": [
              "27"
            ]
          },
          "metadata": {
            "tags": []
          },
          "execution_count": 160
        }
      ]
    },
    {
      "cell_type": "code",
      "metadata": {
        "id": "UflKQOhlZi6_"
      },
      "source": [
        "X_train = pca.transform(X_train)\n",
        "X_test = pca.transform(X_test)"
      ],
      "execution_count": 161,
      "outputs": []
    },
    {
      "cell_type": "markdown",
      "metadata": {
        "id": "68ImpxqX9T1U"
      },
      "source": [
        "## Model"
      ]
    },
    {
      "cell_type": "code",
      "metadata": {
        "colab": {
          "base_uri": "https://localhost:8080/"
        },
        "id": "NEXcgPtA9Ym-",
        "outputId": "3f5c3338-1219-47c1-847a-1ef9b90d1f47"
      },
      "source": [
        "model = Sequential()\n",
        "model.add(Dense(200, activation = 'relu', input_shape = (27,)))\n",
        "model.add(Dense(450, activation = 'relu'))\n",
        "model.add(Dense(400, activation = 'relu'))\n",
        "model.add(Dense(100, activation = 'relu'))\n",
        "model.add(Dense(2, activation = 'softmax'))\n",
        "model.summary()\n",
        "model.compile(loss = 'categorical_crossentropy', optimizer = 'adam', metrics = ['accuracy'])"
      ],
      "execution_count": 162,
      "outputs": [
        {
          "output_type": "stream",
          "text": [
            "Model: \"sequential_13\"\n",
            "_________________________________________________________________\n",
            "Layer (type)                 Output Shape              Param #   \n",
            "=================================================================\n",
            "dense_95 (Dense)             (None, 200)               5600      \n",
            "_________________________________________________________________\n",
            "dense_96 (Dense)             (None, 450)               90450     \n",
            "_________________________________________________________________\n",
            "dense_97 (Dense)             (None, 400)               180400    \n",
            "_________________________________________________________________\n",
            "dense_98 (Dense)             (None, 100)               40100     \n",
            "_________________________________________________________________\n",
            "dense_99 (Dense)             (None, 2)                 202       \n",
            "=================================================================\n",
            "Total params: 316,752\n",
            "Trainable params: 316,752\n",
            "Non-trainable params: 0\n",
            "_________________________________________________________________\n"
          ],
          "name": "stdout"
        }
      ]
    },
    {
      "cell_type": "code",
      "metadata": {
        "colab": {
          "base_uri": "https://localhost:8080/"
        },
        "id": "ew2UGY_y9YpK",
        "outputId": "f715bb08-25d0-4b17-d43c-b88a33652c2c"
      },
      "source": [
        "history = model.fit(X_train, Y_train, epochs = 10, batch_size = 32, validation_split = 0.2)"
      ],
      "execution_count": 163,
      "outputs": [
        {
          "output_type": "stream",
          "text": [
            "Epoch 1/10\n",
            "5/5 [==============================] - 1s 45ms/step - loss: 0.6787 - accuracy: 0.5344 - val_loss: 0.6027 - val_accuracy: 0.7647\n",
            "Epoch 2/10\n",
            "5/5 [==============================] - 0s 13ms/step - loss: 0.5535 - accuracy: 0.8792 - val_loss: 0.4743 - val_accuracy: 0.8235\n",
            "Epoch 3/10\n",
            "5/5 [==============================] - 0s 12ms/step - loss: 0.3768 - accuracy: 0.8954 - val_loss: 0.4487 - val_accuracy: 0.7941\n",
            "Epoch 4/10\n",
            "5/5 [==============================] - 0s 12ms/step - loss: 0.2189 - accuracy: 0.9405 - val_loss: 0.4906 - val_accuracy: 0.7941\n",
            "Epoch 5/10\n",
            "5/5 [==============================] - 0s 12ms/step - loss: 0.1377 - accuracy: 0.9554 - val_loss: 0.5107 - val_accuracy: 0.8235\n",
            "Epoch 6/10\n",
            "5/5 [==============================] - 0s 12ms/step - loss: 0.0828 - accuracy: 0.9785 - val_loss: 0.6693 - val_accuracy: 0.7647\n",
            "Epoch 7/10\n",
            "5/5 [==============================] - 0s 12ms/step - loss: 0.0459 - accuracy: 0.9944 - val_loss: 0.7772 - val_accuracy: 0.7941\n",
            "Epoch 8/10\n",
            "5/5 [==============================] - 0s 13ms/step - loss: 0.0193 - accuracy: 1.0000 - val_loss: 0.6935 - val_accuracy: 0.7647\n",
            "Epoch 9/10\n",
            "5/5 [==============================] - 0s 13ms/step - loss: 0.0091 - accuracy: 1.0000 - val_loss: 0.5664 - val_accuracy: 0.7941\n",
            "Epoch 10/10\n",
            "5/5 [==============================] - 0s 15ms/step - loss: 0.0095 - accuracy: 1.0000 - val_loss: 0.6998 - val_accuracy: 0.8529\n"
          ],
          "name": "stdout"
        }
      ]
    },
    {
      "cell_type": "code",
      "metadata": {
        "id": "dKMztFj5r1-b"
      },
      "source": [
        "elapsed = time.time() - t"
      ],
      "execution_count": 164,
      "outputs": []
    },
    {
      "cell_type": "code",
      "metadata": {
        "colab": {
          "base_uri": "https://localhost:8080/"
        },
        "id": "NdCXMliOr3Cc",
        "outputId": "c9cab763-b300-40e0-e8d4-6da5d9198ce0"
      },
      "source": [
        "print('Elapsed Time : ', elapsed)"
      ],
      "execution_count": 165,
      "outputs": [
        {
          "output_type": "stream",
          "text": [
            "Elapsed Time :  1.324458122253418\n"
          ],
          "name": "stdout"
        }
      ]
    },
    {
      "cell_type": "code",
      "metadata": {
        "colab": {
          "base_uri": "https://localhost:8080/",
          "height": 295
        },
        "id": "So7UeNwj9Yrc",
        "outputId": "aaf47704-22a0-468d-cde7-b49e9fe6a29f"
      },
      "source": [
        "fig = plt.figure()\n",
        "plt.plot(history.history['accuracy'],'r')\n",
        "plt.plot(history.history['val_accuracy'],'b')\n",
        "plt.title('model accuracy')\n",
        "plt.ylabel('accuracy')\n",
        "plt.xlabel('epoch')\n",
        "plt.legend(['train', 'validation'], loc='lower right')\n",
        "plt.grid()"
      ],
      "execution_count": 166,
      "outputs": [
        {
          "output_type": "display_data",
          "data": {
            "image/png": "[encoded data removed]",
            "text/plain": [
              "<Figure size 432x288 with 1 Axes>"
            ]
          },
          "metadata": {
            "tags": [],
            "needs_background": "light"
          }
        }
      ]
    },
    {
      "cell_type": "code",
      "metadata": {
        "colab": {
          "base_uri": "https://localhost:8080/",
          "height": 295
        },
        "id": "bwf-Yf549Ytm",
        "outputId": "373bef78-0058-4546-ef95-4bc81a6569e8"
      },
      "source": [
        "fig = plt.figure()\n",
        "plt.plot(history.history['loss'], 'r')\n",
        "plt.plot(history.history['val_loss'], 'b')\n",
        "plt.title('model loss')\n",
        "plt.ylabel('loss')\n",
        "plt.xlabel('epoch')\n",
        "plt.legend(['train', 'validation'], loc = 'upper right')\n",
        "plt.grid()"
      ],
      "execution_count": 167,
      "outputs": [
        {
          "output_type": "display_data",
          "data": {
            "image/png": "[encoded data removed]",
            "text/plain": [
              "<Figure size 432x288 with 1 Axes>"
            ]
          },
          "metadata": {
            "tags": [],
            "needs_background": "light"
          }
        }
      ]
    },
    {
      "cell_type": "code",
      "metadata": {
        "colab": {
          "base_uri": "https://localhost:8080/"
        },
        "id": "AbymoitH9Yvc",
        "outputId": "cd0a095c-7435-4be5-a19d-73ea6d5ff4b9"
      },
      "source": [
        "Y_pred = model.predict(X_test)\n",
        "y_pred = np.argmax(Y_pred, axis = 1)\n",
        "[test_loss, test_acc] = model.evaluate(X_test, Y_test)\n",
        "print(\"Test Loss\", test_loss)\n",
        "print(\"Test Accuracy\", test_acc)"
      ],
      "execution_count": 168,
      "outputs": [
        {
          "output_type": "stream",
          "text": [
            "2/2 [==============================] - 0s 7ms/step - loss: 0.7445 - accuracy: 0.8571\n",
            "Test Loss 0.7445240020751953\n",
            "Test Accuracy 0.8571428656578064\n"
          ],
          "name": "stdout"
        }
      ]
    },
    {
      "cell_type": "code",
      "metadata": {
        "colab": {
          "base_uri": "https://localhost:8080/"
        },
        "id": "-v6s1Drh9et3",
        "outputId": "1caaeb76-1dc0-4ecb-ce5d-65442661b7a2"
      },
      "source": [
        "class_names = [0, 1]\n",
        "confusion_mtx = confusion_matrix(y_test, y_pred)\n",
        "print(\"confusion matrix=\\n\", confusion_mtx)"
      ],
      "execution_count": 169,
      "outputs": [
        {
          "output_type": "stream",
          "text": [
            "confusion matrix=\n",
            " [[24  3]\n",
            " [ 3 12]]\n"
          ],
          "name": "stdout"
        }
      ]
    },
    {
      "cell_type": "markdown",
      "metadata": {
        "id": "lnoFn6Mgbknx"
      },
      "source": [
        "# Third Model Using Auto-encoder"
      ]
    },
    {
      "cell_type": "code",
      "metadata": {
        "id": "bTIruLpbbkug"
      },
      "source": [
        "X_train, X_test, y_train, y_test = train_test_split(X, y, test_size = 0.20, random_state = 7)"
      ],
      "execution_count": 332,
      "outputs": []
    },
    {
      "cell_type": "code",
      "metadata": {
        "colab": {
          "base_uri": "https://localhost:8080/"
        },
        "id": "nttTDF7Rbkx6",
        "outputId": "ce8ac318-5acb-4f57-962a-1d079411ab29"
      },
      "source": [
        "print('Training data shape : ', X_train.shape, y_train.shape)\n",
        "print('Testing data shape : ', X_test.shape, y_test.shape)"
      ],
      "execution_count": 333,
      "outputs": [
        {
          "output_type": "stream",
          "text": [
            "Training data shape :  (166, 60) (166,)\n",
            "Testing data shape :  (42, 60) (42,)\n"
          ],
          "name": "stdout"
        }
      ]
    },
    {
      "cell_type": "code",
      "metadata": {
        "id": "XZMFO6rbsG1f"
      },
      "source": [
        "t = time.time()"
      ],
      "execution_count": 334,
      "outputs": []
    },
    {
      "cell_type": "code",
      "metadata": {
        "id": "YhQj6_OncEpA"
      },
      "source": [
        "Y_train = np_utils.to_categorical(y_train)\n",
        "Y_test = np_utils.to_categorical(y_test)"
      ],
      "execution_count": 335,
      "outputs": []
    },
    {
      "cell_type": "code",
      "metadata": {
        "id": "nMrEYSU-c_VB"
      },
      "source": [
        "from sklearn.datasets import make_classification\n",
        "from sklearn.preprocessing import MinMaxScaler\n",
        "from sklearn.model_selection import train_test_split\n",
        "from tensorflow.keras.models import Model\n",
        "from tensorflow.keras.layers import Input\n",
        "from tensorflow.keras.layers import Dense\n",
        "from tensorflow.keras.layers import LeakyReLU\n",
        "from tensorflow.keras.layers import BatchNormalization\n",
        "from tensorflow.keras.utils import plot_model\n",
        "from matplotlib import pyplot"
      ],
      "execution_count": 336,
      "outputs": []
    },
    {
      "cell_type": "code",
      "metadata": {
        "id": "Rf8DkWt9chTh"
      },
      "source": [
        "n_inputs = 60\n",
        "# define encoder\n",
        "visible = Input(shape=(n_inputs,))\n",
        "# encoder level 1\n",
        "e = Dense(n_inputs*2)(visible)\n",
        "e = BatchNormalization()(e)\n",
        "e = LeakyReLU()(e)\n",
        "# encoder level 2\n",
        "e = Dense(n_inputs)(e)\n",
        "e = BatchNormalization()(e)\n",
        "e = LeakyReLU()(e)\n",
        "# bottleneck\n",
        "n_bottleneck = round(float(n_inputs) / 6.0)\n",
        "bottleneck = Dense(n_bottleneck)(e)"
      ],
      "execution_count": 337,
      "outputs": []
    },
    {
      "cell_type": "code",
      "metadata": {
        "id": "kg9I4nREchYP"
      },
      "source": [
        "# define decoder, level 1\n",
        "d = Dense(n_inputs)(bottleneck)\n",
        "d = BatchNormalization()(d)\n",
        "d = LeakyReLU()(d)\n",
        "# decoder level 2\n",
        "d = Dense(n_inputs*2)(d)\n",
        "d = BatchNormalization()(d)\n",
        "d = LeakyReLU()(d)\n",
        "# output layer\n",
        "output = Dense(n_inputs, activation='linear')(d)\n",
        "# define autoencoder model\n",
        "model = Model(inputs=visible, outputs=output)"
      ],
      "execution_count": 338,
      "outputs": []
    },
    {
      "cell_type": "code",
      "metadata": {
        "id": "j_50YPoxchbb"
      },
      "source": [
        "# compile autoencoder model\n",
        "model.compile(optimizer='adam', loss='mse')"
      ],
      "execution_count": 339,
      "outputs": []
    },
    {
      "cell_type": "code",
      "metadata": {
        "colab": {
          "base_uri": "https://localhost:8080/"
        },
        "id": "Cc27s8k5chc3",
        "outputId": "384700b8-4c53-4362-e9df-f603944e319f"
      },
      "source": [
        "# fit the autoencoder model to reconstruct input\n",
        "history = model.fit(X_train, X_train, epochs=100, batch_size=16, verbose=2, validation_data=(X_test,X_test))"
      ],
      "execution_count": 340,
      "outputs": [
        {
          "output_type": "stream",
          "text": [
            "Epoch 1/100\n",
            "11/11 - 1s - loss: 0.6739 - val_loss: 0.1836\n",
            "Epoch 2/100\n",
            "11/11 - 0s - loss: 0.2694 - val_loss: 0.1565\n",
            "Epoch 3/100\n",
            "11/11 - 0s - loss: 0.1322 - val_loss: 0.1402\n",
            "Epoch 4/100\n",
            "11/11 - 0s - loss: 0.0839 - val_loss: 0.1274\n",
            "Epoch 5/100\n",
            "11/11 - 0s - loss: 0.0642 - val_loss: 0.1175\n",
            "Epoch 6/100\n",
            "11/11 - 0s - loss: 0.0563 - val_loss: 0.1131\n",
            "Epoch 7/100\n",
            "11/11 - 0s - loss: 0.0509 - val_loss: 0.1038\n",
            "Epoch 8/100\n",
            "11/11 - 0s - loss: 0.0478 - val_loss: 0.0967\n",
            "Epoch 9/100\n",
            "11/11 - 0s - loss: 0.0424 - val_loss: 0.0905\n",
            "Epoch 10/100\n",
            "11/11 - 0s - loss: 0.0385 - val_loss: 0.0829\n",
            "Epoch 11/100\n",
            "11/11 - 0s - loss: 0.0367 - val_loss: 0.0768\n",
            "Epoch 12/100\n",
            "11/11 - 0s - loss: 0.0349 - val_loss: 0.0717\n",
            "Epoch 13/100\n",
            "11/11 - 0s - loss: 0.0348 - val_loss: 0.0647\n",
            "Epoch 14/100\n",
            "11/11 - 0s - loss: 0.0305 - val_loss: 0.0599\n",
            "Epoch 15/100\n",
            "11/11 - 0s - loss: 0.0314 - val_loss: 0.0538\n",
            "Epoch 16/100\n",
            "11/11 - 0s - loss: 0.0296 - val_loss: 0.0511\n",
            "Epoch 17/100\n",
            "11/11 - 0s - loss: 0.0299 - val_loss: 0.0474\n",
            "Epoch 18/100\n",
            "11/11 - 0s - loss: 0.0282 - val_loss: 0.0438\n",
            "Epoch 19/100\n",
            "11/11 - 0s - loss: 0.0285 - val_loss: 0.0413\n",
            "Epoch 20/100\n",
            "11/11 - 0s - loss: 0.0270 - val_loss: 0.0391\n",
            "Epoch 21/100\n",
            "11/11 - 0s - loss: 0.0274 - val_loss: 0.0360\n",
            "Epoch 22/100\n",
            "11/11 - 0s - loss: 0.0279 - val_loss: 0.0347\n",
            "Epoch 23/100\n",
            "11/11 - 0s - loss: 0.0273 - val_loss: 0.0316\n",
            "Epoch 24/100\n",
            "11/11 - 0s - loss: 0.0271 - val_loss: 0.0320\n",
            "Epoch 25/100\n",
            "11/11 - 0s - loss: 0.0254 - val_loss: 0.0283\n",
            "Epoch 26/100\n",
            "11/11 - 0s - loss: 0.0245 - val_loss: 0.0277\n",
            "Epoch 27/100\n",
            "11/11 - 0s - loss: 0.0242 - val_loss: 0.0276\n",
            "Epoch 28/100\n",
            "11/11 - 0s - loss: 0.0249 - val_loss: 0.0267\n",
            "Epoch 29/100\n",
            "11/11 - 0s - loss: 0.0228 - val_loss: 0.0256\n",
            "Epoch 30/100\n",
            "11/11 - 0s - loss: 0.0230 - val_loss: 0.0248\n",
            "Epoch 31/100\n",
            "11/11 - 0s - loss: 0.0229 - val_loss: 0.0239\n",
            "Epoch 32/100\n",
            "11/11 - 0s - loss: 0.0249 - val_loss: 0.0244\n",
            "Epoch 33/100\n",
            "11/11 - 0s - loss: 0.0231 - val_loss: 0.0235\n",
            "Epoch 34/100\n",
            "11/11 - 0s - loss: 0.0224 - val_loss: 0.0226\n",
            "Epoch 35/100\n",
            "11/11 - 0s - loss: 0.0211 - val_loss: 0.0223\n",
            "Epoch 36/100\n",
            "11/11 - 0s - loss: 0.0210 - val_loss: 0.0225\n",
            "Epoch 37/100\n",
            "11/11 - 0s - loss: 0.0205 - val_loss: 0.0222\n",
            "Epoch 38/100\n",
            "11/11 - 0s - loss: 0.0218 - val_loss: 0.0222\n",
            "Epoch 39/100\n",
            "11/11 - 0s - loss: 0.0203 - val_loss: 0.0222\n",
            "Epoch 40/100\n",
            "11/11 - 0s - loss: 0.0207 - val_loss: 0.0214\n",
            "Epoch 41/100\n",
            "11/11 - 0s - loss: 0.0211 - val_loss: 0.0216\n",
            "Epoch 42/100\n",
            "11/11 - 0s - loss: 0.0210 - val_loss: 0.0217\n",
            "Epoch 43/100\n",
            "11/11 - 0s - loss: 0.0206 - val_loss: 0.0217\n",
            "Epoch 44/100\n",
            "11/11 - 0s - loss: 0.0205 - val_loss: 0.0214\n",
            "Epoch 45/100\n",
            "11/11 - 0s - loss: 0.0204 - val_loss: 0.0216\n",
            "Epoch 46/100\n",
            "11/11 - 0s - loss: 0.0195 - val_loss: 0.0218\n",
            "Epoch 47/100\n",
            "11/11 - 0s - loss: 0.0206 - val_loss: 0.0212\n",
            "Epoch 48/100\n",
            "11/11 - 0s - loss: 0.0202 - val_loss: 0.0216\n",
            "Epoch 49/100\n",
            "11/11 - 0s - loss: 0.0207 - val_loss: 0.0215\n",
            "Epoch 50/100\n",
            "11/11 - 0s - loss: 0.0182 - val_loss: 0.0209\n",
            "Epoch 51/100\n",
            "11/11 - 0s - loss: 0.0189 - val_loss: 0.0208\n",
            "Epoch 52/100\n",
            "11/11 - 0s - loss: 0.0195 - val_loss: 0.0207\n",
            "Epoch 53/100\n",
            "11/11 - 0s - loss: 0.0186 - val_loss: 0.0206\n",
            "Epoch 54/100\n",
            "11/11 - 0s - loss: 0.0191 - val_loss: 0.0210\n",
            "Epoch 55/100\n",
            "11/11 - 0s - loss: 0.0201 - val_loss: 0.0203\n",
            "Epoch 56/100\n",
            "11/11 - 0s - loss: 0.0189 - val_loss: 0.0209\n",
            "Epoch 57/100\n",
            "11/11 - 0s - loss: 0.0179 - val_loss: 0.0204\n",
            "Epoch 58/100\n",
            "11/11 - 0s - loss: 0.0186 - val_loss: 0.0206\n",
            "Epoch 59/100\n",
            "11/11 - 0s - loss: 0.0186 - val_loss: 0.0195\n",
            "Epoch 60/100\n",
            "11/11 - 0s - loss: 0.0168 - val_loss: 0.0198\n",
            "Epoch 61/100\n",
            "11/11 - 0s - loss: 0.0176 - val_loss: 0.0200\n",
            "Epoch 62/100\n",
            "11/11 - 0s - loss: 0.0178 - val_loss: 0.0198\n",
            "Epoch 63/100\n",
            "11/11 - 0s - loss: 0.0177 - val_loss: 0.0197\n",
            "Epoch 64/100\n",
            "11/11 - 0s - loss: 0.0182 - val_loss: 0.0206\n",
            "Epoch 65/100\n",
            "11/11 - 0s - loss: 0.0186 - val_loss: 0.0205\n",
            "Epoch 66/100\n",
            "11/11 - 0s - loss: 0.0186 - val_loss: 0.0203\n",
            "Epoch 67/100\n",
            "11/11 - 0s - loss: 0.0173 - val_loss: 0.0196\n",
            "Epoch 68/100\n",
            "11/11 - 0s - loss: 0.0181 - val_loss: 0.0218\n",
            "Epoch 69/100\n",
            "11/11 - 0s - loss: 0.0191 - val_loss: 0.0197\n",
            "Epoch 70/100\n",
            "11/11 - 0s - loss: 0.0180 - val_loss: 0.0197\n",
            "Epoch 71/100\n",
            "11/11 - 0s - loss: 0.0185 - val_loss: 0.0192\n",
            "Epoch 72/100\n",
            "11/11 - 0s - loss: 0.0172 - val_loss: 0.0193\n",
            "Epoch 73/100\n",
            "11/11 - 0s - loss: 0.0174 - val_loss: 0.0188\n",
            "Epoch 74/100\n",
            "11/11 - 0s - loss: 0.0163 - val_loss: 0.0189\n",
            "Epoch 75/100\n",
            "11/11 - 0s - loss: 0.0181 - val_loss: 0.0188\n",
            "Epoch 76/100\n",
            "11/11 - 0s - loss: 0.0180 - val_loss: 0.0185\n",
            "Epoch 77/100\n",
            "11/11 - 0s - loss: 0.0170 - val_loss: 0.0184\n",
            "Epoch 78/100\n",
            "11/11 - 0s - loss: 0.0166 - val_loss: 0.0184\n",
            "Epoch 79/100\n",
            "11/11 - 0s - loss: 0.0165 - val_loss: 0.0184\n",
            "Epoch 80/100\n",
            "11/11 - 0s - loss: 0.0155 - val_loss: 0.0181\n",
            "Epoch 81/100\n",
            "11/11 - 0s - loss: 0.0161 - val_loss: 0.0184\n",
            "Epoch 82/100\n",
            "11/11 - 0s - loss: 0.0177 - val_loss: 0.0184\n",
            "Epoch 83/100\n",
            "11/11 - 0s - loss: 0.0174 - val_loss: 0.0180\n",
            "Epoch 84/100\n",
            "11/11 - 0s - loss: 0.0187 - val_loss: 0.0178\n",
            "Epoch 85/100\n",
            "11/11 - 0s - loss: 0.0172 - val_loss: 0.0179\n",
            "Epoch 86/100\n",
            "11/11 - 0s - loss: 0.0179 - val_loss: 0.0181\n",
            "Epoch 87/100\n",
            "11/11 - 0s - loss: 0.0157 - val_loss: 0.0184\n",
            "Epoch 88/100\n",
            "11/11 - 0s - loss: 0.0165 - val_loss: 0.0178\n",
            "Epoch 89/100\n",
            "11/11 - 0s - loss: 0.0163 - val_loss: 0.0177\n",
            "Epoch 90/100\n",
            "11/11 - 0s - loss: 0.0163 - val_loss: 0.0177\n",
            "Epoch 91/100\n",
            "11/11 - 0s - loss: 0.0167 - val_loss: 0.0182\n",
            "Epoch 92/100\n",
            "11/11 - 0s - loss: 0.0157 - val_loss: 0.0174\n",
            "Epoch 93/100\n",
            "11/11 - 0s - loss: 0.0165 - val_loss: 0.0171\n",
            "Epoch 94/100\n",
            "11/11 - 0s - loss: 0.0158 - val_loss: 0.0172\n",
            "Epoch 95/100\n",
            "11/11 - 0s - loss: 0.0162 - val_loss: 0.0177\n",
            "Epoch 96/100\n",
            "11/11 - 0s - loss: 0.0160 - val_loss: 0.0172\n",
            "Epoch 97/100\n",
            "11/11 - 0s - loss: 0.0161 - val_loss: 0.0173\n",
            "Epoch 98/100\n",
            "11/11 - 0s - loss: 0.0153 - val_loss: 0.0174\n",
            "Epoch 99/100\n",
            "11/11 - 0s - loss: 0.0161 - val_loss: 0.0173\n",
            "Epoch 100/100\n",
            "11/11 - 0s - loss: 0.0152 - val_loss: 0.0175\n"
          ],
          "name": "stdout"
        }
      ]
    },
    {
      "cell_type": "code",
      "metadata": {
        "colab": {
          "base_uri": "https://localhost:8080/",
          "height": 267
        },
        "id": "XV6rLKLdche6",
        "outputId": "8a2544c4-01ca-4ff9-8802-4ab0c311fdc7"
      },
      "source": [
        "# plot loss\n",
        "pyplot.plot(history.history['loss'], label='train')\n",
        "pyplot.plot(history.history['val_loss'], label='test')\n",
        "pyplot.legend()\n",
        "pyplot.show()"
      ],
      "execution_count": 341,
      "outputs": [
        {
          "output_type": "display_data",
          "data": {
            "image/png": "[encoded data removed]",
            "text/plain": [
              "<Figure size 432x288 with 1 Axes>"
            ]
          },
          "metadata": {
            "tags": [],
            "needs_background": "light"
          }
        }
      ]
    },
    {
      "cell_type": "code",
      "metadata": {
        "id": "ASEkO4BperSF"
      },
      "source": [
        "encoder = Model(inputs=visible, outputs=bottleneck)"
      ],
      "execution_count": 342,
      "outputs": []
    },
    {
      "cell_type": "code",
      "metadata": {
        "id": "H3Im7qFmchhG"
      },
      "source": [
        "# encode the train data\n",
        "X_train_encoded = encoder.predict(X_train)\n",
        "# encode the test data\n",
        "X_test_encoded = encoder.predict(X_test)"
      ],
      "execution_count": 343,
      "outputs": []
    },
    {
      "cell_type": "code",
      "metadata": {
        "colab": {
          "base_uri": "https://localhost:8080/"
        },
        "id": "TM3dLaW1bk1U",
        "outputId": "4e8b4e2d-3b9f-413f-80f1-d997457c4e41"
      },
      "source": [
        "model = Sequential()\n",
        "model.add(Dense(200, activation = 'relu', input_shape = (10,)))\n",
        "model.add(Dense(450, activation = 'relu'))\n",
        "model.add(Dense(400, activation = 'relu'))\n",
        "model.add(Dense(100, activation = 'relu'))\n",
        "model.add(Dense(2, activation = 'softmax'))\n",
        "model.summary()\n",
        "model.compile(loss = 'categorical_crossentropy', optimizer = 'adam', metrics = ['accuracy'])"
      ],
      "execution_count": 344,
      "outputs": [
        {
          "output_type": "stream",
          "text": [
            "Model: \"sequential_25\"\n",
            "_________________________________________________________________\n",
            "Layer (type)                 Output Shape              Param #   \n",
            "=================================================================\n",
            "dense_215 (Dense)            (None, 200)               2200      \n",
            "_________________________________________________________________\n",
            "dense_216 (Dense)            (None, 450)               90450     \n",
            "_________________________________________________________________\n",
            "dense_217 (Dense)            (None, 400)               180400    \n",
            "_________________________________________________________________\n",
            "dense_218 (Dense)            (None, 100)               40100     \n",
            "_________________________________________________________________\n",
            "dense_219 (Dense)            (None, 2)                 202       \n",
            "=================================================================\n",
            "Total params: 313,352\n",
            "Trainable params: 313,352\n",
            "Non-trainable params: 0\n",
            "_________________________________________________________________\n"
          ],
          "name": "stdout"
        }
      ]
    },
    {
      "cell_type": "code",
      "metadata": {
        "colab": {
          "base_uri": "https://localhost:8080/"
        },
        "id": "YLVDHFdzbk3m",
        "outputId": "236d2172-b71c-4927-c1a0-686db8a12034"
      },
      "source": [
        "history = model.fit(X_train_encoded, Y_train, epochs = 20, batch_size = 32, validation_split = 0.2)"
      ],
      "execution_count": 345,
      "outputs": [
        {
          "output_type": "stream",
          "text": [
            "Epoch 1/20\n",
            "5/5 [==============================] - 1s 50ms/step - loss: 0.6618 - accuracy: 0.5589 - val_loss: 0.4685 - val_accuracy: 0.8235\n",
            "Epoch 2/20\n",
            "5/5 [==============================] - 0s 12ms/step - loss: 0.4955 - accuracy: 0.7410 - val_loss: 0.4044 - val_accuracy: 0.8824\n",
            "Epoch 3/20\n",
            "5/5 [==============================] - 0s 12ms/step - loss: 0.3923 - accuracy: 0.8171 - val_loss: 0.4068 - val_accuracy: 0.8235\n",
            "Epoch 4/20\n",
            "5/5 [==============================] - 0s 11ms/step - loss: 0.3378 - accuracy: 0.8537 - val_loss: 0.4153 - val_accuracy: 0.7941\n",
            "Epoch 5/20\n",
            "5/5 [==============================] - 0s 13ms/step - loss: 0.3046 - accuracy: 0.8400 - val_loss: 0.3605 - val_accuracy: 0.8235\n",
            "Epoch 6/20\n",
            "5/5 [==============================] - 0s 12ms/step - loss: 0.2771 - accuracy: 0.9025 - val_loss: 0.3606 - val_accuracy: 0.7647\n",
            "Epoch 7/20\n",
            "5/5 [==============================] - 0s 11ms/step - loss: 0.2390 - accuracy: 0.8773 - val_loss: 0.3293 - val_accuracy: 0.8235\n",
            "Epoch 8/20\n",
            "5/5 [==============================] - 0s 12ms/step - loss: 0.2951 - accuracy: 0.8799 - val_loss: 0.3567 - val_accuracy: 0.8824\n",
            "Epoch 9/20\n",
            "5/5 [==============================] - 0s 11ms/step - loss: 0.1924 - accuracy: 0.9213 - val_loss: 0.3414 - val_accuracy: 0.8235\n",
            "Epoch 10/20\n",
            "5/5 [==============================] - 0s 12ms/step - loss: 0.1477 - accuracy: 0.9428 - val_loss: 0.4205 - val_accuracy: 0.7647\n",
            "Epoch 11/20\n",
            "5/5 [==============================] - 0s 11ms/step - loss: 0.1088 - accuracy: 0.9678 - val_loss: 0.2881 - val_accuracy: 0.8235\n",
            "Epoch 12/20\n",
            "5/5 [==============================] - 0s 11ms/step - loss: 0.1253 - accuracy: 0.9562 - val_loss: 0.3162 - val_accuracy: 0.8235\n",
            "Epoch 13/20\n",
            "5/5 [==============================] - 0s 12ms/step - loss: 0.0940 - accuracy: 0.9866 - val_loss: 0.4431 - val_accuracy: 0.7941\n",
            "Epoch 14/20\n",
            "5/5 [==============================] - 0s 12ms/step - loss: 0.0778 - accuracy: 0.9918 - val_loss: 0.3001 - val_accuracy: 0.8529\n",
            "Epoch 15/20\n",
            "5/5 [==============================] - 0s 12ms/step - loss: 0.0655 - accuracy: 0.9833 - val_loss: 0.3359 - val_accuracy: 0.8235\n",
            "Epoch 16/20\n",
            "5/5 [==============================] - 0s 13ms/step - loss: 0.0409 - accuracy: 0.9889 - val_loss: 0.3072 - val_accuracy: 0.8529\n",
            "Epoch 17/20\n",
            "5/5 [==============================] - 0s 11ms/step - loss: 0.0316 - accuracy: 0.9944 - val_loss: 0.3355 - val_accuracy: 0.8235\n",
            "Epoch 18/20\n",
            "5/5 [==============================] - 0s 13ms/step - loss: 0.0203 - accuracy: 1.0000 - val_loss: 0.3824 - val_accuracy: 0.8235\n",
            "Epoch 19/20\n",
            "5/5 [==============================] - 0s 16ms/step - loss: 0.0148 - accuracy: 1.0000 - val_loss: 0.3925 - val_accuracy: 0.8235\n",
            "Epoch 20/20\n",
            "5/5 [==============================] - 0s 12ms/step - loss: 0.0189 - accuracy: 1.0000 - val_loss: 0.3084 - val_accuracy: 0.8824\n"
          ],
          "name": "stdout"
        }
      ]
    },
    {
      "cell_type": "code",
      "metadata": {
        "id": "RI1daqTpr-u8"
      },
      "source": [
        "elapsed = time.time() - t"
      ],
      "execution_count": 346,
      "outputs": []
    },
    {
      "cell_type": "code",
      "metadata": {
        "colab": {
          "base_uri": "https://localhost:8080/"
        },
        "id": "k-Z5NNMWr9co",
        "outputId": "e7416dd7-5cba-4e41-e0a5-660c680b284f"
      },
      "source": [
        "print('Elapsed Time : ', elapsed)"
      ],
      "execution_count": 347,
      "outputs": [
        {
          "output_type": "stream",
          "text": [
            "Elapsed Time :  9.07685375213623\n"
          ],
          "name": "stdout"
        }
      ]
    },
    {
      "cell_type": "code",
      "metadata": {
        "colab": {
          "base_uri": "https://localhost:8080/",
          "height": 295
        },
        "id": "t-FGEm73bk5q",
        "outputId": "3a5f2b9e-81f9-4660-b53f-65c261cbfbb2"
      },
      "source": [
        "fig = plt.figure()\n",
        "plt.plot(history.history['accuracy'],'r')\n",
        "plt.plot(history.history['val_accuracy'],'b')\n",
        "plt.title('model accuracy')\n",
        "plt.ylabel('accuracy')\n",
        "plt.xlabel('epoch')\n",
        "plt.legend(['train', 'validation'], loc='lower right')\n",
        "plt.grid()"
      ],
      "execution_count": 348,
      "outputs": [
        {
          "output_type": "display_data",
          "data": {
            "image/png": "[encoded data removed]",
            "text/plain": [
              "<Figure size 432x288 with 1 Axes>"
            ]
          },
          "metadata": {
            "tags": [],
            "needs_background": "light"
          }
        }
      ]
    },
    {
      "cell_type": "code",
      "metadata": {
        "colab": {
          "base_uri": "https://localhost:8080/",
          "height": 295
        },
        "id": "Vj3-Bq-ebk8I",
        "outputId": "0e265363-9187-4a10-8422-080cb8385e28"
      },
      "source": [
        "fig = plt.figure()\n",
        "plt.plot(history.history['loss'], 'r')\n",
        "plt.plot(history.history['val_loss'], 'b')\n",
        "plt.title('model loss')\n",
        "plt.ylabel('loss')\n",
        "plt.xlabel('epoch')\n",
        "plt.legend(['train', 'validation'], loc = 'upper right')\n",
        "plt.grid()"
      ],
      "execution_count": 349,
      "outputs": [
        {
          "output_type": "display_data",
          "data": {
            "image/png": "[encoded data removed]",
            "text/plain": [
              "<Figure size 432x288 with 1 Axes>"
            ]
          },
          "metadata": {
            "tags": [],
            "needs_background": "light"
          }
        }
      ]
    },
    {
      "cell_type": "code",
      "metadata": {
        "colab": {
          "base_uri": "https://localhost:8080/"
        },
        "id": "XHJCaYsNbk9o",
        "outputId": "67206b0e-8618-4d6c-e280-9708936e5795"
      },
      "source": [
        "Y_pred = model.predict(X_test_encoded)\n",
        "y_pred = np.argmax(Y_pred, axis = 1)\n",
        "[test_loss, test_acc] = model.evaluate(X_test_encoded, Y_test)\n",
        "print(\"Test Loss\", test_loss)\n",
        "print(\"Test Accuracy\", test_acc)"
      ],
      "execution_count": 350,
      "outputs": [
        {
          "output_type": "stream",
          "text": [
            "2/2 [==============================] - 0s 4ms/step - loss: 0.8089 - accuracy: 0.8333\n",
            "Test Loss 0.8088808655738831\n",
            "Test Accuracy 0.8333333134651184\n"
          ],
          "name": "stdout"
        }
      ]
    },
    {
      "cell_type": "code",
      "metadata": {
        "colab": {
          "base_uri": "https://localhost:8080/"
        },
        "id": "8mXSlky5bk_s",
        "outputId": "c0a2ea01-53b5-4ff5-fcec-68b1b02bf65d"
      },
      "source": [
        "class_names = [0, 1]\n",
        "confusion_mtx = confusion_matrix(y_test, y_pred)\n",
        "print(\"confusion matrix=\\n\", confusion_mtx)"
      ],
      "execution_count": 351,
      "outputs": [
        {
          "output_type": "stream",
          "text": [
            "confusion matrix=\n",
            " [[24  3]\n",
            " [ 4 11]]\n"
          ],
          "name": "stdout"
        }
      ]
    }
  ]
}