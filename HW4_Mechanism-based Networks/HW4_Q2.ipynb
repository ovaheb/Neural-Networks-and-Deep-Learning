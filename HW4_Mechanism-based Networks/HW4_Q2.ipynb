{
  "nbformat": 4,
  "nbformat_minor": 0,
  "metadata": {
    "colab": {
      "name": "HW4-Q2.ipynb",
      "provenance": []
    },
    "kernelspec": {
      "name": "python3",
      "display_name": "Python 3"
    },
    "language_info": {
      "name": "python"
    }
  },
  "cells": [
    {
      "cell_type": "markdown",
      "metadata": {
        "id": "3keb9MOuLpvP"
      },
      "source": [
        "# Neural Networks and Deep Learning Spring 1400 <img src = 'https://ece.ut.ac.ir/cict-theme/images/footer-logo.png' alt=\"Tehran-University-Logo\" width=\"150\" height=\"150\" align=\"right\">\n",
        "## Homework 4 - Question 2\n",
        "\n",
        "\n",
        "### By Omid Vaheb\n",
        "### 810196582"
      ]
    },
    {
      "cell_type": "markdown",
      "metadata": {
        "id": "_F_wbAFGLriB"
      },
      "source": [
        "## Importing required libraries"
      ]
    },
    {
      "cell_type": "code",
      "metadata": {
        "id": "CJYteqrLLiUV"
      },
      "source": [
        "import numpy as np\n",
        "import matplotlib.pyplot as plt"
      ],
      "execution_count": 1,
      "outputs": []
    },
    {
      "cell_type": "markdown",
      "metadata": {
        "id": "RHjxW7mweWqQ"
      },
      "source": [
        "## Initialising data and weight vectors"
      ]
    },
    {
      "cell_type": "code",
      "metadata": {
        "id": "JEUlCkU-LpRo"
      },
      "source": [
        "x = np.array([1.2, 1.1, 0.5, 1.5, 1.13, 0.8])\n",
        "data = np.array([1.2, 1.1, 0.5, 1.5, 1.13, 0.8])\n",
        "W = 1.13 * np.eye(6) - 0.13"
      ],
      "execution_count": 82,
      "outputs": []
    },
    {
      "cell_type": "markdown",
      "metadata": {
        "id": "WU3P2rSYecPz"
      },
      "source": [
        "## Algorithm Implementation of Maximum Value\n",
        "\n"
      ]
    },
    {
      "cell_type": "code",
      "metadata": {
        "id": "gD4_dDdgLpTt",
        "colab": {
          "base_uri": "https://localhost:8080/"
        },
        "outputId": "ebbe1a4d-65ba-4b9c-deb2-85809a619613"
      },
      "source": [
        "while True:\n",
        "  counter = 0\n",
        "  for i in range(len(x)):\n",
        "    if x[i] != 0:\n",
        "      counter += 1\n",
        "  if counter <= 1:\n",
        "    break\n",
        "  x = np.dot(W, x)\n",
        "  for i in range(len(x)):\n",
        "    if x[i] < 0:\n",
        "      x[i] = 0\n",
        "  print(x)"
      ],
      "execution_count": 83,
      "outputs": [
        {
          "output_type": "stream",
          "text": [
            "[0.5461 0.4331 0.     0.8851 0.467  0.0941]\n",
            "[0.301791 0.174101 0.       0.684861 0.212408 0.      ]\n",
            "[0.1625129  0.0182232  0.         0.595382   0.06151011 0.        ]\n",
            "[0.07474791 0.         0.         0.56388999 0.         0.        ]\n",
            "[0.00144221 0.         0.         0.55417276 0.         0.        ]\n",
            "[0.         0.         0.         0.55398528 0.         0.        ]\n"
          ],
          "name": "stdout"
        }
      ]
    },
    {
      "cell_type": "code",
      "metadata": {
        "colab": {
          "base_uri": "https://localhost:8080/"
        },
        "id": "DC0L4N3ffh9G",
        "outputId": "0f7e9b66-ec8a-4879-a2d1-0076e5737ec8"
      },
      "source": [
        "print(\"Maximum value of vector x is %.2f which is the %dth element of vector.\" %((data[np.where(x == max(x))[0]]), (np.where(x == max(x))[0] + 1)))"
      ],
      "execution_count": 84,
      "outputs": [
        {
          "output_type": "stream",
          "text": [
            "Maximum value of vector x is 1.50 which is the 4th element of vector.\n"
          ],
          "name": "stdout"
        }
      ]
    },
    {
      "cell_type": "markdown",
      "metadata": {
        "id": "jwND5MuhejMU"
      },
      "source": [
        "## Algorithm Implementation of Maximum Absolute Value"
      ]
    },
    {
      "cell_type": "code",
      "metadata": {
        "id": "E2WQo9soLpWB"
      },
      "source": [
        "x = np.array([1.2, 1.1, 0.5, -1.5, 1.13, -0.8])\n",
        "data = np.array([1.2, 1.1, 0.5, -1.5, 1.13, -0.8])\n",
        "W = 1.13 * np.eye(6) - 0.13"
      ],
      "execution_count": 85,
      "outputs": []
    },
    {
      "cell_type": "code",
      "metadata": {
        "id": "e-qyXNqde_ed"
      },
      "source": [
        "while True:\n",
        "  counter = 0\n",
        "  for i in range(len(x)):\n",
        "    if x[i] != 0:\n",
        "      counter += 1\n",
        "  if counter <= 1:\n",
        "    break\n",
        "  x = np.dot(W, x)\n",
        "  for i in range(len(x)):\n",
        "    if x[i] < 0:\n",
        "      x[i] = 0\n",
        "m1 = data[np.where(x == max(x))[0]]"
      ],
      "execution_count": 86,
      "outputs": []
    },
    {
      "cell_type": "code",
      "metadata": {
        "id": "7e1j2sSje_gV"
      },
      "source": [
        "x2 = -1 * np.array([1.2, 1.1, 0.5, -1.5, 1.13, -0.8])\n",
        "data = -1 * np.array([1.2, 1.1, 0.5, -1.5, 1.13, -0.8])\n",
        "W = 1.13 * np.eye(6) - 0.13"
      ],
      "execution_count": 87,
      "outputs": []
    },
    {
      "cell_type": "code",
      "metadata": {
        "id": "eP_SuOOFfTG8"
      },
      "source": [
        "while True:\n",
        "  counter = 0\n",
        "  for i in range(len(x2)):\n",
        "    if x2[i] != 0:\n",
        "      counter += 1\n",
        "  if counter <= 1:\n",
        "    break\n",
        "  x2 = np.dot(W, x2)\n",
        "  for i in range(len(x2)):\n",
        "    if x2[i] < 0:\n",
        "      x2[i] = 0\n",
        "m2 = data[np.where(x2 == max(x2))[0]]"
      ],
      "execution_count": 88,
      "outputs": []
    },
    {
      "cell_type": "code",
      "metadata": {
        "colab": {
          "base_uri": "https://localhost:8080/"
        },
        "id": "Zu-9CvhFjygq",
        "outputId": "dea6bb8c-5888-4a94-b4ce-2e093d76fb08"
      },
      "source": [
        "maximum = max(m1, m2)\n",
        "print(\"Maximum absolute value of vector x is %.2f.\" %maximum)"
      ],
      "execution_count": 89,
      "outputs": [
        {
          "output_type": "stream",
          "text": [
            "Maximum absolute value of vector x is 1.50.\n"
          ],
          "name": "stdout"
        }
      ]
    }
  ]
}