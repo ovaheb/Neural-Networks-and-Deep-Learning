{
  "nbformat": 4,
  "nbformat_minor": 0,
  "metadata": {
    "colab": {
      "name": "HW4_Q1.ipynb",
      "provenance": [],
      "collapsed_sections": []
    },
    "kernelspec": {
      "name": "python3",
      "display_name": "Python 3"
    },
    "language_info": {
      "name": "python"
    },
    "accelerator": "GPU"
  },
  "cells": [
    {
      "cell_type": "markdown",
      "metadata": {
        "id": "K3blnaUmLuQD"
      },
      "source": [
        "# Neural Networks and Deep Learning Spring 1400 <img src = 'https://ece.ut.ac.ir/cict-theme/images/footer-logo.png' alt=\"Tehran-University-Logo\" width=\"150\" height=\"150\" align=\"right\">\n",
        "## Homework 4 - Question 1\n",
        "\n",
        "\n",
        "### By Omid Vaheb\n",
        "### 810196582"
      ]
    },
    {
      "cell_type": "markdown",
      "metadata": {
        "id": "lldeyiVkLw4O"
      },
      "source": [
        "## Importing required libraries"
      ]
    },
    {
      "cell_type": "code",
      "metadata": {
        "id": "3l-c9sA8ZFuf"
      },
      "source": [
        "from keras.datasets import mnist\n",
        "import matplotlib.pyplot as plt\n",
        "import numpy as np\n",
        "from numpy.random import seed\n",
        "from numpy.random import rand"
      ],
      "execution_count": 1,
      "outputs": []
    },
    {
      "cell_type": "markdown",
      "metadata": {
        "id": "g4P93cUXLzky"
      },
      "source": [
        "## Loading Dataset"
      ]
    },
    {
      "cell_type": "code",
      "metadata": {
        "id": "-f5s66LiZJ8D",
        "colab": {
          "base_uri": "https://localhost:8080/"
        },
        "outputId": "7c443ea6-4f40-4f61-f251-d5c9688b7be1"
      },
      "source": [
        "(X_train2, y_train2), (X_test2, y_test2) = mnist.load_data()"
      ],
      "execution_count": 2,
      "outputs": [
        {
          "output_type": "stream",
          "text": [
            "Downloading data from https://storage.googleapis.com/tensorflow/tf-keras-datasets/mnist.npz\n",
            "11493376/11490434 [==============================] - 0s 0us/step\n",
            "11501568/11490434 [==============================] - 0s 0us/step\n"
          ],
          "name": "stdout"
        }
      ]
    },
    {
      "cell_type": "code",
      "metadata": {
        "id": "hJ0XUkV9ZlTt"
      },
      "source": [
        "X_train = X_train2[0:2000]\n",
        "y_train = y_train2[0:2000]\n",
        "X_test = X_test2[0:1000]\n",
        "y_test = y_test2[0:1000]"
      ],
      "execution_count": 3,
      "outputs": []
    },
    {
      "cell_type": "markdown",
      "metadata": {
        "id": "CEAk1-A5dJiu"
      },
      "source": [
        "## Visualizing Data"
      ]
    },
    {
      "cell_type": "code",
      "metadata": {
        "colab": {
          "base_uri": "https://localhost:8080/",
          "height": 268
        },
        "id": "3V7MiE5TYbEw",
        "outputId": "abc1182b-a0e6-474f-b408-8c310e15e12c"
      },
      "source": [
        "plt.subplot(221)\n",
        "plt.imshow(X_train[0], cmap=plt.get_cmap('gray'))\n",
        "plt.subplot(222)\n",
        "plt.imshow(X_train[1], cmap=plt.get_cmap('gray'))\n",
        "plt.subplot(223)\n",
        "plt.imshow(X_train[2], cmap=plt.get_cmap('gray'))\n",
        "plt.subplot(224)\n",
        "plt.imshow(X_train[3], cmap=plt.get_cmap('gray'))\n",
        "plt.show()"
      ],
      "execution_count": 86,
      "outputs": [
        {
          "output_type": "display_data",
          "data": {
            "image/png": "[encoded data removed]",
            "text/plain": [
              "<Figure size 432x288 with 4 Axes>"
            ]
          },
          "metadata": {
            "tags": [],
            "needs_background": "light"
          }
        }
      ]
    },
    {
      "cell_type": "code",
      "metadata": {
        "colab": {
          "base_uri": "https://localhost:8080/"
        },
        "id": "dUhjDND5DaEk",
        "outputId": "0115217f-eb31-408a-cfe3-70ff8bca0ac1"
      },
      "source": [
        "X_train.shape"
      ],
      "execution_count": 87,
      "outputs": [
        {
          "output_type": "execute_result",
          "data": {
            "text/plain": [
              "(2000, 28, 28)"
            ]
          },
          "metadata": {
            "tags": []
          },
          "execution_count": 87
        }
      ]
    },
    {
      "cell_type": "markdown",
      "metadata": {
        "id": "czgVoR47dULF"
      },
      "source": [
        "## Preparing Data for Training"
      ]
    },
    {
      "cell_type": "code",
      "metadata": {
        "id": "Zh6PWby7aBog"
      },
      "source": [
        "num_pixels = X_train.shape[1] * X_train.shape[2]\n",
        "X_train = X_train.reshape((X_train.shape[0], num_pixels)).astype('float32')\n",
        "X_test = X_test.reshape((X_test.shape[0], num_pixels)).astype('float32')"
      ],
      "execution_count": 4,
      "outputs": []
    },
    {
      "cell_type": "code",
      "metadata": {
        "colab": {
          "base_uri": "https://localhost:8080/"
        },
        "id": "CKILhVCD7gRv",
        "outputId": "51d66cbd-b085-4be5-f020-23302d750acd"
      },
      "source": [
        "X_train.shape"
      ],
      "execution_count": 89,
      "outputs": [
        {
          "output_type": "execute_result",
          "data": {
            "text/plain": [
              "(2000, 784)"
            ]
          },
          "metadata": {
            "tags": []
          },
          "execution_count": 89
        }
      ]
    },
    {
      "cell_type": "code",
      "metadata": {
        "id": "UFcWLWRjDmWR"
      },
      "source": [
        "X_train = X_train / 255\n",
        "X_test = X_test / 255"
      ],
      "execution_count": 5,
      "outputs": []
    },
    {
      "cell_type": "markdown",
      "metadata": {
        "id": "7zr8DxNydXwW"
      },
      "source": [
        "## Random Weight Initialization"
      ]
    },
    {
      "cell_type": "code",
      "metadata": {
        "id": "mktlb5ygDmcr"
      },
      "source": [
        "W = []\n",
        "for i in range(784):\n",
        "  W.append(rand(625))"
      ],
      "execution_count": 91,
      "outputs": []
    },
    {
      "cell_type": "code",
      "metadata": {
        "id": "gWmGQzuy9ko6"
      },
      "source": [
        "W = np.array(W)"
      ],
      "execution_count": 92,
      "outputs": []
    },
    {
      "cell_type": "markdown",
      "metadata": {
        "id": "FOkeTaOJdc0n"
      },
      "source": [
        "## Training with Linear Structure and R = 0"
      ]
    },
    {
      "cell_type": "code",
      "metadata": {
        "id": "Yce2RsIH9kxe",
        "colab": {
          "base_uri": "https://localhost:8080/"
        },
        "outputId": "ad47a5fe-81c1-4e02-c3e0-9d824c5702ca"
      },
      "source": [
        "alpha = 0.8\n",
        "power = 0.7\n",
        "R = 0\n",
        "for epoch in range(25):\n",
        "  for x in X_train:\n",
        "    D = [0] * 625\n",
        "    for j in range(625):\n",
        "      D[j] = sum((W[:, j] - x)**2)\n",
        "    J = D.index(min(D))\n",
        "    for j in range(J - R, J + R + 1):\n",
        "      for i in range(784):\n",
        "        W[i][j] += alpha * (x[i] - W[i][j])\n",
        "  print(epoch)\n",
        "  alpha = alpha * power"
      ],
      "execution_count": 93,
      "outputs": [
        {
          "output_type": "stream",
          "text": [
            "0\n",
            "1\n",
            "2\n",
            "3\n",
            "4\n",
            "5\n",
            "6\n",
            "7\n",
            "8\n",
            "9\n",
            "10\n",
            "11\n",
            "12\n",
            "13\n",
            "14\n",
            "15\n",
            "16\n",
            "17\n",
            "18\n",
            "19\n",
            "20\n",
            "21\n",
            "22\n",
            "23\n",
            "24\n"
          ],
          "name": "stdout"
        }
      ]
    },
    {
      "cell_type": "markdown",
      "metadata": {
        "id": "yHKY-9qQdikE"
      },
      "source": [
        "## Evaluating Model"
      ]
    },
    {
      "cell_type": "code",
      "metadata": {
        "id": "dn8ymI899k0D"
      },
      "source": [
        "result = np.dot(X_train, W)\n",
        "targets = []\n",
        "for i in range(len(result)):\n",
        "  targets.append(int(np.where(result[i] == min(result[i]))[0]))"
      ],
      "execution_count": 98,
      "outputs": []
    },
    {
      "cell_type": "code",
      "metadata": {
        "id": "1RhFRFokoVty"
      },
      "source": [
        "outputs = [[0] * 10] * 625\n",
        "neuron_on = [0] * 625\n",
        "outputs = np.array(outputs)\n",
        "for index in range(len(targets)):\n",
        "  neuron_on[targets[index]] = 1\n",
        "  outputs[targets[index]][y_train[index]] += 1"
      ],
      "execution_count": 99,
      "outputs": []
    },
    {
      "cell_type": "code",
      "metadata": {
        "id": "rbJZ2tHYmXmM"
      },
      "source": [
        "labels = []\n",
        "for i in range(len(outputs)):\n",
        "  labels.append(int(np.where(outputs[i] == max(outputs[i]))[0][0]))"
      ],
      "execution_count": 100,
      "outputs": []
    },
    {
      "cell_type": "code",
      "metadata": {
        "colab": {
          "base_uri": "https://localhost:8080/"
        },
        "id": "mfSQVKcW7L3L",
        "outputId": "04ef7171-5d3e-4a54-f65b-cec0fc593876"
      },
      "source": [
        "counter = 0\n",
        "for i in range(len(y_train)):\n",
        "  if y_train[i] == labels[targets[i]]:\n",
        "    counter += 1\n",
        "print(\"Accuracy on train data is %.2f percent.\" %(100 * counter / len(y_train)))"
      ],
      "execution_count": 106,
      "outputs": [
        {
          "output_type": "stream",
          "text": [
            "Accuracy on train data is 20.95 percent.\n"
          ],
          "name": "stdout"
        }
      ]
    },
    {
      "cell_type": "code",
      "metadata": {
        "id": "pocIXTUlpI91"
      },
      "source": [
        "result2 = np.dot(X_test, W)\n",
        "targets2 = []\n",
        "for i in range(len(result2)):\n",
        "  targets2.append(int(np.where(result2[i] == min(result2[i]))[0]))"
      ],
      "execution_count": 102,
      "outputs": []
    },
    {
      "cell_type": "code",
      "metadata": {
        "colab": {
          "base_uri": "https://localhost:8080/"
        },
        "id": "aTz5pSG5pJDQ",
        "outputId": "ed498daf-0b45-4f51-a23f-dc628be8185d"
      },
      "source": [
        "counter = 0\n",
        "for i in range(len(y_test)):\n",
        "  if y_test[i] == labels[targets2[i]]:\n",
        "    counter += 1\n",
        "print(\"Accuracy on test data is %.2f percent.\" %(100 * counter / len(y_test)))"
      ],
      "execution_count": 107,
      "outputs": [
        {
          "output_type": "stream",
          "text": [
            "Accuracy on test data is 22.90 percent.\n"
          ],
          "name": "stdout"
        }
      ]
    },
    {
      "cell_type": "markdown",
      "metadata": {
        "id": "wzFMY4vfdmRl"
      },
      "source": [
        "## Observing Data Distribution Between Neurons"
      ]
    },
    {
      "cell_type": "code",
      "metadata": {
        "colab": {
          "base_uri": "https://localhost:8080/"
        },
        "id": "iFB9TVH1mXoT",
        "outputId": "5aa576ac-0804-4f7d-f3a4-f262c068f6d9"
      },
      "source": [
        "s = 0\n",
        "for j in range(len(neuron_on)):\n",
        "  if neuron_on[j] == 1:\n",
        "    temp = []\n",
        "    for i in range(len(targets2)):\n",
        "      if targets2[i] == j:\n",
        "        temp.append(y_test[i])\n",
        "    s += len(temp)\n",
        "    if temp != []:\n",
        "      print(temp)"
      ],
      "execution_count": 174,
      "outputs": [
        {
          "output_type": "stream",
          "text": [
            "[6]\n",
            "[3]\n",
            "[1]\n",
            "[1, 1, 1, 1, 1, 1, 1]\n",
            "[4, 4, 4, 4, 7]\n",
            "[1, 1, 1, 1, 1]\n",
            "[1, 1, 1, 1]\n",
            "[3]\n",
            "[1, 1]\n",
            "[7, 7]\n",
            "[1, 9, 9, 7, 4, 7]\n",
            "[1, 1, 1]\n",
            "[4, 1, 7, 9, 7, 7]\n",
            "[1]\n",
            "[1, 1, 1, 1, 1, 1]\n",
            "[1]\n",
            "[7, 2, 0, 4, 4, 9, 5, 9, 0, 6, 9, 0, 5, 9, 7, 3, 4, 9, 6, 6, 5, 4, 0, 7, 4, 0, 3, 3, 4, 7, 2, 7, 2, 7, 4, 2, 3, 5, 1, 2, 4, 4, 6, 3, 5, 5, 6, 0, 4, 9, 5, 7, 8, 9, 3, 7, 6, 4, 3, 0, 7, 0, 2, 9, 7, 3, 2, 7, 7, 6, 2, 7, 8, 4, 7, 3, 6, 3, 6, 3, 1, 4, 1, 7, 6, 9, 6, 0, 5, 4, 9, 9, 2, 9, 4, 8, 3, 9, 4, 2, 5, 4, 7, 6, 7, 9, 0, 5, 8, 5, 6, 6, 5, 7, 8, 0, 6, 4, 6, 7, 3, 7, 8, 2, 0, 2, 9, 9, 5, 5, 5, 6, 0, 3, 4, 6, 5, 4, 6, 5, 4, 5, 4, 4, 7, 2, 3, 2, 8, 8, 8, 5, 0, 8, 9, 2, 5, 0, 1, 0, 9, 0, 3, 6, 4, 2, 3, 6, 3, 9, 5, 2, 9, 4, 5, 9, 9, 0, 3, 6, 5, 5, 7, 2, 2, 7, 2, 8, 3, 3, 8, 8, 9, 2, 2, 4, 5, 9, 8, 7, 2, 3, 0, 4, 4, 2, 4, 9, 5, 7, 7, 2, 8, 2, 6, 8, 5, 7, 7, 9, 1, 8, 8, 0, 3, 0, 9, 9, 4, 8, 2, 2, 9, 5, 9, 2, 6, 4, 5, 8, 2, 9, 2, 0, 4, 0, 0, 2, 8, 4, 7, 2, 4, 0, 2, 4, 3, 3, 0, 0, 3, 9, 6, 5, 2, 5, 2, 9, 3, 0, 4, 2, 0, 7, 2, 5, 3, 3, 9, 7, 8, 6, 5, 6, 3, 8, 0, 5, 3, 5, 5, 6, 8, 5, 7, 9, 4, 6, 2, 2, 5, 0, 6, 5, 6, 3, 7, 2, 0, 8, 8, 5, 4, 0, 3, 3, 7, 6, 6, 2, 9, 2, 8, 6, 9, 5, 2, 5, 4, 4, 2, 8, 3, 8, 2, 4, 5, 0, 3, 7, 5, 7, 9, 7, 9, 2, 4, 2, 9, 2, 0, 4, 9, 4, 8, 8, 4, 5, 3, 7, 0, 0, 3, 0, 2, 6, 6, 4, 9, 3, 3, 3, 2, 3, 9, 2, 6, 8, 0, 5, 6, 6, 6, 3, 8, 8, 2, 7, 5, 8, 6, 8, 4, 2, 5, 9, 9, 7, 5, 4, 0, 8, 9, 9, 0, 5, 2, 3, 7, 8, 9, 4, 0, 3, 9, 5, 2, 3, 3, 6, 5, 7, 2, 2, 6, 2, 6, 5, 4, 8, 7, 1, 3, 0, 3, 8, 3, 9, 3, 4, 6, 4, 2, 8, 2, 5, 4, 8, 8, 4, 0, 0, 2, 3, 2, 7, 0, 8, 7, 4, 4, 7, 9, 6, 0, 9, 8, 0, 4, 0, 6, 3, 5, 4, 8, 3, 3, 9, 3, 3, 3, 7, 8, 0, 8, 2, 7, 0, 6, 5, 4, 3, 8, 0, 9, 6, 3, 8, 0, 9, 9, 6, 8, 6, 8, 5, 8, 6, 0, 2, 4, 0, 2, 1, 9, 7, 5, 1, 0, 8, 4, 6, 2, 6, 7, 9, 3, 2, 9, 8, 2, 2, 9, 2, 7, 3, 5, 1, 8, 0, 2, 0, 5, 2, 3, 6, 7, 2, 5, 8, 0, 3, 7, 2, 4, 0, 9, 8, 6, 4, 3, 4, 9, 9, 5, 7, 3, 9, 7, 6, 9, 7, 8, 3, 3, 6, 2, 8, 5, 8, 5, 4, 4, 3, 1, 0, 7, 0, 7, 9, 4, 8, 5, 5, 4, 0, 8, 2, 0, 8, 4, 5, 0, 4, 0, 6, 3, 2, 6, 7, 2, 6, 9, 3, 4, 6, 2, 5, 4, 2, 0, 6, 2, 7, 3, 4, 0, 5, 4, 3, 7, 4, 8, 4, 0, 2, 4, 5, 6, 4, 7, 9, 2, 4, 1, 5, 5, 3, 8, 3, 4, 5, 6, 8, 9, 4, 5, 3, 8, 0, 3, 2, 5, 1, 2, 8, 3, 4, 4, 0, 8, 8, 3, 3, 7, 3, 5, 9, 6, 3, 2, 6, 1, 3, 6, 0, 7, 2, 7, 4, 2, 4, 2, 7, 9, 6, 2, 4, 8, 7, 7, 4, 8, 0, 7, 3, 3, 0, 7, 7, 0, 3, 5, 5, 2, 6, 6, 9, 2, 8, 3, 5, 2, 2, 5, 6, 0, 8, 2, 2, 8, 8, 8, 8, 7, 4, 3, 0, 6, 6, 3, 2, 3, 2, 2, 9, 3, 0, 0, 5, 7, 8, 4, 4, 6, 0, 2, 9, 4, 7, 4, 7, 3, 9, 8, 8, 4, 7, 2, 2, 2, 3, 2, 3, 2, 3, 9, 7, 4, 0, 3, 5, 5, 8, 6, 3, 2, 6, 7, 6, 6, 3, 2, 7, 8, 5, 6, 9, 5, 1, 3, 3, 4, 8, 9, 6, 9, 4, 4, 5, 4, 0, 6, 2, 2, 3, 5, 1, 2, 0, 3, 8, 2, 6, 7, 6, 2, 3, 9, 0, 1, 2, 2, 0, 8, 9]\n",
            "[9, 9]\n",
            "[7, 9, 7, 7, 7, 9, 9, 7, 1, 9, 4, 7]\n",
            "[1]\n",
            "[4, 3]\n",
            "[1, 1, 1, 1, 1, 1, 1, 1, 1, 1, 1, 1, 1, 1, 1, 1, 1, 1, 1, 1, 1, 1, 1, 1, 1, 1, 8, 1, 1, 1, 1, 1, 1, 7, 1, 1, 1, 1, 1, 1, 1, 1, 1, 1, 1, 1, 1, 1]\n",
            "[9]\n",
            "[1, 9]\n",
            "[1, 1, 1, 1, 1, 1, 1, 1, 1, 7, 1, 8, 1, 1, 2, 1, 1, 1, 1, 1, 1, 1, 1, 1]\n",
            "[4]\n",
            "[9, 6, 6, 4, 9, 1]\n"
          ],
          "name": "stdout"
        }
      ]
    },
    {
      "cell_type": "markdown",
      "metadata": {
        "id": "k_-1_z3Bd1gr"
      },
      "source": [
        "## Training with Linear Structure and R = 2"
      ]
    },
    {
      "cell_type": "code",
      "metadata": {
        "id": "ul8l4nV6KE-Q"
      },
      "source": [
        "W = []\n",
        "for i in range(784):\n",
        "  W.append(rand(625))\n",
        "W = np.array(W)"
      ],
      "execution_count": 6,
      "outputs": []
    },
    {
      "cell_type": "code",
      "metadata": {
        "colab": {
          "base_uri": "https://localhost:8080/"
        },
        "id": "-g5vc9BmKFAp",
        "outputId": "848f2771-7b72-4526-b590-6f5600bf4943"
      },
      "source": [
        "alpha = 0.8\n",
        "power = 0.7\n",
        "R = 2\n",
        "for epoch in range(25):\n",
        "  for x in X_train:\n",
        "    D = [0] * 625\n",
        "    for j in range(625):\n",
        "      D[j] = sum((W[:, j] - x)**2)\n",
        "    J = D.index(min(D))\n",
        "    for j in range(J - R, J + R + 1):\n",
        "      for i in range(784):\n",
        "        if (j >= 0) and (j <= 624):\n",
        "          W[i][j] += alpha * (x[i] - W[i][j])\n",
        "  print(epoch)\n",
        "  alpha = alpha * power"
      ],
      "execution_count": 7,
      "outputs": [
        {
          "output_type": "stream",
          "text": [
            "0\n",
            "1\n",
            "2\n",
            "3\n",
            "4\n",
            "5\n",
            "6\n",
            "7\n",
            "8\n",
            "9\n",
            "10\n",
            "11\n",
            "12\n",
            "13\n",
            "14\n",
            "15\n",
            "16\n",
            "17\n",
            "18\n",
            "19\n",
            "20\n",
            "21\n",
            "22\n",
            "23\n",
            "24\n"
          ],
          "name": "stdout"
        }
      ]
    },
    {
      "cell_type": "code",
      "metadata": {
        "id": "b9FPlRKlKFCl"
      },
      "source": [
        "result = np.dot(X_train, W)\n",
        "targets = []\n",
        "for i in range(len(result)):\n",
        "  targets.append(int(np.where(result[i] == min(result[i]))[0]))"
      ],
      "execution_count": 8,
      "outputs": []
    },
    {
      "cell_type": "code",
      "metadata": {
        "id": "zQWwGa1AKFFS"
      },
      "source": [
        "outputs = [[0] * 10] * 625\n",
        "neuron_on = [0] * 625\n",
        "outputs = np.array(outputs)\n",
        "for index in range(len(targets)):\n",
        "  neuron_on[targets[index]] = 1\n",
        "  outputs[targets[index]][y_train[index]] += 1"
      ],
      "execution_count": 9,
      "outputs": []
    },
    {
      "cell_type": "code",
      "metadata": {
        "id": "FqFrZXRcKFG0"
      },
      "source": [
        "labels = []\n",
        "for i in range(len(outputs)):\n",
        "  labels.append(int(np.where(outputs[i] == max(outputs[i]))[0][0]))"
      ],
      "execution_count": 10,
      "outputs": []
    },
    {
      "cell_type": "code",
      "metadata": {
        "colab": {
          "base_uri": "https://localhost:8080/"
        },
        "id": "L7cxbZlCKFI1",
        "outputId": "f672f5cf-7417-46bf-b225-da8d64a15282"
      },
      "source": [
        "counter = 0\n",
        "for i in range(len(y_train)):\n",
        "  if y_train[i] == labels[targets[i]]:\n",
        "    counter += 1\n",
        "print(\"Accuracy on train data is %.2f percent.\" %(100 * counter / len(y_train)))"
      ],
      "execution_count": 11,
      "outputs": [
        {
          "output_type": "stream",
          "text": [
            "Accuracy on train data is 39.80 percent.\n"
          ],
          "name": "stdout"
        }
      ]
    },
    {
      "cell_type": "code",
      "metadata": {
        "id": "vfaNdZT0KFLL"
      },
      "source": [
        "result2 = np.dot(X_test, W)\n",
        "targets2 = []\n",
        "for i in range(len(result2)):\n",
        "  targets2.append(int(np.where(result2[i] == min(result2[i]))[0]))"
      ],
      "execution_count": 12,
      "outputs": []
    },
    {
      "cell_type": "code",
      "metadata": {
        "colab": {
          "base_uri": "https://localhost:8080/"
        },
        "id": "EstP1tWgKawk",
        "outputId": "b0a00b39-52c1-49ee-d2de-a1e270bfc4b4"
      },
      "source": [
        "counter = 0\n",
        "for i in range(len(y_test)):\n",
        "  if y_test[i] == labels[targets2[i]]:\n",
        "    counter += 1\n",
        "print(\"Accuracy on test data is %.2f percent.\" %(100 * counter / len(y_test)))"
      ],
      "execution_count": 13,
      "outputs": [
        {
          "output_type": "stream",
          "text": [
            "Accuracy on test data is 37.10 percent.\n"
          ],
          "name": "stdout"
        }
      ]
    },
    {
      "cell_type": "code",
      "metadata": {
        "colab": {
          "base_uri": "https://localhost:8080/"
        },
        "id": "bFVNif3TKayn",
        "outputId": "191efb25-b16b-409d-d7e3-5d8119a86936"
      },
      "source": [
        "s = 0\n",
        "for j in range(len(neuron_on)):\n",
        "  if neuron_on[j] == 1:\n",
        "    temp = []\n",
        "    for i in range(len(targets2)):\n",
        "      if targets2[i] == j:\n",
        "        temp.append(y_test[i])\n",
        "    s += len(temp)\n",
        "    if temp != []:\n",
        "      print(temp)"
      ],
      "execution_count": 14,
      "outputs": [
        {
          "output_type": "stream",
          "text": [
            "[1, 1]\n",
            "[2, 3, 3, 1, 3, 8, 3, 3, 5, 2, 3, 3, 2, 3, 3, 2, 3, 8, 3, 3, 1, 3, 1, 3, 3, 8, 3]\n",
            "[5, 3, 9, 3, 7, 3, 1, 7, 2, 5, 8, 8, 5, 6, 3, 3, 3, 5, 8, 3, 8, 5, 9, 2, 8, 2, 2, 3, 5, 3, 3, 3, 8, 5, 3, 5, 8, 3, 8, 3, 6, 3, 6, 3, 3, 6, 5, 2, 9, 5, 3, 6, 3, 3, 8, 8, 2, 3, 3, 2, 8, 3, 3, 3, 3, 6, 2, 3, 5, 6, 3, 8, 3, 3, 5, 2, 6, 3, 3, 3, 5, 6, 3, 3, 1, 3, 3, 8, 4, 3, 3]\n",
            "[9, 5, 3, 8, 5, 5, 8, 8, 5, 5, 2, 8, 2, 5, 3, 5, 8, 3, 0, 5, 5, 3, 9, 3, 8, 3, 6, 5, 9, 3, 8, 2, 7, 8, 8, 8, 8, 8, 3, 2, 8, 3, 8, 2, 3, 8, 5, 6]\n",
            "[9, 5]\n",
            "[3, 2, 2, 2, 7, 8, 1, 2, 3, 2, 2, 2, 2, 3, 2, 2, 2]\n",
            "[2, 3, 3, 3, 3, 3, 3, 3]\n",
            "[3, 0]\n",
            "[3, 0, 2, 3, 0, 5, 3, 5, 3, 7, 1, 7, 8, 2, 5, 8, 5, 1, 2, 1, 2, 3, 7, 1]\n",
            "[7, 0, 5, 9, 7, 1, 3, 7, 7, 3, 1, 6, 5, 9, 7, 7, 6, 1, 6, 2, 5, 4, 7, 6, 4, 6, 6, 5, 1, 1, 6, 9, 5, 7, 7, 7, 8, 2, 7, 0, 6, 5, 9, 0, 7, 4, 0, 5, 4, 5, 7, 1, 5, 2, 7, 0, 3, 7, 6, 9, 8, 5, 7, 4, 9, 8, 7, 3, 3, 6, 0, 8, 9, 5, 7, 3, 3, 7, 0, 7, 7, 0, 4, 8, 9, 7, 0, 5, 9, 3, 9, 1, 6, 7, 5, 5, 7, 6, 7, 0, 5, 7, 6, 7, 3, 0, 7, 7, 9, 4, 2, 6, 3, 5, 4, 6, 2, 7, 7, 9, 5, 8, 5, 3, 3, 7, 9, 7, 9, 7, 8, 0, 7, 8, 4, 6, 6, 7, 7, 5, 7, 8, 5, 6, 9, 7, 6, 1, 8]\n",
            "[4, 9, 9, 6, 5, 7, 3, 6, 6, 5, 9, 4, 4, 9, 6, 7, 7, 6, 9, 5, 6, 0, 9, 0, 9, 0, 3, 9, 4, 9, 7, 3, 7, 6, 0, 9, 9, 0, 3, 9, 0, 6, 6, 5, 6, 6, 9, 7, 0, 4, 5, 6, 6, 9, 6, 5, 7, 0, 0, 6, 3, 6, 8, 4, 6, 3, 7, 0, 6, 0, 6, 4, 0, 0, 6, 9, 7, 0, 7, 9, 9, 6, 8, 4, 4, 0, 6, 7, 7, 6, 0, 4, 9, 7, 3, 6, 0, 6, 6, 7, 7, 0, 7, 6, 6, 9, 5, 0, 9, 0, 6, 4, 4, 9, 9, 5, 6, 6, 6, 5, 9, 4, 9, 9]\n",
            "[4, 0, 4, 4, 0]\n",
            "[4, 9, 4, 7, 4, 4, 4, 4, 4, 0, 4, 9, 4, 7, 4, 4, 9, 9, 4, 4, 7, 4, 4, 4, 4, 4, 4, 4, 4, 4, 9, 7, 8, 4, 0, 9, 0, 6, 9, 4, 0, 4, 4, 4, 7, 9, 0, 0, 9, 9, 4, 9, 5, 7, 4, 4, 4, 4, 8, 4, 9, 8, 4, 6, 4, 9, 5, 6, 9, 4, 2, 5, 4, 9, 4, 4, 5, 5, 4, 4, 0, 4, 4, 4, 9, 4, 4, 4, 9, 4, 2, 4, 9, 4, 9, 7, 2, 4, 4, 6]\n",
            "[0]\n",
            "[0, 6, 0, 4, 0, 0, 7, 2, 6, 7, 6, 0, 7, 2, 8, 4, 6, 0, 8, 6, 7, 2, 0, 6, 7, 8, 0, 2, 9, 0, 2, 2, 9, 8, 0, 2, 8, 8, 2, 9, 4, 4, 0, 2, 2, 4, 0, 2, 9, 8, 6, 7, 6, 6, 8, 2, 8, 2, 0, 5, 2, 2, 4, 4, 8, 0, 2, 6, 4, 8, 0, 8, 7, 8, 4, 9, 8, 9, 2, 7, 6, 2, 1, 0, 8, 4, 2, 0, 0, 0, 5, 0, 8, 6, 8, 9, 8, 0, 0, 9, 6, 4, 4, 9, 7, 2, 0, 8, 2, 5, 0, 9, 4, 2, 4, 2, 8, 4, 5, 8, 2, 0, 8, 2, 4, 4, 7, 0, 5, 2, 2, 8, 2, 2, 8, 8, 8, 8, 7, 0, 2, 2, 0, 5, 8, 4, 0, 2, 4, 2, 2, 4, 0, 6, 4, 0, 2, 2, 0, 2, 0]\n",
            "[5, 2, 4, 5, 7, 7, 2]\n",
            "[1, 1, 1, 1, 1, 5, 1, 1, 1, 7, 9, 1, 1, 1, 1, 1, 1, 1, 5, 1, 1, 1, 1, 1, 5, 1, 1, 1, 1]\n",
            "[1, 1, 1, 1, 5, 1, 1, 1, 1, 1, 1, 1, 1, 1, 1, 1, 3, 1, 1, 1, 1, 1, 5, 1, 1, 1, 1]\n",
            "[1, 1, 1, 1, 1, 7, 8, 1, 1, 5, 1, 1, 1]\n",
            "[1, 1, 1, 2, 1, 8, 1, 9, 7, 1, 1, 2, 7, 1, 1, 1, 1, 6, 1, 2, 2, 2, 1, 1, 6, 2, 1, 1, 8, 1, 1, 1, 1, 2, 2, 1, 1, 1, 8, 1, 1, 1, 8, 1, 2, 2, 2, 1, 2, 2, 2, 8, 7, 1, 8, 5, 1, 1, 1, 1, 1, 2, 1, 1, 1, 1, 1, 1, 2, 7, 1, 1, 1, 7, 6, 7, 1, 1, 1, 1, 8, 2]\n",
            "[2, 2, 2, 8, 8, 2, 8, 2, 2, 2]\n",
            "[2, 2, 0, 2, 2, 2, 0]\n",
            "[2, 0]\n",
            "[8]\n",
            "[5, 7, 5, 9, 9, 5, 3, 9, 3, 5, 7, 5]\n",
            "[9, 9, 9, 3, 9, 3, 5, 6, 9, 3, 7, 9, 7, 7, 2, 3]\n",
            "[6, 9]\n",
            "[4, 7, 9, 7, 4, 5, 4, 4, 4, 9, 4, 4, 4, 9, 9, 4, 6, 4, 9, 9, 7]\n",
            "[6]\n",
            "[0]\n"
          ],
          "name": "stdout"
        }
      ]
    },
    {
      "cell_type": "markdown",
      "metadata": {
        "id": "LcihEAT0d-QM"
      },
      "source": [
        "## Training with Two Dimensional Structure and R = 1"
      ]
    },
    {
      "cell_type": "code",
      "metadata": {
        "id": "D7YmriiqVFX_"
      },
      "source": [
        "W = []\n",
        "for i in range(784):\n",
        "  W.append(rand(625))\n",
        "W = np.array(W)"
      ],
      "execution_count": 15,
      "outputs": []
    },
    {
      "cell_type": "code",
      "metadata": {
        "colab": {
          "base_uri": "https://localhost:8080/"
        },
        "id": "rZmyXooUVFaB",
        "outputId": "ec990f88-a676-4ffd-cf51-a2b609b38f52"
      },
      "source": [
        "alpha = 0.8\n",
        "power = 0.7\n",
        "R = 1\n",
        "for epoch in range(25):\n",
        "  for x in X_train:\n",
        "    D = [0] * 625\n",
        "    for j in range(625):\n",
        "      D[j] = sum((W[:, j] - x)**2)\n",
        "    J = D.index(min(D))\n",
        "    neighborhood = [J - 1, J, J + 1, j - 25, j + 25]\n",
        "    for k in range(len(neighborhood)):\n",
        "      j = neighborhood[k]\n",
        "      for i in range(784):\n",
        "        if (j >= 0) and (j <= 624) and ((J % 25 != 24) and (k == 0)) and ((J % 25 != 0) and (k == 2)):\n",
        "          W[i][j] += alpha * (x[i] - W[i][j])\n",
        "  print(epoch)\n",
        "  alpha = alpha * power"
      ],
      "execution_count": 16,
      "outputs": [
        {
          "output_type": "stream",
          "text": [
            "0\n",
            "1\n",
            "2\n",
            "3\n",
            "4\n",
            "5\n",
            "6\n",
            "7\n",
            "8\n",
            "9\n",
            "10\n",
            "11\n",
            "12\n",
            "13\n",
            "14\n",
            "15\n",
            "16\n",
            "17\n",
            "18\n",
            "19\n",
            "20\n",
            "21\n",
            "22\n",
            "23\n",
            "24\n"
          ],
          "name": "stdout"
        }
      ]
    },
    {
      "cell_type": "code",
      "metadata": {
        "id": "8BoA7mW2VFb3"
      },
      "source": [
        "result = np.dot(X_train, W)\n",
        "targets = []\n",
        "for i in range(len(result)):\n",
        "  targets.append(int(np.where(result[i] == min(result[i]))[0]))"
      ],
      "execution_count": 17,
      "outputs": []
    },
    {
      "cell_type": "code",
      "metadata": {
        "id": "e-mY9H44baVW"
      },
      "source": [
        "outputs = [[0] * 10] * 625\n",
        "neuron_on = [0] * 625\n",
        "outputs = np.array(outputs)\n",
        "for index in range(len(targets)):\n",
        "  neuron_on[targets[index]] = 1\n",
        "  outputs[targets[index]][y_train[index]] += 1"
      ],
      "execution_count": 18,
      "outputs": []
    },
    {
      "cell_type": "code",
      "metadata": {
        "id": "dKZsQg1QbaXo"
      },
      "source": [
        "labels = []\n",
        "for i in range(len(outputs)):\n",
        "  labels.append(int(np.where(outputs[i] == max(outputs[i]))[0][0]))"
      ],
      "execution_count": 19,
      "outputs": []
    },
    {
      "cell_type": "code",
      "metadata": {
        "colab": {
          "base_uri": "https://localhost:8080/"
        },
        "id": "wb8wkTBhbaZk",
        "outputId": "7b75b1a0-4aae-431b-8b8c-9578103a39fd"
      },
      "source": [
        "counter = 0\n",
        "for i in range(len(y_train)):\n",
        "  if y_train[i] == labels[targets[i]]:\n",
        "    counter += 1\n",
        "print(\"Accuracy on train data is %.2f percent.\" %(100 * counter / len(y_train)))"
      ],
      "execution_count": 20,
      "outputs": [
        {
          "output_type": "stream",
          "text": [
            "Accuracy on train data is 44.50 percent.\n"
          ],
          "name": "stdout"
        }
      ]
    },
    {
      "cell_type": "code",
      "metadata": {
        "id": "i7XlqSBBbace"
      },
      "source": [
        "result2 = np.dot(X_test, W)\n",
        "targets2 = []\n",
        "for i in range(len(result2)):\n",
        "  targets2.append(int(np.where(result2[i] == min(result2[i]))[0]))"
      ],
      "execution_count": 21,
      "outputs": []
    },
    {
      "cell_type": "code",
      "metadata": {
        "colab": {
          "base_uri": "https://localhost:8080/"
        },
        "id": "TrZ8dTjmbjXW",
        "outputId": "637d00a6-e112-4f04-8f8e-10ee29c4489c"
      },
      "source": [
        "counter = 0\n",
        "for i in range(len(y_test)):\n",
        "  if y_test[i] == labels[targets2[i]]:\n",
        "    counter += 1\n",
        "print(\"Accuracy on test data is %.2f percent.\" %(100 * counter / len(y_test)))"
      ],
      "execution_count": 22,
      "outputs": [
        {
          "output_type": "stream",
          "text": [
            "Accuracy on test data is 36.20 percent.\n"
          ],
          "name": "stdout"
        }
      ]
    },
    {
      "cell_type": "code",
      "metadata": {
        "colab": {
          "base_uri": "https://localhost:8080/"
        },
        "id": "Qf-qNUtFbjZa",
        "outputId": "cde4eecc-86ba-4812-912f-3d723d07a7b6"
      },
      "source": [
        "s = 0\n",
        "for j in range(len(neuron_on)):\n",
        "  if neuron_on[j] == 1:\n",
        "    temp = []\n",
        "    for i in range(len(targets2)):\n",
        "      if targets2[i] == j:\n",
        "        temp.append(y_test[i])\n",
        "    s += len(temp)\n",
        "    if temp != []:\n",
        "      print(temp)"
      ],
      "execution_count": 23,
      "outputs": [
        {
          "output_type": "stream",
          "text": [
            "[3, 9]\n",
            "[3, 4, 5, 4]\n",
            "[5, 6, 8]\n",
            "[4, 7, 6, 7, 4, 6, 6, 7, 6, 0, 1, 7, 7, 6]\n",
            "[6, 2]\n",
            "[1, 8, 8, 8, 4, 8]\n",
            "[0, 2]\n",
            "[1, 1, 1, 1]\n",
            "[7, 7, 4]\n",
            "[7, 7]\n",
            "[9, 9]\n",
            "[7, 8, 6, 4, 3, 8, 3, 3, 4, 3, 3]\n",
            "[5]\n",
            "[5, 5, 4, 5]\n",
            "[1, 7, 1, 1, 9, 1, 1]\n",
            "[6, 8, 8, 8, 2, 8, 9, 8]\n",
            "[9, 5, 5, 1, 0]\n",
            "[0]\n",
            "[7, 7, 7, 7, 9, 8, 7, 7, 7, 5, 5, 5, 9, 7, 5, 0, 7, 7]\n",
            "[5, 5, 5, 0, 5, 3, 9, 7]\n",
            "[7]\n",
            "[1, 3, 2, 3, 2, 1, 5, 3, 3, 3, 2, 3, 1, 5, 5, 7, 0, 5, 7, 1, 5, 5, 6, 3, 1]\n",
            "[4, 3]\n",
            "[6]\n",
            "[7]\n",
            "[1, 3, 1, 3]\n",
            "[3]\n",
            "[7, 3, 7, 3]\n",
            "[6]\n",
            "[0, 0]\n",
            "[7, 2, 2]\n",
            "[3]\n",
            "[9, 9, 6, 3, 9, 5, 1, 1, 8, 8, 2, 4, 4, 8, 1, 9, 7, 7, 1, 1, 1, 5, 1, 1, 7, 1, 8, 1, 4, 6, 6, 3, 1, 5, 3, 9, 3, 8, 8, 9, 4, 9, 5, 8, 2, 1, 1, 3, 3, 3, 6, 4, 4, 1, 3, 6, 4, 1, 4, 2, 3, 6, 1, 1, 5, 3, 1, 3, 1, 6, 8, 5, 6, 1, 6]\n",
            "[7, 1]\n",
            "[3, 8, 3, 5, 9, 8, 9, 9, 3, 9, 5, 8, 8, 5, 5, 3, 5, 4, 5, 9, 3, 5, 4, 3, 9, 5, 5, 5, 3, 9, 8, 8, 5, 8, 3, 3, 3]\n",
            "[7, 7]\n",
            "[5, 2, 2, 2, 2, 5, 2, 2, 3, 0, 2, 2, 0, 2, 5, 6, 2, 8, 2, 3, 2, 0, 5, 6, 2, 0, 2, 0, 2, 3, 2]\n",
            "[4, 4]\n",
            "[7, 7, 8, 7, 0, 5]\n",
            "[3]\n",
            "[4, 2, 0, 9, 8, 2]\n",
            "[5, 9, 8]\n",
            "[4, 6, 0, 0, 0, 0, 0, 6]\n",
            "[6, 4, 5, 2, 5, 5, 5, 5, 8, 9, 5, 5, 7, 2]\n",
            "[6, 6, 3]\n",
            "[0]\n",
            "[6, 9, 4, 6, 4, 9, 4, 9, 9, 7, 9]\n",
            "[8, 0, 0]\n",
            "[1]\n",
            "[7, 7, 7]\n",
            "[9, 7, 9, 4, 7, 4, 4, 9, 4, 7, 2, 9, 4, 3, 7, 2, 2, 3, 9, 2, 4, 4, 4, 6, 2, 9, 9, 2]\n",
            "[4, 6, 4, 6, 6, 6, 6, 6, 9, 6, 9, 6, 4, 6, 6, 9]\n",
            "[5, 9, 1, 0, 6]\n",
            "[5, 3, 6]\n",
            "[4]\n",
            "[3]\n",
            "[0]\n",
            "[3]\n",
            "[3, 0]\n",
            "[6]\n",
            "[6, 6]\n",
            "[3, 6, 1, 1, 1, 1, 5, 1, 2, 2, 2, 8, 6, 1, 1, 1, 2, 8, 6, 1, 1]\n",
            "[5, 5]\n",
            "[6, 0, 5, 0, 6, 0]\n",
            "[0, 0, 0, 0, 0, 0, 0, 5, 9, 9, 0, 9, 4, 0, 9, 8, 5, 8, 4, 7, 4, 8, 0, 6, 9, 5, 8]\n",
            "[2, 7, 2, 7]\n",
            "[0, 0, 0, 5, 0, 6, 3, 2, 0, 0, 9, 0, 0, 5, 2, 3, 0, 3, 8, 8, 8, 3, 6, 0, 6, 2, 0, 0, 2, 3, 2, 5, 3, 8, 9, 0, 0, 6]\n",
            "[9, 9, 7, 9, 7, 1, 8, 1, 8, 5, 4, 8, 7, 4, 8, 2, 8, 8, 8, 9, 8, 6, 8, 8, 7, 4, 6, 7, 8, 9, 7, 7, 7, 7, 9]\n",
            "[3, 5, 9, 3, 3, 3, 3]\n",
            "[4]\n",
            "[6]\n",
            "[4, 5]\n",
            "[4, 2, 7, 2, 6, 6, 2, 6]\n",
            "[7, 7, 7]\n",
            "[9, 9, 0, 2, 2, 7]\n",
            "[5]\n",
            "[2, 1, 1, 1, 1, 1, 2, 2]\n",
            "[0]\n",
            "[3, 3, 3, 2]\n",
            "[5, 0, 5, 0, 5, 0, 0, 0, 8]\n",
            "[8, 1, 1, 0, 4]\n",
            "[5, 5, 3]\n",
            "[4, 5]\n",
            "[9, 4, 4, 8, 8, 9, 4, 9, 8, 4, 8, 4, 4, 8, 1, 8, 8]\n",
            "[6]\n",
            "[4, 4]\n",
            "[4, 9, 7, 4, 4, 7, 7, 7, 7, 7, 7, 9, 6, 7, 9, 4, 7, 7, 7, 4, 7, 4, 9, 2]\n",
            "[3, 0, 8, 0, 8, 4, 5, 0, 0, 0, 0, 4, 0, 0, 4, 0]\n",
            "[1, 1, 1, 1, 1, 1, 1]\n",
            "[3, 8, 5, 5, 3, 3, 3, 3]\n",
            "[2, 2]\n",
            "[3, 3]\n",
            "[1, 2]\n",
            "[5, 6, 5]\n",
            "[1, 1]\n",
            "[7, 2, 2, 2, 2, 2, 6, 2, 7, 2, 2]\n",
            "[1, 1, 1, 1, 1, 1, 1, 1, 1, 6, 1, 1, 1, 1, 1, 1, 1, 1, 1, 1, 1, 1, 1, 1, 1, 1]\n",
            "[2]\n",
            "[1, 6, 6, 6, 2, 2, 9, 1, 6, 1, 0, 1, 9, 2, 6, 2, 2]\n",
            "[4, 7]\n",
            "[6, 6]\n",
            "[9, 4]\n",
            "[1, 1, 1, 1, 7, 1, 1]\n",
            "[6, 2, 3, 2, 2, 3, 2]\n",
            "[2, 6, 9, 2, 2, 8, 2, 3, 8, 2, 2, 0, 2, 3, 3, 8, 3, 6, 2]\n",
            "[0]\n",
            "[1]\n",
            "[3]\n",
            "[3, 2, 0, 2, 2, 2, 2]\n",
            "[4]\n",
            "[3]\n",
            "[3, 1, 3, 1, 4, 1]\n",
            "[5]\n",
            "[4]\n",
            "[4, 6, 2]\n",
            "[6]\n",
            "[0, 2, 0, 0]\n",
            "[4, 4, 4, 8, 8, 2, 4, 4, 2, 1, 4, 9, 8, 3, 8, 4, 8, 4, 2, 4, 4, 4, 8, 4, 8, 8, 2]\n",
            "[4, 7, 1, 7, 9, 9, 6, 4, 6, 4, 4, 2, 9, 2, 9, 9, 9, 2, 4, 9, 1, 8, 9, 9, 4, 8, 9, 9, 4, 7, 4, 9, 9, 2, 9, 1, 8, 9, 1, 4, 9, 7, 9, 4, 7, 8, 9, 8, 3, 7, 4, 4, 4, 4, 3, 7, 9, 9]\n",
            "[3, 5, 4, 0]\n",
            "[4, 4]\n",
            "[0, 6, 4, 8]\n",
            "[9]\n",
            "[2, 2, 8, 2, 1]\n",
            "[7, 7, 7, 7]\n",
            "[7, 3, 3, 3, 3, 7, 7, 5]\n",
            "[7, 2, 2, 2, 2, 0, 8, 8]\n",
            "[1]\n",
            "[6, 4, 6, 6]\n"
          ],
          "name": "stdout"
        }
      ]
    },
    {
      "cell_type": "code",
      "metadata": {
        "colab": {
          "base_uri": "https://localhost:8080/"
        },
        "id": "dbfvvkgUrz3K",
        "outputId": "fdbf972a-a7a0-4c92-a66a-eb858082e3bc"
      },
      "source": [
        "neuron_on"
      ],
      "execution_count": 25,
      "outputs": [
        {
          "output_type": "execute_result",
          "data": {
            "text/plain": [
              "[0,\n",
              " 0,\n",
              " 0,\n",
              " 0,\n",
              " 1,\n",
              " 1,\n",
              " 0,\n",
              " 0,\n",
              " 0,\n",
              " 0,\n",
              " 0,\n",
              " 1,\n",
              " 0,\n",
              " 0,\n",
              " 0,\n",
              " 1,\n",
              " 0,\n",
              " 1,\n",
              " 0,\n",
              " 0,\n",
              " 0,\n",
              " 1,\n",
              " 1,\n",
              " 0,\n",
              " 0,\n",
              " 0,\n",
              " 0,\n",
              " 0,\n",
              " 0,\n",
              " 0,\n",
              " 0,\n",
              " 1,\n",
              " 0,\n",
              " 1,\n",
              " 0,\n",
              " 1,\n",
              " 1,\n",
              " 1,\n",
              " 1,\n",
              " 0,\n",
              " 1,\n",
              " 0,\n",
              " 0,\n",
              " 0,\n",
              " 0,\n",
              " 0,\n",
              " 0,\n",
              " 1,\n",
              " 0,\n",
              " 0,\n",
              " 0,\n",
              " 0,\n",
              " 1,\n",
              " 0,\n",
              " 1,\n",
              " 1,\n",
              " 0,\n",
              " 0,\n",
              " 0,\n",
              " 1,\n",
              " 0,\n",
              " 0,\n",
              " 0,\n",
              " 1,\n",
              " 1,\n",
              " 0,\n",
              " 0,\n",
              " 0,\n",
              " 0,\n",
              " 1,\n",
              " 0,\n",
              " 1,\n",
              " 0,\n",
              " 1,\n",
              " 1,\n",
              " 0,\n",
              " 1,\n",
              " 0,\n",
              " 0,\n",
              " 0,\n",
              " 0,\n",
              " 0,\n",
              " 0,\n",
              " 0,\n",
              " 0,\n",
              " 0,\n",
              " 1,\n",
              " 0,\n",
              " 1,\n",
              " 0,\n",
              " 0,\n",
              " 0,\n",
              " 1,\n",
              " 0,\n",
              " 1,\n",
              " 1,\n",
              " 0,\n",
              " 0,\n",
              " 0,\n",
              " 0,\n",
              " 1,\n",
              " 1,\n",
              " 0,\n",
              " 0,\n",
              " 0,\n",
              " 0,\n",
              " 1,\n",
              " 0,\n",
              " 1,\n",
              " 0,\n",
              " 0,\n",
              " 0,\n",
              " 0,\n",
              " 0,\n",
              " 0,\n",
              " 1,\n",
              " 1,\n",
              " 0,\n",
              " 0,\n",
              " 0,\n",
              " 0,\n",
              " 1,\n",
              " 0,\n",
              " 0,\n",
              " 0,\n",
              " 0,\n",
              " 0,\n",
              " 0,\n",
              " 1,\n",
              " 1,\n",
              " 0,\n",
              " 0,\n",
              " 0,\n",
              " 1,\n",
              " 0,\n",
              " 1,\n",
              " 0,\n",
              " 0,\n",
              " 0,\n",
              " 0,\n",
              " 0,\n",
              " 0,\n",
              " 0,\n",
              " 0,\n",
              " 1,\n",
              " 0,\n",
              " 0,\n",
              " 1,\n",
              " 0,\n",
              " 1,\n",
              " 1,\n",
              " 0,\n",
              " 0,\n",
              " 1,\n",
              " 1,\n",
              " 0,\n",
              " 1,\n",
              " 0,\n",
              " 0,\n",
              " 0,\n",
              " 0,\n",
              " 0,\n",
              " 0,\n",
              " 1,\n",
              " 0,\n",
              " 1,\n",
              " 0,\n",
              " 0,\n",
              " 0,\n",
              " 0,\n",
              " 0,\n",
              " 1,\n",
              " 0,\n",
              " 0,\n",
              " 1,\n",
              " 0,\n",
              " 0,\n",
              " 1,\n",
              " 0,\n",
              " 1,\n",
              " 0,\n",
              " 1,\n",
              " 0,\n",
              " 0,\n",
              " 0,\n",
              " 1,\n",
              " 1,\n",
              " 1,\n",
              " 0,\n",
              " 0,\n",
              " 1,\n",
              " 0,\n",
              " 1,\n",
              " 0,\n",
              " 1,\n",
              " 0,\n",
              " 1,\n",
              " 0,\n",
              " 0,\n",
              " 0,\n",
              " 0,\n",
              " 0,\n",
              " 0,\n",
              " 1,\n",
              " 1,\n",
              " 0,\n",
              " 1,\n",
              " 0,\n",
              " 1,\n",
              " 0,\n",
              " 0,\n",
              " 0,\n",
              " 0,\n",
              " 0,\n",
              " 0,\n",
              " 0,\n",
              " 1,\n",
              " 0,\n",
              " 1,\n",
              " 0,\n",
              " 0,\n",
              " 0,\n",
              " 0,\n",
              " 0,\n",
              " 0,\n",
              " 0,\n",
              " 0,\n",
              " 0,\n",
              " 0,\n",
              " 0,\n",
              " 0,\n",
              " 0,\n",
              " 0,\n",
              " 1,\n",
              " 0,\n",
              " 1,\n",
              " 0,\n",
              " 0,\n",
              " 0,\n",
              " 0,\n",
              " 0,\n",
              " 0,\n",
              " 1,\n",
              " 0,\n",
              " 0,\n",
              " 0,\n",
              " 1,\n",
              " 0,\n",
              " 0,\n",
              " 0,\n",
              " 1,\n",
              " 0,\n",
              " 0,\n",
              " 0,\n",
              " 0,\n",
              " 0,\n",
              " 0,\n",
              " 0,\n",
              " 1,\n",
              " 0,\n",
              " 0,\n",
              " 0,\n",
              " 0,\n",
              " 1,\n",
              " 0,\n",
              " 0,\n",
              " 0,\n",
              " 1,\n",
              " 0,\n",
              " 0,\n",
              " 1,\n",
              " 1,\n",
              " 0,\n",
              " 0,\n",
              " 1,\n",
              " 0,\n",
              " 0,\n",
              " 1,\n",
              " 0,\n",
              " 0,\n",
              " 0,\n",
              " 0,\n",
              " 1,\n",
              " 0,\n",
              " 0,\n",
              " 1,\n",
              " 1,\n",
              " 0,\n",
              " 0,\n",
              " 0,\n",
              " 1,\n",
              " 0,\n",
              " 0,\n",
              " 0,\n",
              " 0,\n",
              " 0,\n",
              " 0,\n",
              " 1,\n",
              " 0,\n",
              " 0,\n",
              " 0,\n",
              " 0,\n",
              " 1,\n",
              " 1,\n",
              " 1,\n",
              " 0,\n",
              " 0,\n",
              " 0,\n",
              " 0,\n",
              " 1,\n",
              " 1,\n",
              " 0,\n",
              " 0,\n",
              " 0,\n",
              " 0,\n",
              " 1,\n",
              " 0,\n",
              " 0,\n",
              " 1,\n",
              " 1,\n",
              " 0,\n",
              " 0,\n",
              " 0,\n",
              " 1,\n",
              " 0,\n",
              " 1,\n",
              " 1,\n",
              " 1,\n",
              " 0,\n",
              " 0,\n",
              " 0,\n",
              " 1,\n",
              " 0,\n",
              " 0,\n",
              " 1,\n",
              " 1,\n",
              " 0,\n",
              " 0,\n",
              " 1,\n",
              " 0,\n",
              " 0,\n",
              " 1,\n",
              " 1,\n",
              " 0,\n",
              " 1,\n",
              " 0,\n",
              " 0,\n",
              " 1,\n",
              " 1,\n",
              " 0,\n",
              " 0,\n",
              " 1,\n",
              " 1,\n",
              " 0,\n",
              " 0,\n",
              " 0,\n",
              " 0,\n",
              " 1,\n",
              " 1,\n",
              " 0,\n",
              " 1,\n",
              " 0,\n",
              " 0,\n",
              " 0,\n",
              " 0,\n",
              " 1,\n",
              " 0,\n",
              " 0,\n",
              " 0,\n",
              " 0,\n",
              " 0,\n",
              " 0,\n",
              " 0,\n",
              " 0,\n",
              " 0,\n",
              " 0,\n",
              " 0,\n",
              " 0,\n",
              " 0,\n",
              " 1,\n",
              " 0,\n",
              " 1,\n",
              " 1,\n",
              " 0,\n",
              " 0,\n",
              " 1,\n",
              " 0,\n",
              " 0,\n",
              " 0,\n",
              " 0,\n",
              " 0,\n",
              " 0,\n",
              " 0,\n",
              " 0,\n",
              " 0,\n",
              " 0,\n",
              " 0,\n",
              " 0,\n",
              " 1,\n",
              " 0,\n",
              " 0,\n",
              " 1,\n",
              " 0,\n",
              " 1,\n",
              " 0,\n",
              " 1,\n",
              " 0,\n",
              " 0,\n",
              " 0,\n",
              " 0,\n",
              " 1,\n",
              " 1,\n",
              " 0,\n",
              " 0,\n",
              " 0,\n",
              " 0,\n",
              " 0,\n",
              " 0,\n",
              " 0,\n",
              " 0,\n",
              " 1,\n",
              " 0,\n",
              " 0,\n",
              " 0,\n",
              " 1,\n",
              " 0,\n",
              " 0,\n",
              " 0,\n",
              " 0,\n",
              " 0,\n",
              " 1,\n",
              " 0,\n",
              " 1,\n",
              " 1,\n",
              " 0,\n",
              " 0,\n",
              " 0,\n",
              " 0,\n",
              " 0,\n",
              " 1,\n",
              " 1,\n",
              " 1,\n",
              " 0,\n",
              " 0,\n",
              " 1,\n",
              " 0,\n",
              " 1,\n",
              " 1,\n",
              " 0,\n",
              " 0,\n",
              " 0,\n",
              " 0,\n",
              " 1,\n",
              " 0,\n",
              " 0,\n",
              " 0,\n",
              " 0,\n",
              " 1,\n",
              " 1,\n",
              " 1,\n",
              " 0,\n",
              " 0,\n",
              " 1,\n",
              " 1,\n",
              " 0,\n",
              " 0,\n",
              " 0,\n",
              " 0,\n",
              " 0,\n",
              " 1,\n",
              " 1,\n",
              " 0,\n",
              " 1,\n",
              " 1,\n",
              " 1,\n",
              " 1,\n",
              " 1,\n",
              " 1,\n",
              " 1,\n",
              " 0,\n",
              " 0,\n",
              " 0,\n",
              " 1,\n",
              " 1,\n",
              " 0,\n",
              " 1,\n",
              " 0,\n",
              " 0,\n",
              " 0,\n",
              " 0,\n",
              " 1,\n",
              " 1,\n",
              " 1,\n",
              " 1,\n",
              " 0,\n",
              " 0,\n",
              " 1,\n",
              " 1,\n",
              " 0,\n",
              " 0,\n",
              " 1,\n",
              " 0,\n",
              " 0,\n",
              " 0,\n",
              " 0,\n",
              " 0,\n",
              " 0,\n",
              " 0,\n",
              " 1,\n",
              " 0,\n",
              " 1,\n",
              " 0,\n",
              " 0,\n",
              " 0,\n",
              " 0,\n",
              " 0,\n",
              " 1,\n",
              " 1,\n",
              " 0,\n",
              " 0,\n",
              " 1,\n",
              " 0,\n",
              " 0,\n",
              " 0,\n",
              " 0,\n",
              " 1,\n",
              " 0,\n",
              " 0,\n",
              " 1,\n",
              " 0,\n",
              " 0,\n",
              " 0,\n",
              " 0,\n",
              " 1,\n",
              " 0,\n",
              " 0,\n",
              " 0,\n",
              " 0,\n",
              " 0,\n",
              " 1,\n",
              " 0,\n",
              " 1,\n",
              " 0,\n",
              " 0,\n",
              " 0,\n",
              " 0,\n",
              " 0,\n",
              " 0,\n",
              " 0,\n",
              " 1,\n",
              " 0,\n",
              " 0,\n",
              " 0,\n",
              " 1,\n",
              " 0,\n",
              " 0,\n",
              " 1,\n",
              " 0,\n",
              " 0,\n",
              " 0,\n",
              " 1,\n",
              " 0,\n",
              " 1,\n",
              " 0,\n",
              " 0,\n",
              " 0,\n",
              " 1,\n",
              " 0,\n",
              " 0,\n",
              " 0,\n",
              " 0,\n",
              " 1,\n",
              " 0,\n",
              " 0,\n",
              " 1,\n",
              " 0,\n",
              " 1,\n",
              " 0,\n",
              " 0,\n",
              " 0,\n",
              " 1,\n",
              " 0,\n",
              " 0,\n",
              " 0,\n",
              " 0,\n",
              " 0,\n",
              " 0,\n",
              " 0,\n",
              " 1,\n",
              " 0,\n",
              " 0,\n",
              " 0,\n",
              " 0,\n",
              " 0,\n",
              " 0,\n",
              " 0,\n",
              " 0,\n",
              " 0,\n",
              " 0,\n",
              " 1,\n",
              " 0,\n",
              " 1,\n",
              " 0,\n",
              " 0,\n",
              " 0,\n",
              " 0,\n",
              " 0,\n",
              " 0,\n",
              " 1,\n",
              " 0,\n",
              " 0,\n",
              " 0,\n",
              " 0,\n",
              " 0,\n",
              " 0,\n",
              " 0,\n",
              " 0,\n",
              " 1,\n",
              " 1,\n",
              " 0,\n",
              " 0,\n",
              " 0,\n",
              " 0,\n",
              " 0,\n",
              " 0]"
            ]
          },
          "metadata": {
            "tags": []
          },
          "execution_count": 25
        }
      ]
    },
    {
      "cell_type": "code",
      "metadata": {
        "colab": {
          "base_uri": "https://localhost:8080/",
          "height": 268
        },
        "id": "XiYZ3rvYbxLU",
        "outputId": "e19a2a30-1886-42f9-c9e7-78c9a0dbc764"
      },
      "source": [
        "plt.subplot(221)\n",
        "plt.imshow(W[:, 5].reshape((28, 28)), cmap=plt.get_cmap('gray'))\n",
        "plt.subplot(222)\n",
        "plt.imshow(W[:, 491].reshape((28, 28)), cmap=plt.get_cmap('gray'))\n",
        "plt.subplot(223)\n",
        "plt.imshow(W[:, 22].reshape((28, 28)), cmap=plt.get_cmap('gray'))\n",
        "plt.subplot(224)\n",
        "plt.imshow(W[:, 618].reshape((28, 28)), cmap=plt.get_cmap('gray'))\n",
        "plt.show()"
      ],
      "execution_count": 52,
      "outputs": [
        {
          "output_type": "display_data",
          "data": {
            "image/png": "[encoded data removed]",
            "text/plain": [
              "<Figure size 432x288 with 4 Axes>"
            ]
          },
          "metadata": {
            "tags": [],
            "needs_background": "light"
          }
        }
      ]
    }
  ]
}