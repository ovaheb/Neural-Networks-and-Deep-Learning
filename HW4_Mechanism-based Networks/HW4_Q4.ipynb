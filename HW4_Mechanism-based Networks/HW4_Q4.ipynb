{
  "nbformat": 4,
  "nbformat_minor": 0,
  "metadata": {
    "colab": {
      "name": "HW4_Q4.ipynb",
      "provenance": []
    },
    "kernelspec": {
      "name": "python3",
      "display_name": "Python 3"
    },
    "language_info": {
      "name": "python"
    }
  },
  "cells": [
    {
      "cell_type": "markdown",
      "metadata": {
        "id": "mJHuu1nRl0cZ"
      },
      "source": [
        "# Neural Networks and Deep Learning Spring 1400 <img src = 'https://ece.ut.ac.ir/cict-theme/images/footer-logo.png' alt=\"Tehran-University-Logo\" width=\"150\" height=\"150\" align=\"right\">\n",
        "## Homework 4 - Question 4\n",
        "\n",
        "\n",
        "### By Omid Vaheb\n",
        "### 810196582"
      ]
    },
    {
      "cell_type": "markdown",
      "metadata": {
        "id": "muR9_Upvl6An"
      },
      "source": [
        "## Importing required libraries"
      ]
    },
    {
      "cell_type": "code",
      "metadata": {
        "id": "fCtn7hc2lnr2"
      },
      "source": [
        "import numpy as np\n",
        "import matplotlib.pyplot as plt\n",
        "import copy"
      ],
      "execution_count": 36,
      "outputs": []
    },
    {
      "cell_type": "code",
      "metadata": {
        "id": "gewRJ7hvi6Th"
      },
      "source": [
        "e1 = np.array([ 1, -1,  1, -1,  1, -1])\n",
        "e2 = np.array([-1,  1, -1,  1, -1,  -1])\n",
        "e3 = np.array([ 1,  1,  1,  -1,  -1,  -1])"
      ],
      "execution_count": 37,
      "outputs": []
    },
    {
      "cell_type": "code",
      "metadata": {
        "id": "xO5Iecrxl9IZ"
      },
      "source": [
        "V1 = np.array([1, 1, 1, 1, 1, 1])\n",
        "V2 = np.array([-1, 1, -1, -1, 1, 1])\n",
        "V3 = np.array([-1, -1, 1, 1, 1, 1])\n",
        "V4 = np.array([-1, -1, 1, 1, -1, 1])\n",
        "V5 = np.array([-1, 1, 1, -1, -1, -1])"
      ],
      "execution_count": 38,
      "outputs": []
    },
    {
      "cell_type": "code",
      "metadata": {
        "id": "GpucAI_Ol9Kn"
      },
      "source": [
        "W = np.array([e1/2, e2/2, e3/2])"
      ],
      "execution_count": 39,
      "outputs": []
    },
    {
      "cell_type": "code",
      "metadata": {
        "colab": {
          "base_uri": "https://localhost:8080/"
        },
        "id": "gxv9MDeL_ZYv",
        "outputId": "4649f417-51b5-4357-f8b7-d1f87b592f02"
      },
      "source": [
        "W"
      ],
      "execution_count": 40,
      "outputs": [
        {
          "output_type": "execute_result",
          "data": {
            "text/plain": [
              "array([[ 0.5, -0.5,  0.5, -0.5,  0.5, -0.5],\n",
              "       [-0.5,  0.5, -0.5,  0.5, -0.5, -0.5],\n",
              "       [ 0.5,  0.5,  0.5, -0.5, -0.5, -0.5]])"
            ]
          },
          "metadata": {
            "tags": []
          },
          "execution_count": 40
        }
      ]
    },
    {
      "cell_type": "code",
      "metadata": {
        "id": "HXMRBfat_x3K"
      },
      "source": [
        "def Max_net(xx, max_x, epsilon):\n",
        "    W2 = (1 + epsilon) * np.eye(len(xx)) - epsilon\n",
        "    x = copy.deepcopy(xx)\n",
        "    while True:\n",
        "        counter = 0\n",
        "        for i in range(len(x)):\n",
        "            if x[i] != 0:\n",
        "                counter += 1\n",
        "        if counter <= 1 or (max(x) < 0.01):\n",
        "            break\n",
        "        x = np.dot(W2, x)\n",
        "        for i in range(len(x)):\n",
        "            if x[i] < 0:\n",
        "                x[i] = 0\n",
        "    return np.where(x == max(x))[0][0]"
      ],
      "execution_count": 41,
      "outputs": []
    },
    {
      "cell_type": "code",
      "metadata": {
        "colab": {
          "base_uri": "https://localhost:8080/"
        },
        "id": "-bDC7Kusi8fj",
        "outputId": "c33db319-84ca-49b2-8a13-37cdf09e1d53"
      },
      "source": [
        "V = [V1, V2, V3, V4, V5]\n",
        "for i in range(5):\n",
        "    data = np.dot(W, V[i]) + (6/2)\n",
        "    ind = Max_net(data, 6, 0.13)\n",
        "    print(\"The closest vector to V\" + str(i + 1) + \" is vector e\" + str(ind + 1) + \".\")"
      ],
      "execution_count": 42,
      "outputs": [
        {
          "output_type": "stream",
          "text": [
            "The closest vector to V1 is vector e3.\n",
            "The closest vector to V2 is vector e2.\n",
            "The closest vector to V3 is vector e1.\n",
            "The closest vector to V4 is vector e2.\n",
            "The closest vector to V5 is vector e3.\n"
          ],
          "name": "stdout"
        }
      ]
    }
  ]
}