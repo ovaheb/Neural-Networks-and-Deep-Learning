{
 "cells": [
  {
   "cell_type": "markdown",
   "metadata": {},
   "source": [
    "# Question 4:\n",
    "In this question we are going to classify data gstored in madaline.csv with an madaline neuron.\n",
    "Our dataset consists of 3 columns in which the first 2 are features and the last one shows class of each datapoint."
   ]
  },
  {
   "cell_type": "markdown",
   "metadata": {},
   "source": [
    "First we import required libraries:"
   ]
  },
  {
   "cell_type": "code",
   "execution_count": 18,
   "metadata": {},
   "outputs": [],
   "source": [
    "import numpy\n",
    "import pandas as pd\n",
    "import matplotlib.pyplot as plt"
   ]
  },
  {
   "cell_type": "markdown",
   "metadata": {},
   "source": [
    "Then we read data from dataset."
   ]
  },
  {
   "cell_type": "code",
   "execution_count": 19,
   "metadata": {},
   "outputs": [],
   "source": [
    "x11 = []\n",
    "x21 = []\n",
    "x12 = []\n",
    "x22 = []\n",
    "dataframe = pd.read_csv(\"madaline.csv\")\n",
    "x1 = dataframe['x1']\n",
    "x2 = dataframe['x2']\n",
    "y = dataframe['y']"
   ]
  },
  {
   "cell_type": "markdown",
   "metadata": {},
   "source": [
    "Now we plot scatterplot of dataset to check its shape:"
   ]
  },
  {
   "cell_type": "code",
   "execution_count": 20,
   "metadata": {},
   "outputs": [
    {
     "data": {
      "image/png": "[encoded data removed]",
      "text/plain": [
       "<Figure size 432x288 with 1 Axes>"
      ]
     },
     "metadata": {
      "needs_background": "light"
     },
     "output_type": "display_data"
    }
   ],
   "source": [
    "for i in range(len(x1)):\n",
    "    if y[i] == 1:\n",
    "        x11.append(x1[i])\n",
    "        x21.append(x2[i])\n",
    "    elif y[i] == 0:\n",
    "        x12.append(x1[i])\n",
    "        x22.append(x2[i])\n",
    "plt.scatter(x11, x21, color = \"red\", s = 7)\n",
    "plt.scatter(x12, x22, color = \"blue\", s = 7)\n",
    "plt.title('Scatterplot of data')\n",
    "plt.xlabel('x1')\n",
    "plt.ylabel('x2')\n",
    "plt.show()"
   ]
  },
  {
   "cell_type": "code",
   "execution_count": 21,
   "metadata": {},
   "outputs": [],
   "source": [
    "s = []\n",
    "t = []\n",
    "for i in range(len(x1)):\n",
    "    s.append([x1[i], x2[i]])\n",
    "for i in range(len(y)):\n",
    "    if y[i] == 1:\n",
    "        t.append(1)\n",
    "    else:\n",
    "        t.append(-1)\n",
    "s = array(s)\n",
    "t = array(t)"
   ]
  },
  {
   "cell_type": "markdown",
   "metadata": {},
   "source": [
    "Now we define biases and weights randomly. We also need to define learning rates which I chose 0.002 here."
   ]
  },
  {
   "cell_type": "code",
   "execution_count": 34,
   "metadata": {},
   "outputs": [],
   "source": [
    "a1 = 0.002\n",
    "a2 = 0.002\n",
    "a3 = 0.002\n",
    "a4 = 0.002\n",
    "b1 = -1\n",
    "b2 = random.rand(1) * -0.05\n",
    "b3 = random.rand(1) * 0.05\n",
    "b4 = random.rand(1) * 0.05\n",
    "w1 = random.rand(1) * [0.005, 0.005]\n",
    "w11 = w1[0]\n",
    "w12 = w1[1]\n",
    "w2 = random.rand(1) * [-0.005, 0.005]\n",
    "w21 = w2[0]\n",
    "w22 = w2[1]\n",
    "w3 = random.rand(1) * [-0.005, -0.005]\n",
    "w31 = w3[0]\n",
    "w32 = w3[1]\n",
    "w4 = random.rand(1) * [-0.005, -0.005]\n",
    "w41 = w4[0]\n",
    "w42 = w4[1]\n",
    "v1, v2, v3, v4, b5 = 0.25, 0.25, 0.25, 0.25, 0"
   ]
  },
  {
   "cell_type": "markdown",
   "metadata": {},
   "source": [
    "The next step is to write the code of MRI lgorithm using the pseudocode in the source."
   ]
  },
  {
   "cell_type": "code",
   "execution_count": 35,
   "metadata": {},
   "outputs": [],
   "source": [
    "for epoch in range(10000):\n",
    "    for i in range(len(s)):\n",
    "        net1 = dot(s[i], w1) + b1\n",
    "        net2 = dot(s[i], w2) + b2\n",
    "        net3 = dot(s[i], w3) + b3\n",
    "        net4 = dot(s[i], w4) + b4\n",
    "        if net1 >= 0: \n",
    "            z1 = 1\n",
    "        else: \n",
    "            z1 = -1\n",
    "        if net2 >= 0 :\n",
    "            z2 = 1\n",
    "        else: \n",
    "            z2 = -1\n",
    "        if net3 >= 0:\n",
    "            z3 = 1\n",
    "        else: \n",
    "            z3 = -1\n",
    "        if net4 >= 0: \n",
    "            z4 = 1\n",
    "        else: \n",
    "            z4 = -1\n",
    "        y_in = v1 * z1 + v2 * z2 + v3 * z3 + v4 * z4 + b5\n",
    "        if y_in >= 0: \n",
    "            y = 1\n",
    "        else: \n",
    "            y = -1\n",
    "        if (y != t[i]) and (t[i] == 1):\n",
    "            w11 = w11 + a1 * (1 - z1) * s[i,0]\n",
    "            w12 = w12 + a1 * (1 - z1) * s[i,1]\n",
    "            \n",
    "            w21 = w21 + a2 * (1 - z2) * s[i,0]\n",
    "            w22 = w22 + a2 * (1 - z2) * s[i,1]\n",
    "            w31 = w31 + a3 * (1 - z3) * s[i,0]\n",
    "            w32 = w32 + a3 * (1 - z3) * s[i,1]\n",
    "            w41 = w41 + a4 * (1 - z4) * s[i,0]\n",
    "            w42 = w42 + a4 * (1 - z4) * s[i,1]\n",
    "            b1 = b1 + a1 * (1 - z1)\n",
    "            b2 = b2 + a2 * (1 - z2)\n",
    "            b3 = b3 + a3 * (1 - z3)\n",
    "            b4 = b4 + a4 * (1 - z4)\n",
    "        elif (y != t[i]) and (t[i] == -1):\n",
    "            w11 = w11 + a1 * (-1 - z1) * s[i,0]\n",
    "            w12 = w12 + a1 * (-1 - z1) * s[i,1]\n",
    "            w21 = w21 + a2 * (-1 - z2) * s[i,0]\n",
    "            w22 = w22 + a2 * (-1 - z2) * s[i,1]\n",
    "            w31 = w31 + a3 * (-1 - z3) * s[i,0]\n",
    "            w32 = w32 + a3 * (-1 - z3) * s[i,1]\n",
    "            w41 = w41 + a4 * (-1 - z4) * s[i,0]\n",
    "            w42 = w42 + a4 * (-1 - z4) * s[i,1]\n",
    "            b1 = b1 + a1 * (-1 - z1)\n",
    "            b2 = b2 + a2 * (-1 - z2)\n",
    "            b3 = b3 + a3 * (-1 - z3)\n",
    "            b4 = b4 + a4 * (-1 - z4)\n",
    "        w1 = [w11, w12]\n",
    "        w2 = [w21, w22]\n",
    "        w3 = [w31, w32]\n",
    "        w4 = [w41, w42]"
   ]
  },
  {
   "cell_type": "code",
   "execution_count": null,
   "metadata": {},
   "outputs": [],
   "source": [
    "Now we draw the lines tht are supposed to classify our "
   ]
  },
  {
   "cell_type": "code",
   "execution_count": 36,
   "metadata": {},
   "outputs": [
    {
     "data": {
      "image/png": "[encoded data removed]",
      "text/plain": [
       "<Figure size 432x288 with 1 Axes>"
      ]
     },
     "metadata": {
      "needs_background": "light"
     },
     "output_type": "display_data"
    }
   ],
   "source": [
    "plt.scatter(x11, x21, color = \"green\", s = 7)\n",
    "plt.scatter(x12, x22, color = \"red\", s = 7)\n",
    "x = linspace(-3,3)\n",
    "plt.plot(x_axis, (-1 * (1 / w1[1])) * (w1[0] * x + b1), ':b')\n",
    "plt.plot(x_axis, (-1 * (1 / w2[1])) * (w2[0] * x + b2), ':b')\n",
    "plt.plot(x_axis, (-1 * (1 / w3[1])) * (w3[0] * x + b3), ':b')\n",
    "plt.plot(x_axis, (-1 * (1 / w4[1])) * (w4[0] * x + b4), ':b')\n",
    "plt.title('Data and classifier lines')\n",
    "plt.xlabel('x1')\n",
    "plt.ylabel('x2')\n",
    "plt.show()"
   ]
  },
  {
   "cell_type": "code",
   "execution_count": null,
   "metadata": {},
   "outputs": [],
   "source": []
  },
  {
   "cell_type": "code",
   "execution_count": null,
   "metadata": {},
   "outputs": [],
   "source": []
  },
  {
   "cell_type": "code",
   "execution_count": null,
   "metadata": {},
   "outputs": [],
   "source": []
  },
  {
   "cell_type": "code",
   "execution_count": null,
   "metadata": {},
   "outputs": [],
   "source": []
  }
 ],
 "metadata": {
  "kernelspec": {
   "display_name": "Python 3",
   "language": "python",
   "name": "python3"
  },
  "language_info": {
   "codemirror_mode": {
    "name": "ipython",
    "version": 3
   },
   "file_extension": ".py",
   "mimetype": "text/x-python",
   "name": "python",
   "nbconvert_exporter": "python",
   "pygments_lexer": "ipython3",
   "version": "3.7.4"
  }
 },
 "nbformat": 4,
 "nbformat_minor": 2
}
