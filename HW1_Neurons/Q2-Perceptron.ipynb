{
 "cells": [
  {
   "cell_type": "markdown",
   "metadata": {},
   "source": [
    "# Question 2:\n",
    "In this question we are going to classify data stored in perceptron.csv using a neuron and perceptron rule.\n",
    "Our dataset consists of 3 columns in which the first 2 are features and the last one shows class of each datapoint."
   ]
  },
  {
   "cell_type": "markdown",
   "metadata": {},
   "source": [
    "First of all, we import required libraries:"
   ]
  },
  {
   "cell_type": "code",
   "execution_count": 138,
   "metadata": {},
   "outputs": [],
   "source": [
    "import numpy as np\n",
    "import pandas as pd\n",
    "import matplotlib.pyplot as plt\n",
    "from sklearn.model_selection import train_test_split"
   ]
  },
  {
   "cell_type": "markdown",
   "metadata": {},
   "source": [
    "Now, we read data from the csv file."
   ]
  },
  {
   "cell_type": "code",
   "execution_count": 139,
   "metadata": {},
   "outputs": [],
   "source": [
    "data = np.genfromtxt(\"perceptron.csv\", delimiter = \",\")\n",
    "data = data[1:]"
   ]
  },
  {
   "cell_type": "code",
   "execution_count": 140,
   "metadata": {},
   "outputs": [
    {
     "data": {
      "text/plain": [
       "array([[ 1.02850287,  0.97321756, -1.        ],\n",
       "       [ 0.2525051 ,  0.95587152, -1.        ],\n",
       "       [ 1.50808537,  0.672058  , -1.        ],\n",
       "       ...,\n",
       "       [-0.4651142 , -1.29082989,  1.        ],\n",
       "       [ 1.52205548,  0.9480073 , -1.        ],\n",
       "       [ 0.83411829,  0.92671017, -1.        ]])"
      ]
     },
     "execution_count": 140,
     "metadata": {},
     "output_type": "execute_result"
    }
   ],
   "source": [
    "data"
   ]
  },
  {
   "cell_type": "code",
   "execution_count": 141,
   "metadata": {},
   "outputs": [
    {
     "data": {
      "text/plain": [
       "400"
      ]
     },
     "execution_count": 141,
     "metadata": {},
     "output_type": "execute_result"
    }
   ],
   "source": [
    "len(data)"
   ]
  },
  {
   "cell_type": "markdown",
   "metadata": {},
   "source": [
    "1 - first of all, we plot the scatterplot of data and separate datapoints using 2 colors regarding their class."
   ]
  },
  {
   "cell_type": "code",
   "execution_count": 206,
   "metadata": {},
   "outputs": [
    {
     "data": {
      "image/png": "[encoded data removed]",
      "text/plain": [
       "<Figure size 432x288 with 1 Axes>"
      ]
     },
     "metadata": {
      "needs_background": "light"
     },
     "output_type": "display_data"
    }
   ],
   "source": [
    "for i in range(len(data)):\n",
    "    datapoint = data[i]\n",
    "    if datapoint[2] == 1:\n",
    "        plt.scatter(datapoint[0], datapoint[1], c = \"blue\")\n",
    "    elif datapoint[2] == -1:\n",
    "        plt.scatter(datapoint[0], datapoint[1], c = \"green\")\n",
    "    plt.title('y or class of each datapoint')\n",
    "    plt.xlabel('x1')\n",
    "    plt.ylabel('x2')"
   ]
  },
  {
   "cell_type": "markdown",
   "metadata": {},
   "source": [
    "2 - Now, we are going to define a neuron using perceptron rule and desired threshold. First part is to define activation function:"
   ]
  },
  {
   "cell_type": "code",
   "execution_count": 207,
   "metadata": {},
   "outputs": [],
   "source": [
    "def activation(x, theta):\n",
    "    if (x > theta):\n",
    "        return 1\n",
    "    elif (x < -theta):\n",
    "        return -1\n",
    "    else:\n",
    "        return 0"
   ]
  },
  {
   "cell_type": "markdown",
   "metadata": {},
   "source": [
    "Now is the time to define variables that need default value. I defined both weights and bias equal to zero and after experimenting several learning rates, I chose 0.2 for it. I chose 0.1 for the threshold too."
   ]
  },
  {
   "cell_type": "code",
   "execution_count": 224,
   "metadata": {},
   "outputs": [],
   "source": [
    "learning_rate = 0.2\n",
    "w1 = 0\n",
    "w2 = 0\n",
    "b = 0\n",
    "theta = 0.1"
   ]
  },
  {
   "cell_type": "markdown",
   "metadata": {},
   "source": [
    "Now, we split the dataset into train and test. There are 400 rows meaning that with 0.75 reserved for train data, 100 rows will be treated as test and 300 rows will be train data."
   ]
  },
  {
   "cell_type": "code",
   "execution_count": 225,
   "metadata": {},
   "outputs": [],
   "source": [
    "x_train, x_test = train_test_split(data, test_size = 0.25, random_state = 13)"
   ]
  },
  {
   "cell_type": "markdown",
   "metadata": {},
   "source": [
    "The next step is to perform the updates in each epoch. The number of pochs I chose is 10 but only one epoch will result 100 percent accuracy too. The rest of the code is the implementation of the perceptron updating rule thaught in the class."
   ]
  },
  {
   "cell_type": "code",
   "execution_count": 226,
   "metadata": {},
   "outputs": [],
   "source": [
    "for epoch in range(10):\n",
    "    for i in range(len(x_train)):\n",
    "        x = x_train[i]\n",
    "        net = x[0] * w1 + x[1] * w2 + b\n",
    "        y = activation(net, theta)\n",
    "        if x[2] != y:\n",
    "            b = b + learning_rate * x[2]\n",
    "            w1 = w1 + learning_rate * x[2] * x[0]\n",
    "            w2 = w2 + learning_rate * x[2] * x[1]"
   ]
  },
  {
   "cell_type": "markdown",
   "metadata": {},
   "source": [
    "3 - Now, we define a function to predict the test data and we count number of test points that we have correctly classified."
   ]
  },
  {
   "cell_type": "code",
   "execution_count": 227,
   "metadata": {},
   "outputs": [],
   "source": [
    "def predict(x1, x2, theta):\n",
    "    z = x1 * w1 + x2 * w2 + b\n",
    "    return activation(z, theta)"
   ]
  },
  {
   "cell_type": "code",
   "execution_count": 228,
   "metadata": {},
   "outputs": [],
   "source": [
    "correct = 0\n",
    "for i in range(len(x_test)):\n",
    "    test = x_test[i] \n",
    "    predicted = predict(test[0], test[1], theta)\n",
    "    if test[2] == predicted:\n",
    "        correct += 1"
   ]
  },
  {
   "cell_type": "markdown",
   "metadata": {},
   "source": [
    "We have achieved an accuracy of 100 percent."
   ]
  },
  {
   "cell_type": "code",
   "execution_count": 229,
   "metadata": {},
   "outputs": [
    {
     "name": "stdout",
     "output_type": "stream",
     "text": [
      "Accuracy : 100%\n"
     ]
    }
   ],
   "source": [
    "print(\"Accuracy : %d%%\" % (correct / len(x_test) * 100))"
   ]
  },
  {
   "cell_type": "markdown",
   "metadata": {},
   "source": [
    "Now we plot the scatterplot of the predicted classes of each datapoint and the lines that classify them. Since we have achieved 100 percent accuracy the scatterplots of this part is the same as the first part."
   ]
  },
  {
   "cell_type": "code",
   "execution_count": 230,
   "metadata": {},
   "outputs": [
    {
     "data": {
      "text/plain": [
       "Text(0, 0.5, 'x2')"
      ]
     },
     "execution_count": 230,
     "metadata": {},
     "output_type": "execute_result"
    },
    {
     "data": {
      "image/png": "[encoded data removed]",
      "text/plain": [
       "<Figure size 432x288 with 1 Axes>"
      ]
     },
     "metadata": {
      "needs_background": "light"
     },
     "output_type": "display_data"
    }
   ],
   "source": [
    "for i in range(len(x_test)):\n",
    "    datapoint = x_test[i]\n",
    "    if predict(datapoint[0], datapoint[1], theta) == 1:\n",
    "        plt.scatter(datapoint[0], datapoint[1], c = \"blue\")\n",
    "    elif predict(datapoint[0], datapoint[1], theta) == -1:\n",
    "        plt.scatter(datapoint[0], datapoint[1], c = \"green\")\n",
    "    else:\n",
    "        plt.scatter(datapoint[0], datapoint[1], c = \"black\")\n",
    "\n",
    "x = np.linspace(-3, 3, 100)\n",
    "y = ((-w1 * x) - b) / w2\n",
    "y1 = ((-w1 * x) - (b + theta)) / w2\n",
    "y2 = ((-w1 * x) - (b - theta)) / w2\n",
    "plt.title('Classified Datapoints')\n",
    "plt.plot(x, y, c = 'black')\n",
    "plt.plot(x, y1, 'y--')\n",
    "plt.plot(x, y2, 'y--')\n",
    "plt.xlabel('x1')\n",
    "plt.ylabel('x2')"
   ]
  },
  {
   "cell_type": "markdown",
   "metadata": {},
   "source": [
    "4 - In the last part we rerun second and third part of this question using another threshold."
   ]
  },
  {
   "cell_type": "code",
   "execution_count": 231,
   "metadata": {},
   "outputs": [],
   "source": [
    "learning_rate = 0.2\n",
    "w1 = 0\n",
    "w2 = 0\n",
    "b = 0\n",
    "theta = 200"
   ]
  },
  {
   "cell_type": "code",
   "execution_count": 232,
   "metadata": {},
   "outputs": [],
   "source": [
    "for epoch in range(10):\n",
    "    for i in range(len(x_train)):\n",
    "        x = x_train[i]\n",
    "        net = x[0] * w1 + x[1] * w2 + b\n",
    "        y = activation(net, theta)\n",
    "        if x[2] != y:\n",
    "            b = b + learning_rate * x[2]\n",
    "            w1 = w1 + learning_rate * x[2] * x[0]\n",
    "            w2 = w2 + learning_rate * x[2] * x[1]"
   ]
  },
  {
   "cell_type": "code",
   "execution_count": 233,
   "metadata": {},
   "outputs": [],
   "source": [
    "correct = 0\n",
    "for i in range(len(x_test)):\n",
    "    test = x_test[i] \n",
    "    predicted = predict(test[0], test[1], theta)\n",
    "    if test[2] == predicted:\n",
    "        correct += 1"
   ]
  },
  {
   "cell_type": "code",
   "execution_count": 234,
   "metadata": {},
   "outputs": [
    {
     "name": "stdout",
     "output_type": "stream",
     "text": [
      "Accuracy : 89%\n"
     ]
    }
   ],
   "source": [
    "print(\"Accuracy : %d%%\" % (correct / len(x_test) * 100))"
   ]
  },
  {
   "cell_type": "code",
   "execution_count": 235,
   "metadata": {},
   "outputs": [
    {
     "data": {
      "text/plain": [
       "Text(0, 0.5, 'x2')"
      ]
     },
     "execution_count": 235,
     "metadata": {},
     "output_type": "execute_result"
    },
    {
     "data": {
      "image/png": "[encoded data removed]",
      "text/plain": [
       "<Figure size 432x288 with 1 Axes>"
      ]
     },
     "metadata": {
      "needs_background": "light"
     },
     "output_type": "display_data"
    }
   ],
   "source": [
    "for i in range(len(x_test)):\n",
    "    datapoint = x_test[i]\n",
    "    if predict(datapoint[0], datapoint[1], theta) == 1:\n",
    "        plt.scatter(datapoint[0], datapoint[1], c = \"blue\")\n",
    "    elif predict(datapoint[0], datapoint[1], theta) == -1:\n",
    "        plt.scatter(datapoint[0], datapoint[1], c = \"green\")\n",
    "    else:\n",
    "        plt.scatter(datapoint[0], datapoint[1], c = \"black\")\n",
    "\n",
    "x = np.linspace(-3, 3, 100)\n",
    "y = ((-w1 * x) - b) / w2\n",
    "y1 = ((-w1 * x) - (b + theta)) / w2\n",
    "y2 = ((-w1 * x) - (b - theta)) / w2\n",
    "plt.title('Classified Datapoints')\n",
    "plt.plot(x, y, c = 'black')\n",
    "plt.plot(x, y1, 'y--')\n",
    "plt.plot(x, y2, 'y--')\n",
    "plt.xlabel('x1')\n",
    "plt.ylabel('x2')"
   ]
  },
  {
   "cell_type": "markdown",
   "metadata": {},
   "source": [
    "We can see that the accuracy is lower with the new threshold and few datapoints have been falsely labeled."
   ]
  },
  {
   "cell_type": "code",
   "execution_count": 238,
   "metadata": {},
   "outputs": [
    {
     "data": {
      "text/plain": [
       "Text(0, 0.5, 'x2')"
      ]
     },
     "execution_count": 238,
     "metadata": {},
     "output_type": "execute_result"
    },
    {
     "data": {
      "image/png": "[encoded data removed]",
      "text/plain": [
       "<Figure size 432x288 with 1 Axes>"
      ]
     },
     "metadata": {
      "needs_background": "light"
     },
     "output_type": "display_data"
    }
   ],
   "source": [
    "for i in range(len(x_test)):\n",
    "    datapoint = x_test[i]\n",
    "    if datapoint[2] == 1:\n",
    "        plt.scatter(datapoint[0], datapoint[1], c = \"blue\")\n",
    "    elif datapoint[2] == -1:\n",
    "        plt.scatter(datapoint[0], datapoint[1], c = \"green\")\n",
    "plt.title('Classes of test data')\n",
    "plt.xlabel('x1')\n",
    "plt.ylabel('x2')"
   ]
  },
  {
   "cell_type": "code",
   "execution_count": null,
   "metadata": {},
   "outputs": [],
   "source": []
  },
  {
   "cell_type": "code",
   "execution_count": null,
   "metadata": {},
   "outputs": [],
   "source": []
  }
 ],
 "metadata": {
  "kernelspec": {
   "display_name": "Python 3",
   "language": "python",
   "name": "python3"
  },
  "language_info": {
   "codemirror_mode": {
    "name": "ipython",
    "version": 3
   },
   "file_extension": ".py",
   "mimetype": "text/x-python",
   "name": "python",
   "nbconvert_exporter": "python",
   "pygments_lexer": "ipython3",
   "version": "3.7.4"
  }
 },
 "nbformat": 4,
 "nbformat_minor": 4
}
