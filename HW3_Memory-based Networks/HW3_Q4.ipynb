{
  "nbformat": 4,
  "nbformat_minor": 0,
  "metadata": {
    "colab": {
      "name": "HW3 - Q4.ipynb",
      "provenance": [],
      "collapsed_sections": []
    },
    "kernelspec": {
      "name": "python3",
      "display_name": "Python 3"
    },
    "language_info": {
      "name": "python"
    }
  },
  "cells": [
    {
      "cell_type": "markdown",
      "metadata": {
        "id": "roExxxRwuTEO"
      },
      "source": [
        "# Neural Networks and Deep Learning Spring 1400 <img src = 'https://ece.ut.ac.ir/cict-theme/images/footer-logo.png' alt=\"Tehran-University-Logo\" width=\"150\" height=\"150\" align=\"right\">\n",
        "## Homework 3 - Question 4\n",
        "\n",
        "\n",
        "### By Omid Vaheb\n",
        "### 810196582"
      ]
    },
    {
      "cell_type": "markdown",
      "metadata": {
        "id": "M1D0LPT9uVwq"
      },
      "source": [
        "## Importing required libraries"
      ]
    },
    {
      "cell_type": "code",
      "metadata": {
        "id": "D7s1cLCQuPVw"
      },
      "source": [
        "import numpy as np\n",
        "import random\n",
        "import copy\n",
        "import matplotlib.pyplot as plt"
      ],
      "execution_count": 71,
      "outputs": []
    },
    {
      "cell_type": "markdown",
      "metadata": {
        "id": "WjcKjUM2wgfu"
      },
      "source": [
        "## Generating Dataset"
      ]
    },
    {
      "cell_type": "code",
      "metadata": {
        "id": "xObfXKMauYBB"
      },
      "source": [
        "XA = [-1, 1, -1,\n",
        "      1, -1, 1,\n",
        "      1, 1, 1,\n",
        "      1, -1, 1,\n",
        "      1, -1, 1]\n",
        "XB = [1, 1, -1,\n",
        "      1, -1, 1,\n",
        "      1, 1, -1,\n",
        "      1, -1, 1,\n",
        "      1, 1, -1]\n",
        "XC = [-1, 1, 1,\n",
        "      1, -1, -1,\n",
        "      1, -1, -1,\n",
        "      1, -1, -1,\n",
        "      -1, 1, 1]\n",
        "XD = [1, 1, -1,\n",
        "      1, -1, 1,\n",
        "      1, -1, 1,\n",
        "      1, -1, 1,\n",
        "      1, 1, -1]\n",
        "XE = [1, 1, 1,\n",
        "      1, -1, -1,\n",
        "      1, 1, -1,\n",
        "      1, -1, -1,\n",
        "      1, 1, 1]\n",
        "XF = [1, 1, 1,\n",
        "      1, -1, -1,\n",
        "      1, 1, -1,\n",
        "      1, -1, -1,\n",
        "      1, -1, -1]\n",
        "XG = [-1, 1, 1,\n",
        "      1, -1, -1,\n",
        "      1, -1, 1,\n",
        "      1, -1, 1,\n",
        "      -1, 1, 1]\n",
        "XH = [1, -1, 1,\n",
        "      1, -1, 1,\n",
        "      1, 1, 1,\n",
        "      1, -1, 1,\n",
        "      1, -1, 1]\n",
        "YA = [-1, -1, -1]\n",
        "YB = [-1, -1, 1]\n",
        "YC = [-1, 1, -1]\n",
        "YD = [-1, 1, 1]\n",
        "YE = [1, -1, -1]\n",
        "YF = [1, -1, 1]\n",
        "YG = [1, 1, -1]\n",
        "YH = [1, 1, 1]"
      ],
      "execution_count": 72,
      "outputs": []
    },
    {
      "cell_type": "code",
      "metadata": {
        "id": "KLL2btWuuYDH"
      },
      "source": [
        "letters = [np.array(XA), np.array(XB), np.array(XC)]\n",
        "outputs = [np.array(YA), np.array(YB), np.array(YC)]"
      ],
      "execution_count": 104,
      "outputs": []
    },
    {
      "cell_type": "markdown",
      "metadata": {
        "id": "_KEUezQOwMY3"
      },
      "source": [
        "## Initializing weight matrixes"
      ]
    },
    {
      "cell_type": "code",
      "metadata": {
        "id": "6XCWYJazuYFF"
      },
      "source": [
        "W = np.zeros([15, 3])\n",
        "W = np.array(W)"
      ],
      "execution_count": 105,
      "outputs": []
    },
    {
      "cell_type": "markdown",
      "metadata": {
        "id": "UuGpFNGTwXIM"
      },
      "source": [
        "## Training Model"
      ]
    },
    {
      "cell_type": "code",
      "metadata": {
        "id": "vlyEYNeHuYHD"
      },
      "source": [
        "for index in range(3):\n",
        "  s = letters[index]\n",
        "  t = outputs[index]\n",
        "  W += np.dot(s.reshape(15, 1), np.transpose(t).reshape(1, 3))"
      ],
      "execution_count": 106,
      "outputs": []
    },
    {
      "cell_type": "code",
      "metadata": {
        "colab": {
          "base_uri": "https://localhost:8080/"
        },
        "id": "A6rPrrmtw58D",
        "outputId": "f1e5ad95-0dcf-4169-f8c8-7507c8e0bb27"
      },
      "source": [
        "W"
      ],
      "execution_count": 76,
      "outputs": [
        {
          "output_type": "execute_result",
          "data": {
            "text/plain": [
              "array([[ 1., -1.,  3.],\n",
              "       [-3., -1., -1.],\n",
              "       [ 1.,  3., -1.],\n",
              "       [-3., -1., -1.],\n",
              "       [ 3.,  1.,  1.],\n",
              "       [-1., -3.,  1.],\n",
              "       [-3., -1., -1.],\n",
              "       [-1., -3.,  1.],\n",
              "       [ 1., -1., -1.],\n",
              "       [-3., -1., -1.],\n",
              "       [ 3.,  1.,  1.],\n",
              "       [-1., -3.,  1.],\n",
              "       [-1., -3.,  1.],\n",
              "       [-1.,  1.,  1.],\n",
              "       [-1.,  1., -3.]])"
            ]
          },
          "metadata": {
            "tags": []
          },
          "execution_count": 76
        }
      ]
    },
    {
      "cell_type": "markdown",
      "metadata": {
        "id": "0MC1n2BvxX-g"
      },
      "source": [
        "## Testing ability of network trained with 3 letters on data without noise"
      ]
    },
    {
      "cell_type": "code",
      "metadata": {
        "colab": {
          "base_uri": "https://localhost:8080/"
        },
        "id": "Hw_nHiAnuYJG",
        "outputId": "06b8dca4-d44b-47cf-a88c-d0bc328ed7c1"
      },
      "source": [
        "theta = 0\n",
        "x = np.zeros(15)\n",
        "y = np.zeros(3)\n",
        "for index in range(3):\n",
        "  x = copy.deepcopy(letters[index])\n",
        "  y = copy.deepcopy(outputs[index])\n",
        "  counter = 0\n",
        "  flag = False\n",
        "  while True:\n",
        "    counter += 1\n",
        "    if flag:\n",
        "      changes = 0\n",
        "      for i in range(15):\n",
        "        if oldx[i] != x[i]:\n",
        "          changes += 1\n",
        "      for i in range(3):\n",
        "        if oldy[i] != y[i]:\n",
        "          changes += 1\n",
        "      if changes == 0:\n",
        "        break\n",
        "    flag = True\n",
        "    oldx = copy.deepcopy(x)\n",
        "    oldy = copy.deepcopy(y)\n",
        "    for j in range(3):\n",
        "      yin = 0\n",
        "      for i in range(15):\n",
        "        yin += x[i] * W[i][j]\n",
        "      if yin > theta:\n",
        "        y[j] = 1\n",
        "      elif yin < theta:\n",
        "        y[j] = -1\n",
        "    for i in range(15):\n",
        "      xin = 0\n",
        "      for j in range(3):\n",
        "        xin += y[j] * W[i][j]\n",
        "      if xin > theta:\n",
        "        x[i] = 1\n",
        "      elif xin < theta:\n",
        "        x[i] = -1\n",
        "\n",
        "  print(\"Number of iterations:\", counter)\n",
        "  print(\"Real Input: \", letters[index])\n",
        "  print(\"Final input:\", x.astype(int))\n",
        "  print(\"Real Output: \", outputs[index])\n",
        "  print(\"Final output:\", y.astype(int))\n",
        "  errorx = 0\n",
        "  for i in range(15):\n",
        "    if int(x[i]) != int(letters[index][i]):\n",
        "        errorx += 1\n",
        "  print(\"Error of input: \", errorx)\n",
        "  errory = 0\n",
        "  for i in range(3):\n",
        "    if int(y[i]) != int(outputs[index][i]):\n",
        "        errory += 1\n",
        "  print(\"Error of output:\", errory)"
      ],
      "execution_count": 77,
      "outputs": [
        {
          "output_type": "stream",
          "text": [
            "Number of iterations: 2\n",
            "Real Input:  [-1  1 -1  1 -1  1  1  1  1  1 -1  1  1 -1  1]\n",
            "Final input: [-1  1 -1  1 -1  1  1  1  1  1 -1  1  1 -1  1]\n",
            "Real Output:  [-1 -1 -1]\n",
            "Final output: [-1 -1 -1]\n",
            "Error of input:  0\n",
            "Error of output: 0\n",
            "Number of iterations: 2\n",
            "Real Input:  [ 1  1 -1  1 -1  1  1  1 -1  1 -1  1  1  1 -1]\n",
            "Final input: [ 1  1 -1  1 -1  1  1  1 -1  1 -1  1  1  1 -1]\n",
            "Real Output:  [-1 -1  1]\n",
            "Final output: [-1 -1  1]\n",
            "Error of input:  0\n",
            "Error of output: 0\n",
            "Number of iterations: 2\n",
            "Real Input:  [-1  1  1  1 -1 -1  1 -1 -1  1 -1 -1 -1  1  1]\n",
            "Final input: [-1  1  1  1 -1 -1  1 -1 -1  1 -1 -1 -1  1  1]\n",
            "Real Output:  [-1  1 -1]\n",
            "Final output: [-1  1 -1]\n",
            "Error of input:  0\n",
            "Error of output: 0\n"
          ],
          "name": "stdout"
        }
      ]
    },
    {
      "cell_type": "markdown",
      "metadata": {
        "id": "BXJxeof8LcJd"
      },
      "source": [
        "## Testing ability of network trained with 3 letters on data with 10% noise"
      ]
    },
    {
      "cell_type": "code",
      "metadata": {
        "colab": {
          "base_uri": "https://localhost:8080/"
        },
        "id": "PsVzCIMEuYKp",
        "outputId": "8a50a873-52a0-407b-a0ea-3da918351046"
      },
      "source": [
        "theta = 0\n",
        "errorx_sum = 0\n",
        "errory_sum = 0\n",
        "counters = 0\n",
        "for k in range(100):\n",
        "  x = np.zeros(15)\n",
        "  y = np.zeros(3)\n",
        "  for index in range(3):\n",
        "    x = copy.deepcopy(letters[index])\n",
        "    for i in range(15):\n",
        "      if random.random() <= 0.1:\n",
        "        x[i] = x[i] * -1\n",
        "    y = copy.deepcopy(outputs[index])\n",
        "    for i in range(3):\n",
        "      if random.random() <= 0.1:\n",
        "        y[i] = y[i] * -1\n",
        "    counter = 0\n",
        "    flag = False\n",
        "    while True:\n",
        "      counter += 1\n",
        "      if flag:\n",
        "        changes = 0\n",
        "        for i in range(15):\n",
        "          if oldx[i] != x[i]:\n",
        "            changes += 1\n",
        "        for i in range(3):\n",
        "          if oldy[i] != y[i]:\n",
        "            changes += 1\n",
        "        if changes == 0:\n",
        "          break\n",
        "      flag = True\n",
        "      oldx = copy.deepcopy(x)\n",
        "      oldy = copy.deepcopy(y)\n",
        "      for j in range(3):\n",
        "        yin = 0\n",
        "        for i in range(15):\n",
        "          yin += x[i] * W[i][j]\n",
        "        if yin > theta:\n",
        "          y[j] = 1\n",
        "        elif yin < theta:\n",
        "          y[j] = -1\n",
        "      for i in range(15):\n",
        "        xin = 0\n",
        "        for j in range(3):\n",
        "          xin += y[j] * W[i][j]\n",
        "        if xin > theta:\n",
        "          x[i] = 1\n",
        "        elif xin < theta:\n",
        "          x[i] = -1\n",
        "    counters += counter\n",
        "  errorx = 0\n",
        "  for i in range(15):\n",
        "    if int(x[i]) != int(letters[index][i]):\n",
        "        errorx += 1\n",
        "  flag2 = False\n",
        "  errory = 0\n",
        "  for i in range(3):\n",
        "    if int(y[i]) != int(outputs[index][i]):\n",
        "      flag2 = True\n",
        "    if flag2:\n",
        "      errory += 1\n",
        "  errorx_sum += errorx\n",
        "  errory_sum += errory\n",
        "print(\"Average accuracy of number of correct pixels of input: \", 1 - (errorx_sum  / (3 * 100 * 15)))\n",
        "print(\"Average acuracy of predicted output:\", 1 - (errory_sum / (3 * 100)))\n",
        "print(\"Average number of iterations:\", int(counters / (3 * 100)))"
      ],
      "execution_count": 78,
      "outputs": [
        {
          "output_type": "stream",
          "text": [
            "Average accuracy of number of correct pixels of input:  0.99\n",
            "Average acuracy of predicted output: 0.95\n",
            "Average number of iterations: 2\n"
          ],
          "name": "stdout"
        }
      ]
    },
    {
      "cell_type": "markdown",
      "metadata": {
        "id": "TG-NRkmGLivk"
      },
      "source": [
        "## Testing ability of network trained with 3 letters on data with 40% noise"
      ]
    },
    {
      "cell_type": "code",
      "metadata": {
        "colab": {
          "base_uri": "https://localhost:8080/"
        },
        "id": "gjDZTsrAxoM4",
        "outputId": "13f02cee-9884-4e4b-c610-7b2a0c70cb9f"
      },
      "source": [
        "theta = 0\n",
        "errorx_sum = 0\n",
        "errory_sum = 0\n",
        "counters = 0\n",
        "for k in range(100):\n",
        "  x = np.zeros(15)\n",
        "  y = np.zeros(3)\n",
        "  for index in range(3):\n",
        "    x = copy.deepcopy(letters[index])\n",
        "    for i in range(15):\n",
        "      if random.random() <= 0.4:\n",
        "        x[i] = x[i] * -1\n",
        "    y = copy.deepcopy(outputs[index])\n",
        "    for i in range(3):\n",
        "      if random.random() <= 0.4:\n",
        "        y[i] = y[i] * -1\n",
        "    counter = 0\n",
        "    flag = False\n",
        "    while True:\n",
        "      counter += 1\n",
        "      if flag:\n",
        "        changes = 0\n",
        "        for i in range(15):\n",
        "          if oldx[i] != x[i]:\n",
        "            changes += 1\n",
        "        for i in range(3):\n",
        "          if oldy[i] != y[i]:\n",
        "            changes += 1\n",
        "        if changes == 0:\n",
        "          break\n",
        "      flag = True\n",
        "      oldx = copy.deepcopy(x)\n",
        "      oldy = copy.deepcopy(y)\n",
        "      for j in range(3):\n",
        "        yin = 0\n",
        "        for i in range(15):\n",
        "          yin += x[i] * W[i][j]\n",
        "        if yin > theta:\n",
        "          y[j] = 1\n",
        "        elif yin < theta:\n",
        "          y[j] = -1\n",
        "      for i in range(15):\n",
        "        xin = 0\n",
        "        for j in range(3):\n",
        "          xin += y[j] * W[i][j]\n",
        "        if xin > theta:\n",
        "          x[i] = 1\n",
        "        elif xin < theta:\n",
        "          x[i] = -1\n",
        "    counters += counter\n",
        "  errorx = 0\n",
        "  for i in range(15):\n",
        "    if int(x[i]) != int(letters[index][i]):\n",
        "        errorx += 1\n",
        "  flag2 = False\n",
        "  errory = 0\n",
        "  for i in range(3):\n",
        "    if int(y[i]) != int(outputs[index][i]):\n",
        "      flag2 = True\n",
        "    if flag2:\n",
        "      errory += 1\n",
        "  errorx_sum += errorx\n",
        "  errory_sum += errory\n",
        "print(\"Average accuracy of number of correct pixels of input: \", 1 - (errorx_sum  / (3 * 100 * 15)))\n",
        "print(\"Average accuracy of predicted output:\", 1 - (errory_sum / (3 * 100)))\n",
        "print(\"Average number of iterations:\", int(counters / (3 * 100)))"
      ],
      "execution_count": 79,
      "outputs": [
        {
          "output_type": "stream",
          "text": [
            "Average accuracy of number of correct pixels of input:  0.8768888888888888\n",
            "Average accuracy of predicted output: 0.42666666666666664\n",
            "Average number of iterations: 3\n"
          ],
          "name": "stdout"
        }
      ]
    },
    {
      "cell_type": "markdown",
      "metadata": {
        "id": "6a8hNuMS9oE8"
      },
      "source": [
        "## Checking if our model can identify (0, -1, -1)"
      ]
    },
    {
      "cell_type": "code",
      "metadata": {
        "colab": {
          "base_uri": "https://localhost:8080/"
        },
        "id": "OMaM1RjY9nsd",
        "outputId": "40d227b2-4a9e-483a-a49e-9810b90a57d6"
      },
      "source": [
        "theta = 0\n",
        "x = np.zeros(15)\n",
        "y = np.array([0, -1, -1])\n",
        "counter = 0\n",
        "flag = False\n",
        "while True:\n",
        "  counter += 1\n",
        "  if flag:\n",
        "    changes = 0\n",
        "    for i in range(15):\n",
        "      if oldx[i] != x[i]:\n",
        "        changes += 1\n",
        "    for i in range(3):\n",
        "      if oldy[i] != y[i]:\n",
        "        changes += 1\n",
        "    if changes == 0:\n",
        "      break\n",
        "  flag = True\n",
        "  oldx = copy.deepcopy(x)\n",
        "  oldy = copy.deepcopy(y)\n",
        "  for j in range(3):\n",
        "    yin = 0\n",
        "    for i in range(15):\n",
        "      yin += x[i] * W[i][j]\n",
        "    if yin > theta:\n",
        "      y[j] = 1\n",
        "    elif yin < theta:\n",
        "      y[j] = -1\n",
        "  for i in range(15):\n",
        "    xin = 0\n",
        "    for j in range(3):\n",
        "      xin += y[j] * W[i][j]\n",
        "    if xin > theta:\n",
        "      x[i] = 1\n",
        "    elif xin < theta:\n",
        "      x[i] = -1\n",
        "\n",
        "print(\"Number of iterations:\", counter)\n",
        "print(\"Real Input: \", letters[0])\n",
        "print(\"Final input:\", x.astype(int))\n",
        "print(\"Real Output: \", outputs[0])\n",
        "print(\"Final output:\", y.astype(int))\n",
        "errorx = 0\n",
        "for i in range(15):\n",
        "  if int(x[i]) != int(letters[0][i]):\n",
        "      errorx += 1\n",
        "print(\"Error of input: \", errorx)\n",
        "errory = 0\n",
        "for i in range(3):\n",
        "  if int(y[i]) != int(outputs[0][i]):\n",
        "      errory += 1\n",
        "print(\"Error of output:\", errory)"
      ],
      "execution_count": 111,
      "outputs": [
        {
          "output_type": "stream",
          "text": [
            "Number of iterations: 4\n",
            "Real Input:  [-1  1 -1  1 -1  1  1  1  1  1 -1  1  1 -1  1]\n",
            "Final input: [-1  1 -1  1 -1  1  1  1  1  1 -1  1  1 -1  1]\n",
            "Real Output:  [-1 -1 -1]\n",
            "Final output: [-1 -1 -1]\n",
            "Error of input:  0\n",
            "Error of output: 0\n"
          ],
          "name": "stdout"
        }
      ]
    },
    {
      "cell_type": "markdown",
      "metadata": {
        "id": "gMin3sbkU8k1"
      },
      "source": [
        "## Generatiing dataset of 8 letters"
      ]
    },
    {
      "cell_type": "code",
      "metadata": {
        "id": "DgDaOOelxoOx"
      },
      "source": [
        "all_letters = [np.array(XA), np.array(XB), np.array(XC), np.array(XD), np.array(XE), np.array(XF), np.array(XG), np.array(XH)]\n",
        "all_outputs = [np.array(YA), np.array(YB), np.array(YC), np.array(YD), np.array(YE), np.array(YF), np.array(YG), np.array(YH)]"
      ],
      "execution_count": 112,
      "outputs": []
    },
    {
      "cell_type": "markdown",
      "metadata": {
        "id": "-OSHb02EZkDd"
      },
      "source": [
        "## Weight initialization"
      ]
    },
    {
      "cell_type": "code",
      "metadata": {
        "id": "sJu1Hf9pURop"
      },
      "source": [
        "W = np.zeros([15, 3])\n",
        "W = np.array(W)"
      ],
      "execution_count": 113,
      "outputs": []
    },
    {
      "cell_type": "markdown",
      "metadata": {
        "id": "CO7y1uNRVCBU"
      },
      "source": [
        "## Training model"
      ]
    },
    {
      "cell_type": "code",
      "metadata": {
        "id": "9OZYV03cZcxB"
      },
      "source": [
        "for index in range(8):\n",
        "  s = all_letters[index]\n",
        "  t = all_outputs[index]\n",
        "  W += np.dot(s.reshape(15, 1), np.transpose(t).reshape(1, 3))"
      ],
      "execution_count": 125,
      "outputs": []
    },
    {
      "cell_type": "code",
      "metadata": {
        "colab": {
          "base_uri": "https://localhost:8080/"
        },
        "id": "ZOPouDMaV8Ij",
        "outputId": "e74ee400-ab06-4d3b-8866-d738eecaee81"
      },
      "source": [
        "W"
      ],
      "execution_count": 126,
      "outputs": [
        {
          "output_type": "execute_result",
          "data": {
            "text/plain": [
              "array([[ 2., -2.,  8.],\n",
              "       [-4., -4., -2.],\n",
              "       [ 8.,  4., -2.],\n",
              "       [-2., -2.,  0.],\n",
              "       [ 2.,  2.,  0.],\n",
              "       [-6., -2.,  4.],\n",
              "       [-2., -2.,  0.],\n",
              "       [ 0., -8.,  2.],\n",
              "       [ 0.,  4., -2.],\n",
              "       [-2., -2.,  0.],\n",
              "       [ 2.,  2.,  0.],\n",
              "       [-4.,  0.,  2.],\n",
              "       [-2., -6.,  4.],\n",
              "       [-2.,  2.,  0.],\n",
              "       [ 2.,  2., -8.]])"
            ]
          },
          "metadata": {
            "tags": []
          },
          "execution_count": 126
        }
      ]
    },
    {
      "cell_type": "markdown",
      "metadata": {
        "id": "Bg22V0-SVGhN"
      },
      "source": [
        "## Testing ability of network trained with 8 letters on data without noise"
      ]
    },
    {
      "cell_type": "code",
      "metadata": {
        "colab": {
          "base_uri": "https://localhost:8080/"
        },
        "id": "j4IuF9jZURvm",
        "outputId": "5d998a54-b9f3-458a-e00c-6dd88e863a53"
      },
      "source": [
        "theta = 0\n",
        "x = np.zeros(15)\n",
        "y = np.zeros(3)\n",
        "for index in range(8):\n",
        "  x = copy.deepcopy(all_letters[index])\n",
        "  y = copy.deepcopy(all_outputs[index])\n",
        "  counter = 0\n",
        "  flag = False\n",
        "  while True:\n",
        "    counter += 1\n",
        "    if flag:\n",
        "      changes = 0\n",
        "      for i in range(15):\n",
        "        if oldx[i] != x[i]:\n",
        "          changes += 1\n",
        "      for i in range(3):\n",
        "        if oldy[i] != y[i]:\n",
        "          changes += 1\n",
        "      if changes == 0:\n",
        "        break\n",
        "    flag = True\n",
        "    oldx = copy.deepcopy(x)\n",
        "    oldy = copy.deepcopy(y)\n",
        "    for j in range(3):\n",
        "      yin = 0\n",
        "      for i in range(15):\n",
        "        yin += x[i] * W[i][j]\n",
        "      if yin > theta:\n",
        "        y[j] = 1\n",
        "      elif yin < theta:\n",
        "        y[j] = -1\n",
        "    for i in range(15):\n",
        "      xin = 0\n",
        "      for j in range(3):\n",
        "        xin += y[j] * W[i][j]\n",
        "      if xin > theta:\n",
        "        x[i] = 1\n",
        "      elif xin < theta:\n",
        "        x[i] = -1\n",
        "\n",
        "  print(\"Number of iterations:\", counter)\n",
        "  print(\"Real Input: \", all_letters[index])\n",
        "  print(\"Final input:\", x.astype(int))\n",
        "  print(\"Real Output: \", all_outputs[index])\n",
        "  print(\"Final output:\", y.astype(int))\n",
        "  errorx = 0\n",
        "  for i in range(15):\n",
        "    if int(x[i]) != int(all_letters[index][i]):\n",
        "        errorx += 1\n",
        "  print(\"Error of input: \", errorx)\n",
        "  errory = 0\n",
        "  for i in range(3):\n",
        "    if int(y[i]) != int(all_outputs[index][i]):\n",
        "        errory += 1\n",
        "  print(\"Error of output:\", errory)"
      ],
      "execution_count": 127,
      "outputs": [
        {
          "output_type": "stream",
          "text": [
            "Number of iterations: 3\n",
            "Real Input:  [-1  1 -1  1 -1  1  1  1  1  1 -1  1  1 -1  1]\n",
            "Final input: [-1  1 -1  1 -1  1  1  1 -1  1 -1  1  1 -1  1]\n",
            "Real Output:  [-1 -1 -1]\n",
            "Final output: [-1 -1 -1]\n",
            "Error of input:  1\n",
            "Error of output: 0\n",
            "Number of iterations: 2\n",
            "Real Input:  [ 1  1 -1  1 -1  1  1  1 -1  1 -1  1  1  1 -1]\n",
            "Final input: [ 1  1 -1  1 -1  1  1  1 -1  1 -1  1  1  1 -1]\n",
            "Real Output:  [-1 -1  1]\n",
            "Final output: [-1 -1  1]\n",
            "Error of input:  0\n",
            "Error of output: 0\n",
            "Number of iterations: 3\n",
            "Real Input:  [-1  1  1  1 -1 -1  1 -1 -1  1 -1 -1 -1  1  1]\n",
            "Final input: [-1 -1  1 -1  1 -1 -1 -1  1 -1  1 -1 -1  1  1]\n",
            "Real Output:  [-1  1 -1]\n",
            "Final output: [ 1  1 -1]\n",
            "Error of input:  7\n",
            "Error of output: 1\n",
            "Number of iterations: 3\n",
            "Real Input:  [ 1  1 -1  1 -1  1  1 -1  1  1 -1  1  1  1 -1]\n",
            "Final input: [ 1  1 -1  1 -1  1  1  1 -1  1 -1  1  1  1 -1]\n",
            "Real Output:  [-1  1  1]\n",
            "Final output: [-1 -1  1]\n",
            "Error of input:  2\n",
            "Error of output: 1\n",
            "Number of iterations: 3\n",
            "Real Input:  [ 1  1  1  1 -1 -1  1  1 -1  1 -1 -1  1  1  1]\n",
            "Final input: [-1  1  1  1 -1 -1  1  1 -1  1 -1 -1  1 -1  1]\n",
            "Real Output:  [ 1 -1 -1]\n",
            "Final output: [ 1 -1 -1]\n",
            "Error of input:  2\n",
            "Error of output: 0\n",
            "Number of iterations: 3\n",
            "Real Input:  [ 1  1  1  1 -1 -1  1  1 -1  1 -1 -1  1 -1 -1]\n",
            "Final input: [ 1 -1  1  1 -1 -1  1  1 -1  1 -1 -1  1 -1 -1]\n",
            "Real Output:  [ 1 -1  1]\n",
            "Final output: [ 1 -1  1]\n",
            "Error of input:  1\n",
            "Error of output: 0\n",
            "Number of iterations: 3\n",
            "Real Input:  [-1  1  1  1 -1 -1  1 -1  1  1 -1  1 -1  1  1]\n",
            "Final input: [-1  1 -1  1 -1 -1  1 -1  1  1 -1  1 -1  1  1]\n",
            "Real Output:  [ 1  1 -1]\n",
            "Final output: [-1  1 -1]\n",
            "Error of input:  1\n",
            "Error of output: 1\n",
            "Number of iterations: 3\n",
            "Real Input:  [ 1 -1  1  1 -1  1  1  1  1  1 -1  1  1 -1  1]\n",
            "Final input: [ 1  1 -1  1 -1  1  1  1 -1  1 -1  1  1 -1 -1]\n",
            "Real Output:  [1 1 1]\n",
            "Final output: [-1 -1  1]\n",
            "Error of input:  4\n",
            "Error of output: 2\n"
          ],
          "name": "stdout"
        }
      ]
    },
    {
      "cell_type": "markdown",
      "metadata": {
        "id": "Q_eJgTjNVTn2"
      },
      "source": [
        "## Testing ability of network trained with 8 letters on data with 10% noise"
      ]
    },
    {
      "cell_type": "code",
      "metadata": {
        "colab": {
          "base_uri": "https://localhost:8080/"
        },
        "id": "dqr48UMrURxz",
        "outputId": "0be0fbe3-f49e-4ba4-da0d-2f59f468555e"
      },
      "source": [
        "theta = 0\n",
        "errorx_sum = 0\n",
        "errory_sum = 0\n",
        "counters = 0\n",
        "for k in range(100):\n",
        "  x = np.zeros(15)\n",
        "  y = np.zeros(3)\n",
        "  for index in range(8):\n",
        "    x = copy.deepcopy(all_letters[index])\n",
        "    for i in range(15):\n",
        "      if random.random() <= 0.1:\n",
        "        x[i] = x[i] * -1\n",
        "    y = copy.deepcopy(all_outputs[index])\n",
        "    for i in range(3):\n",
        "      if random.random() <= 0.1:\n",
        "        y[i] = y[i] * -1\n",
        "    counter = 0\n",
        "    flag = False\n",
        "    while True:\n",
        "      counter += 1\n",
        "      if flag:\n",
        "        changes = 0\n",
        "        for i in range(15):\n",
        "          if oldx[i] != x[i]:\n",
        "            changes += 1\n",
        "        for i in range(3):\n",
        "          if oldy[i] != y[i]:\n",
        "            changes += 1\n",
        "        if changes == 0:\n",
        "          break\n",
        "      flag = True\n",
        "      oldx = copy.deepcopy(x)\n",
        "      oldy = copy.deepcopy(y)\n",
        "      for j in range(3):\n",
        "        yin = 0\n",
        "        for i in range(15):\n",
        "          yin += x[i] * W[i][j]\n",
        "        if yin > theta:\n",
        "          y[j] = 1\n",
        "        elif yin < theta:\n",
        "          y[j] = -1\n",
        "      for i in range(15):\n",
        "        xin = 0\n",
        "        for j in range(3):\n",
        "          xin += y[j] * W[i][j]\n",
        "        if xin > theta:\n",
        "          x[i] = 1\n",
        "        elif xin < theta:\n",
        "          x[i] = -1\n",
        "    counters += counter\n",
        "  errorx = 0\n",
        "  for i in range(15):\n",
        "    if int(x[i]) != int(all_letters[index][i]):\n",
        "        errorx += 1\n",
        "  flag2 = False\n",
        "  errory = 0\n",
        "  for i in range(3):\n",
        "    if int(y[i]) != int(all_outputs[index][i]):\n",
        "      flag2 = True\n",
        "    if flag2:\n",
        "      errory += 1\n",
        "  errorx_sum += errorx\n",
        "  errory_sum += errory\n",
        "print(\"Average accuracy of number of correct pixels of input: \", 1 - (errorx_sum  / (8 * 100 * 15)))\n",
        "print(\"Average acuracy of predicted output:\", 1 - (errory_sum / (8 * 100)))\n",
        "print(\"Average number of iterations:\", int(counters / (8 * 100)))"
      ],
      "execution_count": 140,
      "outputs": [
        {
          "output_type": "stream",
          "text": [
            "Average accuracy of number of correct pixels of input:  0.9715\n",
            "Average acuracy of predicted output: 0.625\n",
            "Average number of iterations: 2\n"
          ],
          "name": "stdout"
        }
      ]
    },
    {
      "cell_type": "markdown",
      "metadata": {
        "id": "4dDuZTBfWBQF"
      },
      "source": [
        "## Testing ability of network trained with 8 letters on data with 40% noise"
      ]
    },
    {
      "cell_type": "code",
      "metadata": {
        "colab": {
          "base_uri": "https://localhost:8080/"
        },
        "id": "-2G9A7UxUR0H",
        "outputId": "1044af93-ef7f-4d92-aa7b-87d67435c57f"
      },
      "source": [
        "theta = 0\n",
        "errorx_sum = 0\n",
        "errory_sum = 0\n",
        "counters = 0\n",
        "for k in range(100):\n",
        "  x = np.zeros(15)\n",
        "  y = np.zeros(3)\n",
        "  for index in range(8):\n",
        "    x = copy.deepcopy(all_letters[index])\n",
        "    for i in range(15):\n",
        "      if random.random() <= 0.4:\n",
        "        x[i] = x[i] * -1\n",
        "    y = copy.deepcopy(all_outputs[index])\n",
        "    for i in range(3):\n",
        "      if random.random() <= 0.4:\n",
        "        y[i] = y[i] * -1\n",
        "    counter = 0\n",
        "    flag = False\n",
        "    while True:\n",
        "      counter += 1\n",
        "      if flag:\n",
        "        changes = 0\n",
        "        for i in range(15):\n",
        "          if oldx[i] != x[i]:\n",
        "            changes += 1\n",
        "        for i in range(3):\n",
        "          if oldy[i] != y[i]:\n",
        "            changes += 1\n",
        "        if changes == 0:\n",
        "          break\n",
        "      flag = True\n",
        "      oldx = copy.deepcopy(x)\n",
        "      oldy = copy.deepcopy(y)\n",
        "      for j in range(3):\n",
        "        yin = 0\n",
        "        for i in range(15):\n",
        "          yin += x[i] * W[i][j]\n",
        "        if yin > theta:\n",
        "          y[j] = 1\n",
        "        elif yin < theta:\n",
        "          y[j] = -1\n",
        "      for i in range(15):\n",
        "        xin = 0\n",
        "        for j in range(3):\n",
        "          xin += y[j] * W[i][j]\n",
        "        if xin > theta:\n",
        "          x[i] = 1\n",
        "        elif xin < theta:\n",
        "          x[i] = -1\n",
        "    counters += counter\n",
        "  errorx = 0\n",
        "  for i in range(15):\n",
        "    if int(x[i]) != int(all_letters[index][i]):\n",
        "        errorx += 1\n",
        "  flag2 = False\n",
        "  errory = 0\n",
        "  for i in range(3):\n",
        "    if int(y[i]) != int(all_outputs[index][i]):\n",
        "      flag2 = True\n",
        "    if flag2:\n",
        "      errory += 1\n",
        "  errorx_sum += errorx\n",
        "  errory_sum += errory\n",
        "print(\"Average accuracy of number of correct pixels of input: \", 1 - (errorx_sum  / (8 * 100 * 15)))\n",
        "print(\"Average accuracy of predicted output:\", 1 - (errory_sum / (8 * 100)))\n",
        "print(\"Average number of iterations:\", int(counters / (8 * 100)))"
      ],
      "execution_count": 136,
      "outputs": [
        {
          "output_type": "stream",
          "text": [
            "Average accuracy of number of correct pixels of input:  0.9456666666666667\n",
            "Average accuracy of predicted output: 0.73375\n",
            "Average number of iterations: 3\n"
          ],
          "name": "stdout"
        }
      ]
    },
    {
      "cell_type": "markdown",
      "metadata": {
        "id": "0o8BGZZ23Q5C"
      },
      "source": [
        "## Checking dataset with 2 letters"
      ]
    },
    {
      "cell_type": "code",
      "metadata": {
        "id": "9DVBzzdmaVvJ"
      },
      "source": [
        "letters = [np.array(XA), np.array(XB)]\n",
        "outputs = [np.array(YA), np.array(YB)]"
      ],
      "execution_count": 141,
      "outputs": []
    },
    {
      "cell_type": "code",
      "metadata": {
        "id": "Fkj36ET1aWQ8"
      },
      "source": [
        "W = np.zeros([15, 3])\n",
        "W = np.array(W)"
      ],
      "execution_count": 142,
      "outputs": []
    },
    {
      "cell_type": "code",
      "metadata": {
        "id": "p_qxm_J43Heo"
      },
      "source": [
        "for index in range(2):\n",
        "  s = letters[index]\n",
        "  t = outputs[index]\n",
        "  W += np.dot(s.reshape(15, 1), np.transpose(t).reshape(1, 3))"
      ],
      "execution_count": 143,
      "outputs": []
    },
    {
      "cell_type": "code",
      "metadata": {
        "colab": {
          "base_uri": "https://localhost:8080/"
        },
        "id": "03hJZF8yaWcL",
        "outputId": "42810412-dac6-4fc0-dd1f-dc79db97e771"
      },
      "source": [
        "theta = 0\n",
        "x = np.zeros(15)\n",
        "y = np.zeros(3)\n",
        "for index in range(2):\n",
        "  x = copy.deepcopy(letters[index])\n",
        "  y = copy.deepcopy(outputs[index])\n",
        "  counter = 0\n",
        "  flag = False\n",
        "  while True:\n",
        "    counter += 1\n",
        "    if flag:\n",
        "      changes = 0\n",
        "      for i in range(15):\n",
        "        if oldx[i] != x[i]:\n",
        "          changes += 1\n",
        "      for i in range(3):\n",
        "        if oldy[i] != y[i]:\n",
        "          changes += 1\n",
        "      if changes == 0:\n",
        "        break\n",
        "    flag = True\n",
        "    oldx = copy.deepcopy(x)\n",
        "    oldy = copy.deepcopy(y)\n",
        "    for j in range(3):\n",
        "      yin = 0\n",
        "      for i in range(15):\n",
        "        yin += x[i] * W[i][j]\n",
        "      if yin > theta:\n",
        "        y[j] = 1\n",
        "      elif yin < theta:\n",
        "        y[j] = -1\n",
        "    for i in range(15):\n",
        "      xin = 0\n",
        "      for j in range(3):\n",
        "        xin += y[j] * W[i][j]\n",
        "      if xin > theta:\n",
        "        x[i] = 1\n",
        "      elif xin < theta:\n",
        "        x[i] = -1\n",
        "\n",
        "  print(\"Number of iterations:\", counter)\n",
        "  print(\"Real Input: \", letters[index])\n",
        "  print(\"Final input:\", x.astype(int))\n",
        "  print(\"Real Output: \", outputs[index])\n",
        "  print(\"Final output:\", y.astype(int))\n",
        "  errorx = 0\n",
        "  for i in range(15):\n",
        "    if int(x[i]) != int(letters[index][i]):\n",
        "        errorx += 1\n",
        "  print(\"Error of input: \", errorx)\n",
        "  errory = 0\n",
        "  for i in range(3):\n",
        "    if int(y[i]) != int(outputs[index][i]):\n",
        "        errory += 1\n",
        "  print(\"Error of output:\", errory)"
      ],
      "execution_count": 133,
      "outputs": [
        {
          "output_type": "stream",
          "text": [
            "Number of iterations: 2\n",
            "Real Input:  [-1  1 -1  1 -1  1  1  1  1  1 -1  1  1 -1  1]\n",
            "Final input: [-1  1 -1  1 -1  1  1  1  1  1 -1  1  1 -1  1]\n",
            "Real Output:  [-1 -1 -1]\n",
            "Final output: [-1 -1 -1]\n",
            "Error of input:  0\n",
            "Error of output: 0\n",
            "Number of iterations: 2\n",
            "Real Input:  [ 1  1 -1  1 -1  1  1  1 -1  1 -1  1  1  1 -1]\n",
            "Final input: [ 1  1 -1  1 -1  1  1  1 -1  1 -1  1  1  1 -1]\n",
            "Real Output:  [-1 -1  1]\n",
            "Final output: [-1 -1  1]\n",
            "Error of input:  0\n",
            "Error of output: 0\n"
          ],
          "name": "stdout"
        }
      ]
    },
    {
      "cell_type": "code",
      "metadata": {
        "colab": {
          "base_uri": "https://localhost:8080/"
        },
        "id": "_HihHy5VaW9l",
        "outputId": "df59f57c-9100-493e-b775-119791857947"
      },
      "source": [
        "theta = 0\n",
        "errorx_sum = 0\n",
        "errory_sum = 0\n",
        "counters = 0\n",
        "for k in range(100):\n",
        "  x = np.zeros(15)\n",
        "  y = np.zeros(3)\n",
        "  for index in range(2):\n",
        "    x = copy.deepcopy(letters[index])\n",
        "    for i in range(15):\n",
        "      if random.random() <= 0.1:\n",
        "        x[i] = x[i] * -1\n",
        "    y = copy.deepcopy(outputs[index])\n",
        "    for i in range(3):\n",
        "      if random.random() <= 0.1:\n",
        "        y[i] = y[i] * -1\n",
        "    counter = 0\n",
        "    flag = False\n",
        "    while True:\n",
        "      counter += 1\n",
        "      if flag:\n",
        "        changes = 0\n",
        "        for i in range(15):\n",
        "          if oldx[i] != x[i]:\n",
        "            changes += 1\n",
        "        for i in range(3):\n",
        "          if oldy[i] != y[i]:\n",
        "            changes += 1\n",
        "        if changes == 0:\n",
        "          break\n",
        "      flag = True\n",
        "      oldx = copy.deepcopy(x)\n",
        "      oldy = copy.deepcopy(y)\n",
        "      for j in range(3):\n",
        "        yin = 0\n",
        "        for i in range(15):\n",
        "          yin += x[i] * W[i][j]\n",
        "        if yin > theta:\n",
        "          y[j] = 1\n",
        "        elif yin < theta:\n",
        "          y[j] = -1\n",
        "      for i in range(15):\n",
        "        xin = 0\n",
        "        for j in range(3):\n",
        "          xin += y[j] * W[i][j]\n",
        "        if xin > theta:\n",
        "          x[i] = 1\n",
        "        elif xin < theta:\n",
        "          x[i] = -1\n",
        "    counters += counter\n",
        "  errorx = 0\n",
        "  for i in range(15):\n",
        "    if int(x[i]) != int(letters[index][i]):\n",
        "        errorx += 1\n",
        "  flag2 = False\n",
        "  errory = 0\n",
        "  for i in range(3):\n",
        "    if int(y[i]) != int(outputs[index][i]):\n",
        "      flag2 = True\n",
        "    if flag2:\n",
        "      errory += 1\n",
        "  errorx_sum += errorx\n",
        "  errory_sum += errory\n",
        "print(\"Average accuracy of number of correct pixels of input: \", 1 - (errorx_sum  / (2 * 100 * 15)))\n",
        "print(\"Average acuracy of predicted output:\", 1 - (errory_sum / (2 * 100)))\n",
        "print(\"Average number of iterations:\", int(counters / (2 * 100)))"
      ],
      "execution_count": 134,
      "outputs": [
        {
          "output_type": "stream",
          "text": [
            "Average accuracy of number of correct pixels of input:  0.9986666666666667\n",
            "Average acuracy of predicted output: 0.995\n",
            "Average number of iterations: 2\n"
          ],
          "name": "stdout"
        }
      ]
    },
    {
      "cell_type": "code",
      "metadata": {
        "colab": {
          "base_uri": "https://localhost:8080/"
        },
        "id": "fyHLlDHiaW_6",
        "outputId": "6f140f7a-c9ce-4788-e3c0-f039e6f4e9f5"
      },
      "source": [
        "theta = 0\n",
        "errorx_sum = 0\n",
        "errory_sum = 0\n",
        "counters = 0\n",
        "for k in range(100):\n",
        "  x = np.zeros(15)\n",
        "  y = np.zeros(3)\n",
        "  for index in range(2):\n",
        "    x = copy.deepcopy(letters[index])\n",
        "    for i in range(15):\n",
        "      if random.random() <= 0.4:\n",
        "        x[i] = x[i] * -1\n",
        "    y = copy.deepcopy(outputs[index])\n",
        "    for i in range(3):\n",
        "      if random.random() <= 0.4:\n",
        "        y[i] = y[i] * -1\n",
        "    counter = 0\n",
        "    flag = False\n",
        "    while True:\n",
        "      counter += 1\n",
        "      if flag:\n",
        "        changes = 0\n",
        "        for i in range(15):\n",
        "          if oldx[i] != x[i]:\n",
        "            changes += 1\n",
        "        for i in range(3):\n",
        "          if oldy[i] != y[i]:\n",
        "            changes += 1\n",
        "        if changes == 0:\n",
        "          break\n",
        "      flag = True\n",
        "      oldx = copy.deepcopy(x)\n",
        "      oldy = copy.deepcopy(y)\n",
        "      for j in range(3):\n",
        "        yin = 0\n",
        "        for i in range(15):\n",
        "          yin += x[i] * W[i][j]\n",
        "        if yin > theta:\n",
        "          y[j] = 1\n",
        "        elif yin < theta:\n",
        "          y[j] = -1\n",
        "      for i in range(15):\n",
        "        xin = 0\n",
        "        for j in range(3):\n",
        "          xin += y[j] * W[i][j]\n",
        "        if xin > theta:\n",
        "          x[i] = 1\n",
        "        elif xin < theta:\n",
        "          x[i] = -1\n",
        "    counters += counter\n",
        "  errorx = 0\n",
        "  for i in range(15):\n",
        "    if int(x[i]) != int(letters[index][i]):\n",
        "        errorx += 1\n",
        "  flag2 = False\n",
        "  errory = 0\n",
        "  for i in range(3):\n",
        "    if int(y[i]) != int(outputs[index][i]):\n",
        "      flag2 = True\n",
        "    if flag2:\n",
        "      errory += 1\n",
        "  errorx_sum += errorx\n",
        "  errory_sum += errory\n",
        "print(\"Average accuracy of number of correct pixels of input: \", 1 - (errorx_sum  / (2 * 100 * 15)))\n",
        "print(\"Average accuracy of predicted output:\", 1 - (errory_sum / (2 * 100)))\n",
        "print(\"Average number of iterations:\", int(counters / (2 * 100)))"
      ],
      "execution_count": 146,
      "outputs": [
        {
          "output_type": "stream",
          "text": [
            "Average accuracy of number of correct pixels of input:  0.99\n",
            "Average accuracy of predicted output: 0.96\n",
            "Average number of iterations: 3\n"
          ],
          "name": "stdout"
        }
      ]
    }
  ]
}