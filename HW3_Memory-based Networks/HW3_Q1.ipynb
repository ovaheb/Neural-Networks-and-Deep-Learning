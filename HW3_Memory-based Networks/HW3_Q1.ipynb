{
  "nbformat": 4,
  "nbformat_minor": 0,
  "metadata": {
    "colab": {
      "name": "HW3 - Q1.ipynb",
      "provenance": []
    },
    "kernelspec": {
      "name": "python3",
      "display_name": "Python 3"
    },
    "language_info": {
      "name": "python"
    }
  },
  "cells": [
    {
      "cell_type": "markdown",
      "metadata": {
        "id": "zP2RRY7TYNyz"
      },
      "source": [
        "# Neural Networks and Deep Learning Spring 1400 <img src = 'https://ece.ut.ac.ir/cict-theme/images/footer-logo.png' alt=\"Tehran-University-Logo\" width=\"150\" height=\"150\" align=\"right\">\n",
        "## Homework 3 - Question 1\n",
        "\n",
        "\n",
        "### By Omid Vaheb\n",
        "### 810196582"
      ]
    },
    {
      "cell_type": "markdown",
      "metadata": {
        "id": "PTfvYET_YvrN"
      },
      "source": [
        "## Importing required libraries"
      ]
    },
    {
      "cell_type": "code",
      "metadata": {
        "id": "-1IoQLHqBpQA"
      },
      "source": [
        "import numpy as np\n",
        "import random\n",
        "import copy"
      ],
      "execution_count": 78,
      "outputs": []
    },
    {
      "cell_type": "markdown",
      "metadata": {
        "id": "r4W2qItFY16o"
      },
      "source": [
        "## Generating Dataset"
      ]
    },
    {
      "cell_type": "code",
      "metadata": {
        "id": "CNrnKi8TCC-8"
      },
      "source": [
        "A = [-1, -1, -1, 1, -1, -1, -1,\n",
        "     -1, -1, -1, 1, -1, -1, -1,\n",
        "     -1, -1, -1, 1, -1, -1, -1,\n",
        "     -1, -1, 1, -1, 1, -1, -1,\n",
        "     -1, -1, 1, -1, 1, -1, -1,\n",
        "     -1, 1, 1, 1, 1, 1, -1,\n",
        "     -1, 1, -1, -1, -1, 1, -1,\n",
        "     -1, 1, -1, -1, -1, 1, -1,\n",
        "     1, 1, 1, -1, 1, 1, 1]\n",
        "AA = [-1, 1, -1,\n",
        "      1, -1, 1,\n",
        "      1, 1, 1,\n",
        "      1, -1, 1,\n",
        "      1, -1, 1]\n",
        "B = [1, 1, 1, 1, 1, 1, 1,\n",
        "     1, -1, -1, -1, -1, -1, 1,\n",
        "     1, -1, -1, -1, -1, 1, -1,\n",
        "     1, -1, -1, -1, 1, -1, -1,\n",
        "     1, 1, 1, 1, -1, -1, -1,\n",
        "     1, -1, -1, -1, 1, -1, -1,\n",
        "     1, -1, -1, -1, -1, 1, -1,\n",
        "     1, -1, -1, -1, -1, -1, 1,\n",
        "     1, 1, 1, 1, 1, 1, 1]\n",
        "BB = [1, 1, -1,\n",
        "      1, -1, 1,\n",
        "      1, 1, -1,\n",
        "      1, -1, 1,\n",
        "      1, 1, -1]\n",
        "C = [-1, -1, 1, 1, 1, 1, -1,\n",
        "     -1, 1, -1, -1, -1, -1, 1,\n",
        "     1, -1, -1, -1, -1, -1, -1,\n",
        "     1, -1, -1, -1, -1, -1, -1,\n",
        "     1, -1, -1, -1, -1, -1, -1,\n",
        "     1, -1, -1, -1, -1, -1, -1,\n",
        "     1, -1, -1, -1, -1, -1, -1,\n",
        "     -1, 1, -1, -1, -1, -1, 1,\n",
        "     -1, -1, 1, 1, 1, 1, -1]\n",
        "CC = [-1, 1, 1,\n",
        "      1, -1, -1,\n",
        "      1, -1, -1,\n",
        "      1, -1, -1,\n",
        "      -1, 1, 1]"
      ],
      "execution_count": 79,
      "outputs": []
    },
    {
      "cell_type": "code",
      "metadata": {
        "id": "zKkh-5lZCEBH"
      },
      "source": [
        "letters = [np.array(A), np.array(B), np.array(C)]\n",
        "outputs = [np.array(AA), np.array(BB), np.array(CC)]"
      ],
      "execution_count": 80,
      "outputs": []
    },
    {
      "cell_type": "markdown",
      "metadata": {
        "id": "AxnRKSLVY7zf"
      },
      "source": [
        "## Initializing weight matrix"
      ]
    },
    {
      "cell_type": "code",
      "metadata": {
        "id": "DqSaQzkyCDEi"
      },
      "source": [
        "W = [[0] * 15] * 63\n",
        "W = np.array(W)"
      ],
      "execution_count": 81,
      "outputs": []
    },
    {
      "cell_type": "markdown",
      "metadata": {
        "id": "JOBC_sGCZGkh"
      },
      "source": [
        "##Training Model"
      ]
    },
    {
      "cell_type": "code",
      "metadata": {
        "id": "PBTVdD9CCEQV"
      },
      "source": [
        "for index in range(3):\n",
        "  s = letters[index]\n",
        "  t = outputs[index]\n",
        "  for i in range(63):\n",
        "    for j in range(15):\n",
        "      W[i][j] += s[i] * t[j]"
      ],
      "execution_count": 82,
      "outputs": []
    },
    {
      "cell_type": "markdown",
      "metadata": {
        "id": "MfPeZrbUZI4b"
      },
      "source": [
        "## Evaluating Model"
      ]
    },
    {
      "cell_type": "code",
      "metadata": {
        "colab": {
          "base_uri": "https://localhost:8080/"
        },
        "id": "-3UysqGsUJMq",
        "outputId": "e5b0efec-174b-4f6a-dd1d-58b60792bd6d"
      },
      "source": [
        "for index in range(3):\n",
        "  s = letters[index]\n",
        "  t = outputs[index]\n",
        "  out = []\n",
        "  for j in range(15):\n",
        "    temp = 0\n",
        "    for i in range(63):\n",
        "      temp += s[i] * W[i][j]\n",
        "    if temp >= 0:\n",
        "      out.append(1)\n",
        "    else:\n",
        "      out.append(-1)\n",
        "  print(\"Original Output:\")\n",
        "  print(t)\n",
        "  print(\"Model Output:\")\n",
        "  print(np.array(out))\n",
        "  error = 0\n",
        "  for i in range(15):\n",
        "    error += abs(t[i] - out[i])\n",
        "  print(\"Error =\", int(error / 2))"
      ],
      "execution_count": 83,
      "outputs": [
        {
          "output_type": "stream",
          "text": [
            "Original Output:\n",
            "[-1  1 -1  1 -1  1  1  1  1  1 -1  1  1 -1  1]\n",
            "Model Output:\n",
            "[-1  1 -1  1 -1  1  1  1  1  1 -1  1  1 -1  1]\n",
            "Error = 0\n",
            "Original Output:\n",
            "[ 1  1 -1  1 -1  1  1  1 -1  1 -1  1  1  1 -1]\n",
            "Model Output:\n",
            "[ 1  1 -1  1 -1  1  1  1 -1  1 -1  1  1  1 -1]\n",
            "Error = 0\n",
            "Original Output:\n",
            "[-1  1  1  1 -1 -1  1 -1 -1  1 -1 -1 -1  1  1]\n",
            "Model Output:\n",
            "[-1  1  1  1 -1 -1  1 -1 -1  1 -1 -1 -1  1  1]\n",
            "Error = 0\n"
          ],
          "name": "stdout"
        }
      ]
    },
    {
      "cell_type": "markdown",
      "metadata": {
        "id": "CerhRGwbZPIe"
      },
      "source": [
        "#Evaluation by test data with 10% noise"
      ]
    },
    {
      "cell_type": "code",
      "metadata": {
        "colab": {
          "base_uri": "https://localhost:8080/"
        },
        "id": "CO2W108sUJPC",
        "outputId": "80a866a1-9f4a-4e4c-ed99-5d937c760f23"
      },
      "source": [
        "for index in range(3):\n",
        "  s = copy.deepcopy(letters[index])\n",
        "  t = outputs[index]\n",
        "  for i in range(63):\n",
        "    if random.random() <= 0.1:\n",
        "      s[i] = s[i] * -1\n",
        "  out = []\n",
        "  for j in range(15):\n",
        "    temp = 0\n",
        "    for i in range(63):\n",
        "      temp += s[i] * W[i][j]\n",
        "    if temp >= 0:\n",
        "      out.append(1)\n",
        "    else:\n",
        "      out.append(-1)\n",
        "  print(\"Original Input:\")\n",
        "  print(letters[index])\n",
        "  print(\"Noisy Input:\")\n",
        "  print(s)\n",
        "  changes = 0\n",
        "  for i in range(63):\n",
        "    changes += abs(letters[index][i] - s[i])\n",
        "  print(\"Number of changes =\", int(changes / 2))\n",
        "  print(\"Original Output:\")\n",
        "  print(t)\n",
        "  print(\"Model Output:\")\n",
        "  print(np.array(out))\n",
        "  error = 0\n",
        "  for i in range(15):\n",
        "    error += abs(t[i] - out[i])\n",
        "  print(\"Error =\", int(error / 2))"
      ],
      "execution_count": 89,
      "outputs": [
        {
          "output_type": "stream",
          "text": [
            "Original Input:\n",
            "[-1 -1 -1  1 -1 -1 -1 -1 -1 -1  1 -1 -1 -1 -1 -1 -1  1 -1 -1 -1 -1 -1  1\n",
            " -1  1 -1 -1 -1 -1  1 -1  1 -1 -1 -1  1  1  1  1  1 -1 -1  1 -1 -1 -1  1\n",
            " -1 -1  1 -1 -1 -1  1 -1  1  1  1 -1  1  1  1]\n",
            "Noisy Input:\n",
            "[-1 -1 -1  1 -1 -1 -1 -1 -1 -1 -1 -1 -1 -1 -1 -1 -1  1  1 -1 -1 -1 -1  1\n",
            " -1  1 -1 -1 -1 -1  1 -1  1 -1 -1 -1  1  1 -1  1 -1 -1 -1  1  1  1 -1 -1\n",
            " -1 -1  1 -1 -1 -1  1 -1  1 -1  1  1  1  1  1]\n",
            "Number of changes = 9\n",
            "Original Output:\n",
            "[-1  1 -1  1 -1  1  1  1  1  1 -1  1  1 -1  1]\n",
            "Model Output:\n",
            "[-1  1 -1  1 -1  1  1  1  1  1 -1  1  1 -1  1]\n",
            "Error = 0\n",
            "Original Input:\n",
            "[ 1  1  1  1  1  1  1  1 -1 -1 -1 -1 -1  1  1 -1 -1 -1 -1  1 -1  1 -1 -1\n",
            " -1  1 -1 -1  1  1  1  1 -1 -1 -1  1 -1 -1 -1  1 -1 -1  1 -1 -1 -1 -1  1\n",
            " -1  1 -1 -1 -1 -1 -1  1  1  1  1  1  1  1  1]\n",
            "Noisy Input:\n",
            "[ 1  1 -1  1  1  1  1  1 -1 -1 -1 -1 -1  1  1 -1 -1  1  1  1 -1  1 -1 -1\n",
            " -1  1  1 -1  1  1  1  1 -1 -1 -1 -1 -1  1 -1  1 -1 -1  1 -1 -1 -1 -1  1\n",
            " -1  1 -1 -1 -1 -1 -1  1  1 -1  1 -1  1  1  1]\n",
            "Number of changes = 8\n",
            "Original Output:\n",
            "[ 1  1 -1  1 -1  1  1  1 -1  1 -1  1  1  1 -1]\n",
            "Model Output:\n",
            "[ 1  1 -1  1 -1  1  1  1 -1  1 -1  1  1  1 -1]\n",
            "Error = 0\n",
            "Original Input:\n",
            "[-1 -1  1  1  1  1 -1 -1  1 -1 -1 -1 -1  1  1 -1 -1 -1 -1 -1 -1  1 -1 -1\n",
            " -1 -1 -1 -1  1 -1 -1 -1 -1 -1 -1  1 -1 -1 -1 -1 -1 -1  1 -1 -1 -1 -1 -1\n",
            " -1 -1  1 -1 -1 -1 -1  1 -1 -1  1  1  1  1 -1]\n",
            "Noisy Input:\n",
            "[-1 -1  1  1  1  1 -1 -1  1 -1 -1  1 -1  1  1 -1  1 -1  1 -1 -1  1 -1 -1\n",
            " -1 -1 -1 -1  1 -1 -1 -1 -1 -1 -1  1 -1 -1 -1 -1 -1 -1  1 -1 -1 -1 -1 -1\n",
            "  1 -1  1 -1 -1 -1 -1 -1 -1 -1  1  1  1  1 -1]\n",
            "Number of changes = 5\n",
            "Original Output:\n",
            "[-1  1  1  1 -1 -1  1 -1 -1  1 -1 -1 -1  1  1]\n",
            "Model Output:\n",
            "[-1  1  1  1 -1 -1  1 -1 -1  1 -1 -1 -1  1  1]\n",
            "Error = 0\n"
          ],
          "name": "stdout"
        }
      ]
    },
    {
      "cell_type": "markdown",
      "metadata": {
        "id": "Py6BUrLUhAml"
      },
      "source": [
        "#Evaluation by test data with 25% noise"
      ]
    },
    {
      "cell_type": "code",
      "metadata": {
        "colab": {
          "base_uri": "https://localhost:8080/"
        },
        "id": "rrgD8kCzd_dh",
        "outputId": "fb874db1-122f-4fed-c614-3eeeb5063b89"
      },
      "source": [
        "for index in range(3):\n",
        "  s = copy.deepcopy(letters[index])\n",
        "  t = outputs[index]\n",
        "  for i in range(63):\n",
        "    if random.random() <= 0.25:\n",
        "      s[i] = s[i] * -1\n",
        "  out = []\n",
        "  for j in range(15):\n",
        "    temp = 0\n",
        "    for i in range(63):\n",
        "      temp += s[i] * W[i][j]\n",
        "    if temp >= 0:\n",
        "      out.append(1)\n",
        "    else:\n",
        "      out.append(-1)\n",
        "  print(\"Original Input:\")\n",
        "  print(letters[index])\n",
        "  print(\"Noisy Input:\")\n",
        "  print(s)\n",
        "  changes = 0\n",
        "  for i in range(63):\n",
        "    changes += abs(letters[index][i] - s[i])\n",
        "  print(\"Number of changes =\", int(changes / 2))\n",
        "  print(\"Original Output:\")\n",
        "  print(t)\n",
        "  print(\"Model Output:\")\n",
        "  print(np.array(out))\n",
        "  error = 0\n",
        "  for i in range(15):\n",
        "    error += abs(t[i] - out[i])\n",
        "  print(\"Error =\", int(error / 2))"
      ],
      "execution_count": 93,
      "outputs": [
        {
          "output_type": "stream",
          "text": [
            "Original Input:\n",
            "[-1 -1 -1  1 -1 -1 -1 -1 -1 -1  1 -1 -1 -1 -1 -1 -1  1 -1 -1 -1 -1 -1  1\n",
            " -1  1 -1 -1 -1 -1  1 -1  1 -1 -1 -1  1  1  1  1  1 -1 -1  1 -1 -1 -1  1\n",
            " -1 -1  1 -1 -1 -1  1 -1  1  1  1 -1  1  1  1]\n",
            "Noisy Input:\n",
            "[-1 -1 -1  1 -1 -1 -1  1 -1 -1 -1 -1 -1  1 -1 -1 -1  1 -1 -1  1 -1  1  1\n",
            " -1  1 -1 -1 -1 -1  1  1  1 -1 -1 -1  1  1  1 -1  1 -1 -1 -1 -1 -1 -1  1\n",
            " -1 -1  1 -1 -1 -1  1 -1 -1 -1  1 -1  1  1 -1]\n",
            "Number of changes = 11\n",
            "Original Output:\n",
            "[-1  1 -1  1 -1  1  1  1  1  1 -1  1  1 -1  1]\n",
            "Model Output:\n",
            "[-1  1 -1  1 -1  1  1  1  1  1 -1  1  1 -1  1]\n",
            "Error = 0\n",
            "Original Input:\n",
            "[ 1  1  1  1  1  1  1  1 -1 -1 -1 -1 -1  1  1 -1 -1 -1 -1  1 -1  1 -1 -1\n",
            " -1  1 -1 -1  1  1  1  1 -1 -1 -1  1 -1 -1 -1  1 -1 -1  1 -1 -1 -1 -1  1\n",
            " -1  1 -1 -1 -1 -1 -1  1  1  1  1  1  1  1  1]\n",
            "Noisy Input:\n",
            "[ 1  1  1  1  1  1  1  1  1 -1 -1 -1 -1  1  1 -1  1 -1 -1  1  1 -1 -1 -1\n",
            " -1  1 -1  1  1  1 -1  1 -1 -1 -1  1 -1 -1 -1  1 -1  1  1 -1 -1 -1 -1 -1\n",
            " -1 -1 -1 -1 -1  1 -1  1  1  1 -1  1  1  1 -1]\n",
            "Number of changes = 12\n",
            "Original Output:\n",
            "[ 1  1 -1  1 -1  1  1  1 -1  1 -1  1  1  1 -1]\n",
            "Model Output:\n",
            "[ 1  1 -1  1 -1  1  1  1 -1  1 -1  1  1  1 -1]\n",
            "Error = 0\n",
            "Original Input:\n",
            "[-1 -1  1  1  1  1 -1 -1  1 -1 -1 -1 -1  1  1 -1 -1 -1 -1 -1 -1  1 -1 -1\n",
            " -1 -1 -1 -1  1 -1 -1 -1 -1 -1 -1  1 -1 -1 -1 -1 -1 -1  1 -1 -1 -1 -1 -1\n",
            " -1 -1  1 -1 -1 -1 -1  1 -1 -1  1  1  1  1 -1]\n",
            "Noisy Input:\n",
            "[-1 -1  1  1  1  1 -1  1  1  1 -1  1 -1  1  1  1 -1 -1 -1  1 -1  1 -1 -1\n",
            "  1 -1  1 -1  1 -1 -1 -1 -1 -1 -1  1  1 -1 -1 -1  1 -1 -1 -1 -1 -1  1 -1\n",
            " -1 -1  1 -1 -1 -1 -1 -1 -1 -1  1  1  1  1 -1]\n",
            "Number of changes = 12\n",
            "Original Output:\n",
            "[-1  1  1  1 -1 -1  1 -1 -1  1 -1 -1 -1  1  1]\n",
            "Model Output:\n",
            "[-1  1  1  1 -1 -1  1 -1 -1  1 -1 -1 -1  1  1]\n",
            "Error = 0\n"
          ],
          "name": "stdout"
        }
      ]
    },
    {
      "cell_type": "markdown",
      "metadata": {
        "id": "Z_PiIz0OhMWj"
      },
      "source": [
        "#Evaluation by test data with 10% disturbance"
      ]
    },
    {
      "cell_type": "code",
      "metadata": {
        "colab": {
          "base_uri": "https://localhost:8080/"
        },
        "id": "y4-JXi12hL11",
        "outputId": "985e85aa-e90e-4654-eb7a-be463beb9aaa"
      },
      "source": [
        "for index in range(3):\n",
        "  s = copy.deepcopy(letters[index])\n",
        "  t = outputs[index]\n",
        "  for i in range(63):\n",
        "    if random.random() <= 0.1:\n",
        "      s[i] = 0\n",
        "  out = []\n",
        "  for j in range(15):\n",
        "    temp = 0\n",
        "    for i in range(63):\n",
        "      temp += s[i] * W[i][j]\n",
        "    if temp >= 0:\n",
        "      out.append(1)\n",
        "    else:\n",
        "      out.append(-1)\n",
        "  print(\"Original Input:\")\n",
        "  print(letters[index])\n",
        "  print(\"Noisy Input:\")\n",
        "  print(s)\n",
        "  changes = 0\n",
        "  for i in range(63):\n",
        "    changes += abs(letters[index][i] - s[i])\n",
        "  print(\"Number of changes =\", int(changes / 2))\n",
        "  print(\"Original Output:\")\n",
        "  print(t)\n",
        "  print(\"Model Output:\")\n",
        "  print(np.array(out))\n",
        "  error = 0\n",
        "  for i in range(15):\n",
        "    error += abs(t[i] - out[i])\n",
        "  print(\"Error =\", int(error / 2))"
      ],
      "execution_count": 94,
      "outputs": [
        {
          "output_type": "stream",
          "text": [
            "Original Input:\n",
            "[-1 -1 -1  1 -1 -1 -1 -1 -1 -1  1 -1 -1 -1 -1 -1 -1  1 -1 -1 -1 -1 -1  1\n",
            " -1  1 -1 -1 -1 -1  1 -1  1 -1 -1 -1  1  1  1  1  1 -1 -1  1 -1 -1 -1  1\n",
            " -1 -1  1 -1 -1 -1  1 -1  1  1  1 -1  1  1  1]\n",
            "Noisy Input:\n",
            "[-1 -1 -1  1 -1 -1 -1 -1 -1 -1  1 -1 -1 -1 -1 -1 -1  1 -1 -1 -1 -1 -1  1\n",
            " -1  1 -1 -1 -1 -1  1 -1  1 -1 -1 -1  1  0  1  1  1 -1 -1  1 -1 -1 -1  1\n",
            "  0 -1  1 -1 -1  0  1 -1  1  1  1  0  0  1  1]\n",
            "Number of changes = 2\n",
            "Original Output:\n",
            "[-1  1 -1  1 -1  1  1  1  1  1 -1  1  1 -1  1]\n",
            "Model Output:\n",
            "[-1  1 -1  1 -1  1  1  1  1  1 -1  1  1 -1  1]\n",
            "Error = 0\n",
            "Original Input:\n",
            "[ 1  1  1  1  1  1  1  1 -1 -1 -1 -1 -1  1  1 -1 -1 -1 -1  1 -1  1 -1 -1\n",
            " -1  1 -1 -1  1  1  1  1 -1 -1 -1  1 -1 -1 -1  1 -1 -1  1 -1 -1 -1 -1  1\n",
            " -1  1 -1 -1 -1 -1 -1  1  1  1  1  1  1  1  1]\n",
            "Noisy Input:\n",
            "[ 1  1  0  1  1  1  1  1 -1 -1 -1 -1 -1  1  1 -1 -1 -1 -1  1 -1  1 -1 -1\n",
            " -1  1  0 -1  0  0  1  1 -1 -1 -1  1 -1 -1  0  1 -1 -1  1 -1 -1 -1 -1  1\n",
            "  0  1 -1 -1 -1 -1 -1  1  1  1  1  1  1  1  1]\n",
            "Number of changes = 3\n",
            "Original Output:\n",
            "[ 1  1 -1  1 -1  1  1  1 -1  1 -1  1  1  1 -1]\n",
            "Model Output:\n",
            "[ 1  1 -1  1 -1  1  1  1 -1  1 -1  1  1  1 -1]\n",
            "Error = 0\n",
            "Original Input:\n",
            "[-1 -1  1  1  1  1 -1 -1  1 -1 -1 -1 -1  1  1 -1 -1 -1 -1 -1 -1  1 -1 -1\n",
            " -1 -1 -1 -1  1 -1 -1 -1 -1 -1 -1  1 -1 -1 -1 -1 -1 -1  1 -1 -1 -1 -1 -1\n",
            " -1 -1  1 -1 -1 -1 -1  1 -1 -1  1  1  1  1 -1]\n",
            "Noisy Input:\n",
            "[-1 -1  1  0  0  1 -1 -1  1 -1 -1  0 -1  1  1 -1 -1 -1  0 -1 -1  1 -1 -1\n",
            " -1 -1 -1 -1  1 -1 -1 -1 -1 -1 -1  1 -1 -1 -1 -1 -1 -1  1 -1 -1 -1 -1 -1\n",
            " -1 -1  1 -1 -1 -1 -1  1 -1 -1  1  0  1  1 -1]\n",
            "Number of changes = 2\n",
            "Original Output:\n",
            "[-1  1  1  1 -1 -1  1 -1 -1  1 -1 -1 -1  1  1]\n",
            "Model Output:\n",
            "[-1  1  1  1 -1 -1  1 -1 -1  1 -1 -1 -1  1  1]\n",
            "Error = 0\n"
          ],
          "name": "stdout"
        }
      ]
    },
    {
      "cell_type": "markdown",
      "metadata": {
        "id": "a1TPNM_PhM8U"
      },
      "source": [
        "#Evaluation by test data with 25% disturbance"
      ]
    },
    {
      "cell_type": "code",
      "metadata": {
        "colab": {
          "base_uri": "https://localhost:8080/"
        },
        "id": "79vCC-sDhL_F",
        "outputId": "2165c127-1c1e-4942-d9d0-84d4ec324afd"
      },
      "source": [
        "for index in range(3):\n",
        "  s = copy.deepcopy(letters[index])\n",
        "  t = outputs[index]\n",
        "  for i in range(63):\n",
        "    if random.random() <= 0.25:\n",
        "      s[i] = 0\n",
        "  out = []\n",
        "  for j in range(15):\n",
        "    temp = 0\n",
        "    for i in range(63):\n",
        "      temp += s[i] * W[i][j]\n",
        "    if temp >= 0:\n",
        "      out.append(1)\n",
        "    else:\n",
        "      out.append(-1)\n",
        "  print(\"Original Input:\")\n",
        "  print(letters[index])\n",
        "  print(\"Noisy Input:\")\n",
        "  print(s)\n",
        "  changes = 0\n",
        "  for i in range(63):\n",
        "    changes += abs(letters[index][i] - s[i])\n",
        "  print(\"Number of changes =\", int(changes / 2))\n",
        "  print(\"Original Output:\")\n",
        "  print(t)\n",
        "  print(\"Model Output:\")\n",
        "  print(np.array(out))\n",
        "  error = 0\n",
        "  for i in range(15):\n",
        "    error += abs(t[i] - out[i])\n",
        "  print(\"Error =\", int(error / 2))"
      ],
      "execution_count": 95,
      "outputs": [
        {
          "output_type": "stream",
          "text": [
            "Original Input:\n",
            "[-1 -1 -1  1 -1 -1 -1 -1 -1 -1  1 -1 -1 -1 -1 -1 -1  1 -1 -1 -1 -1 -1  1\n",
            " -1  1 -1 -1 -1 -1  1 -1  1 -1 -1 -1  1  1  1  1  1 -1 -1  1 -1 -1 -1  1\n",
            " -1 -1  1 -1 -1 -1  1 -1  1  1  1 -1  1  1  1]\n",
            "Noisy Input:\n",
            "[ 0 -1 -1  1 -1  0 -1 -1  0 -1  0 -1 -1  0  0 -1 -1  1 -1 -1 -1 -1 -1  1\n",
            "  0  1 -1 -1 -1 -1  1 -1  1  0 -1 -1  0  1  1  1  1  0 -1  1 -1 -1 -1  1\n",
            "  0 -1  1 -1  0 -1  0 -1  1  1  1 -1  1  1  1]\n",
            "Number of changes = 6\n",
            "Original Output:\n",
            "[-1  1 -1  1 -1  1  1  1  1  1 -1  1  1 -1  1]\n",
            "Model Output:\n",
            "[-1  1 -1  1 -1  1  1  1  1  1 -1  1  1 -1  1]\n",
            "Error = 0\n",
            "Original Input:\n",
            "[ 1  1  1  1  1  1  1  1 -1 -1 -1 -1 -1  1  1 -1 -1 -1 -1  1 -1  1 -1 -1\n",
            " -1  1 -1 -1  1  1  1  1 -1 -1 -1  1 -1 -1 -1  1 -1 -1  1 -1 -1 -1 -1  1\n",
            " -1  1 -1 -1 -1 -1 -1  1  1  1  1  1  1  1  1]\n",
            "Noisy Input:\n",
            "[ 0  1  1  1  0  1  0  1  0 -1 -1 -1 -1  1  1 -1 -1  0  0  1 -1  1 -1 -1\n",
            " -1  0 -1 -1  0  1  1  1 -1 -1 -1  0 -1  0  0  1 -1 -1  1 -1  0 -1 -1  1\n",
            " -1  1  0 -1 -1 -1 -1  1  1  0  0  0  1  1  0]\n",
            "Number of changes = 8\n",
            "Original Output:\n",
            "[ 1  1 -1  1 -1  1  1  1 -1  1 -1  1  1  1 -1]\n",
            "Model Output:\n",
            "[ 1  1 -1  1 -1  1  1  1 -1  1 -1  1  1  1 -1]\n",
            "Error = 0\n",
            "Original Input:\n",
            "[-1 -1  1  1  1  1 -1 -1  1 -1 -1 -1 -1  1  1 -1 -1 -1 -1 -1 -1  1 -1 -1\n",
            " -1 -1 -1 -1  1 -1 -1 -1 -1 -1 -1  1 -1 -1 -1 -1 -1 -1  1 -1 -1 -1 -1 -1\n",
            " -1 -1  1 -1 -1 -1 -1  1 -1 -1  1  1  1  1 -1]\n",
            "Noisy Input:\n",
            "[-1  0  1  1  1  1 -1  0  1  0 -1 -1  0  0  1 -1 -1  0 -1 -1 -1  1 -1 -1\n",
            " -1 -1 -1  0  1 -1  0 -1  0  0 -1  1 -1  0 -1 -1 -1 -1  1 -1 -1 -1 -1  0\n",
            " -1  0  1 -1 -1 -1 -1  1 -1 -1  1  1  0  1 -1]\n",
            "Number of changes = 7\n",
            "Original Output:\n",
            "[-1  1  1  1 -1 -1  1 -1 -1  1 -1 -1 -1  1  1]\n",
            "Model Output:\n",
            "[-1  1  1  1 -1 -1  1 -1 -1  1 -1 -1 -1  1  1]\n",
            "Error = 0\n"
          ],
          "name": "stdout"
        }
      ]
    }
  ]
}