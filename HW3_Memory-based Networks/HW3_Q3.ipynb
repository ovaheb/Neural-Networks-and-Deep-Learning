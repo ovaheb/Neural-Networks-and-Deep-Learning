{
  "nbformat": 4,
  "nbformat_minor": 0,
  "metadata": {
    "colab": {
      "name": "HW3 - Q3.ipynb",
      "provenance": [],
      "collapsed_sections": []
    },
    "kernelspec": {
      "name": "python3",
      "display_name": "Python 3"
    },
    "language_info": {
      "name": "python"
    }
  },
  "cells": [
    {
      "cell_type": "markdown",
      "metadata": {
        "id": "QWyqEjluKeRQ"
      },
      "source": [
        "# Neural Networks and Deep Learning Spring 1400 <img src = 'https://ece.ut.ac.ir/cict-theme/images/footer-logo.png' alt=\"Tehran-University-Logo\" width=\"150\" height=\"150\" align=\"right\">\n",
        "## Homework 3 - Question 3\n",
        "\n",
        "\n",
        "### By Omid Vaheb\n",
        "### 810196582"
      ]
    },
    {
      "cell_type": "markdown",
      "metadata": {
        "id": "XmK381glKif0"
      },
      "source": [
        "## Importing required libraries"
      ]
    },
    {
      "cell_type": "code",
      "metadata": {
        "id": "c6T27st3KZwG"
      },
      "source": [
        "import numpy as np\n",
        "import random\n",
        "import copy\n",
        "import matplotlib.pyplot as plt"
      ],
      "execution_count": 2,
      "outputs": []
    },
    {
      "cell_type": "markdown",
      "metadata": {
        "id": "eiSpZct2dO2w"
      },
      "source": [
        "## Generating Dataset"
      ]
    },
    {
      "cell_type": "code",
      "metadata": {
        "id": "mN-BWr4RKm9b"
      },
      "source": [
        "zero = [1, 1, 1, 1, 1, 1, 1, 1,\n",
        "        1, 1, 1, 1, 1, 1, 1, 1,\n",
        "        1, 1, -1, -1, -1, -1, 1, 1,\n",
        "        1, 1, -1, -1, -1, -1, 1, 1,\n",
        "        1, 1, -1, -1, -1, -1, 1, 1,\n",
        "        1, 1, -1, -1, -1, -1, 1, 1,\n",
        "        1, 1, 1, 1, 1, 1, 1, 1,\n",
        "        1, 1, 1, 1, 1, 1, 1, 1]\n",
        "one = [-1, -1, 1, 1, 1, -1, -1, -1,\n",
        "       -1, -1, 1, 1, 1, -1, -1, -1,\n",
        "       -1, -1, -1, 1, 1, -1, -1, -1,\n",
        "       -1, -1, -1, 1, 1, -1, -1, -1,\n",
        "       -1, -1, -1, 1, 1, -1, -1, -1,\n",
        "       -1, -1, -1, 1, 1, -1, -1, -1,\n",
        "       -1, -1, -1, 1, 1, -1, -1, -1,\n",
        "       -1, -1, -1, 1, 1, -1, -1, -1]\n",
        "data = [np.array(zero) , np.array(one)]"
      ],
      "execution_count": 3,
      "outputs": []
    },
    {
      "cell_type": "markdown",
      "metadata": {
        "id": "0egMpVMIdKTC"
      },
      "source": [
        "## Weight Initialization(Training)"
      ]
    },
    {
      "cell_type": "code",
      "metadata": {
        "id": "i7X1nziEKm_X"
      },
      "source": [
        "W = np.zeros([64, 64])"
      ],
      "execution_count": 4,
      "outputs": []
    },
    {
      "cell_type": "code",
      "metadata": {
        "id": "aJy45-0sKnBU"
      },
      "source": [
        "for index in range(2):\n",
        "  s = data[index]\n",
        "  for i in range(64):\n",
        "    for j in range(64):\n",
        "      if i != j:\n",
        "        W[i][j] = W[i][j] + s[i] * s[j]"
      ],
      "execution_count": 5,
      "outputs": []
    },
    {
      "cell_type": "markdown",
      "metadata": {
        "id": "Xr-hnMrzdnBU"
      },
      "source": [
        "## Evaluating using noisy data(Testing)"
      ]
    },
    {
      "cell_type": "code",
      "metadata": {
        "colab": {
          "base_uri": "https://localhost:8080/"
        },
        "id": "f1OtqhPBKnDV",
        "outputId": "bb6ba198-5293-49fa-c5ec-a0d8e1ece229"
      },
      "source": [
        "theta = 0\n",
        "for index in range(2):\n",
        "  x = copy.deepcopy(data[index])\n",
        "  for i in range(64):\n",
        "    if random.random() <= 0.3:\n",
        "      x[i] = x[i] * -1\n",
        "  flag = False\n",
        "  counter = 0\n",
        "  while True:\n",
        "    counter += 1\n",
        "    if flag:\n",
        "      changes = 0\n",
        "      for i in range(64):\n",
        "        if oldy[i] != y[i]:\n",
        "          changes += 1\n",
        "      if changes == 0:\n",
        "        break\n",
        "    else:\n",
        "      y = np.zeros(64)\n",
        "      for i in range(64):\n",
        "        y[i] = x[i]\n",
        "    flag = True\n",
        "    oldy = copy.deepcopy(y)\n",
        "    perm = [t for t in range(0, 64)]\n",
        "    random.shuffle(perm)\n",
        "    for i in perm:\n",
        "      yin = x[i]\n",
        "      for j in range(64):\n",
        "        yin += y[j] * W[j][i]\n",
        "      if yin > theta:\n",
        "        y[i] = 1\n",
        "      elif yin < theta:\n",
        "        y[i] = -1\n",
        "  c = 0\n",
        "  for i in range(64):\n",
        "    if int(x[i]) != int(data[index][i]):\n",
        "        c += 1\n",
        "  print(\"Number of changes in input signal:\", c)\n",
        "  print(\"Number of iterations:\", counter)\n",
        "  print(\"Data without noise:\", data[index])\n",
        "  print(\"Output of Model  :\", y.astype(int))\n",
        "  error = 0\n",
        "  for i in range(64):\n",
        "    if int(y[i]) != int(data[index][i]):\n",
        "        error += 1\n",
        "  print(\"Error : \", error)"
      ],
      "execution_count": 25,
      "outputs": [
        {
          "output_type": "stream",
          "text": [
            "Number of changes in input signal: 22\n",
            "Number of iterations: 3\n",
            "Data without noie: [ 1  1  1  1  1  1  1  1  1  1  1  1  1  1  1  1  1  1 -1 -1 -1 -1  1  1\n",
            "  1  1 -1 -1 -1 -1  1  1  1  1 -1 -1 -1 -1  1  1  1  1 -1 -1 -1 -1  1  1\n",
            "  1  1  1  1  1  1  1  1  1  1  1  1  1  1  1  1]\n",
            "Output of Model  : [ 1  1  1  1  1  1  1  1  1  1  1  1  1  1  1  1  1  1 -1 -1 -1 -1  1  1\n",
            "  1  1 -1 -1 -1 -1  1  1  1  1 -1 -1 -1 -1  1  1  1  1 -1 -1 -1 -1  1  1\n",
            "  1  1  1  1  1  1  1  1  1  1  1  1  1  1  1  1]\n",
            "Error :  0\n",
            "Number of changes in input signal: 29\n",
            "Number of iterations: 3\n",
            "Data without noie: [-1 -1  1  1  1 -1 -1 -1 -1 -1  1  1  1 -1 -1 -1 -1 -1 -1  1  1 -1 -1 -1\n",
            " -1 -1 -1  1  1 -1 -1 -1 -1 -1 -1  1  1 -1 -1 -1 -1 -1 -1  1  1 -1 -1 -1\n",
            " -1 -1 -1  1  1 -1 -1 -1 -1 -1 -1  1  1 -1 -1 -1]\n",
            "Output of Model  : [-1 -1  1  1  1 -1 -1 -1 -1 -1  1  1  1 -1 -1 -1 -1 -1 -1  1  1 -1 -1 -1\n",
            " -1 -1 -1  1  1 -1 -1 -1 -1 -1 -1  1  1 -1 -1 -1 -1 -1 -1  1  1 -1 -1 -1\n",
            " -1 -1 -1  1  1 -1 -1 -1 -1 -1 -1  1  1 -1 -1 -1]\n",
            "Error :  0\n"
          ],
          "name": "stdout"
        }
      ]
    }
  ]
}